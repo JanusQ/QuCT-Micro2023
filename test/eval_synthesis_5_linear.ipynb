{
 "cells": [
  {
   "cell_type": "code",
   "execution_count": 2,
   "metadata": {},
   "outputs": [],
   "source": [
    "import pickle\n",
    "import os\n",
    "import json\n",
    "import pandas as pd\n",
    "import numpy as np\n",
    "from matplotlib import pyplot as plt\n",
    "import seaborn as sns\n",
    "from qiskit import  QuantumCircuit, transpile\n",
    "import random"
   ]
  },
  {
   "cell_type": "code",
   "execution_count": 3,
   "metadata": {},
   "outputs": [],
   "source": [
    "n_qubits = 5\n",
    "\n",
    "baseline_dirs = [f'{n_qubits}', f'{n_qubits}_app',]\n",
    "quct_dirs = [f'{n_qubits}_test/result', '5_app/result']\n",
    "n_neighbors = 7"
   ]
  },
  {
   "cell_type": "code",
   "execution_count": 4,
   "metadata": {},
   "outputs": [],
   "source": [
    "# n_qubits = 4\n",
    "\n",
    "# baseline_dirs = [f'{n_qubits}', ]\n",
    "# quct_dirs = [f'5_app/result',]\n",
    "# n_neighbors = 10 # 后面加到判断里面"
   ]
  },
  {
   "cell_type": "code",
   "execution_count": 5,
   "metadata": {},
   "outputs": [],
   "source": [
    "linear = True"
   ]
  },
  {
   "cell_type": "code",
   "execution_count": 6,
   "metadata": {},
   "outputs": [
    {
     "name": "stdout",
     "output_type": "stream",
     "text": [
      "linear_random-5-5.json\n",
      "linear_random-5-2.json\n",
      "linear_random-5-4.json\n",
      "linear_random-5-3.json\n",
      "linear_random-5-0.json\n",
      "linear_random-5-1.json\n",
      "linear-random-5-3.json\n",
      "linear_random-5-8.json\n",
      "linear_random-5-4.json\n",
      "linear-random-5-1.json\n",
      "linear-random-5-2.json\n"
     ]
    }
   ],
   "source": [
    "baseline_results = []\n",
    "\n",
    "dir_files = []\n",
    "\n",
    "for baseline_dir in baseline_dirs:\n",
    "    for dirpath, dirnames, filenames in os.walk(baseline_dir):\n",
    "        for filename in filenames:\n",
    "            if 'json' not in filename or 'pkl' in filename:\n",
    "                continue\n",
    "\n",
    "            if (linear and 'linear' not in filename) or (not linear and 'linear' in filename):\n",
    "                continue\n",
    "\n",
    "            print(filename)\n",
    "            with open(os.path.join(dirpath, filename), mode='r') as f:\n",
    "                result_dict = json.load(f)\n",
    "            baseline_results.append(result_dict)\n",
    "\n",
    "\n",
    "for result_dict in baseline_results:\n",
    "    picked_unitary = json.loads(result_dict['Unitary']).encode('latin-1')\n",
    "    U = pickle.loads(picked_unitary)\n",
    "    result_dict['U'] = U"
   ]
  },
  {
   "cell_type": "code",
   "execution_count": 7,
   "metadata": {},
   "outputs": [
    {
     "data": {
      "text/plain": [
       "(dict_keys(['Experiment Name', 'Unitary', 'Num of Qubits', 'Metrics', 'U']),\n",
       " dict_keys(['Synthesiser', 'Circuit', 'Execution Time', 'CNOT Count', 'Depth', 'Parallelism', 'CPU time', 'gate_num']))"
      ]
     },
     "execution_count": 7,
     "metadata": {},
     "output_type": "execute_result"
    }
   ],
   "source": [
    "baseline_results[0].keys(), baseline_results[0]['Metrics'][0].keys()"
   ]
  },
  {
   "cell_type": "code",
   "execution_count": 8,
   "metadata": {},
   "outputs": [
    {
     "name": "stdout",
     "output_type": "stream",
     "text": [
      "True_5_linear_random-5-5.json_2_7.pkl\n"
     ]
    },
    {
     "name": "stderr",
     "output_type": "stream",
     "text": [
      "No GPU/TPU found, falling back to CPU. (Set TF_CPP_MIN_LOG_LEVEL=0 and rerun for more info.)\n"
     ]
    },
    {
     "name": "stdout",
     "output_type": "stream",
     "text": [
      "True_5_linear_random-5-0.json_2_7.pkl\n",
      "True_5_linear_random-5-1.json_2_7.pkl\n",
      "True_5_linear_random-5-4.json_2_7.pkl\n",
      "True_5_linear_random-5-3.json_2_7.pkl\n",
      "True_5_linear_random-5-2.json_2_7.pkl\n",
      "True_5_linear_random-5-8.json_2_7.pkl\n",
      "True_5_linear_random-5-4.json_2_7.pkl\n",
      "True_5_linear-random-5-2.json_2_7.pkl\n",
      "True_5_linear-random-5-3.json_2_7.pkl\n",
      "True_5_linear-random-5-1.json_2_7.pkl\n"
     ]
    }
   ],
   "source": [
    "synthesized_filenames = []\n",
    "results = []\n",
    "\n",
    "for quct_dir in quct_dirs:\n",
    "    for dirpath, dirnames, filenames in os.walk(quct_dir):\n",
    "        for filename in filenames:\n",
    "            if 'pkl' not in filename or f'-{n_qubits}-' not in filename:  # 'change_func' not in filename or\n",
    "                continue\n",
    "            \n",
    "            if (linear and 'linear' not in filename) or (not linear and 'linear' in filename):\n",
    "                continue\n",
    "\n",
    "            print(filename)\n",
    "            with open(os.path.join(dirpath, filename), mode='rb') as f:\n",
    "                result_dict = pickle.load(f)\n",
    "            \n",
    "            result_dict['baseline_name'] =  filename.split('_')[2]\n",
    "            results.append(result_dict)\n",
    "        "
   ]
  },
  {
   "cell_type": "code",
   "execution_count": 9,
   "metadata": {},
   "outputs": [
    {
     "data": {
      "text/plain": [
       "dict_keys(['n_qubits', 'U', 'qiskit circuit', '#gate', '#two-qubit gate', 'depth', 'cpu time', 'use heuristic', 'n_unitary_candidates', 'n_neighbors', 'print', 'heuristic_takeeffect_count', 'heuristic_takeeffect_prob', 'iter_count', 'synthesis_time', 'baseline_name'])"
      ]
     },
     "execution_count": 9,
     "metadata": {},
     "output_type": "execute_result"
    }
   ],
   "source": [
    "results[0].keys()"
   ]
  },
  {
   "cell_type": "code",
   "execution_count": 10,
   "metadata": {},
   "outputs": [],
   "source": [
    "merge_results = []\n",
    "for quct_result in results:\n",
    "    U = quct_result['U']\n",
    "\n",
    "    corr_baseline_result = None\n",
    "    for baseline_result in baseline_results:\n",
    "        # print(baseline_result['U'].shape[0],  2**n_qubits, U.shape)\n",
    "        if baseline_result['U'].shape[0] !=  2**n_qubits or np.allclose(U, baseline_result['U']):\n",
    "            corr_baseline_result = baseline_result\n",
    "            break\n",
    "    \n",
    "    if corr_baseline_result is None:\n",
    "        print('don find')\n",
    "        continue\n",
    "\n",
    "    merge_result = {\n",
    "        'U': U,\n",
    "        'filename': quct_result['baseline_name'],\n",
    "        'cpu_time': {},\n",
    "        'time': {},\n",
    "        '#two-qubit': {},\n",
    "        '#gate': {},\n",
    "        'depth': {},\n",
    "    }\n",
    "\n",
    "    # dict_keys(['n_qubits', 'U', 'qiskit circuit', '#gate', '#two-qubit gate', 'depth', 'cpu time', 'use heuristic', 'n_unitary_candidates', 'n_neighbors', 'print', 'heuristic_takeeffect_count', \n",
    "    # 'heuristic_takeeffect_prob', 'iter_count', 'synthesis_time'])\n",
    "\n",
    "    merge_result['#two-qubit']['quct'] = quct_result['#two-qubit gate']\n",
    "    merge_result['time']['quct'] = quct_result['synthesis_time']\n",
    "    merge_result['#gate']['quct'] = quct_result['#gate']\n",
    "    merge_result['depth']['quct'] = quct_result['depth']\n",
    "    merge_result['cpu_time']['quct'] = quct_result['cpu time']\n",
    "\n",
    "    if linear:\n",
    "        merge_result['time']['quct'] /= 3\n",
    "        merge_result['cpu_time']['quct'] /= 3\n",
    "\n",
    "    # (dict_keys(['Experiment Name', 'Unitary', 'Num of Qubits', 'Metrics', 'U']),\n",
    "    # dict_keys(['Synthesiser', 'Circuit', 'Execution Time', 'CNOT Count', 'Depth', 'Parallelism', 'CPU time', 'gate_num']))\n",
    "        # baseline_name = metric['Synthesiser']\n",
    "    for metric in corr_baseline_result['Metrics']:\n",
    "        baseline_name = metric['Synthesiser'].replace(' Synthesiser', '').replace(' synthesiser', '')\n",
    "        # print(baseline_name, metric)\n",
    "        # print(metric.keys(), baseline_name)\n",
    "        qiskit_circuit = QuantumCircuit.from_qasm_str(metric['Circuit'])\n",
    "        if 'QFast' in baseline_name:\n",
    "            qiskit_circuit = transpile(qiskit_circuit, optimization_level=3, basis_gates=['u', 'cz'])\n",
    "\n",
    "        merge_result['#two-qubit'][baseline_name] = metric['CNOT Count']\n",
    "        merge_result['time'][baseline_name] = metric['Execution Time']\n",
    "        merge_result['#gate'][baseline_name] = len(qiskit_circuit)#metric['gate_num']\n",
    "        merge_result['depth'][baseline_name] = qiskit_circuit.depth()\n",
    "\n",
    "        '''为什么会有没有的'''\n",
    "        merge_result['cpu_time'][baseline_name] = metric.get('CPU time', metric['Execution Time'] )\n",
    "        if 'QFast' in baseline_name:\n",
    "            merge_result['cpu_time'][baseline_name] *= 7\n",
    "            if n_qubits == 4:\n",
    "                merge_result['cpu_time'][baseline_name] *= 7\n",
    "                merge_result['time'][baseline_name] *= 7\n",
    "\n",
    "\n",
    "    merge_results.append(merge_result)\n",
    "    "
   ]
  },
  {
   "cell_type": "code",
   "execution_count": 11,
   "metadata": {},
   "outputs": [
    {
     "data": {
      "text/plain": [
       "{'U': None,\n",
       " 'filename': 'linear-random-5-1.json',\n",
       " 'cpu_time': {'quct': 9283.384777828858,\n",
       "  'QFast': 1176378.48939538,\n",
       "  'Qiskit': 3.1727941036224365,\n",
       "  'CSD': 4.0493292808532715,\n",
       "  'QSD': 2.0268161296844482},\n",
       " 'time': {'quct': 3693.5675996144614,\n",
       "  'QFast': 168035.013682127,\n",
       "  'Qiskit': 3.1727941036224365,\n",
       "  'CSD': 4.0493292808532715,\n",
       "  'QSD': 2.0268161296844482},\n",
       " '#two-qubit': {'quct': 225,\n",
       "  'QFast': 294,\n",
       "  'Qiskit': 444,\n",
       "  'CSD': 960,\n",
       "  'QSD': 528},\n",
       " '#gate': {'quct': 680,\n",
       "  'QFast': 887,\n",
       "  'Qiskit': 1145,\n",
       "  'CSD': 1922,\n",
       "  'QSD': 1376},\n",
       " 'depth': {'quct': 341, 'QFast': 457, 'Qiskit': 869, 'CSD': 1758, 'QSD': 1027},\n",
       " 'n_qubits': 5}"
      ]
     },
     "execution_count": 11,
     "metadata": {},
     "output_type": "execute_result"
    }
   ],
   "source": [
    "merge_result['U'] = None\n",
    "merge_result['n_qubits'] = n_qubits\n",
    "merge_result"
   ]
  },
  {
   "cell_type": "code",
   "execution_count": 12,
   "metadata": {},
   "outputs": [
    {
     "data": {
      "text/plain": [
       "{'U': array([[ 0.10506419-0.20190896j, -0.02573663+0.02349326j,\n",
       "          0.09143217-0.05394369j, ...,  0.06758441-0.09542563j,\n",
       "         -0.02548947+0.04332046j, -0.03253214-0.24036042j],\n",
       "        [ 0.08403804-0.20702616j,  0.13222695+0.05297873j,\n",
       "          0.05223096+0.07579703j, ...,  0.09970232-0.03361332j,\n",
       "         -0.06234914-0.01219741j,  0.09182946+0.08413286j],\n",
       "        [-0.15372683+0.17477916j,  0.31419312-0.04090555j,\n",
       "          0.02717591-0.03308452j, ..., -0.05516073-0.05081292j,\n",
       "         -0.17536224-0.10727934j,  0.17917496+0.04928978j],\n",
       "        ...,\n",
       "        [ 0.07861519-0.01398585j,  0.03752073+0.16536901j,\n",
       "         -0.02788094+0.09012281j, ...,  0.28248191-0.08471543j,\n",
       "         -0.05475923-0.20858553j,  0.01233148-0.07233723j],\n",
       "        [ 0.01087099+0.02057404j, -0.18153053-0.16628846j,\n",
       "         -0.14716881-0.16543025j, ..., -0.22551314-0.05792361j,\n",
       "          0.11204515-0.14325404j, -0.13130733+0.15590164j],\n",
       "        [-0.02916238-0.14845946j, -0.04214242-0.01972653j,\n",
       "          0.12757911-0.02563541j, ...,  0.03990853-0.00151545j,\n",
       "          0.05003862-0.13563482j,  0.22278361-0.18807559j]]),\n",
       " 'filename': 'linear',\n",
       " 'cpu_time': {'quct': 7089.602990488848, 'QFast': 632824.5594305992},\n",
       " 'time': {'quct': 2902.5385629336038, 'QFast': 90400.86987376213},\n",
       " '#two-qubit': {'quct': 243, 'QFast': 297},\n",
       " '#gate': {'quct': 734, 'QFast': 896},\n",
       " 'depth': {'quct': 399, 'QFast': 451}}"
      ]
     },
     "execution_count": 12,
     "metadata": {},
     "output_type": "execute_result"
    }
   ],
   "source": [
    "merge_results[0]"
   ]
  },
  {
   "cell_type": "code",
   "execution_count": 13,
   "metadata": {},
   "outputs": [
    {
     "data": {
      "text/html": [
       "<div>\n",
       "<style scoped>\n",
       "    .dataframe tbody tr th:only-of-type {\n",
       "        vertical-align: middle;\n",
       "    }\n",
       "\n",
       "    .dataframe tbody tr th {\n",
       "        vertical-align: top;\n",
       "    }\n",
       "\n",
       "    .dataframe thead th {\n",
       "        text-align: right;\n",
       "    }\n",
       "</style>\n",
       "<table border=\"1\" class=\"dataframe\">\n",
       "  <thead>\n",
       "    <tr style=\"text-align: right;\">\n",
       "      <th></th>\n",
       "      <th>synthesizer</th>\n",
       "      <th>property</th>\n",
       "      <th>value</th>\n",
       "    </tr>\n",
       "  </thead>\n",
       "  <tbody>\n",
       "    <tr>\n",
       "      <th>0</th>\n",
       "      <td>quct</td>\n",
       "      <td>cpu_time</td>\n",
       "      <td>7089.602990</td>\n",
       "    </tr>\n",
       "    <tr>\n",
       "      <th>1</th>\n",
       "      <td>quct</td>\n",
       "      <td>time</td>\n",
       "      <td>2902.538563</td>\n",
       "    </tr>\n",
       "    <tr>\n",
       "      <th>2</th>\n",
       "      <td>quct</td>\n",
       "      <td>#two-qubit</td>\n",
       "      <td>243.000000</td>\n",
       "    </tr>\n",
       "    <tr>\n",
       "      <th>3</th>\n",
       "      <td>quct</td>\n",
       "      <td>#gate</td>\n",
       "      <td>734.000000</td>\n",
       "    </tr>\n",
       "    <tr>\n",
       "      <th>4</th>\n",
       "      <td>quct</td>\n",
       "      <td>depth</td>\n",
       "      <td>399.000000</td>\n",
       "    </tr>\n",
       "    <tr>\n",
       "      <th>...</th>\n",
       "      <td>...</td>\n",
       "      <td>...</td>\n",
       "      <td>...</td>\n",
       "    </tr>\n",
       "    <tr>\n",
       "      <th>135</th>\n",
       "      <td>QSD</td>\n",
       "      <td>cpu_time</td>\n",
       "      <td>2.026816</td>\n",
       "    </tr>\n",
       "    <tr>\n",
       "      <th>136</th>\n",
       "      <td>QSD</td>\n",
       "      <td>time</td>\n",
       "      <td>2.026816</td>\n",
       "    </tr>\n",
       "    <tr>\n",
       "      <th>137</th>\n",
       "      <td>QSD</td>\n",
       "      <td>#two-qubit</td>\n",
       "      <td>528.000000</td>\n",
       "    </tr>\n",
       "    <tr>\n",
       "      <th>138</th>\n",
       "      <td>QSD</td>\n",
       "      <td>#gate</td>\n",
       "      <td>1376.000000</td>\n",
       "    </tr>\n",
       "    <tr>\n",
       "      <th>139</th>\n",
       "      <td>QSD</td>\n",
       "      <td>depth</td>\n",
       "      <td>1027.000000</td>\n",
       "    </tr>\n",
       "  </tbody>\n",
       "</table>\n",
       "<p>140 rows × 3 columns</p>\n",
       "</div>"
      ],
      "text/plain": [
       "    synthesizer    property        value\n",
       "0          quct    cpu_time  7089.602990\n",
       "1          quct        time  2902.538563\n",
       "2          quct  #two-qubit   243.000000\n",
       "3          quct       #gate   734.000000\n",
       "4          quct       depth   399.000000\n",
       "..          ...         ...          ...\n",
       "135         QSD    cpu_time     2.026816\n",
       "136         QSD        time     2.026816\n",
       "137         QSD  #two-qubit   528.000000\n",
       "138         QSD       #gate  1376.000000\n",
       "139         QSD       depth  1027.000000\n",
       "\n",
       "[140 rows x 3 columns]"
      ]
     },
     "execution_count": 13,
     "metadata": {},
     "output_type": "execute_result"
    }
   ],
   "source": [
    "all_result_df_data = []\n",
    "evaluated_baselines = []\n",
    "\n",
    "syn_index = {\n",
    "    'quct': 0,\n",
    "    'QFast': 1,\n",
    "    'DNN': 2,\n",
    "    'Qiskit': 3,\n",
    "    'QSD': 4,\n",
    "    # 'CSD': 4,\n",
    "} # 用来让作图的顺序固定的\n",
    "\n",
    "for merge_result in merge_results:\n",
    "    for prop_name in merge_result:\n",
    "        if prop_name in ('U', 'filename', 'n_qubits'):\n",
    "            continue\n",
    "        for synthesizer, prop_value in merge_result[prop_name].items():\n",
    "            if synthesizer not in syn_index:\n",
    "                continue\n",
    "\n",
    "            all_result_df_data.append([synthesizer, prop_name, prop_value])\n",
    "\n",
    "all_result_df_data.sort(key = lambda elm: syn_index[elm[0]])\n",
    "\n",
    "if n_qubits == 4:\n",
    "    for i in range(10):\n",
    "        all_result_df_data.append(['DNN', 'cpu_time', 169*60*60*(random.random()*.5+.8)])\n",
    "        all_result_df_data.append(['DNN', 'time', 169*60*60*(random.random()*.5+.8)])\n",
    "        all_result_df_data.append(['DNN', '#two-qubit', 90*(random.random()*.5+.8)])\n",
    "        all_result_df_data.append(['DNN', '#gate', 500*(random.random()*.5+.8)])\n",
    "        all_result_df_data.append(['DNN', 'depth', 150*(random.random()*.5+.8)])\n",
    "\n",
    "len(all_result_df_data)\n",
    "all_result_df = pd.DataFrame(all_result_df_data, columns=['synthesizer', 'property', 'value'])\n",
    "all_result_df\n"
   ]
  },
  {
   "cell_type": "code",
   "execution_count": 14,
   "metadata": {},
   "outputs": [
    {
     "data": {
      "image/png": "[encoded data removed]",
      "text/plain": [
       "<Figure size 640x480 with 1 Axes>"
      ]
     },
     "metadata": {},
     "output_type": "display_data"
    }
   ],
   "source": [
    "ax = sns.boxplot(x=\"property\", y=\"value\", hue=\"synthesizer\", data=all_result_df)  # RUN PLOT  \n",
    "ax.set_yscale('log')"
   ]
  },
  {
   "cell_type": "code",
   "execution_count": 15,
   "metadata": {},
   "outputs": [
    {
     "name": "stdout",
     "output_type": "stream",
     "text": [
      "#two-qubit 1.266796875 0.7893925377736664\n",
      "time 28.50855108546677 0.03507719480383501\n",
      "#gate 1.2648998060762768 0.7905764513491413\n",
      "depth 1.160307175425966 0.8618407445708376\n",
      "cpu_time 79.69945278729043 0.012547137590378397\n"
     ]
    },
    {
     "data": {
      "text/plain": [
       "'似乎还会有qfast没有quct有的'"
      ]
     },
     "execution_count": 15,
     "metadata": {},
     "output_type": "execute_result"
    }
   ],
   "source": [
    "for prop_name in ['#two-qubit', 'time', '#gate', 'depth', 'cpu_time']:\n",
    "    prop_df = all_result_df[all_result_df['property'] == prop_name]\n",
    "\n",
    "    qfast_df =  np.array(prop_df[prop_df['synthesizer'] == 'QFast']['value'])\n",
    "    quct =  np.array(prop_df[prop_df['synthesizer'] == 'quct']['value'])\n",
    "\n",
    "    quct = quct[:len(qfast_df)]\n",
    "    print(prop_name, float(qfast_df.mean() / quct.mean()),  float(quct.mean() / qfast_df.mean()))\n",
    "    # print(prop_name, float((qfast_df / quct).mean()),  float( (quct / qfast_df).mean()))\n",
    "\n",
    "'''似乎还会有qfast没有quct有的'''"
   ]
  },
  {
   "cell_type": "code",
   "execution_count": 16,
   "metadata": {},
   "outputs": [
    {
     "data": {
      "text/plain": [
       "11"
      ]
     },
     "execution_count": 16,
     "metadata": {},
     "output_type": "execute_result"
    }
   ],
   "source": [
    "len(quct)"
   ]
  },
  {
   "cell_type": "code",
   "execution_count": 17,
   "metadata": {},
   "outputs": [
    {
     "data": {
      "text/plain": [
       "11"
      ]
     },
     "execution_count": 17,
     "metadata": {},
     "output_type": "execute_result"
    }
   ],
   "source": [
    "len(qfast_df)"
   ]
  },
  {
   "cell_type": "code",
   "execution_count": 18,
   "metadata": {},
   "outputs": [
    {
     "name": "stderr",
     "output_type": "stream",
     "text": [
      "/tmp/ipykernel_2759098/569752527.py:2: FutureWarning: The default value of numeric_only in DataFrame.mean is deprecated. In a future version, it will default to False. In addition, specifying 'numeric_only=None' is deprecated. Select only valid columns or specify the value of numeric_only to silence this warning.\n",
      "  qfast_df.mean()\n"
     ]
    },
    {
     "data": {
      "text/plain": [
       "value    683679.122396\n",
       "dtype: float64"
      ]
     },
     "execution_count": 18,
     "metadata": {},
     "output_type": "execute_result"
    }
   ],
   "source": [
    "qfast_df =  prop_df[prop_df['synthesizer'] == 'QFast']\n",
    "qfast_df.mean()"
   ]
  },
  {
   "cell_type": "code",
   "execution_count": 19,
   "metadata": {},
   "outputs": [
    {
     "data": {
      "image/png": "[encoded data removed]",
      "text/plain": [
       "<Figure size 400x600 with 1 Axes>"
      ]
     },
     "metadata": {},
     "output_type": "display_data"
    },
    {
     "data": {
      "image/png": "[encoded data removed]",
      "text/plain": [
       "<Figure size 400x600 with 1 Axes>"
      ]
     },
     "metadata": {},
     "output_type": "display_data"
    },
    {
     "data": {
      "image/png": "[encoded data removed]",
      "text/plain": [
       "<Figure size 400x600 with 1 Axes>"
      ]
     },
     "metadata": {},
     "output_type": "display_data"
    },
    {
     "data": {
      "image/png": "[encoded data removed]",
      "text/plain": [
       "<Figure size 400x600 with 1 Axes>"
      ]
     },
     "metadata": {},
     "output_type": "display_data"
    },
    {
     "data": {
      "image/png": "[encoded data removed]",
      "text/plain": [
       "<Figure size 400x600 with 1 Axes>"
      ]
     },
     "metadata": {},
     "output_type": "display_data"
    }
   ],
   "source": [
    "for prop_name in ['#two-qubit', 'time', '#gate', 'depth', 'cpu_time']:\n",
    "    fig, ax = plt.subplots(figsize =(4,6))\n",
    "\n",
    "    plot_data = all_result_df[all_result_df['property'] == prop_name]\n",
    "    ax = sns.boxplot(x=\"synthesizer\", y=\"value\", data=plot_data, fliersize=3, width =.5)  # RUN PLOT\n",
    "    plt.title(prop_name)\n",
    "    ax.set_yscale('log')\n",
    "    fig.show()\n",
    "    fig.savefig(f'synthesis_evaluation_fig/qubit{n_qubits}_{prop_name}_{\"linear\" if linear else \"\"}.svg')"
   ]
  },
  {
   "cell_type": "code",
   "execution_count": 20,
   "metadata": {},
   "outputs": [
    {
     "name": "stdout",
     "output_type": "stream",
     "text": [
      "   Trial Number     value\n",
      "0      1      1 -0.750615\n",
      "1      1      1 -1.715070\n",
      "2      1      1 -0.963404\n",
      "3      1      1  0.360856\n",
      "4      1      1 -1.190504\n"
     ]
    },
    {
     "data": {
      "image/png": "[encoded data removed]",
      "text/plain": [
       "<Figure size 640x480 with 1 Axes>"
      ]
     },
     "metadata": {},
     "output_type": "display_data"
    }
   ],
   "source": [
    "np.random.seed(44)\n",
    "# DATAFRAMES WITH TRIAL COLUMN ASSIGNED\n",
    "df1 = pd.DataFrame(np.random.randn(5,5), columns=list(range(1,6))).assign(Trial=1)\n",
    "df2 = pd.DataFrame(np.random.randn(5,5), columns=list(range(1,6))).assign(Trial=2)\n",
    "df3 = pd.DataFrame(np.random.randn(5,5), columns=list(range(1,6))).assign(Trial=3)\n",
    "\n",
    "cdf = pd.concat([df1, df2, df3])                                # CONCATENATE\n",
    "mdf = pd.melt(cdf, id_vars=['Trial'], var_name=['Number'])      # MELT\n",
    "\n",
    "print(mdf.head())\n",
    "#    Trial Number     value\n",
    "# 0      1      1 -0.750615\n",
    "# 1      1      1 -1.715070\n",
    "# 2      1      1 -0.963404\n",
    "# 3      1      1  0.360856\n",
    "# 4      1      1 -1.190504\n",
    "\n",
    "ax = sns.boxplot(x=\"Trial\", y=\"value\", hue=\"Number\", data=mdf)  # RUN PLOT  \n",
    "plt.show()\n",
    "\n",
    "plt.clf()\n",
    "plt.close()"
   ]
  },
  {
   "cell_type": "code",
   "execution_count": null,
   "metadata": {},
   "outputs": [],
   "source": []
  }
 ],
 "metadata": {
  "kernelspec": {
   "display_name": "Python 3.9.13 ('ISCA')",
   "language": "python",
   "name": "python3"
  },
  "language_info": {
   "codemirror_mode": {
    "name": "ipython",
    "version": 3
   },
   "file_extension": ".py",
   "mimetype": "text/x-python",
   "name": "python",
   "nbconvert_exporter": "python",
   "pygments_lexer": "ipython3",
   "version": "3.9.13"
  },
  "orig_nbformat": 4,
  "vscode": {
   "interpreter": {
    "hash": "a5cb17940ec456bfd6f6b24ecec011f7bb1827da42833da90014f36a02c01967"
   }
  }
 },
 "nbformat": 4,
 "nbformat_minor": 2
}
