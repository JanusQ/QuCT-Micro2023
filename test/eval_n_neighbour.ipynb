{
 "cells": [
  {
   "cell_type": "code",
   "execution_count": 1,
   "metadata": {},
   "outputs": [],
   "source": [
    "import pickle\n",
    "import os\n",
    "import json\n",
    "import pandas as pd\n",
    "import numpy as np\n",
    "from matplotlib import pyplot as plt\n",
    "import seaborn as sns\n",
    "from qiskit import  QuantumCircuit, transpile\n",
    "import random\n",
    "import math"
   ]
  },
  {
   "cell_type": "code",
   "execution_count": 6,
   "metadata": {},
   "outputs": [
    {
     "name": "stdout",
     "output_type": "stream",
     "text": [
      "True_5_5_0_35_100000.pkl\n"
     ]
    },
    {
     "name": "stderr",
     "output_type": "stream",
     "text": [
      "No GPU/TPU found, falling back to CPU. (Set TF_CPP_MIN_LOG_LEVEL=0 and rerun for more info.)\n"
     ]
    },
    {
     "name": "stdout",
     "output_type": "stream",
     "text": [
      "True_5_5_2_20_100000.pkl\n",
      "True_5_5_2_35_100000.pkl\n",
      "True_5_5_1_35_100000.pkl\n",
      "True_5_5_1_20_100000.pkl\n",
      "True_5_5_0_30_100000.pkl\n",
      "True_5_5_2_25_100000.pkl\n",
      "True_5_5_0_25_100000.pkl\n",
      "True_5_5_2_30_100000.pkl\n",
      "True_5_5_1_30_100000.pkl\n",
      "True_5_5_1_25_100000.pkl\n",
      "True_5_5_0_20_100000.pkl\n"
     ]
    }
   ],
   "source": [
    "results = []\n",
    "\n",
    "dir_files = []\n",
    "\n",
    "for dirpath, dirnames, filenames in os.walk('eval_datasize'):\n",
    "    for filename in filenames:\n",
    "        if 'pkl' not in filename or '_100000' not in filename:\n",
    "            continue\n",
    "        \n",
    "        print(filename)\n",
    "        with open(os.path.join(dirpath, filename), mode='rb') as f:\n",
    "            result_dict = pickle.load(f)\n",
    "        \n",
    "        result_dict['baseline_name'] =  filename.split('_')[2]\n",
    "        results.append(result_dict)\n"
   ]
  },
  {
   "cell_type": "code",
   "execution_count": null,
   "metadata": {},
   "outputs": [],
   "source": [
    "# dict_keys(['n_qubits', 'U', 'qiskit circuit', '#gate', '#two-qubit gate', 'depth', 'cpu time', 'use heuristic', 'n_unitary_candidates', 'n_neighbors', 'print', 'heuristic_takeeffect_count', \n",
    "# 'heuristic_takeeffect_prob', 'iter_count', 'synthesis_time'])\n"
   ]
  },
  {
   "cell_type": "code",
   "execution_count": 19,
   "metadata": {},
   "outputs": [],
   "source": [
    "n_neighbours = []\n",
    "cpu_times = []\n",
    "synthesis_times = []\n",
    "for result in results:\n",
    "    n_neighbours.append(result['n_neighbors'])\n",
    "    cpu_times.append(result['cpu time']/3600*4)\n",
    "    synthesis_times.append(result['synthesis_time']/3600*2*2)\n",
    "    "
   ]
  },
  {
   "cell_type": "code",
   "execution_count": 20,
   "metadata": {},
   "outputs": [
    {
     "data": {
      "text/plain": [
       "<matplotlib.collections.PathCollection at 0x7f6bfc70c940>"
      ]
     },
     "execution_count": 20,
     "metadata": {},
     "output_type": "execute_result"
    },
    {
     "data": {
      "image/png": "[encoded data removed]",
      "text/plain": [
       "<Figure size 400x600 with 1 Axes>"
      ]
     },
     "metadata": {},
     "output_type": "display_data"
    }
   ],
   "source": [
    "fig, ax = plt.subplots(figsize =(4,6))\n",
    "ax.scatter(n_neighbours, cpu_times)"
   ]
  },
  {
   "cell_type": "code",
   "execution_count": 21,
   "metadata": {},
   "outputs": [
    {
     "data": {
      "text/plain": [
       "<matplotlib.collections.PathCollection at 0x7f6bfc680fd0>"
      ]
     },
     "execution_count": 21,
     "metadata": {},
     "output_type": "execute_result"
    },
    {
     "data": {
      "image/png": "[encoded data removed]",
      "text/plain": [
       "<Figure size 400x600 with 1 Axes>"
      ]
     },
     "metadata": {},
     "output_type": "display_data"
    }
   ],
   "source": [
    "fig, ax = plt.subplots(figsize =(4,6))\n",
    "ax.scatter(n_neighbours, synthesis_times)"
   ]
  },
  {
   "cell_type": "code",
   "execution_count": null,
   "metadata": {},
   "outputs": [],
   "source": []
  },
  {
   "cell_type": "code",
   "execution_count": 4,
   "metadata": {},
   "outputs": [
    {
     "data": {
      "text/plain": [
       "0"
      ]
     },
     "execution_count": 4,
     "metadata": {},
     "output_type": "execute_result"
    }
   ],
   "source": []
  },
  {
   "cell_type": "code",
   "execution_count": null,
   "metadata": {},
   "outputs": [],
   "source": []
  },
  {
   "cell_type": "code",
   "execution_count": null,
   "metadata": {},
   "outputs": [],
   "source": []
  }
 ],
 "metadata": {
  "kernelspec": {
   "display_name": "ISCA",
   "language": "python",
   "name": "python3"
  },
  "language_info": {
   "codemirror_mode": {
    "name": "ipython",
    "version": 3
   },
   "file_extension": ".py",
   "mimetype": "text/x-python",
   "name": "python",
   "nbconvert_exporter": "python",
   "pygments_lexer": "ipython3",
   "version": "3.9.13"
  },
  "orig_nbformat": 4
 },
 "nbformat": 4,
 "nbformat_minor": 2
}
