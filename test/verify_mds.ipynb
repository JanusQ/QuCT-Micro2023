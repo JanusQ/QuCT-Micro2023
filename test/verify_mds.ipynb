{
 "cells": [
  {
   "cell_type": "code",
   "execution_count": 1,
   "metadata": {},
   "outputs": [],
   "source": [
    "from analysis.dimensionality_reduction import MDS, mds_reduce, v_mds_reduce\n",
    "import numpy as np\n",
    "from jax import grad, jit, vmap, pmap\n",
    "from analysis.dimensionality_reduction import vvmap_dist, dist"
   ]
  },
  {
   "cell_type": "code",
   "execution_count": 2,
   "metadata": {},
   "outputs": [
    {
     "name": "stdout",
     "output_type": "stream",
     "text": [
      "0 0.084920004\n",
      "Finishd at epoch 9 with mean loss 0.059320610016584396.\n"
     ]
    }
   ],
   "source": [
    "vecs = np.array([\n",
    "    np.random.rand(100,1)\n",
    "    for _ in range(100)\n",
    "])\n",
    "\n",
    "# print(vecs)\n",
    "params, reduced_vecs = MDS(vecs, 10, 10)  # 100\n",
    "# print(reduced_vecs)"
   ]
  },
  {
   "cell_type": "code",
   "execution_count": 5,
   "metadata": {},
   "outputs": [
    {
     "data": {
      "text/plain": [
       "(100, 10, 1)"
      ]
     },
     "execution_count": 5,
     "metadata": {},
     "output_type": "execute_result"
    }
   ],
   "source": [
    "reduced_vecs.shape"
   ]
  },
  {
   "cell_type": "code",
   "execution_count": 3,
   "metadata": {},
   "outputs": [
    {
     "data": {
      "text/plain": [
       "67"
      ]
     },
     "execution_count": 3,
     "metadata": {},
     "output_type": "execute_result"
    }
   ],
   "source": [
    "# vmap_dist = lambda x, X : vmap(dist, in_axes=(None, 0), out_axes=0)(x, X)\n",
    "dist = np.array(vvmap_dist(vecs, vecs))\n",
    "reduced_dist = np.array(vvmap_dist(reduced_vecs, reduced_vecs))\n",
    "np.argmin(reduced_dist[0][1:])"
   ]
  },
  {
   "cell_type": "code",
   "execution_count": null,
   "metadata": {},
   "outputs": [],
   "source": [
    "np.argsort(dist[0])"
   ]
  },
  {
   "cell_type": "code",
   "execution_count": null,
   "metadata": {},
   "outputs": [],
   "source": [
    "np.argsort(reduced_dist[0])"
   ]
  }
 ],
 "metadata": {
  "kernelspec": {
   "display_name": "Python 3.8.13 ('tf2')",
   "language": "python",
   "name": "python3"
  },
  "language_info": {
   "codemirror_mode": {
    "name": "ipython",
    "version": 3
   },
   "file_extension": ".py",
   "mimetype": "text/x-python",
   "name": "python",
   "nbconvert_exporter": "python",
   "pygments_lexer": "ipython3",
   "version": "3.8.13"
  },
  "orig_nbformat": 4,
  "vscode": {
   "interpreter": {
    "hash": "40ab7016a719c16865f45333a0e432dfc9f4de1f9c9e434a65327be7166adb9f"
   }
  }
 },
 "nbformat": 4,
 "nbformat_minor": 2
}
