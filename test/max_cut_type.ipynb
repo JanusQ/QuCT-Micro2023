{
 "cells": [
  {
   "cell_type": "code",
   "execution_count": 29,
   "metadata": {},
   "outputs": [
    {
     "data": {
      "text/plain": [
       "59"
      ]
     },
     "execution_count": 29,
     "metadata": {},
     "output_type": "execute_result"
    }
   ],
   "source": [
    "from collections import defaultdict\n",
    "from itertools import permutations\n",
    "\n",
    "from utils.backend import gen_washington_topology, get_devide_qubit\n",
    "\n",
    "ss = set()\n",
    "size = 6\n",
    "n_qubits = 27\n",
    "topology = gen_washington_topology(n_qubits)  # 3x3 9 qubits\n",
    "new_topology = defaultdict(list)\n",
    "for qubit in topology.keys():\n",
    "    if qubit < n_qubits:\n",
    "        for ele in topology[qubit]:\n",
    "            if ele < n_qubits:\n",
    "                new_topology[qubit].append(ele)\n",
    "topology =  new_topology\n",
    "\n",
    "i = 0\n",
    "while i < 100000:\n",
    "    i+= 1\n",
    "    devide_qubits = get_devide_qubit(topology, 5)\n",
    "    ss_key = []\n",
    "    b = False\n",
    "    for d in devide_qubits:\n",
    "        if len(d) < 3:\n",
    "            b = True\n",
    "        ss_key.append(tuple(d))\n",
    "    if b:\n",
    "        continue\n",
    "    permutations_list = list(permutations(ss_key))\n",
    "    for p in permutations_list:\n",
    "        # print(p)\n",
    "        if p in ss:\n",
    "            b = True\n",
    "        \n",
    "    if b:\n",
    "        continue    \n",
    "    ss.add(tuple(ss_key))\n",
    "    \n",
    "\n",
    "len(ss)"
   ]
  }
 ],
 "metadata": {
  "kernelspec": {
   "display_name": "ISCA",
   "language": "python",
   "name": "python3"
  },
  "language_info": {
   "codemirror_mode": {
    "name": "ipython",
    "version": 3
   },
   "file_extension": ".py",
   "mimetype": "text/x-python",
   "name": "python",
   "nbconvert_exporter": "python",
   "pygments_lexer": "ipython3",
   "version": "3.8.16"
  },
  "orig_nbformat": 4
 },
 "nbformat": 4,
 "nbformat_minor": 2
}
