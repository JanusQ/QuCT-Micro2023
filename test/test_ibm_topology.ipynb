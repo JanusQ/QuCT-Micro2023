{
 "cells": [
  {
   "cell_type": "code",
   "execution_count": 16,
   "metadata": {},
   "outputs": [],
   "source": [
    "\n",
    "from upstream import RandomwalkModel\n",
    "\n",
    "from utils.backend import  Backend, topology_to_coupling_map, gen_washington_topology, get_washington_neighbor_info\n",
    "from utils.backend import default_basis_single_gates, default_basis_two_gates\n",
    "import pickle\n",
    "import numpy as np \n",
    "import copy\n",
    "from circuit import gen_random_circuits"
   ]
  },
  {
   "cell_type": "code",
   "execution_count": 24,
   "metadata": {},
   "outputs": [
    {
     "name": "stdout",
     "output_type": "stream",
     "text": [
      "finish random circuit generation with 630 circuits\n",
      "\u001b[2m\u001b[36m(remote_train pid=2523834)\u001b[0m train:0/31, 31th offest\n",
      "\u001b[2m\u001b[36m(remote_train pid=2523652)\u001b[0m train:0/31, 279th offest\n",
      "\u001b[2m\u001b[36m(remote_train pid=2523633)\u001b[0m train:0/31, 0th offest\n",
      "\u001b[2m\u001b[36m(remote_train pid=2523635)\u001b[0m train:0/31, 62th offest\n",
      "\u001b[2m\u001b[36m(remote_train pid=2523648)\u001b[0m train:0/31, 217th offest\n",
      "\u001b[2m\u001b[36m(remote_train pid=2523830)\u001b[0m train:0/31, 465th offest\n",
      "\u001b[2m\u001b[36m(remote_train pid=2524106)\u001b[0m train:0/31, 155th offest\n",
      "\u001b[2m\u001b[36m(remote_train pid=2524110)\u001b[0m train:0/31, 403th offest\n",
      "\u001b[2m\u001b[36m(remote_train pid=2523867)\u001b[0m train:0/31, 248th offest\n",
      "\u001b[2m\u001b[36m(remote_train pid=2523814)\u001b[0m train:0/31, 496th offest\n",
      "\u001b[2m\u001b[36m(remote_train pid=2523647)\u001b[0m train:0/31, 434th offest\n",
      "\u001b[2m\u001b[36m(remote_train pid=2523749)\u001b[0m train:0/31, 93th offest\n",
      "\u001b[2m\u001b[36m(remote_train pid=2523852)\u001b[0m train:0/31, 558th offest\n",
      "\u001b[2m\u001b[36m(remote_train pid=2524096)\u001b[0m train:0/31, 124th offest\n",
      "\u001b[2m\u001b[36m(remote_train pid=2523837)\u001b[0m train:0/31, 372th offest\n",
      "\u001b[2m\u001b[36m(remote_train pid=2523660)\u001b[0m train:0/31, 341th offest\n",
      "\u001b[2m\u001b[36m(remote_train pid=2524110)\u001b[0m \n",
      "\u001b[2m\u001b[36m(remote_train pid=2523747)\u001b[0m train:0/31, 310th offest\n",
      "\u001b[2m\u001b[36m(remote_train pid=2523662)\u001b[0m train:0/31, 186th offest\n",
      "\u001b[2m\u001b[36m(remote_train pid=2523839)\u001b[0m train:0/31, 589th offest\n",
      "\u001b[2m\u001b[36m(remote_train pid=2523750)\u001b[0m train:0/31, 527th offest\n",
      "\u001b[2m\u001b[36m(remote_train pid=2524099)\u001b[0m train:0/10, 620th offest\n",
      "count path\n",
      "random walk finish device size =  13\n",
      "0 path table size =  496\n",
      "1 path table size =  1218\n",
      "2 path table size =  495\n",
      "3 path table size =  1116\n",
      "4 path table size =  498\n",
      "5 path table size =  1222\n",
      "6 path table size =  497\n",
      "(0, 1) path table size =  354\n",
      "(1, 2) path table size =  365\n",
      "(4, 5) path table size =  356\n",
      "(5, 6) path table size =  369\n",
      "(1, 3) path table size =  499\n",
      "(3, 5) path table size =  495\n"
     ]
    },
    {
     "data": {
      "text/plain": [
       "1222"
      ]
     },
     "execution_count": 24,
     "metadata": {},
     "output_type": "execute_result"
    }
   ],
   "source": [
    "\n",
    "n_qubits = 27\n",
    "topology = gen_washington_topology(n_qubits)  # 3x3 9 qubits\n",
    "neighbor_info = get_washington_neighbor_info(topology, 1)\n",
    "coupling_map = topology_to_coupling_map(topology)\n",
    "\n",
    "# n_qubits = 7\n",
    "# topology = {0: [1], 1: [0, 2, 3], 2: [1], 3: [1, 5], 4: [5], 5: [3, 4, 6], 6: [5]}\n",
    "# neighbor_info = copy.deepcopy(topology)\n",
    "# coupling_map = topology_to_coupling_map(topology)\n",
    "\n",
    "backend = Backend(n_qubits=n_qubits, topology=topology, neighbor_info=neighbor_info, basis_single_gates=default_basis_single_gates,\n",
    "                  basis_two_gates=default_basis_two_gates, divide=False, decoupling=False)\n",
    "\n",
    "dataset = gen_random_circuits(min_gate=n_qubits *10, max_gate=n_qubits*20, n_circuits=30, two_qubit_gate_probs=[\n",
    "                                  2, 5], gate_num_step=10, backend=backend, multi_process=False)\n",
    "upstream_model = RandomwalkModel(2, 20, backend=backend, travel_directions=('parallel, former'))\n",
    "upstream_model.train(dataset, multi_process=True, process_num = 20, remove_redundancy=False)\n",
    "upstream_model.max_table_size"
   ]
  },
  {
   "cell_type": "code",
   "execution_count": 25,
   "metadata": {},
   "outputs": [
    {
     "data": {
      "text/plain": [
       "(613.8461538461538, 354, 1222)"
      ]
     },
     "execution_count": 25,
     "metadata": {},
     "output_type": "execute_result"
    }
   ],
   "source": [
    "size = []\n",
    "for table in upstream_model.device2path_table.values():\n",
    "    size.append(len(table))\n",
    "np.array(size).mean(),np.array(size).min(),np.array(size).max(),"
   ]
  },
  {
   "cell_type": "code",
   "execution_count": null,
   "metadata": {},
   "outputs": [],
   "source": []
  }
 ],
 "metadata": {
  "kernelspec": {
   "display_name": "ISCA",
   "language": "python",
   "name": "python3"
  },
  "language_info": {
   "codemirror_mode": {
    "name": "ipython",
    "version": 3
   },
   "file_extension": ".py",
   "mimetype": "text/x-python",
   "name": "python",
   "nbconvert_exporter": "python",
   "pygments_lexer": "ipython3",
   "version": "3.9.13"
  },
  "orig_nbformat": 4,
  "vscode": {
   "interpreter": {
    "hash": "a5cb17940ec456bfd6f6b24ecec011f7bb1827da42833da90014f36a02c01967"
   }
  }
 },
 "nbformat": 4,
 "nbformat_minor": 2
}
