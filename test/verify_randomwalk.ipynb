{
 "cells": [
  {
   "cell_type": "code",
   "execution_count": 1,
   "metadata": {},
   "outputs": [],
   "source": [
    "from dataset.random_circuit import random_circuit\n",
    "from pattern_extractor.randomwalk_model import RandomwalkModel, add_pattern_error\n",
    "from dataset.dataset_loader import load_algorithms, load_randomcircuits\n",
    "from analysis.cricuit_operation import assign_barrier, dynamic_decoupling\n",
    "from simulator.hardware_info import max_qubit_num\n",
    "import pickle\n",
    "import random"
   ]
  },
  {
   "cell_type": "code",
   "execution_count": 2,
   "metadata": {},
   "outputs": [],
   "source": [
    "path = 'rwm_5qubit.pkl'"
   ]
  },
  {
   "cell_type": "code",
   "execution_count": 3,
   "metadata": {},
   "outputs": [],
   "source": [
    "# dataset = []\n",
    "# for n_gates in range(10, 50, 10):\n",
    "#     for prob in range(3, 8):\n",
    "#         prob = prob * 0.1\n",
    "#         # dataset += load_randomcircuits(n_qubits = max_qubit_num, n_gates = 20, two_qubit_prob = prob, n_circuits = 2000)\n",
    "#         dataset += load_randomcircuits(n_qubits = max_qubit_num, n_gates = n_gates, two_qubit_prob = prob, n_circuits = 100)\n",
    "# return dataset\n",
    "# model = RandomwalkModel(1, 20)  #max-step=2 会有14000维，max-step 也有10000维，减少生成的特征的数量``\n",
    "# # # 还是需要降维的比如基于一些相似性啥的\n",
    "# model.train(dataset)\n",
    "# model.save(path)"
   ]
  },
  {
   "cell_type": "code",
   "execution_count": 3,
   "metadata": {},
   "outputs": [],
   "source": [
    "model = RandomwalkModel.load(path)"
   ]
  },
  {
   "cell_type": "code",
   "execution_count": 5,
   "metadata": {},
   "outputs": [
    {
     "name": "stdout",
     "output_type": "stream",
     "text": [
      "0 0.005315514\n"
     ]
    }
   ],
   "source": [
    "# model.load_reduced_vecs()\n",
    "# model.save(path)"
   ]
  },
  {
   "cell_type": "code",
   "execution_count": null,
   "metadata": {},
   "outputs": [
    {
     "data": {
      "text/plain": [
       "['loop-ry-3,dependency-rz-3',\n",
       " 'loop-ry-3,parallel-rx-0',\n",
       " 'loop-rz-4,parallel-rz-3',\n",
       " 'loop-cx-2-1,parallel-rx-4',\n",
       " 'loop-ry-3,dependency-cx-1-2',\n",
       " 'loop-ry-4,dependency-rx-4',\n",
       " 'loop-rx-4,dependency-rz-4',\n",
       " 'loop-cx-0-1,dependency-cx-1-2',\n",
       " 'loop-ry-3,parallel-cx-0-1',\n",
       " 'loop-rz-0,parallel-rz-2',\n",
       " 'loop-cx-0-1,parallel-cx-3-2',\n",
       " 'loop-cx-1-0,parallel-cx-4-3',\n",
       " 'loop-cx-3-4,dependency-rx-0',\n",
       " 'loop-rz-0,dependency-ry-0',\n",
       " 'loop-cx-0-1,dependency-rx-2',\n",
       " 'loop-rx-1,dependency-cx-3-2',\n",
       " 'loop-rx-1,dependency-rz-4',\n",
       " 'loop-rz-0,parallel-rx-3',\n",
       " 'loop-rx-4,dependency-cx-3-2',\n",
       " 'loop-rz-1,dependency-cx-2-1',\n",
       " 'loop-cx-2-1,parallel-rz-4',\n",
       " 'loop-ry-0,dependency-ry-1',\n",
       " 'loop-ry-4,parallel-rx-3',\n",
       " 'loop-cx-4-3,parallel-cx-2-1',\n",
       " 'loop-rz-4,parallel-ry-2',\n",
       " 'loop-rz-1,dependency-rx-2',\n",
       " 'loop-rx-1,dependency-cx-3-4',\n",
       " 'loop-cx-2-3,dependency-rz-3',\n",
       " 'loop-cx-3-4,dependency-ry-4',\n",
       " 'loop-cx-2-3,parallel-cx-0-1',\n",
       " 'loop-cx-0-1,dependency-ry-3',\n",
       " 'loop-ry-1,dependency-ry-0',\n",
       " 'loop-cx-3-2,parallel-ry-1',\n",
       " 'loop-rx-4,dependency-rx-3',\n",
       " 'loop-ry-4,parallel-rz-3',\n",
       " 'loop-cx-1-0,dependency-cx-2-1',\n",
       " 'loop-rz-2,dependency-cx-2-3',\n",
       " 'loop-rx-3,dependency-ry-1',\n",
       " 'loop-ry-1,dependency-rx-3',\n",
       " 'loop-rx-3,dependency-cx-3-4',\n",
       " 'loop-cx-3-2,dependency-ry-0',\n",
       " 'loop-ry-3,parallel-ry-1',\n",
       " 'loop-rx-3,parallel-cx-1-2',\n",
       " 'loop-cx-0-1,dependency-rz-3',\n",
       " 'loop-ry-2,parallel-ry-3',\n",
       " 'loop-cx-0-1,parallel-ry-4',\n",
       " 'loop-rx-1,dependency-ry-2',\n",
       " 'loop-cx-2-1,dependency-ry-4',\n",
       " 'loop-ry-2,parallel-rz-4',\n",
       " 'loop-rz-0,dependency-ry-3',\n",
       " 'loop-rx-2,dependency-rz-4',\n",
       " 'loop-cx-1-2,dependency-cx-0-1',\n",
       " 'loop-rz-1,parallel-ry-0',\n",
       " 'loop-rx-4,parallel-ry-3',\n",
       " 'loop-rx-4,parallel-cx-2-3',\n",
       " 'loop-rx-2,dependency-cx-0-1',\n",
       " 'loop-rx-1,parallel-rx-2',\n",
       " 'loop-ry-2,dependency-rx-0',\n",
       " 'loop-ry-1,dependency-cx-2-1',\n",
       " 'loop-cx-3-4,dependency-ry-1',\n",
       " 'loop-ry-4,dependency-rx-1',\n",
       " 'loop-rx-2,dependency-rz-0',\n",
       " 'loop-rz-4,parallel-cx-2-3',\n",
       " 'loop-ry-4,dependency-ry-0',\n",
       " 'loop-rx-0,parallel-cx-2-1',\n",
       " 'loop-rz-0,parallel-cx-4-3',\n",
       " 'loop-cx-1-2,dependency-ry-1',\n",
       " 'loop-cx-3-4,dependency-rz-1',\n",
       " 'loop-rx-3,dependency-ry-3',\n",
       " 'loop-rx-0,dependency-rx-2',\n",
       " 'loop-rz-4,parallel-rx-3',\n",
       " 'loop-ry-2,parallel-ry-1',\n",
       " 'loop-ry-4,dependency-ry-3',\n",
       " 'loop-ry-3,dependency-rz-0',\n",
       " 'loop-cx-0-1,dependency-ry-4',\n",
       " 'loop-cx-3-4,parallel-cx-1-0',\n",
       " 'loop-rz-0,parallel-rx-1',\n",
       " 'loop-cx-4-3,parallel-rz-2',\n",
       " 'loop-ry-2,dependency-cx-1-2',\n",
       " 'loop-rx-2,dependency-ry-4',\n",
       " 'loop-ry-0,parallel-cx-1-2',\n",
       " 'loop-ry-4,dependency-rx-3',\n",
       " 'loop-rz-3,dependency-rz-2',\n",
       " 'loop-rx-1,parallel-cx-3-4',\n",
       " 'loop-rx-0,parallel-rx-3',\n",
       " 'loop-ry-4,parallel-rx-0',\n",
       " 'loop-rz-0,dependency-rx-4',\n",
       " 'loop-ry-2,parallel-cx-3-4',\n",
       " 'loop-cx-1-0,dependency-cx-4-3',\n",
       " 'loop-rz-0,dependency-rz-0',\n",
       " 'loop-cx-4-3,dependency-cx-1-2',\n",
       " 'loop-ry-2,dependency-rz-4',\n",
       " 'loop-cx-0-1,dependency-cx-2-3',\n",
       " 'loop-rx-2,dependency-rx-0',\n",
       " 'loop-rz-0,dependency-ry-4',\n",
       " 'loop-ry-1,parallel-ry-4',\n",
       " 'loop-rz-2,dependency-rx-2',\n",
       " 'loop-cx-4-3,parallel-ry-1',\n",
       " 'loop-cx-2-3,dependency-rx-4',\n",
       " 'loop-ry-4,parallel-cx-2-3']"
      ]
     },
     "execution_count": 48,
     "metadata": {},
     "output_type": "execute_result"
    }
   ],
   "source": [
    "all_paths = list(model.hash_table.keys())\n",
    "random.shuffle(all_paths)\n",
    "[_path for _path in all_paths if len(_path) > 11][:100]\n",
    "# len(\"loop-cx-4-3\")"
   ]
  },
  {
   "cell_type": "code",
   "execution_count": null,
   "metadata": {},
   "outputs": [
    {
     "data": {
      "image/png": "[encoded data removed]",
      "text/plain": [
       "<Figure size 568.197x325.08 with 1 Axes>"
      ]
     },
     "execution_count": 10,
     "metadata": {},
     "output_type": "execute_result"
    }
   ],
   "source": [
    "circuit = random_circuit(max_qubit_num, 20)\n",
    "circuit.draw('mpl')"
   ]
  },
  {
   "cell_type": "code",
   "execution_count": null,
   "metadata": {},
   "outputs": [
    {
     "data": {
      "text/plain": [
       "[[180, 181, 182, 183, 807, 828],\n",
       " [52, 80, 82, 219, 238, 808],\n",
       " [0, 1, 3, 172, 223, 887],\n",
       " [67, 70, 71, 365, 378, 383, 408],\n",
       " [9, 10, 12, 26, 263, 272, 495],\n",
       " [5, 19, 21, 241, 827, 888],\n",
       " [9, 10, 12, 227, 636],\n",
       " [34, 286, 287, 520, 630, 643],\n",
       " [38, 39, 40, 347, 731, 806],\n",
       " [5, 13, 15, 17, 24, 519, 682],\n",
       " [5, 13, 16, 17, 78, 411],\n",
       " [38, 39, 40, 347, 806],\n",
       " [34, 286, 287, 288, 299, 630],\n",
       " [9, 10, 12, 26, 227, 645],\n",
       " [5, 18, 19, 21, 22, 279],\n",
       " [9, 10, 12],\n",
       " [67, 70, 71, 366, 378, 721],\n",
       " [0, 1, 3, 312, 695, 723],\n",
       " [52, 80, 82, 496, 808],\n",
       " [180, 181, 182, 807, 847]]"
      ]
     },
     "execution_count": 11,
     "metadata": {},
     "output_type": "execute_result"
    }
   ],
   "source": [
    "circuit_info = model.vectorize(circuit)\n",
    "circuit_info['instruction2sparse_vecs']"
   ]
  },
  {
   "cell_type": "code",
   "execution_count": null,
   "metadata": {},
   "outputs": [
    {
     "name": "stdout",
     "output_type": "stream",
     "text": [
      "cx\n",
      "loop-cx-2-3\n",
      "#Q2-3\n",
      "#Gcx-2-3\n",
      "loop-cx-2-3,parallel-ry-4\n",
      "loop-cx-2-3,parallel-rz-1\n",
      "loop-cx-2-3,parallel-rx-0\n",
      "\n",
      "\n",
      "rz\n",
      "#Q1\n",
      "#Grz-1\n",
      "loop-rz-1\n",
      "loop-rz-1,parallel-ry-4\n",
      "loop-rz-1,parallel-rx-0\n",
      "loop-rz-1,parallel-cx-2-3\n",
      "\n",
      "\n",
      "ry\n",
      "#Q4\n",
      "#Gry-4\n",
      "loop-ry-4\n",
      "loop-ry-4,parallel-cx-2-3\n",
      "loop-ry-4,parallel-rz-1\n",
      "loop-ry-4,parallel-rx-0\n",
      "\n",
      "\n",
      "rx\n",
      "#Q3\n",
      "#Grx-3\n",
      "loop-rx-3\n",
      "loop-rx-3,dependency-rz-1\n",
      "loop-rx-3,dependency-rx-0\n",
      "loop-rx-3,dependency-cx-2-3\n",
      "loop-rx-3,dependency-ry-4\n",
      "\n",
      "\n",
      "cx\n",
      "#Gcx-2-1\n",
      "loop-cx-2-1\n",
      "#Q2-1\n",
      "loop-cx-2-1,dependency-ry-4\n",
      "loop-cx-2-1,dependency-rx-0\n",
      "loop-cx-2-1,dependency-cx-2-3\n",
      "loop-cx-2-1,dependency-rz-1\n",
      "\n",
      "\n",
      "rx\n",
      "#Q0\n",
      "#Grx-0\n",
      "loop-rx-0\n",
      "loop-rx-0,parallel-rz-1\n",
      "loop-rx-0,parallel-cx-2-3\n",
      "loop-rx-0,parallel-ry-4\n",
      "\n",
      "\n",
      "cx\n",
      "#Gcx-2-1\n",
      "loop-cx-2-1\n",
      "#Q2-1\n",
      "loop-cx-2-1,dependency-rx-3\n",
      "loop-cx-2-1,dependency-ry-0\n",
      "\n",
      "\n",
      "ry\n",
      "#Q2\n",
      "loop-ry-2\n",
      "#Gry-2\n",
      "loop-ry-2,dependency-ry-0\n",
      "loop-ry-2,dependency-cx-3-4\n",
      "loop-ry-2,dependency-cx-2-1\n",
      "\n",
      "\n",
      "cx\n",
      "loop-cx-3-4\n",
      "#Q3-4\n",
      "#Gcx-3-4\n",
      "loop-cx-3-4,dependency-ry-0\n",
      "loop-cx-3-4,dependency-rx-3\n",
      "loop-cx-3-4,dependency-cx-2-1\n",
      "\n",
      "\n",
      "ry\n",
      "#Q0\n",
      "loop-ry-0\n",
      "loop-ry-0,dependency-ry-4\n",
      "#Gry-0\n",
      "loop-ry-0,dependency-rx-0\n",
      "loop-ry-0,dependency-rz-1\n",
      "loop-ry-0,dependency-cx-2-3\n",
      "\n",
      "\n",
      "ry\n",
      "#Q0\n",
      "loop-ry-0\n",
      "loop-ry-0,dependency-cx-2-1\n",
      "#Gry-0\n",
      "loop-ry-0,dependency-ry-0\n",
      "loop-ry-0,dependency-rx-3\n",
      "\n",
      "\n",
      "cx\n",
      "loop-cx-3-4\n",
      "#Q3-4\n",
      "#Gcx-3-4\n",
      "loop-cx-3-4,dependency-ry-0\n",
      "loop-cx-3-4,dependency-cx-2-1\n",
      "\n",
      "\n",
      "ry\n",
      "#Q2\n",
      "loop-ry-2\n",
      "#Gry-2\n",
      "loop-ry-2,dependency-ry-2\n",
      "loop-ry-2,dependency-rx-0\n",
      "loop-ry-2,dependency-cx-3-4\n",
      "\n",
      "\n",
      "cx\n",
      "#Gcx-2-1\n",
      "loop-cx-2-1\n",
      "#Q2-1\n",
      "loop-cx-2-1,dependency-ry-4\n",
      "loop-cx-2-1,dependency-rx-3\n",
      "loop-cx-2-1,dependency-ry-2\n",
      "\n",
      "\n",
      "rx\n",
      "#Q0\n",
      "loop-rx-0,dependency-ry-0\n",
      "#Grx-0\n",
      "loop-rx-0\n",
      "loop-rx-0,dependency-cx-2-1\n",
      "loop-rx-0,dependency-cx-3-4\n",
      "\n",
      "\n",
      "cx\n",
      "#Gcx-2-1\n",
      "loop-cx-2-1\n",
      "#Q2-1\n",
      "\n",
      "\n",
      "rx\n",
      "#Q3\n",
      "#Grx-3\n",
      "loop-rx-3\n",
      "loop-rx-3,dependency-ry-2\n",
      "loop-rx-3,dependency-rx-0\n",
      "loop-rx-3,dependency-cx-3-4\n",
      "\n",
      "\n",
      "ry\n",
      "#Q4\n",
      "#Gry-4\n",
      "loop-ry-4\n",
      "loop-ry-4,dependency-rx-0\n",
      "loop-ry-4,dependency-ry-2\n",
      "loop-ry-4,dependency-cx-3-4\n",
      "\n",
      "\n",
      "rz\n",
      "#Q1\n",
      "#Grz-1\n",
      "loop-rz-1\n",
      "loop-rz-1,dependency-cx-2-1\n",
      "loop-rz-1,parallel-cx-2-3\n",
      "\n",
      "\n",
      "cx\n",
      "loop-cx-2-3\n",
      "#Q2-3\n",
      "#Gcx-2-3\n",
      "loop-cx-2-3,parallel-rz-1\n",
      "loop-cx-2-3,dependency-cx-2-1\n",
      "\n",
      "\n"
     ]
    }
   ],
   "source": [
    "instruction2sparse_vecs = circuit_info['instruction2sparse_vecs']\n",
    "for index, instruction in enumerate(circuit_info['instructions']):\n",
    "    sparse_vec = instruction2sparse_vecs[index]\n",
    "    print(instruction.operation.name)\n",
    "    for path_index in sparse_vec:\n",
    "        print(model.reverse_hash_table[path_index])\n",
    "        # pass\n",
    "    print('\\n')"
   ]
  },
  {
   "cell_type": "code",
   "execution_count": null,
   "metadata": {},
   "outputs": [],
   "source": [
    "def parse_path(path):\n",
    "    steps = path.split(',')\n",
    "    step = [tuple(step.split('-')) for step in steps]\n",
    "    return step\n",
    "# s = \"loop-rx-2,parallel-cx-1-0\"\n",
    "# obj = s.split(',')\n",
    "# parse_path(obj)"
   ]
  },
  {
   "cell_type": "code",
   "execution_count": 10,
   "metadata": {},
   "outputs": [],
   "source": [
    "from analysis.dimensionality_reduction import MDS, mds_reduce, v_mds_reduce, vvmap_dist, dist\n",
    "import numpy as np\n",
    "from jax import grad, jit, vmap, pmap"
   ]
  },
  {
   "cell_type": "code",
   "execution_count": null,
   "metadata": {},
   "outputs": [
    {
     "name": "stderr",
     "output_type": "stream",
     "text": [
      "/var/folders/4h/kdt41ym54rg5__k93lm_0wy80000gn/T/ipykernel_66238/2227523699.py:13: VisibleDeprecationWarning: Creating an ndarray from ragged nested sequences (which is a list-or-tuple of lists-or-tuples-or ndarrays with different lengths or shapes) is deprecated. If you meant to do this, you must specify 'dtype=object' when creating the ndarray.\n",
      "  sparse_vecs = np.array(sparse_vecs)\n"
     ]
    },
    {
     "data": {
      "text/plain": [
       "(50000, 897, 1)"
      ]
     },
     "execution_count": 16,
     "metadata": {},
     "output_type": "execute_result"
    }
   ],
   "source": [
    "vecs = []\n",
    "sparse_vecs = []\n",
    "for circuit_info in model.dataset:\n",
    "    for sparse_vec in circuit_info['instruction2sparse_vecs']:\n",
    "        # print(sparse_vec)\n",
    "        sparse_vecs.append(sparse_vec)\n",
    "        vec = np.zeros((len(model.hash_table), 1))\n",
    "        for index1 in sparse_vec:\n",
    "            # print(index1)\n",
    "            vec[index1][0] = 1\n",
    "        vecs.append(vec)\n",
    "vecs = np.array(vecs)\n",
    "sparse_vecs = np.array(sparse_vecs)\n",
    "vecs.shape"
   ]
  },
  {
   "cell_type": "code",
   "execution_count": null,
   "metadata": {},
   "outputs": [
    {
     "name": "stdout",
     "output_type": "stream",
     "text": [
      "0 0.005647591\n",
      "1 0.002753518\n",
      "2 0.0022835927\n",
      "3 0.0022378482\n",
      "4 0.00218472\n",
      "5 0.0021115\n",
      "6 0.002054832\n",
      "7 0.0020305556\n",
      "8 0.0020294785\n",
      "9 0.0020105625\n",
      "Finishd at 9 epoch with mean loss 0.0020105624571442604.\n"
     ]
    }
   ],
   "source": [
    "params, reduced_vecs = MDS(vecs, 100, 6, print_interval=1)\n",
    "params.shape\n",
    "file = open(path, 'wb')\n",
    "pickle.dump(params, file)\n",
    "file.close()"
   ]
  },
  {
   "cell_type": "code",
   "execution_count": null,
   "metadata": {},
   "outputs": [
    {
     "ename": "NameError",
     "evalue": "name 'reduced_vecs' is not defined",
     "output_type": "error",
     "traceback": [
      "\u001b[0;31m---------------------------------------------------------------------------\u001b[0m",
      "\u001b[0;31mNameError\u001b[0m                                 Traceback (most recent call last)",
      "\u001b[1;32m/Users/siwei/workspace/ISCA2023-circuitlet/verify_randomwalk.ipynb Cell 14\u001b[0m in \u001b[0;36m<cell line: 1>\u001b[0;34m()\u001b[0m\n\u001b[0;32m----> <a href='vscode-notebook-cell:/Users/siwei/workspace/ISCA2023-circuitlet/verify_randomwalk.ipynb#X32sZmlsZQ%3D%3D?line=0'>1</a>\u001b[0m reduced_vecs\u001b[39m.\u001b[39mshape\n",
      "\u001b[0;31mNameError\u001b[0m: name 'reduced_vecs' is not defined"
     ]
    }
   ],
   "source": [
    "reduced_vecs.shape"
   ]
  },
  {
   "cell_type": "code",
   "execution_count": null,
   "metadata": {},
   "outputs": [],
   "source": [
    "mds_path = 'pattern_extractor/model/mds_q5.pkl'\n",
    "file = open(mds_path, 'rb')\n",
    "params = pickle.load(file)\n",
    "file.close()"
   ]
  },
  {
   "cell_type": "code",
   "execution_count": null,
   "metadata": {},
   "outputs": [],
   "source": [
    "vecs = vecs[:1000]\n",
    "sparse_vecs = sparse_vecs[:1000]\n",
    "dist_matrix = np.array(vvmap_dist(vecs, vecs))\n",
    "reduced_vecs = vmap(mds_reduce, in_axes=(None, 0), out_axes=0)(params, vecs)  # 还是会超出内存\n",
    "reduced_dist_matrix = np.array(vvmap_dist(reduced_vecs, reduced_vecs))"
   ]
  },
  {
   "cell_type": "code",
   "execution_count": null,
   "metadata": {},
   "outputs": [
    {
     "data": {
      "text/plain": [
       "array([[   0.    , 3609.4998, 3832.3171, ..., 4323.4883, 3963.7327,\n",
       "        3567.1255],\n",
       "       [3609.4998,    0.    , 3967.7207, ..., 3903.7585, 4053.7012,\n",
       "        4104.2383],\n",
       "       [3832.3171, 3967.7207,    0.    , ..., 4162.6406, 3975.8555,\n",
       "        4593.086 ],\n",
       "       ...,\n",
       "       [4323.4883, 3903.7585, 4162.6406, ...,    0.    , 4176.6123,\n",
       "        4809.67  ],\n",
       "       [3963.7327, 4053.7012, 3975.8555, ..., 4176.6123,    0.    ,\n",
       "        4612.8135],\n",
       "       [3567.1255, 4104.2383, 4593.086 , ..., 4809.67  , 4612.8135,\n",
       "           0.    ]], dtype=float32)"
      ]
     },
     "execution_count": 30,
     "metadata": {},
     "output_type": "execute_result"
    }
   ],
   "source": [
    "# np.argsort(reduced_dist_matrix[0][1:])\n",
    "# np.argsort(dist_matrix[0][1:])\n",
    "reduced_dist_matrix"
   ]
  },
  {
   "cell_type": "code",
   "execution_count": null,
   "metadata": {},
   "outputs": [],
   "source": [
    "def parse_sparse_vector(sparse_vector, model: RandomwalkModel):\n",
    "    reverse_hash_table = model.reverse_hash_table\n",
    "    for index in sparse_vector:\n",
    "        print(reverse_hash_table[index])\n",
    "    print('\\n')\n",
    "    return"
   ]
  },
  {
   "cell_type": "code",
   "execution_count": null,
   "metadata": {},
   "outputs": [
    {
     "name": "stdout",
     "output_type": "stream",
     "text": [
      "#Q4\n",
      "#Gry-4\n",
      "loop-ry-4,parallel-rz-0\n",
      "loop-ry-4\n",
      "\n",
      "\n"
     ]
    }
   ],
   "source": [
    "# center instruction\n",
    "center_instruction_index = 0\n",
    "parse_sparse_vector(sparse_vecs[center_instruction_index], model)"
   ]
  },
  {
   "cell_type": "code",
   "execution_count": null,
   "metadata": {},
   "outputs": [
    {
     "name": "stdout",
     "output_type": "stream",
     "text": [
      "0.0\n",
      "#Q4\n",
      "#Gry-4\n",
      "loop-ry-4,parallel-rz-0\n",
      "loop-ry-4\n",
      "\n",
      "\n",
      "118.95884\n",
      "#Q4\n",
      "#Gry-4\n",
      "loop-ry-4\n",
      "\n",
      "\n",
      "212.35013\n",
      "#Q4\n",
      "#Gry-4\n",
      "loop-ry-4\n",
      "loop-ry-4,dependency-rz-1\n",
      "\n",
      "\n",
      "238.74246\n",
      "#Q4\n",
      "#Gry-4\n",
      "loop-ry-4\n",
      "loop-ry-4,dependency-rx-4\n",
      "\n",
      "\n",
      "238.75476\n",
      "#Q4\n",
      "#Gry-4\n",
      "loop-ry-4\n",
      "loop-ry-4,dependency-rx-2\n",
      "\n",
      "\n",
      "243.80222\n",
      "#Q4\n",
      "#Gry-4\n",
      "loop-ry-4\n",
      "loop-ry-4,parallel-rx-3\n",
      "\n",
      "\n",
      "258.36737\n",
      "#Q4\n",
      "#Gry-4\n",
      "loop-ry-4\n",
      "loop-ry-4,dependency-cx-1-2\n",
      "\n",
      "\n",
      "259.85376\n",
      "#Q4\n",
      "#Gry-4\n",
      "loop-ry-4\n",
      "loop-ry-4,parallel-ry-2\n",
      "\n",
      "\n",
      "350.53937\n",
      "#Q4\n",
      "#Gry-4\n",
      "loop-ry-4\n",
      "loop-ry-4,parallel-cx-2-3\n",
      "loop-ry-4,parallel-cx-1-0\n",
      "\n",
      "\n",
      "378.28122\n",
      "#Q4\n",
      "#Gry-4\n",
      "loop-ry-4\n",
      "loop-ry-4,dependency-rx-1\n",
      "loop-ry-4,dependency-rz-2\n",
      "\n",
      "\n",
      "382.2417\n",
      "#Q4\n",
      "#Gry-4\n",
      "loop-ry-4\n",
      "loop-ry-4,dependency-ry-4\n",
      "loop-ry-4,dependency-rx-2\n",
      "\n",
      "\n",
      "383.5059\n",
      "#Q4\n",
      "#Gry-4\n",
      "loop-ry-4\n",
      "loop-ry-4,dependency-ry-4\n",
      "loop-ry-4,dependency-ry-3\n",
      "\n",
      "\n",
      "394.69934\n",
      "#Q4\n",
      "#Gry-4\n",
      "loop-ry-4,parallel-rz-0\n",
      "loop-ry-4\n",
      "loop-ry-4,parallel-rx-2\n",
      "loop-ry-4,parallel-rz-1\n",
      "\n",
      "\n",
      "407.27887\n",
      "#Q4\n",
      "#Gry-4\n",
      "loop-ry-4\n",
      "loop-ry-4,parallel-cx-2-3\n",
      "loop-ry-4,parallel-cx-0-1\n",
      "\n",
      "\n",
      "414.3635\n",
      "#Q4\n",
      "#Gry-4\n",
      "loop-ry-4\n",
      "loop-ry-4,dependency-ry-4\n",
      "loop-ry-4,dependency-ry-2\n",
      "\n",
      "\n",
      "418.13718\n",
      "#Q4\n",
      "#Gry-4\n",
      "loop-ry-4\n",
      "loop-ry-4,parallel-rx-3\n",
      "loop-ry-4,dependency-cx-3-4\n",
      "\n",
      "\n",
      "424.15417\n",
      "#Q4\n",
      "#Gry-4\n",
      "loop-ry-4\n",
      "loop-ry-4,parallel-rx-1\n",
      "loop-ry-4,parallel-rz-2\n",
      "\n",
      "\n",
      "430.22305\n",
      "#Q4\n",
      "#Gry-4\n",
      "loop-ry-4\n",
      "loop-ry-4,dependency-rx-4\n",
      "loop-ry-4,dependency-cx-1-2\n",
      "\n",
      "\n",
      "435.20374\n",
      "#Q4\n",
      "#Gry-4\n",
      "loop-ry-4\n",
      "loop-ry-4,dependency-ry-4\n",
      "loop-ry-4,dependency-rz-2\n",
      "\n",
      "\n",
      "439.16162\n",
      "#Q4\n",
      "#Gry-4\n",
      "loop-ry-4\n",
      "loop-ry-4,dependency-ry-4\n",
      "loop-ry-4,dependency-rx-3\n",
      "\n",
      "\n"
     ]
    }
   ],
   "source": [
    "for instrcution_index in np.argsort(reduced_dist_matrix[center_instruction_index])[:20]:\n",
    "    print(dist(reduced_vecs[instrcution_index], reduced_vecs[center_instruction_index]))\n",
    "    sparse_vec = sparse_vecs[instrcution_index]\n",
    "    parse_sparse_vector(sparse_vec, model)"
   ]
  },
  {
   "cell_type": "code",
   "execution_count": null,
   "metadata": {},
   "outputs": [
    {
     "name": "stdout",
     "output_type": "stream",
     "text": [
      "0.0\n",
      "#Q4\n",
      "#Gry-4\n",
      "loop-ry-4,parallel-rz-0\n",
      "loop-ry-4\n",
      "\n",
      "\n",
      "1.0\n",
      "#Q4\n",
      "#Gry-4\n",
      "loop-ry-4\n",
      "\n",
      "\n",
      "2.0\n",
      "#Q4\n",
      "#Gry-4\n",
      "loop-ry-4\n",
      "loop-ry-4,dependency-rx-2\n",
      "\n",
      "\n",
      "2.0\n",
      "#Q4\n",
      "#Gry-4\n",
      "loop-ry-4\n",
      "loop-ry-4,dependency-rx-4\n",
      "\n",
      "\n",
      "2.0\n",
      "#Q4\n",
      "#Gry-4\n",
      "loop-ry-4\n",
      "loop-ry-4,dependency-cx-1-2\n",
      "\n",
      "\n",
      "2.0\n",
      "#Q4\n",
      "#Gry-4\n",
      "loop-ry-4\n",
      "loop-ry-4,parallel-ry-2\n",
      "\n",
      "\n",
      "2.0\n",
      "#Q4\n",
      "#Gry-4\n",
      "loop-ry-4\n",
      "loop-ry-4,dependency-rz-1\n",
      "\n",
      "\n",
      "2.0\n",
      "#Q4\n",
      "#Gry-4\n",
      "loop-ry-4,parallel-rz-0\n",
      "loop-ry-4\n",
      "loop-ry-4,parallel-rx-2\n",
      "loop-ry-4,parallel-rz-1\n",
      "\n",
      "\n",
      "2.0\n",
      "#Q4\n",
      "#Gry-4\n",
      "loop-ry-4\n",
      "loop-ry-4,parallel-rx-3\n",
      "\n",
      "\n",
      "3.0\n",
      "#Q4\n",
      "#Gry-4\n",
      "loop-ry-4\n",
      "loop-ry-4,dependency-cx-1-2\n",
      "loop-ry-4,dependency-rx-3\n",
      "\n",
      "\n",
      "3.0\n",
      "#Q4\n",
      "#Gry-4\n",
      "loop-ry-4\n",
      "loop-ry-4,dependency-rx-1\n",
      "loop-ry-4,dependency-rz-2\n",
      "\n",
      "\n",
      "3.0\n",
      "#Q4\n",
      "#Gry-4\n",
      "loop-ry-4\n",
      "loop-ry-4,dependency-ry-4\n",
      "loop-ry-4,dependency-ry-2\n",
      "\n",
      "\n",
      "3.0\n",
      "#Q4\n",
      "#Gry-4\n",
      "loop-ry-4\n",
      "loop-ry-4,parallel-rx-2\n",
      "loop-ry-4,parallel-rz-1\n",
      "\n",
      "\n",
      "3.0\n",
      "#Q4\n",
      "#Gry-4\n",
      "loop-ry-4\n",
      "loop-ry-4,parallel-rx-3\n",
      "loop-ry-4,dependency-cx-3-4\n",
      "\n",
      "\n",
      "3.0\n",
      "#Q4\n",
      "#Gry-4\n",
      "loop-ry-4\n",
      "loop-ry-4,dependency-ry-4\n",
      "loop-ry-4,dependency-ry-3\n",
      "\n",
      "\n",
      "3.0\n",
      "#Q4\n",
      "#Gry-4\n",
      "loop-ry-4\n",
      "loop-ry-4,parallel-rx-1\n",
      "loop-ry-4,parallel-rz-2\n",
      "\n",
      "\n",
      "3.0\n",
      "#Q4\n",
      "#Gry-4\n",
      "loop-ry-4\n",
      "loop-ry-4,dependency-ry-4\n",
      "loop-ry-4,dependency-rx-3\n",
      "\n",
      "\n",
      "3.0\n",
      "#Q4\n",
      "#Gry-4\n",
      "loop-ry-4\n",
      "loop-ry-4,dependency-ry-4\n",
      "loop-ry-4,dependency-rz-2\n",
      "\n",
      "\n",
      "3.0\n",
      "#Q4\n",
      "#Gry-4\n",
      "loop-ry-4\n",
      "loop-ry-4,parallel-cx-2-3\n",
      "loop-ry-4,parallel-cx-0-1\n",
      "\n",
      "\n",
      "3.0\n",
      "#Q4\n",
      "#Gry-4\n",
      "loop-ry-4\n",
      "loop-ry-4,parallel-cx-2-3\n",
      "loop-ry-4,parallel-cx-1-0\n",
      "\n",
      "\n"
     ]
    }
   ],
   "source": [
    "for instrcution_index in np.argsort(dist_matrix[center_instruction_index])[:20]:\n",
    "    sparse_vec = sparse_vecs[instrcution_index]\n",
    "    vec = vecs[instrcution_index]\n",
    "    print(dist(vec, vecs[center_instruction_index]))\n",
    "    parse_sparse_vector(sparse_vec, model)"
   ]
  },
  {
   "cell_type": "code",
   "execution_count": null,
   "metadata": {},
   "outputs": [
    {
     "data": {
      "text/plain": [
       "True"
      ]
     },
     "execution_count": 46,
     "metadata": {},
     "output_type": "execute_result"
    }
   ],
   "source": [
    "# 训练一个fake的model，模型要求输出必须得在\n",
    "\n",
    "# 张量乘法是满足这个什么率的\n",
    "a = np.random.rand(10,100)\n",
    "b = np.random.rand(100,20)\n",
    "c = np.random.rand(20,10)\n",
    "np.allclose((a @ b) @ c, a @ (b @ c))"
   ]
  },
  {
   "cell_type": "code",
   "execution_count": 4,
   "metadata": {},
   "outputs": [
    {
     "data": {
      "text/plain": [
       "array([-2, -3])"
      ]
     },
     "execution_count": 4,
     "metadata": {},
     "output_type": "execute_result"
    }
   ],
   "source": [
    "import numpy as np\n",
    "x = np.array([1,2])\n",
    "z = ~x\n",
    "z"
   ]
  },
  {
   "cell_type": "code",
   "execution_count": 7,
   "metadata": {},
   "outputs": [
    {
     "data": {
      "text/plain": [
       "-8"
      ]
     },
     "execution_count": 7,
     "metadata": {},
     "output_type": "execute_result"
    }
   ],
   "source": [
    "z@x"
   ]
  },
  {
   "cell_type": "code",
   "execution_count": 8,
   "metadata": {},
   "outputs": [
    {
     "data": {
      "text/plain": [
       "-8"
      ]
     },
     "execution_count": 8,
     "metadata": {},
     "output_type": "execute_result"
    }
   ],
   "source": [
    "x@z"
   ]
  },
  {
   "cell_type": "code",
   "execution_count": 13,
   "metadata": {},
   "outputs": [
    {
     "ename": "ValueError",
     "evalue": "vmap was requested to map its argument along axis 0, which implies that its rank should be at least 1, but is only 0 (its shape is ())",
     "output_type": "error",
     "traceback": [
      "\u001b[0;31m---------------------------------------------------------------------------\u001b[0m",
      "\u001b[0;31mIndexError\u001b[0m                                Traceback (most recent call last)",
      "File \u001b[0;32m~/miniforge3/envs/tf2/lib/python3.8/site-packages/jax/_src/api.py:1575\u001b[0m, in \u001b[0;36m_mapped_axis_size.<locals>._get_axis_size\u001b[0;34m(name, shape, axis)\u001b[0m\n\u001b[1;32m   1574\u001b[0m \u001b[39mtry\u001b[39;00m:\n\u001b[0;32m-> 1575\u001b[0m   \u001b[39mreturn\u001b[39;00m shape[axis]\n\u001b[1;32m   1576\u001b[0m \u001b[39mexcept\u001b[39;00m (\u001b[39mIndexError\u001b[39;00m, \u001b[39mTypeError\u001b[39;00m) \u001b[39mas\u001b[39;00m e:\n",
      "\u001b[0;31mIndexError\u001b[0m: tuple index out of range",
      "\nThe above exception was the direct cause of the following exception:\n",
      "\u001b[0;31mValueError\u001b[0m                                Traceback (most recent call last)",
      "\u001b[1;32m/Users/siwei/workspace/ISCA2023-circuitlet/verify_randomwalk.ipynb Cell 26\u001b[0m in \u001b[0;36m<cell line: 2>\u001b[0;34m()\u001b[0m\n\u001b[1;32m      <a href='vscode-notebook-cell:/Users/siwei/workspace/ISCA2023-circuitlet/verify_randomwalk.ipynb#X34sZmlsZQ%3D%3D?line=0'>1</a>\u001b[0m \u001b[39mfrom\u001b[39;00m \u001b[39mjax\u001b[39;00m \u001b[39mimport\u001b[39;00m grad, jit, vmap, pmap\n\u001b[0;32m----> <a href='vscode-notebook-cell:/Users/siwei/workspace/ISCA2023-circuitlet/verify_randomwalk.ipynb#X34sZmlsZQ%3D%3D?line=1'>2</a>\u001b[0m vmap(\u001b[39mlambda\u001b[39;49;00m params, y, x: \u001b[39mprint\u001b[39;49m(params,x,y), in_axes\u001b[39m=\u001b[39;49m(\u001b[39mNone\u001b[39;49;00m, \u001b[39m0\u001b[39;49m, \u001b[39m0\u001b[39;49m), out_axes\u001b[39m=\u001b[39;49m\u001b[39m0\u001b[39;49m)(\u001b[39mNone\u001b[39;49;00m, [[\u001b[39m1\u001b[39;49m],[\u001b[39m2\u001b[39;49m],[\u001b[39m3\u001b[39;49m]], [[\u001b[39m2\u001b[39;49m],[\u001b[39m3\u001b[39;49m],[\u001b[39m4\u001b[39;49m]])\n",
      "    \u001b[0;31m[... skipping hidden 4 frame]\u001b[0m\n",
      "File \u001b[0;32m~/miniforge3/envs/tf2/lib/python3.8/site-packages/jax/_src/api.py:1578\u001b[0m, in \u001b[0;36m_mapped_axis_size.<locals>._get_axis_size\u001b[0;34m(name, shape, axis)\u001b[0m\n\u001b[1;32m   1576\u001b[0m \u001b[39mexcept\u001b[39;00m (\u001b[39mIndexError\u001b[39;00m, \u001b[39mTypeError\u001b[39;00m) \u001b[39mas\u001b[39;00m e:\n\u001b[1;32m   1577\u001b[0m   min_rank \u001b[39m=\u001b[39m axis \u001b[39m+\u001b[39m \u001b[39m1\u001b[39m \u001b[39mif\u001b[39;00m axis \u001b[39m>\u001b[39m\u001b[39m=\u001b[39m \u001b[39m0\u001b[39m \u001b[39melse\u001b[39;00m \u001b[39m-\u001b[39maxis\n\u001b[0;32m-> 1578\u001b[0m   \u001b[39mraise\u001b[39;00m \u001b[39mValueError\u001b[39;00m(\u001b[39mf\u001b[39m\u001b[39m\"\u001b[39m\u001b[39m{\u001b[39;00mname\u001b[39m}\u001b[39;00m\u001b[39m was requested to map its argument along axis \u001b[39m\u001b[39m{\u001b[39;00maxis\u001b[39m}\u001b[39;00m\u001b[39m, \u001b[39m\u001b[39m\"\u001b[39m\n\u001b[1;32m   1579\u001b[0m                    \u001b[39mf\u001b[39m\u001b[39m\"\u001b[39m\u001b[39mwhich implies that its rank should be at least \u001b[39m\u001b[39m{\u001b[39;00mmin_rank\u001b[39m}\u001b[39;00m\u001b[39m, \u001b[39m\u001b[39m\"\u001b[39m\n\u001b[1;32m   1580\u001b[0m                    \u001b[39mf\u001b[39m\u001b[39m\"\u001b[39m\u001b[39mbut is only \u001b[39m\u001b[39m{\u001b[39;00m\u001b[39mlen\u001b[39m(shape)\u001b[39m}\u001b[39;00m\u001b[39m (its shape is \u001b[39m\u001b[39m{\u001b[39;00mshape\u001b[39m}\u001b[39;00m\u001b[39m)\u001b[39m\u001b[39m\"\u001b[39m) \u001b[39mfrom\u001b[39;00m \u001b[39me\u001b[39;00m\n",
      "\u001b[0;31mValueError\u001b[0m: vmap was requested to map its argument along axis 0, which implies that its rank should be at least 1, but is only 0 (its shape is ())"
     ]
    }
   ],
   "source": [
    "from jax import grad, jit, vmap, pmap\n",
    "vmap(lambda params, y, x: print(params,x,y), in_axes=(None, 0, 0), out_axes=0)(None, [[1],[2],[3]], [[2],[3],[4]])"
   ]
  },
  {
   "cell_type": "code",
   "execution_count": null,
   "metadata": {},
   "outputs": [],
   "source": []
  }
 ],
 "metadata": {
  "kernelspec": {
   "display_name": "Python 3.8.13 ('tf2')",
   "language": "python",
   "name": "python3"
  },
  "language_info": {
   "codemirror_mode": {
    "name": "ipython",
    "version": 3
   },
   "file_extension": ".py",
   "mimetype": "text/x-python",
   "name": "python",
   "nbconvert_exporter": "python",
   "pygments_lexer": "ipython3",
   "version": "3.8.13"
  },
  "orig_nbformat": 4,
  "vscode": {
   "interpreter": {
    "hash": "40ab7016a719c16865f45333a0e432dfc9f4de1f9c9e434a65327be7166adb9f"
   }
  }
 },
 "nbformat": 4,
 "nbformat_minor": 2
}
