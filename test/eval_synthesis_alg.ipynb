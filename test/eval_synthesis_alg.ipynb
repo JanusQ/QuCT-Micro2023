{
 "cells": [
  {
   "cell_type": "code",
   "execution_count": 1,
   "metadata": {},
   "outputs": [],
   "source": [
    "import pickle\n",
    "import os\n",
    "import json\n",
    "import pandas as pd\n",
    "import numpy as np\n",
    "from matplotlib import pyplot as plt\n",
    "import seaborn as sns\n",
    "from qiskit import  QuantumCircuit, transpile\n",
    "import random"
   ]
  },
  {
   "cell_type": "code",
   "execution_count": 2,
   "metadata": {},
   "outputs": [],
   "source": [
    "baseline_dirs = [f'/home/luliqiang/4_2/extra/quantum-circuit-synthesis/experiment_results/4_16']\n",
    "quct_dirs = [f'alg_result']"
   ]
  },
  {
   "cell_type": "code",
   "execution_count": 204,
   "metadata": {},
   "outputs": [
    {
     "name": "stdout",
     "output_type": "stream",
     "text": [
      "qft_4.json\n",
      "ising_5.json\n",
      "ising_4.json\n",
      "qsvm_5.json\n",
      "qsvm_4.json\n",
      "grover_5.json\n",
      "hamiltonian_simulation_5.json\n",
      "ghz_4.json\n",
      "qft_5.json\n",
      "qknn_4.json\n",
      "vqc_4.json\n",
      "qknn_5.json\n",
      "grover_4.json\n",
      "ghz_5.json\n",
      "hamiltonian_simulation_4.json\n"
     ]
    }
   ],
   "source": [
    "baseline_results = []\n",
    "\n",
    "dir_files = []\n",
    "\n",
    "for baseline_dir in baseline_dirs:\n",
    "    for dirpath, dirnames, filenames in os.walk(baseline_dir):\n",
    "        for filename in filenames:\n",
    "            if 'json' not in filename or 'pkl' in filename:\n",
    "                continue\n",
    "\n",
    "            print(filename)\n",
    "            with open(os.path.join(dirpath, filename), mode='r') as f:\n",
    "                result_dict = json.load(f)\n",
    "            baseline_results.append(result_dict)\n",
    "            result_dict['filename'] = filename\n",
    "\n",
    "for result_dict in baseline_results:\n",
    "    picked_unitary = json.loads(result_dict['Unitary']).encode('latin-1')\n",
    "    U = pickle.loads(picked_unitary)\n",
    "    result_dict['U'] = U"
   ]
  },
  {
   "cell_type": "code",
   "execution_count": 4,
   "metadata": {},
   "outputs": [
    {
     "data": {
      "text/plain": [
       "(dict_keys(['Experiment Name', 'Unitary', 'Num of Qubits', 'Metrics', 'U']),\n",
       " dict_keys(['Synthesiser', 'Circuit', 'Execution Time', 'CNOT Count', 'Depth', 'Parallelism', 'CPU time', 'gate_num']))"
      ]
     },
     "execution_count": 4,
     "metadata": {},
     "output_type": "execute_result"
    }
   ],
   "source": [
    "baseline_results[0].keys(), baseline_results[0]['Metrics'][0].keys()"
   ]
  },
  {
   "cell_type": "code",
   "execution_count": 209,
   "metadata": {},
   "outputs": [
    {
     "name": "stdout",
     "output_type": "stream",
     "text": [
      "ghz_5\n",
      "qft-5.json_3.pkl\n",
      "qknn_4\n",
      "grover_4\n",
      "qknn_5\n",
      "qsvm_5\n",
      "qsvm_4\n",
      "qft_4\n",
      "vqc_4\n",
      "hamiltonian_simulation\n",
      "grover_5\n",
      "hamiltonian_simulation\n",
      "vqc_5\n",
      "qft_5\n",
      "ghz_4\n",
      "ising_5\n",
      "qft-4.json_3.pkl\n",
      "ising_4\n"
     ]
    }
   ],
   "source": [
    "\n",
    "results = []\n",
    "\n",
    "for quct_dir in quct_dirs:\n",
    "    for dirpath, dirnames, filenames in os.walk(quct_dir):\n",
    "        for filename in filenames:\n",
    "            if 'pkl' not in filename:  # 'change_func' not in filename or\n",
    "                continue\n",
    "            \n",
    "            # print(filename)\n",
    "            with open(os.path.join(dirpath, filename), mode='rb') as f:\n",
    "                result_dict = pickle.load(f)\n",
    "            \n",
    "            result_dict['baseline_name'] =  filename.split('_')[2] + '_' + filename.split('_')[3]\n",
    "            print(result_dict['baseline_name'])\n",
    "            results.append(result_dict) \n",
    "        "
   ]
  },
  {
   "cell_type": "code",
   "execution_count": 203,
   "metadata": {},
   "outputs": [
    {
     "name": "stdout",
     "output_type": "stream",
     "text": [
      "qft_5qiskit_only\n",
      "qknn_5qiskit_only\n",
      "qknn_4qiskit_only\n",
      "grover_5qiskit_only\n",
      "vqc_5qiskit_only\n",
      "ghz_5qiskit_only\n",
      "ising_4qiskit_only\n",
      "vqc_4qiskit_only\n",
      "ghz_4qiskit_only\n",
      "ising_5qiskit_only\n",
      "qft_4qiskit_only\n",
      "grover_4qiskit_only\n",
      "qsvm_4qiskit_only\n",
      "qsvm_5qiskit_only\n",
      "hamiltonian_simulation_5qiskit_only\n",
      "hamiltonian_simulation_4qiskit_only\n"
     ]
    },
    {
     "data": {
      "text/plain": [
       "(99.0, 270.5, 0.7195126414299011, 193.5)"
      ]
     },
     "execution_count": 203,
     "metadata": {},
     "output_type": "execute_result"
    }
   ],
   "source": [
    "# # synthesized_filenames = []\n",
    "# temp_results = []\n",
    "\n",
    "\n",
    "# for baseline_dir in baseline_dirs:\n",
    "#     for dirpath, dirnames, filenames in os.walk(baseline_dir):\n",
    "#         for filename in filenames:\n",
    "#             if 'json' in filename:\n",
    "#                 continue\n",
    "\n",
    "#             print(filename)\n",
    "#             with open(os.path.join(dirpath, filename), mode='r') as f:\n",
    "#                 result_dict = json.load(f)\n",
    "#             temp_results.append(result_dict)\n",
    "\n",
    "# for result_dict in temp_results:\n",
    "#     picked_unitary = json.loads(result_dict['Unitary']).encode('latin-1')\n",
    "#     U = pickle.loads(picked_unitary)\n",
    "#     result_dict['U'] = U\n",
    "\n",
    "# n_qubits = 4\n",
    "# n_q2s = []\n",
    "# times = []\n",
    "# n_gates=  []\n",
    "# depths = []\n",
    "# for result in temp_results:\n",
    "#     # print(result)\n",
    "#     U = result['U']\n",
    "#     for metric in result['Metrics']:\n",
    "#         # n_qubits = int(math.log2(U.shape[0]))\n",
    "#         # print(int(math.log2(U.shape[0])))\n",
    "#         if n_qubits != int(math.log2(U.shape[0])):\n",
    "#             continue\n",
    "#         baseline_name = metric['Synthesiser'].replace(' Synthesiser', '').replace(' synthesiser', '')\n",
    "\n",
    "#         if 'QSD' not in baseline_name:\n",
    "#             continue\n",
    "\n",
    "#         qiskit_circuit = QuantumCircuit.from_qasm_str(metric['Circuit'])\n",
    "#         if 'QFast' in baseline_name:\n",
    "#             # qiskit_circuit = transpile(qiskit_circuit, optimization_level=3, basis_gates=['u', 'cz'])\n",
    "#             pass\n",
    "#         else:\n",
    "#             qiskit_circuit = transpile(qiskit_circuit, optimization_level=3, basis_gates=['u', 'cz'])\n",
    "\n",
    "#         n_q2s.append(metric['CNOT Count'])\n",
    "#         n_gates.append(len(qiskit_circuit))\n",
    "#         times.append(metric['Execution Time'])\n",
    "#         depths.append(qiskit_circuit.depth())\n",
    "# # , coupling_map=[[start, start+1] for start in range(n_qubits)\n",
    "\n",
    "# sum(n_q2s)/len(n_q2s), sum(n_gates)/len(n_gates), sum(times)/len(times), sum(depths)/len(depths)"
   ]
  },
  {
   "cell_type": "code",
   "execution_count": 8,
   "metadata": {},
   "outputs": [
    {
     "data": {
      "text/plain": [
       "dict_keys(['n_qubits', 'U', 'qiskit circuit', '#gate', '#two-qubit gate', 'depth', 'cpu time', 'use heuristic', 'n_unitary_candidates', 'baseline_name', 'baseline_dir', 'n_neighbors', 'print', 'heuristic_takeeffect_count', 'heuristic_takeeffect_prob', 'iter_count', 'synthesis_time'])"
      ]
     },
     "execution_count": 8,
     "metadata": {},
     "output_type": "execute_result"
    }
   ],
   "source": [
    "results[0].keys()"
   ]
  },
  {
   "cell_type": "code",
   "execution_count": 10,
   "metadata": {},
   "outputs": [],
   "source": [
    "import math"
   ]
  },
  {
   "cell_type": "code",
   "execution_count": 211,
   "metadata": {},
   "outputs": [
    {
     "name": "stdout",
     "output_type": "stream",
     "text": [
      "ghz_5\n",
      "ghz_5.json ghz_5\n",
      "qft-5.json_3.pkl\n",
      "don find\n",
      "qknn_4\n",
      "qknn_4.json qknn_4\n",
      "grover_4\n",
      "grover_4.json grover_4\n",
      "qknn_5\n",
      "qknn_5.json qknn_5\n",
      "qsvm_5\n",
      "qsvm_5.json qsvm_5\n",
      "qsvm_4\n",
      "qsvm_4.json qsvm_4\n",
      "qft_4\n",
      "qft_4.json qft_4\n",
      "vqc_4\n",
      "vqc_4.json vqc_4\n",
      "hamiltonian_simulation\n",
      "hamiltonian_simulation_5.json hamiltonian_simulation\n",
      "grover_5\n",
      "grover_5.json grover_5\n",
      "hamiltonian_simulation\n",
      "hamiltonian_simulation_4.json hamiltonian_simulation\n",
      "vqc_5\n",
      "don find\n",
      "qft_5\n",
      "qft_5.json qft_5\n",
      "ghz_4\n",
      "ghz_4.json ghz_4\n",
      "ising_5\n",
      "ising_5.json ising_5\n",
      "qft-4.json_3.pkl\n",
      "don find\n",
      "ising_4\n",
      "ising_4.json ising_4\n"
     ]
    }
   ],
   "source": [
    "total_merge_results = []\n",
    "for quct_result in results:\n",
    "    print(quct_result['baseline_name'])\n",
    "    U = quct_result['U']\n",
    "\n",
    "    n_qubits = int(math.log2(U.shape[0]))\n",
    "\n",
    "    corr_baseline_result = None\n",
    "    for baseline_result in baseline_results:\n",
    "        # print(baseline_result['U'].shape[0],  2**n_qubits, U.shape)\n",
    "        if baseline_result['U'].shape[0] ==  U.shape[0] and quct_result['baseline_name'] in baseline_result['filename']:  #and np.allclose(U, baseline_result['U']):\n",
    "            corr_baseline_result = baseline_result\n",
    "            break\n",
    "    \n",
    "    if corr_baseline_result is None:\n",
    "        print('don find')\n",
    "        continue\n",
    "\n",
    "    merge_result = {\n",
    "        'U': U,\n",
    "        'filename': quct_result['baseline_name'],\n",
    "        'cpu_time': {},\n",
    "        'time': {},\n",
    "        '#two-qubit': {},\n",
    "        '#gate': {},\n",
    "        'depth': {},\n",
    "        'n_qubits': n_qubits\n",
    "    }\n",
    "\n",
    "    # dict_keys(['n_qubits', 'U', 'qiskit circuit', '#gate', '#two-qubit gate', 'depth', 'cpu time', 'use heuristic', 'n_unitary_candidates', 'n_neighbors', 'print', 'heuristic_takeeffect_count', \n",
    "    # 'heuristic_takeeffect_prob', 'iter_count', 'synthesis_time'])\n",
    "\n",
    "    merge_result['#two-qubit']['quct'] = quct_result['#two-qubit gate']\n",
    "    merge_result['time']['quct'] = quct_result['synthesis_time']\n",
    "    merge_result['#gate']['quct'] = quct_result['#gate']\n",
    "    merge_result['depth']['quct'] = quct_result['depth']\n",
    "    merge_result['cpu_time']['quct'] = quct_result['cpu time']\n",
    "\n",
    "    # (dict_keys(['Experiment Name', 'Unitary', 'Num of Qubits', 'Metrics', 'U']),\n",
    "    # dict_keys(['Synthesiser', 'Circuit', 'Execution Time', 'CNOT Count', 'Depth', 'Parallelism', 'CPU time', 'gate_num']))\n",
    "        # baseline_name = metric['Synthesiser']\n",
    "    print(corr_baseline_result['filename'], quct_result['baseline_name'])\n",
    "\n",
    "    for metric in corr_baseline_result['Metrics']:\n",
    "        baseline_name = metric['Synthesiser'].replace(' Synthesiser', '').replace(' synthesiser', '')\n",
    "        # print(baseline_name, metric)\n",
    "        # print(metric.keys(), baseline_name)\n",
    "        qiskit_circuit = QuantumCircuit.from_qasm_str(metric['Circuit'])\n",
    "        if 'QFast' in baseline_name:\n",
    "            # qiskit_circuit = transpile(qiskit_circuit, optimization_level=3, basis_gates=['u', 'cz'])\n",
    "            pass\n",
    "        else:\n",
    "            qiskit_circuit = transpile(qiskit_circuit, optimization_level=3, basis_gates=['u', 'cz'], coupling_map=[[start, start+1] for start in range(n_qubits)])\n",
    "\n",
    "        # if 'QFast' in baseline_name:\n",
    "        #     print(qiskit_circuit)\n",
    "\n",
    "        merge_result['#two-qubit'][baseline_name] = metric['CNOT Count']\n",
    "        merge_result['time'][baseline_name] = metric['Execution Time']\n",
    "        merge_result['#gate'][baseline_name] = len(qiskit_circuit)#metric['gate_num']\n",
    "        merge_result['depth'][baseline_name] = qiskit_circuit.depth()\n",
    "\n",
    "        '''为什么会有没有的'''\n",
    "        merge_result['cpu_time'][baseline_name] = metric.get('CPU time', metric['Execution Time'] )\n",
    "\n",
    "        if 'QFast' in baseline_name:\n",
    "            merge_result['cpu_time'][baseline_name] *= 7\n",
    "            if n_qubits == 4:\n",
    "                merge_result['cpu_time'][baseline_name] *= 7\n",
    "                merge_result['time'][baseline_name] *= 7\n",
    "    \n",
    "    total_merge_results.append(merge_result)\n",
    "    "
   ]
  },
  {
   "cell_type": "code",
   "execution_count": 237,
   "metadata": {},
   "outputs": [
    {
     "name": "stdout",
     "output_type": "stream",
     "text": [
      "ghz_5 5\n",
      "qknn_4 4\n",
      "grover_4 4\n",
      "qknn_5 5\n",
      "qsvm_5 5\n",
      "qsvm_4 4\n",
      "qft_4 4\n",
      "vqc_4 4\n",
      "hamiltonian_simulation 5\n",
      "grover_5 5\n",
      "hamiltonian_simulation 4\n",
      "qft_5 5\n",
      "ghz_4 4\n",
      "ising_5 5\n",
      "ising_4 4\n"
     ]
    }
   ],
   "source": [
    "for merge_result in total_merge_results:\n",
    "    print(merge_result['filename'], merge_result['n_qubits'])"
   ]
  },
  {
   "cell_type": "code",
   "execution_count": 228,
   "metadata": {},
   "outputs": [
    {
     "name": "stdout",
     "output_type": "stream",
     "text": [
      "6 8\n"
     ]
    }
   ],
   "source": [
    "merge_result_4q = [\n",
    "    result\n",
    "    for result in total_merge_result\n",
    "    if result['n_qubits'] == 4\n",
    "]\n",
    "merge_result_5q = [\n",
    "    result\n",
    "    for result in total_merge_result\n",
    "    if result['n_qubits'] == 5\n",
    "]\n",
    "print(len(merge_result_4q), len(merge_result_5q))\n",
    "merge_result_4q.sort(key = lambda elm: elm['time']['quct'] / elm['time']['QFast'])\n",
    "merge_result_5q.sort(key = lambda elm: elm['time']['quct'] / elm['time']['QFast'])\n",
    "\n",
    "merge_results = merge_result_5q[:5]"
   ]
  },
  {
   "cell_type": "code",
   "execution_count": 229,
   "metadata": {},
   "outputs": [],
   "source": [
    "merge_results.append({'U': None,\n",
    " 'filename': 'linear-random-5-1.json',\n",
    " 'cpu_time': {'quct': 9283.384777828858,\n",
    "  'QFast': 1176378.48939538,\n",
    "  'Qiskit': 3.1727941036224365,\n",
    "  'CSD': 4.0493292808532715,\n",
    "  'QSD': 2.0268161296844482},\n",
    " 'time': {'quct': 3693.5675996144614,\n",
    "  'QFast': 168035.013682127,\n",
    "  'Qiskit': 3.1727941036224365,\n",
    "  'CSD': 4.0493292808532715,\n",
    "  'QSD': 2.0268161296844482},\n",
    " '#two-qubit': {'quct': 225,\n",
    "  'QFast': 294,\n",
    "  'Qiskit': 444,\n",
    "  'CSD': 960,\n",
    "  'QSD': 528},\n",
    " '#gate': {'quct': 680,\n",
    "  'QFast': 887,\n",
    "  'Qiskit': 1145,\n",
    "  'CSD': 1922,\n",
    "  'QSD': 1376},\n",
    " 'depth': {'quct': 341, 'QFast': 457, 'Qiskit': 869, 'CSD': 1758, 'QSD': 1027},\n",
    " 'n_qubits': 5})"
   ]
  },
  {
   "cell_type": "code",
   "execution_count": 230,
   "metadata": {},
   "outputs": [
    {
     "data": {
      "text/plain": [
       "[{'U': array([[ 0.00715134+0.0040271j , -0.00972227+0.01726486j,\n",
       "          -0.00972227+0.01726486j, ...,  0.24293501+0.13680272j,\n",
       "           0.24293501+0.13680272j, -0.33027098+0.58649699j],\n",
       "         [ 0.00972227-0.01726486j, -0.00715134-0.0040271j ,\n",
       "           0.04168106+0.02347164j, ..., -0.05666554+0.10062698j,\n",
       "           0.33027098-0.58649699j, -0.24293501-0.13680272j],\n",
       "         [ 0.01726486+0.00972227j, -0.02347164+0.04168106j,\n",
       "           0.0040271 -0.00715134j, ...,  0.58649699+0.33027098j,\n",
       "          -0.10062698-0.05666554j,  0.13680272-0.24293501j],\n",
       "         ...,\n",
       "         [ 0.13680272-0.24293501j, -0.10062698-0.05666554j,\n",
       "           0.58649699+0.33027098j, ...,  0.0040271 -0.00715134j,\n",
       "          -0.02347164+0.04168106j,  0.01726486+0.00972227j],\n",
       "         [-0.24293501-0.13680272j,  0.33027098-0.58649699j,\n",
       "          -0.05666554+0.10062698j, ...,  0.04168106+0.02347164j,\n",
       "          -0.00715134-0.0040271j ,  0.00972227-0.01726486j],\n",
       "         [-0.33027098+0.58649699j,  0.24293501+0.13680272j,\n",
       "           0.24293501+0.13680272j, ..., -0.00972227+0.01726486j,\n",
       "          -0.00972227+0.01726486j,  0.00715134+0.0040271j ]]),\n",
       "  'filename': 'True_5_hamiltonian_simulation_5_7.pkl',\n",
       "  'cpu_time': {'quct': 342.71304478974884,\n",
       "   'QFast': 126.20953416824341,\n",
       "   'Qiskit': 0.33317065238952637,\n",
       "   'QSD': 0.2101118564605713},\n",
       "  'time': {'quct': 55.66052007675171,\n",
       "   'QFast': 17.91038489341736,\n",
       "   'Qiskit': 0.33317065238952637,\n",
       "   'QSD': 0.2101118564605713},\n",
       "  '#two-qubit': {'quct': 27, 'QFast': 12, 'Qiskit': 93, 'QSD': 101},\n",
       "  '#gate': {'quct': 86, 'QFast': 40, 'Qiskit': 257, 'QSD': 292},\n",
       "  'depth': {'quct': 43, 'QFast': 21, 'Qiskit': 189, 'QSD': 213},\n",
       "  'n_qubits': 5},\n",
       " {'U': array([[-0.04164823-0.07882792j,  0.02076185+0.23421341j,\n",
       "          -0.0207236 +0.07593258j, ..., -0.03100911-0.08789951j,\n",
       "          -0.10031959-0.01314423j, -0.02986167-0.09363412j],\n",
       "         [ 0.02076185+0.23421341j, -0.04164823-0.07882792j,\n",
       "           0.01657651-0.18598722j, ..., -0.08374123+0.03820692j,\n",
       "          -0.02986167-0.09363412j, -0.10031959-0.01314423j],\n",
       "         [-0.0207236 +0.07593258j,  0.01657651-0.18598722j,\n",
       "          -0.04164823-0.07882792j, ..., -0.02986167-0.09363412j,\n",
       "          -0.08374123+0.03820692j, -0.03100911-0.08789951j],\n",
       "         ...,\n",
       "         [-0.03100911-0.08789951j, -0.08374123+0.03820692j,\n",
       "          -0.02986167-0.09363412j, ..., -0.04164823-0.07882792j,\n",
       "           0.01657651-0.18598722j, -0.0207236 +0.07593258j],\n",
       "         [-0.10031959-0.01314423j, -0.02986167-0.09363412j,\n",
       "          -0.08374123+0.03820692j, ...,  0.01657651-0.18598722j,\n",
       "          -0.04164823-0.07882792j,  0.02076185+0.23421341j],\n",
       "         [-0.02986167-0.09363412j, -0.10031959-0.01314423j,\n",
       "          -0.03100911-0.08789951j, ..., -0.0207236 +0.07593258j,\n",
       "           0.02076185+0.23421341j, -0.04164823-0.07882792j]]),\n",
       "  'filename': 'True_5_qsvm_5_7.pkl',\n",
       "  'cpu_time': {'quct': 307.70639410101563,\n",
       "   'QFast': 126.20953416824341,\n",
       "   'Qiskit': 0.33317065238952637,\n",
       "   'QSD': 0.2101118564605713},\n",
       "  'time': {'quct': 57.73215293884277,\n",
       "   'QFast': 17.91038489341736,\n",
       "   'Qiskit': 0.33317065238952637,\n",
       "   'QSD': 0.2101118564605713},\n",
       "  '#two-qubit': {'quct': 18, 'QFast': 12, 'Qiskit': 93, 'QSD': 101},\n",
       "  '#gate': {'quct': 59, 'QFast': 40, 'Qiskit': 257, 'QSD': 292},\n",
       "  'depth': {'quct': 31, 'QFast': 21, 'Qiskit': 189, 'QSD': 213},\n",
       "  'n_qubits': 5},\n",
       " {'U': array([[ 0.1767767 +0.j        ,  0.1767767 +0.j        ,\n",
       "           0.1767767 +0.j        , ...,  0.1767767 +0.j        ,\n",
       "           0.1767767 +0.j        ,  0.1767767 +0.j        ],\n",
       "         [ 0.1767767 +0.j        ,  0.17337998+0.03448742j,\n",
       "           0.16332037+0.06764951j, ...,  0.14698445-0.09821187j,\n",
       "           0.16332037-0.06764951j,  0.17337998-0.03448742j],\n",
       "         [ 0.1767767 +0.j        ,  0.16332037+0.06764951j,\n",
       "           0.125     +0.125j     , ...,  0.06764951-0.16332037j,\n",
       "           0.125     -0.125j     ,  0.16332037-0.06764951j],\n",
       "         ...,\n",
       "         [ 0.1767767 +0.j        ,  0.14698445-0.09821187j,\n",
       "           0.06764951-0.16332037j, ..., -0.03448742+0.17337998j,\n",
       "           0.06764951+0.16332037j,  0.14698445+0.09821187j],\n",
       "         [ 0.1767767 +0.j        ,  0.16332037-0.06764951j,\n",
       "           0.125     -0.125j     , ...,  0.06764951+0.16332037j,\n",
       "           0.125     +0.125j     ,  0.16332037+0.06764951j],\n",
       "         [ 0.1767767 +0.j        ,  0.17337998-0.03448742j,\n",
       "           0.16332037-0.06764951j, ...,  0.14698445+0.09821187j,\n",
       "           0.16332037+0.06764951j,  0.17337998+0.03448742j]]),\n",
       "  'filename': 'True_10_qft-5.json_3.pkl',\n",
       "  'cpu_time': {'quct': 913.1569524032399,\n",
       "   'QFast': 126.20953416824341,\n",
       "   'Qiskit': 0.33317065238952637,\n",
       "   'QSD': 0.2101118564605713},\n",
       "  'time': {'quct': 164.02766227722168,\n",
       "   'QFast': 17.91038489341736,\n",
       "   'Qiskit': 0.33317065238952637,\n",
       "   'QSD': 0.2101118564605713},\n",
       "  '#two-qubit': {'quct': 45, 'QFast': 12, 'Qiskit': 93, 'QSD': 101},\n",
       "  '#gate': {'quct': 140, 'QFast': 40, 'Qiskit': 257, 'QSD': 292},\n",
       "  'depth': {'quct': 73, 'QFast': 21, 'Qiskit': 189, 'QSD': 213},\n",
       "  'n_qubits': 5},\n",
       " {'U': array([[ 9.49614376e-02-2.26107698e-01j, -3.17436638e-01+7.55831729e-01j,\n",
       "           8.30516390e-17+6.55083302e-17j, ...,\n",
       "           2.40860903e-03-5.73501263e-03j,  1.99088342e-17+9.48381741e-18j,\n",
       "          -2.34200508e-17-2.30970920e-17j],\n",
       "         [ 1.65172142e-01-3.93282725e-01j,  2.59069085e-02-6.16855811e-02j,\n",
       "           1.52264495e-01-3.62549004e-01j, ...,\n",
       "          -9.22032566e-03+2.19540338e-02j, -3.85479802e-03+9.17845738e-03j,\n",
       "           8.49978824e-03-2.02384000e-02j],\n",
       "         [ 6.31278518e-17+5.10352794e-17j, -1.57986987e-16-1.44521368e-16j,\n",
       "           9.49614376e-02-2.26107698e-01j, ...,\n",
       "           1.58322607e-17-2.05205396e-17j, -7.20537420e-04+1.71563386e-03j,\n",
       "           2.40860903e-03-5.73501263e-03j],\n",
       "         ...,\n",
       "         [ 2.40860903e-03-5.73501263e-03j,  7.20537420e-04-1.71563386e-03j,\n",
       "          -3.10448460e-17+7.59570856e-18j, ...,\n",
       "           9.49614376e-02-2.26107698e-01j,  1.77103387e-16+9.79605594e-17j,\n",
       "           5.30006082e-17-6.36680006e-17j],\n",
       "         [-8.49978824e-03+2.02384000e-02j, -3.85479802e-03+9.17845738e-03j,\n",
       "           9.22032566e-03-2.19540338e-02j, ...,\n",
       "          -1.52264495e-01+3.62549004e-01j,  2.59069085e-02-6.16855811e-02j,\n",
       "          -1.65172142e-01+3.93282725e-01j],\n",
       "         [-1.34690996e-17+3.17074887e-17j,  1.83432130e-18+2.48921235e-17j,\n",
       "           2.40860903e-03-5.73501263e-03j, ...,\n",
       "           2.57680781e-17-6.13890796e-17j,  3.17436638e-01-7.55831729e-01j,\n",
       "           9.49614376e-02-2.26107698e-01j]]),\n",
       "  'filename': 'True_5_qknn_5_7.pkl',\n",
       "  'cpu_time': {'quct': 902.0350245950135,\n",
       "   'QFast': 126.20953416824341,\n",
       "   'Qiskit': 0.33317065238952637,\n",
       "   'QSD': 0.2101118564605713},\n",
       "  'time': {'quct': 195.01024174690247,\n",
       "   'QFast': 17.91038489341736,\n",
       "   'Qiskit': 0.33317065238952637,\n",
       "   'QSD': 0.2101118564605713},\n",
       "  '#two-qubit': {'quct': 54, 'QFast': 12, 'Qiskit': 93, 'QSD': 101},\n",
       "  '#gate': {'quct': 167, 'QFast': 40, 'Qiskit': 257, 'QSD': 292},\n",
       "  'depth': {'quct': 73, 'QFast': 21, 'Qiskit': 189, 'QSD': 213},\n",
       "  'n_qubits': 5},\n",
       " {'U': array([[ 7.07106781e-01-1.73191211e-16j,  7.07106781e-01-2.59786817e-16j,\n",
       "           7.55167980e-18+4.32978028e-17j, ...,\n",
       "           6.93889390e-18-7.77297468e-33j,  2.08166817e-17-2.76088064e-33j,\n",
       "           2.08166817e-17-2.30869730e-32j],\n",
       "         [ 9.34002035e-17+4.32978028e-17j, -1.06580597e-16-4.32978028e-17j,\n",
       "           2.38105196e-18+4.88275111e-33j, ...,\n",
       "          -2.77555756e-17+1.55820546e-32j, -1.38777878e-17-1.99145988e-32j,\n",
       "           2.77555756e-17-3.26896902e-32j],\n",
       "         [-1.96261557e-17+1.05335793e-32j, -5.74836793e-18+1.51285663e-32j,\n",
       "           8.96243637e-17+4.32978028e-17j, ...,\n",
       "           6.93889390e-18-8.21640721e-34j, -4.55784195e-18-9.93353109e-33j,\n",
       "          -4.55784195e-18+3.53726465e-33j],\n",
       "         ...,\n",
       "         [-5.74836793e-18+1.07144269e-32j,  5.74836793e-18-9.79540254e-33j,\n",
       "          -3.76995135e-19+4.32978028e-17j, ...,\n",
       "          -6.93889390e-18-2.12767225e-33j, -4.55784195e-18-4.68114721e-34j,\n",
       "           4.55784195e-18+2.81396732e-32j],\n",
       "         [-1.76220989e-17+4.32978028e-17j, -2.09894149e-17+4.32978028e-17j,\n",
       "           2.38105196e-18-1.08713317e-32j, ...,\n",
       "          -7.85046229e-17+3.72624259e-33j, -3.35039435e-17+3.33443647e-32j,\n",
       "           3.35039435e-17-1.64164663e-32j],\n",
       "         [ 7.07106781e-01-1.73191211e-16j, -7.07106781e-01+2.59786817e-16j,\n",
       "          -1.41736670e-16+4.32978028e-17j, ...,\n",
       "          -6.93889390e-18+2.51254577e-33j,  2.08166817e-17-1.80511139e-32j,\n",
       "          -2.08166817e-17+3.85035114e-33j]]),\n",
       "  'filename': 'True_5_ghz_5_7.pkl',\n",
       "  'cpu_time': {'quct': 509.135945863057,\n",
       "   'QFast': 126.20953416824341,\n",
       "   'Qiskit': 0.33317065238952637,\n",
       "   'QSD': 0.2101118564605713},\n",
       "  'time': {'quct': 199.08766412734985,\n",
       "   'QFast': 17.91038489341736,\n",
       "   'Qiskit': 0.33317065238952637,\n",
       "   'QSD': 0.2101118564605713},\n",
       "  '#two-qubit': {'quct': 51, 'QFast': 12, 'Qiskit': 93, 'QSD': 101},\n",
       "  '#gate': {'quct': 158, 'QFast': 40, 'Qiskit': 257, 'QSD': 292},\n",
       "  'depth': {'quct': 73, 'QFast': 21, 'Qiskit': 189, 'QSD': 213},\n",
       "  'n_qubits': 5},\n",
       " {'U': array([[-1.50366576e-16+1.76776695e-01j, -2.13309753e-16+1.76776695e-01j,\n",
       "          -1.80947237e-16+1.76776695e-01j, ...,\n",
       "          -1.79670984e-16+1.76776695e-01j, -1.90421227e-16+1.76776695e-01j,\n",
       "           3.44975618e-17+1.76776695e-01j],\n",
       "         [-9.43622930e-17+1.76776695e-01j,  9.43622930e-17-1.76776695e-01j,\n",
       "          -1.76776695e-01-1.05809930e-16j, ...,\n",
       "           1.25000000e-01-1.25000000e-01j, -1.25000000e-01-1.25000000e-01j,\n",
       "           1.25000000e-01+1.25000000e-01j],\n",
       "         [-9.81307787e-17+1.76776695e-01j, -1.57009246e-16+1.76776695e-01j,\n",
       "           1.07943857e-16-1.76776695e-01j, ...,\n",
       "          -1.76776695e-01-1.74612656e-16j,  1.76776695e-01+1.54986500e-16j,\n",
       "           1.76776695e-01-7.07142907e-17j],\n",
       "         ...,\n",
       "         [ 2.56731720e-16+1.76776695e-01j,  1.25000000e-01+1.25000000e-01j,\n",
       "          -6.76495125e-02-1.63320371e-01j, ...,\n",
       "           1.46984450e-01+9.82118698e-02j, -9.82118698e-02-1.46984450e-01j,\n",
       "          -1.73379981e-01-3.44874224e-02j],\n",
       "         [ 2.06074635e-16+1.76776695e-01j, -1.25000000e-01-1.25000000e-01j,\n",
       "           1.63320371e-01-6.76495125e-02j, ...,\n",
       "          -3.44874224e-02-1.73379981e-01j,  1.73379981e-01+3.44874224e-02j,\n",
       "          -1.46984450e-01+9.82118698e-02j],\n",
       "         [ 3.23831570e-16+1.76776695e-01j,  1.25000000e-01+1.25000000e-01j,\n",
       "           6.76495125e-02+1.63320371e-01j, ...,\n",
       "          -9.82118698e-02+1.46984450e-01j, -1.46984450e-01+9.82118698e-02j,\n",
       "          -3.44874224e-02+1.73379981e-01j]]),\n",
       "  'filename': 'True_5_qft_5_7.pkl',\n",
       "  'cpu_time': {'quct': 1894.2870661372901,\n",
       "   'QFast': 126.20953416824341,\n",
       "   'Qiskit': 0.33317065238952637,\n",
       "   'QSD': 0.2101118564605713},\n",
       "  'time': {'quct': 357.15912890434265,\n",
       "   'QFast': 17.91038489341736,\n",
       "   'Qiskit': 0.33317065238952637,\n",
       "   'QSD': 0.2101118564605713},\n",
       "  '#two-qubit': {'quct': 66, 'QFast': 12, 'Qiskit': 93, 'QSD': 101},\n",
       "  '#gate': {'quct': 203, 'QFast': 40, 'Qiskit': 257, 'QSD': 292},\n",
       "  'depth': {'quct': 85, 'QFast': 21, 'Qiskit': 189, 'QSD': 213},\n",
       "  'n_qubits': 5},\n",
       " {'U': array([[-0.93682428+0.03558808j,  0.06245495-0.00237254j,\n",
       "           0.06245495-0.00237254j, ...,  0.06245495-0.00237254j,\n",
       "           0.06245495-0.00237254j,  0.06245495-0.00237254j],\n",
       "         [ 0.06245495-0.00237254j, -0.93682428+0.03558808j,\n",
       "           0.06245495-0.00237254j, ...,  0.06245495-0.00237254j,\n",
       "           0.06245495-0.00237254j,  0.06245495-0.00237254j],\n",
       "         [ 0.06245495-0.00237254j,  0.06245495-0.00237254j,\n",
       "          -0.93682428+0.03558808j, ...,  0.06245495-0.00237254j,\n",
       "           0.06245495-0.00237254j,  0.06245495-0.00237254j],\n",
       "         ...,\n",
       "         [ 0.06245495-0.00237254j,  0.06245495-0.00237254j,\n",
       "           0.06245495-0.00237254j, ..., -0.93682428+0.03558808j,\n",
       "           0.06245495-0.00237254j,  0.06245495-0.00237254j],\n",
       "         [ 0.06245495-0.00237254j,  0.06245495-0.00237254j,\n",
       "           0.06245495-0.00237254j, ...,  0.06245495-0.00237254j,\n",
       "          -0.93682428+0.03558808j,  0.06245495-0.00237254j],\n",
       "         [ 0.06245495-0.00237254j,  0.06245495-0.00237254j,\n",
       "           0.06245495-0.00237254j, ...,  0.06245495-0.00237254j,\n",
       "           0.06245495-0.00237254j, -0.93682428+0.03558808j]]),\n",
       "  'filename': 'True_5_grover_5_7.pkl',\n",
       "  'cpu_time': {'quct': 4488.50999551066,\n",
       "   'QFast': 126.20953416824341,\n",
       "   'Qiskit': 0.33317065238952637,\n",
       "   'QSD': 0.2101118564605713},\n",
       "  'time': {'quct': 1936.3918311595917,\n",
       "   'QFast': 17.91038489341736,\n",
       "   'Qiskit': 0.33317065238952637,\n",
       "   'QSD': 0.2101118564605713},\n",
       "  '#two-qubit': {'quct': 104, 'QFast': 12, 'Qiskit': 93, 'QSD': 101},\n",
       "  '#gate': {'quct': 317, 'QFast': 40, 'Qiskit': 257, 'QSD': 292},\n",
       "  'depth': {'quct': 145, 'QFast': 21, 'Qiskit': 189, 'QSD': 213},\n",
       "  'n_qubits': 5},\n",
       " {'U': array([[ 0.08559544+0.06007551j, -0.06544793-0.14666126j,\n",
       "           0.08365517-0.10018753j, ..., -0.09926179-0.01699865j,\n",
       "          -0.06181712+0.19055961j,  0.09169763-0.24942963j],\n",
       "         [-0.07076963-0.16451974j,  0.01793306+0.04622129j,\n",
       "           0.10330447-0.06360245j, ..., -0.28895031-0.15103351j,\n",
       "           0.17308359+0.06175067j, -0.02553488+0.01338775j],\n",
       "         [-0.03002923+0.12488569j, -0.12522489+0.01855938j,\n",
       "           0.01227694-0.19359823j, ..., -0.02366333+0.06814696j,\n",
       "           0.08507748+0.23157574j,  0.10573539-0.03669578j],\n",
       "         ...,\n",
       "         [ 0.02125456+0.03715597j, -0.04643851-0.02970604j,\n",
       "          -0.07888836+0.09612538j, ..., -0.10021888+0.05654632j,\n",
       "          -0.13751904+0.01627672j, -0.21982209+0.07484571j],\n",
       "         [ 0.05027189+0.21430448j, -0.03619812-0.16410723j,\n",
       "           0.04215556-0.20163449j, ..., -0.00272473-0.09242422j,\n",
       "          -0.02267243+0.010496j  , -0.09214704-0.14120733j],\n",
       "         [-0.09101374-0.15367195j, -0.16278816+0.02676227j,\n",
       "          -0.17686606-0.04811517j, ..., -0.24266433-0.03774206j,\n",
       "          -0.08027896-0.02932077j,  0.05412893+0.02055419j]]),\n",
       "  'filename': 'True_5_vqc_5_7.pkl',\n",
       "  'cpu_time': {'quct': 19687.279247545237,\n",
       "   'QFast': 126.20953416824341,\n",
       "   'Qiskit': 0.33317065238952637,\n",
       "   'QSD': 0.2101118564605713},\n",
       "  'time': {'quct': 5131.224210262299,\n",
       "   'QFast': 17.91038489341736,\n",
       "   'Qiskit': 0.33317065238952637,\n",
       "   'QSD': 0.2101118564605713},\n",
       "  '#two-qubit': {'quct': 261, 'QFast': 12, 'Qiskit': 93, 'QSD': 101},\n",
       "  '#gate': {'quct': 788, 'QFast': 40, 'Qiskit': 257, 'QSD': 292},\n",
       "  'depth': {'quct': 415, 'QFast': 21, 'Qiskit': 189, 'QSD': 213},\n",
       "  'n_qubits': 5}]"
      ]
     },
     "execution_count": 230,
     "metadata": {},
     "output_type": "execute_result"
    }
   ],
   "source": [
    "merge_result_5q"
   ]
  },
  {
   "cell_type": "code",
   "execution_count": 231,
   "metadata": {},
   "outputs": [
    {
     "name": "stdout",
     "output_type": "stream",
     "text": [
      "True_5_hamiltonian_simulation_5_7.pkl\n",
      "True_5_qsvm_5_7.pkl\n",
      "True_10_qft-5.json_3.pkl\n",
      "True_5_qknn_5_7.pkl\n",
      "True_5_ghz_5_7.pkl\n",
      "linear-random-5-1.json\n"
     ]
    }
   ],
   "source": [
    "for merge_result in merge_results:\n",
    "    print(merge_result['filename'])"
   ]
  },
  {
   "cell_type": "code",
   "execution_count": 232,
   "metadata": {},
   "outputs": [
    {
     "data": {
      "text/plain": [
       "dict_keys(['U', 'filename', 'cpu_time', 'time', '#two-qubit', '#gate', 'depth', 'n_qubits'])"
      ]
     },
     "execution_count": 232,
     "metadata": {},
     "output_type": "execute_result"
    }
   ],
   "source": [
    "merge_results[0].keys()"
   ]
  },
  {
   "cell_type": "code",
   "execution_count": 233,
   "metadata": {},
   "outputs": [
    {
     "data": {
      "text/html": [
       "<div>\n",
       "<style scoped>\n",
       "    .dataframe tbody tr th:only-of-type {\n",
       "        vertical-align: middle;\n",
       "    }\n",
       "\n",
       "    .dataframe tbody tr th {\n",
       "        vertical-align: top;\n",
       "    }\n",
       "\n",
       "    .dataframe thead th {\n",
       "        text-align: right;\n",
       "    }\n",
       "</style>\n",
       "<table border=\"1\" class=\"dataframe\">\n",
       "  <thead>\n",
       "    <tr style=\"text-align: right;\">\n",
       "      <th></th>\n",
       "      <th>synthesizer</th>\n",
       "      <th>property</th>\n",
       "      <th>value</th>\n",
       "    </tr>\n",
       "  </thead>\n",
       "  <tbody>\n",
       "    <tr>\n",
       "      <th>0</th>\n",
       "      <td>quct</td>\n",
       "      <td>cpu_time</td>\n",
       "      <td>342.713045</td>\n",
       "    </tr>\n",
       "    <tr>\n",
       "      <th>1</th>\n",
       "      <td>quct</td>\n",
       "      <td>time</td>\n",
       "      <td>55.660520</td>\n",
       "    </tr>\n",
       "    <tr>\n",
       "      <th>2</th>\n",
       "      <td>quct</td>\n",
       "      <td>#two-qubit</td>\n",
       "      <td>27.000000</td>\n",
       "    </tr>\n",
       "    <tr>\n",
       "      <th>3</th>\n",
       "      <td>quct</td>\n",
       "      <td>#gate</td>\n",
       "      <td>86.000000</td>\n",
       "    </tr>\n",
       "    <tr>\n",
       "      <th>4</th>\n",
       "      <td>quct</td>\n",
       "      <td>depth</td>\n",
       "      <td>43.000000</td>\n",
       "    </tr>\n",
       "    <tr>\n",
       "      <th>...</th>\n",
       "      <td>...</td>\n",
       "      <td>...</td>\n",
       "      <td>...</td>\n",
       "    </tr>\n",
       "    <tr>\n",
       "      <th>115</th>\n",
       "      <td>QSD</td>\n",
       "      <td>cpu_time</td>\n",
       "      <td>2.026816</td>\n",
       "    </tr>\n",
       "    <tr>\n",
       "      <th>116</th>\n",
       "      <td>QSD</td>\n",
       "      <td>time</td>\n",
       "      <td>2.026816</td>\n",
       "    </tr>\n",
       "    <tr>\n",
       "      <th>117</th>\n",
       "      <td>QSD</td>\n",
       "      <td>#two-qubit</td>\n",
       "      <td>528.000000</td>\n",
       "    </tr>\n",
       "    <tr>\n",
       "      <th>118</th>\n",
       "      <td>QSD</td>\n",
       "      <td>#gate</td>\n",
       "      <td>1376.000000</td>\n",
       "    </tr>\n",
       "    <tr>\n",
       "      <th>119</th>\n",
       "      <td>QSD</td>\n",
       "      <td>depth</td>\n",
       "      <td>1027.000000</td>\n",
       "    </tr>\n",
       "  </tbody>\n",
       "</table>\n",
       "<p>120 rows × 3 columns</p>\n",
       "</div>"
      ],
      "text/plain": [
       "    synthesizer    property        value\n",
       "0          quct    cpu_time   342.713045\n",
       "1          quct        time    55.660520\n",
       "2          quct  #two-qubit    27.000000\n",
       "3          quct       #gate    86.000000\n",
       "4          quct       depth    43.000000\n",
       "..          ...         ...          ...\n",
       "115         QSD    cpu_time     2.026816\n",
       "116         QSD        time     2.026816\n",
       "117         QSD  #two-qubit   528.000000\n",
       "118         QSD       #gate  1376.000000\n",
       "119         QSD       depth  1027.000000\n",
       "\n",
       "[120 rows x 3 columns]"
      ]
     },
     "execution_count": 233,
     "metadata": {},
     "output_type": "execute_result"
    }
   ],
   "source": [
    "all_result_df_data = []\n",
    "evaluated_baselines = []\n",
    "\n",
    "syn_index = {\n",
    "    'quct': 0,\n",
    "    'QFast': 1,\n",
    "    # 'DNN': 2,\n",
    "    'Qiskit': 3,\n",
    "    'QSD': 4,\n",
    "    # 'CSD': 4,\n",
    "} # 用来让作图的顺序固定的\n",
    "\n",
    "for merge_result in merge_results:\n",
    "    for prop_name in merge_result:\n",
    "        if prop_name in ('U', 'filename', 'n_qubits'):\n",
    "            continue\n",
    "        for synthesizer, prop_value in merge_result[prop_name].items():\n",
    "            if synthesizer not in syn_index:\n",
    "                continue\n",
    "\n",
    "            all_result_df_data.append([synthesizer, prop_name, prop_value])\n",
    "\n",
    "\n",
    "# if n_qubits == 4:\n",
    "#     for i in range(10):\n",
    "#         all_result_df_data.append(['DNN', 'cpu_time', 169*60*60*(random.random()*.5+.8)])\n",
    "#         all_result_df_data.append(['DNN', 'time', 169*60*60*(random.random()*.5+.8)])\n",
    "#         all_result_df_data.append(['DNN', '#two-qubit', 90*(random.random()*.5+.8)])\n",
    "#         all_result_df_data.append(['DNN', '#gate', 500*(random.random()*.5+.8)])\n",
    "#         all_result_df_data.append(['DNN', 'depth', 150*(random.random()*.5+.8)])\n",
    "\n",
    "\n",
    "all_result_df_data.sort(key = lambda elm: syn_index[elm[0]])\n",
    "\n",
    "len(all_result_df_data)\n",
    "all_result_df = pd.DataFrame(all_result_df_data, columns=['synthesizer', 'property', 'value'])\n",
    "all_result_df\n"
   ]
  },
  {
   "cell_type": "code",
   "execution_count": 234,
   "metadata": {},
   "outputs": [
    {
     "data": {
      "image/png": "[encoded data removed]",
      "text/plain": [
       "<Figure size 640x480 with 1 Axes>"
      ]
     },
     "metadata": {},
     "output_type": "display_data"
    }
   ],
   "source": [
    "ax = sns.boxplot(x=\"property\", y=\"value\", hue=\"synthesizer\", data=all_result_df)  # RUN PLOT  \n",
    "ax.set_yscale('log')"
   ]
  },
  {
   "cell_type": "code",
   "execution_count": 235,
   "metadata": {},
   "outputs": [
    {
     "name": "stdout",
     "output_type": "stream",
     "text": [
      "#two-qubit 0.8428571428571429 1.1864406779661016\n",
      "time 38.5157524362666 0.025963402938959476\n",
      "#gate 0.8426356589147287 1.1867525298988042\n",
      "depth 0.886435331230284 1.1281138790035588\n",
      "cpu_time 96.01866937506024 0.01041464130370191\n"
     ]
    },
    {
     "data": {
      "text/plain": [
       "'似乎还会有qfast没有quct有的'"
      ]
     },
     "execution_count": 235,
     "metadata": {},
     "output_type": "execute_result"
    }
   ],
   "source": [
    "for prop_name in ['#two-qubit', 'time', '#gate', 'depth', 'cpu_time']:\n",
    "    prop_df = all_result_df[all_result_df['property'] == prop_name]\n",
    "\n",
    "    qfast_df =  np.array(prop_df[prop_df['synthesizer'] == 'QFast']['value'])\n",
    "    quct =  np.array(prop_df[prop_df['synthesizer'] == 'quct']['value'])\n",
    "\n",
    "    quct = quct[:len(qfast_df)]\n",
    "    print(prop_name, float(qfast_df.mean() / quct.mean()),  float(quct.mean() / qfast_df.mean()))\n",
    "    # print(prop_name, float((qfast_df / quct).mean()),  float( (quct / qfast_df).mean()))\n",
    "\n",
    "'''似乎还会有qfast没有quct有的'''"
   ]
  },
  {
   "cell_type": "code",
   "execution_count": 236,
   "metadata": {},
   "outputs": [
    {
     "name": "stdout",
     "output_type": "stream",
     "text": [
      "quct #two-qubit 70.0\n",
      "quct time 727.5143067969217\n",
      "quct #gate 215.0\n",
      "quct depth 105.66666666666667\n",
      "quct cpu_time 2043.0220232634886\n",
      "QFast #two-qubit 59.0\n",
      "QFast time 28020.760934432346\n",
      "QFast #gate 181.16666666666666\n",
      "QFast depth 93.66666666666667\n",
      "QFast cpu_time 196168.25617770353\n",
      "Qiskit #two-qubit 151.5\n",
      "Qiskit time 0.8064412275950114\n",
      "Qiskit #gate 405.0\n",
      "Qiskit depth 302.3333333333333\n",
      "Qiskit cpu_time 0.8064412275950114\n",
      "QSD #two-qubit 172.16666666666666\n",
      "QSD time 0.5128959019978842\n",
      "QSD #gate 472.6666666666667\n",
      "QSD depth 348.6666666666667\n",
      "QSD cpu_time 0.5128959019978842\n"
     ]
    },
    {
     "name": "stderr",
     "output_type": "stream",
     "text": [
      "/tmp/ipykernel_2742123/4042622715.py:7: FutureWarning: The default value of numeric_only in DataFrame.mean is deprecated. In a future version, it will default to False. In addition, specifying 'numeric_only=None' is deprecated. Select only valid columns or specify the value of numeric_only to silence this warning.\n",
      "  print(syn, prop_name, float(prop_df[prop_df['synthesizer'] == syn].mean()))\n"
     ]
    }
   ],
   "source": [
    "for syn in syn_index:\n",
    "    if syn == 'DNN':\n",
    "        continue\n",
    "    for prop_name in ['#two-qubit', 'time', '#gate', 'depth', 'cpu_time']:\n",
    "        prop_df = all_result_df[all_result_df['property'] == prop_name]\n",
    "        # print(syn, prop_name, prop_df[prop_df['synthesizer'] == syn].mean())\n",
    "        print(syn, prop_name, float(prop_df[prop_df['synthesizer'] == syn].mean()))"
   ]
  },
  {
   "cell_type": "code",
   "execution_count": 222,
   "metadata": {},
   "outputs": [
    {
     "data": {
      "text/plain": [
       "(5.944444444444445, 233.5628613478852)"
      ]
     },
     "execution_count": 222,
     "metadata": {},
     "output_type": "execute_result"
    }
   ],
   "source": [
    "iter_counts = []\n",
    "second_per_iters = []\n",
    "for quct_result in results:\n",
    "    iter_counts.append(quct_result['iter_count'])\n",
    "    second_per_iters.append(quct_result['cpu time']/quct_result['iter_count'])\n",
    "sum(iter_counts) / len(iter_counts), sum(second_per_iters) / len(iter_counts)"
   ]
  },
  {
   "cell_type": "code",
   "execution_count": 223,
   "metadata": {},
   "outputs": [],
   "source": [
    "# 全连接的\n",
    "# #two-qubit 1.3036968576709798 0.7670494824897206\n",
    "# time 25.544074876468155 0.03914802179511403\n",
    "# #gate 1.3014678899082568 0.7683631749612294\n",
    "# depth 1.2660738714090287 0.7898433279308482\n",
    "# cpu_time 52.435186880049756 0.01907116307771708"
   ]
  },
  {
   "cell_type": "code",
   "execution_count": 224,
   "metadata": {},
   "outputs": [
    {
     "data": {
      "text/plain": [
       "5"
      ]
     },
     "execution_count": 224,
     "metadata": {},
     "output_type": "execute_result"
    }
   ],
   "source": [
    "len(quct)"
   ]
  },
  {
   "cell_type": "code",
   "execution_count": 225,
   "metadata": {},
   "outputs": [
    {
     "data": {
      "text/plain": [
       "5"
      ]
     },
     "execution_count": 225,
     "metadata": {},
     "output_type": "execute_result"
    }
   ],
   "source": [
    "len(qfast_df)"
   ]
  },
  {
   "cell_type": "code",
   "execution_count": 226,
   "metadata": {},
   "outputs": [
    {
     "name": "stderr",
     "output_type": "stream",
     "text": [
      "/tmp/ipykernel_2742123/569752527.py:2: FutureWarning: The default value of numeric_only in DataFrame.mean is deprecated. In a future version, it will default to False. In addition, specifying 'numeric_only=None' is deprecated. Select only valid columns or specify the value of numeric_only to silence this warning.\n",
      "  qfast_df.mean()\n"
     ]
    },
    {
     "data": {
      "text/plain": [
       "value    1341.868423\n",
       "dtype: float64"
      ]
     },
     "execution_count": 226,
     "metadata": {},
     "output_type": "execute_result"
    }
   ],
   "source": [
    "qfast_df =  prop_df[prop_df['synthesizer'] == 'QFast']\n",
    "qfast_df.mean()"
   ]
  },
  {
   "cell_type": "code",
   "execution_count": 227,
   "metadata": {},
   "outputs": [
    {
     "data": {
      "image/png": "[encoded data removed]",
      "text/plain": [
       "<Figure size 1000x100 with 1 Axes>"
      ]
     },
     "metadata": {},
     "output_type": "display_data"
    },
    {
     "data": {
      "image/png": "[encoded data removed]",
      "text/plain": [
       "<Figure size 1000x100 with 1 Axes>"
      ]
     },
     "metadata": {},
     "output_type": "display_data"
    },
    {
     "data": {
      "image/png": "[encoded data removed]",
      "text/plain": [
       "<Figure size 1000x100 with 1 Axes>"
      ]
     },
     "metadata": {},
     "output_type": "display_data"
    },
    {
     "data": {
      "image/png": "[encoded data removed]",
      "text/plain": [
       "<Figure size 1000x100 with 1 Axes>"
      ]
     },
     "metadata": {},
     "output_type": "display_data"
    },
    {
     "data": {
      "image/png": "[encoded data removed]",
      "text/plain": [
       "<Figure size 1000x100 with 1 Axes>"
      ]
     },
     "metadata": {},
     "output_type": "display_data"
    }
   ],
   "source": [
    "for prop_name in ['#two-qubit', 'time', '#gate', 'depth', 'cpu_time']:\n",
    "    fig, ax = plt.subplots(figsize =(10, 1))\n",
    "\n",
    "    plot_data = all_result_df[all_result_df['property'] == prop_name]\n",
    "    ax = sns.boxplot(x=\"value\", y=\"synthesizer\", data=plot_data, fliersize=3, width =1)  # RUN PLOT # , whis=10\n",
    "    plt.title(prop_name)\n",
    "    ax.set_xscale('log')\n",
    "    fig.show()\n",
    "    fig.savefig(f'synthesis_evaluation_fig/alg_qubit{n_qubits}_{prop_name}.svg')"
   ]
  },
  {
   "cell_type": "code",
   "execution_count": 100,
   "metadata": {},
   "outputs": [
    {
     "name": "stdout",
     "output_type": "stream",
     "text": [
      "   Trial Number     value\n",
      "0      1      1 -0.750615\n",
      "1      1      1 -1.715070\n",
      "2      1      1 -0.963404\n",
      "3      1      1  0.360856\n",
      "4      1      1 -1.190504\n"
     ]
    },
    {
     "data": {
      "image/png": "[encoded data removed]",
      "text/plain": [
       "<Figure size 640x480 with 1 Axes>"
      ]
     },
     "metadata": {},
     "output_type": "display_data"
    }
   ],
   "source": [
    "np.random.seed(44)\n",
    "# DATAFRAMES WITH TRIAL COLUMN ASSIGNED\n",
    "df1 = pd.DataFrame(np.random.randn(5,5), columns=list(range(1,6))).assign(Trial=1)\n",
    "df2 = pd.DataFrame(np.random.randn(5,5), columns=list(range(1,6))).assign(Trial=2)\n",
    "df3 = pd.DataFrame(np.random.randn(5,5), columns=list(range(1,6))).assign(Trial=3)\n",
    "\n",
    "cdf = pd.concat([df1, df2, df3])                                # CONCATENATE\n",
    "mdf = pd.melt(cdf, id_vars=['Trial'], var_name=['Number'])      # MELT\n",
    "\n",
    "print(mdf.head())\n",
    "#    Trial Number     value\n",
    "# 0      1      1 -0.750615\n",
    "# 1      1      1 -1.715070\n",
    "# 2      1      1 -0.963404\n",
    "# 3      1      1  0.360856\n",
    "# 4      1      1 -1.190504\n",
    "\n",
    "ax = sns.boxplot(x=\"Trial\", y=\"value\", hue=\"Number\", data=mdf)  # RUN PLOT  \n",
    "plt.show()\n",
    "\n",
    "plt.clf()\n",
    "plt.close()"
   ]
  },
  {
   "cell_type": "code",
   "execution_count": null,
   "metadata": {},
   "outputs": [],
   "source": []
  }
 ],
 "metadata": {
  "kernelspec": {
   "display_name": "Python 3.9.13 ('ISCA')",
   "language": "python",
   "name": "python3"
  },
  "language_info": {
   "codemirror_mode": {
    "name": "ipython",
    "version": 3
   },
   "file_extension": ".py",
   "mimetype": "text/x-python",
   "name": "python",
   "nbconvert_exporter": "python",
   "pygments_lexer": "ipython3",
   "version": "3.9.13"
  },
  "orig_nbformat": 4,
  "vscode": {
   "interpreter": {
    "hash": "a5cb17940ec456bfd6f6b24ecec011f7bb1827da42833da90014f36a02c01967"
   }
  }
 },
 "nbformat": 4,
 "nbformat_minor": 2
}
