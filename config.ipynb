{
 "cells": [
  {
   "cell_type": "code",
   "execution_count": 2,
   "metadata": {},
   "outputs": [],
   "source": [
    "import pickle"
   ]
  },
  {
   "cell_type": "code",
   "execution_count": 5,
   "metadata": {},
   "outputs": [
    {
     "name": "stdout",
     "output_type": "stream",
     "text": [
      "simulate_50_350/50/error_params_predicts_50.pkl\n",
      "(50, 1, 168, 20, 11860, (135, 168))\n",
      "(38880, 7200)\n",
      "simulate_50_350/100/error_params_predicts_100.pkl\n",
      "(100, 1, 168, 20, 26180, (280, 168))\n",
      "(81648, 15180)\n",
      "simulate_50_350/150/error_params_predicts_150.pkl\n",
      "(150, 1, 168, 20, 39920, (425, 168))\n",
      "(101808, 18420)\n",
      "simulate_50_350/200/error_params_predicts_200.pkl\n",
      "(200, 1, 168, 20, 54692, (571, 168))\n",
      "(138768, 26880)\n",
      "simulate_50_350/250/error_params_predicts_250.pkl\n",
      "(250, 1, 168, 20, 69570, (718, 168))\n",
      "(173376, 33660)\n",
      "simulate_50_350/300/error_params_predicts_300.pkl\n",
      "(300, 1, 168, 20, 85382, (865, 168))\n",
      "(209088, 43980)\n",
      "simulate_50_350/350/error_params_predicts_350.pkl\n",
      "(350, 1, 168, 20, 99030, (1012, 168))\n",
      "(241584, 54840)\n"
     ]
    }
   ],
   "source": [
    "n_qubits_list = [50 ,100, 150, 200, 250, 300, 350]#\n",
    "\n",
    "paths = [\n",
    "    f\"simulate_50_350/{n_qubits}/error_params_predicts_{n_qubits}.pkl\"\n",
    "    for n_qubits in n_qubits_list\n",
    "]\n",
    "paths_dataset = [\n",
    "    f\"simulate_50_350/{n_qubits}/dataset.pkl\"\n",
    "    for n_qubits in n_qubits_list\n",
    "]\n",
    "for path,path_dataset in zip(paths, paths_dataset):\n",
    "    print(path)\n",
    "    with open(path, \"rb\")as f:\n",
    "        downstream_model, predicts, reals, durations, test_dataset = pickle.load(f) #pkl_result\n",
    "        upstream_model = downstream_model.upstream_model\n",
    "        print((upstream_model.n_qubits, upstream_model.max_step, upstream_model.max_table_size, upstream_model.path_per_node, len(downstream_model.path_count), downstream_model.error_params['gate_params'].shape))\n",
    "    with open(path_dataset,'rb') as f:\n",
    "        train_dataset, validation_dataset, test_dataset = pickle.load(f)\n",
    "        print((len(train_dataset), len(test_dataset)))\n",
    "        "
   ]
  },
  {
   "cell_type": "code",
   "execution_count": 7,
   "metadata": {},
   "outputs": [
    {
     "name": "stdout",
     "output_type": "stream",
     "text": [
      "(18, 1, 450, 20, 11196, (41, 450))\n"
     ]
    }
   ],
   "source": [
    "\n",
    "with open('execute_18bit/step1/error_params_predicts_execute_18bits_train_0_2500_step1.pkl', \"rb\")as f:\n",
    "    downstream_model, predicts, reals, durations, test_dataset = pickle.load(f) #pkl_result\n",
    "    upstream_model = downstream_model.upstream_model\n",
    "    print((upstream_model.n_qubits, upstream_model.max_step, upstream_model.max_table_size, upstream_model.path_per_node, len(downstream_model.path_count), downstream_model.error_params['gate_params'].shape))\n",
    "# with open(path_dataset,'rb') as f:\n",
    "#     train_dataset, validation_dataset, test_dataset = pickle.load(f)\n",
    "#     print((len(train_dataset), len(test_dataset)))\n",
    "    "
   ]
  },
  {
   "cell_type": "code",
   "execution_count": 16,
   "metadata": {},
   "outputs": [
    {
     "name": "stdout",
     "output_type": "stream",
     "text": [
      "(5, 1, 66, 20, 346, (9, 66))\n"
     ]
    }
   ],
   "source": [
    "\n",
    "with open('opt_5bit/error_params_predicts_5.pkl', \"rb\")as f:\n",
    "    downstream_model, predicts, reals, durations, test_dataset = pickle.load(f) #pkl_result\n",
    "upstream_model = downstream_model.upstream_model\n",
    "print((upstream_model.n_qubits, upstream_model.max_step, upstream_model.max_table_size, upstream_model.path_per_node, len(downstream_model.path_count), downstream_model.error_params['gate_params'].shape))"
   ]
  }
 ],
 "metadata": {
  "kernelspec": {
   "display_name": "ISCA",
   "language": "python",
   "name": "python3"
  },
  "language_info": {
   "codemirror_mode": {
    "name": "ipython",
    "version": 3
   },
   "file_extension": ".py",
   "mimetype": "text/x-python",
   "name": "python",
   "nbconvert_exporter": "python",
   "pygments_lexer": "ipython3",
   "version": "3.9.13"
  },
  "orig_nbformat": 4,
  "vscode": {
   "interpreter": {
    "hash": "a5cb17940ec456bfd6f6b24ecec011f7bb1827da42833da90014f36a02c01967"
   }
  }
 },
 "nbformat": 4,
 "nbformat_minor": 2
}
