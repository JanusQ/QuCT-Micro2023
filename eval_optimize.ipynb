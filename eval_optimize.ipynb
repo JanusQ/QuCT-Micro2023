{
 "cells": [
  {
   "cell_type": "code",
   "execution_count": null,
   "metadata": {},
   "outputs": [],
   "source": [
    "import copy\n",
    "import pickle\n",
    "from jax import numpy as jnp\n",
    "from jax import vmap\n",
    "import jax\n",
    "import numpy as np\n",
    "from numpy import random\n",
    "import time\n",
    "from qiskit.quantum_info.analysis import hellinger_fidelity\n",
    "import ray\n",
    "import matplotlib.pyplot as plt\n",
    "from copy import deepcopy\n",
    "from circuit.dataset_loader import gen_random_circuits\n",
    "from circuit.formatter import layered_circuits_to_qiskit\n",
    "from downstream.fidelity_predict.fidelity_analysis import FidelityModel, smart_predict, error_param_rescale\n",
    "from simulator.noise_simulator import NoiseSimulator\n",
    "\n",
    "from upstream.randomwalk_model import RandomwalkModel, extract_device\n",
    "from qiskit import QuantumCircuit, transpile\n",
    "from collections import defaultdict\n",
    "from circuit.parser import get_circuit_duration\n",
    "from utils.backend import Backend, gen_grid_topology, gen_linear_topology, topology_to_coupling_map\n",
    "from circuit.dataset_loader import gen_algorithms\n",
    "from utils.ray_func import wait\n",
    "from circuit.parser import get_circuit_duration, qiskit_to_layered_circuits\n",
    "from circuit.dataset_loader import gen_random_circuits\n",
    "from circuit.formatter import layered_circuits_to_qiskit, get_layered_instructions, qiskit_to_my_format_circuit\n",
    "from downstream.fidelity_predict.fidelity_analysis import smart_predict, error_param_rescale\n",
    "from simulator.noise_free_simulator import simulate_noise_free\n",
    "from simulator.noise_simulator import NoiseSimulator\n",
    "from qiskit.transpiler.preset_passmanagers import (\n",
    "    level_0_pass_manager,\n",
    "    level_1_pass_manager,\n",
    "    level_2_pass_manager,\n",
    "    level_3_pass_manager,\n",
    ")\n",
    "from qiskit.transpiler.passmanager_config import PassManagerConfig\n",
    "from qiskit.compiler.transpiler import _parse_coupling_map, _parse_initial_layout\n",
    "from plot.plot import plot_duration_fidelity, plot_top_ratio, find_error_path, plot_correlation, plot_real_predicted_fidelity\n",
    "from simulator import NoiseSimulator, get_random_erroneous_pattern\n",
    "from downstream.fidelity_predict.baseline.rb import get_errors as get_errors_rb\n",
    "from circuit.parser import get_circuit_duration\n",
    "from qiskit.transpiler.passes import CrosstalkAdaptiveSchedule\n",
    "from qiskit.providers.models import BackendProperties\n",
    "from qiskit.converters import circuit_to_dag, dag_to_circuit"
   ]
  },
  {
   "cell_type": "code",
   "execution_count": null,
   "metadata": {},
   "outputs": [],
   "source": []
  }
 ],
 "metadata": {
  "language_info": {
   "name": "python"
  },
  "orig_nbformat": 4
 },
 "nbformat": 4,
 "nbformat_minor": 2
}
