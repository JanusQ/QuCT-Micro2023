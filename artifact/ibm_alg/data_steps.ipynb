{
 "cells": [
  {
   "cell_type": "code",
   "execution_count": 1,
   "metadata": {
    "collapsed": false,
    "pycharm": {
     "name": "#%%\n"
    }
   },
   "outputs": [],
   "source": [
    "import  pickle\n",
    "import numpy as np\n",
    "circuit_paths = [ 'random_transpiled_circuit_3400.pkl', 'circuit20_20.pkl', 'alg_transpiled_circuit_13.pkl',]"
   ]
  },
  {
   "cell_type": "code",
   "execution_count": 2,
   "metadata": {
    "collapsed": false,
    "pycharm": {
     "name": "#%%\n"
    }
   },
   "outputs": [],
   "source": [
    "\n",
    "circuits = []\n",
    "for circuit_path in circuit_paths:\n",
    "    with open(circuit_path,'rb') as f:\n",
    "        circuits += pickle.load(f)\n",
    "circuits = circuits[1:]"
   ]
  },
  {
   "cell_type": "code",
   "execution_count": 3,
   "metadata": {
    "collapsed": false,
    "pycharm": {
     "name": "#%%\n"
    }
   },
   "outputs": [],
   "source": [
    "with open('counts.pkl','rb') as f:\n",
    "    counts = pickle.load(f)"
   ]
  },
  {
   "cell_type": "code",
   "execution_count": 5,
   "metadata": {
    "collapsed": false,
    "pycharm": {
     "name": "#%%\n"
    }
   },
   "outputs": [],
   "source": [
    "from circuit import qiskit_to_layered_circuits\n",
    "dataset = []\n",
    "reals = []\n",
    "for cir, count in zip(circuits[:3399] ,counts[:3399]):\n",
    "    if '00000' not in count:\n",
    "        continue\n",
    "    ground_truth_fidelity = count['00000'] / 5000\n",
    "    if ground_truth_fidelity < 0.2:\n",
    "        # print('bad')\n",
    "        continue\n",
    "\n",
    "    reals.append(ground_truth_fidelity)\n",
    "    circuit_info = qiskit_to_layered_circuits(cir)\n",
    "    circuit_info['ground_truth_fidelity'] = ground_truth_fidelity\n",
    "    dataset.append(circuit_info)"
   ]
  },
  {
   "cell_type": "code",
   "execution_count": 8,
   "metadata": {
    "collapsed": false,
    "pycharm": {
     "name": "#%%\n"
    }
   },
   "outputs": [
    {
     "data": {
      "text/plain": [
       "(2192, 400, 530)"
      ]
     },
     "execution_count": 8,
     "metadata": {},
     "output_type": "execute_result"
    }
   ],
   "source": [
    "train_dataset, test_dataset = dataset[:-400], dataset[-400:]\n",
    "len(train_dataset), len(test_dataset), len(circuits[3399:])"
   ]
  },
  {
   "cell_type": "code",
   "execution_count": 9,
   "metadata": {
    "collapsed": false,
    "pycharm": {
     "name": "#%%\n"
    }
   },
   "outputs": [],
   "source": [
    "from utils.backend import Backend\n",
    "coupling_map = [[4, 3], [3, 4], [2, 3], [3, 2], [1, 2], [2, 1], [0, 1], [1, 0]]\n",
    "topology = {0: [1], 1: [0, 1], 2: [1,3], 3: [2,4], 4: [3]}\n",
    "backend = Backend(n_qubits=5, topology=topology, neighbor_info=None, coupling_map=coupling_map,\n",
    "basis_single_gates = ['id', 'rz', 'sx', 'x'], basis_two_gates = ['cx'], divide = False, decoupling = False)"
   ]
  },
  {
   "cell_type": "code",
   "execution_count": null,
   "metadata": {
    "collapsed": false,
    "pycharm": {
     "name": "#%%\n"
    }
   },
   "outputs": [],
   "source": [
    "from upstream import RandomwalkModel\n",
    "steps = []\n",
    "for n_steps in range(4):\n",
    "    upstream_model = RandomwalkModel(n_steps, 20, backend=backend, travel_directions=('parallel', 'former'))\n",
    "    upstream_model.train(dataset, multi_process=True, remove_redundancy=n_steps > 1)\n",
    "\n",
    "    from downstream import FidelityModel\n",
    "\n",
    "    downstream_model = FidelityModel(upstream_model)\n",
    "    downstream_model.train(train_dataset, epoch_num = 300)\n",
    "\n",
    "    test_predicts, test_reals = [] , []\n",
    "    for circuit_info in test_dataset:\n",
    "\n",
    "        predict = downstream_model.predict_fidelity(circuit_info)\n",
    "        circuit_info['predict'] = predict\n",
    "\n",
    "        test_reals.append(circuit_info['ground_truth_fidelity'])\n",
    "        test_predicts.append(predict)\n",
    "    print(np.abs(np.array(test_reals)-np.array(test_predicts)).mean())\n",
    "    steps.append(np.abs(np.array(test_reals)-np.array(test_predicts)).tolist())\n"
   ]
  },
  {
   "cell_type": "code",
   "execution_count": null,
   "metadata": {},
   "outputs": [],
   "source": [
    "steps = pickle.dump(steps,open('steps.pkl','wb'))"
   ]
  }
 ],
 "metadata": {
  "kernelspec": {
   "display_name": "Python 3",
   "language": "python",
   "name": "python3"
  },
  "language_info": {
   "codemirror_mode": {
    "name": "ipython",
    "version": 3
   },
   "file_extension": ".py",
   "mimetype": "text/x-python",
   "name": "python",
   "nbconvert_exporter": "python",
   "pygments_lexer": "ipython3",
   "version": "3.9.13"
  }
 },
 "nbformat": 4,
 "nbformat_minor": 0
}
