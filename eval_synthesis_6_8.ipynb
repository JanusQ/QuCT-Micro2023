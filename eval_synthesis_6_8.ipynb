{
 "cells": [
  {
   "cell_type": "code",
   "execution_count": 1,
   "metadata": {},
   "outputs": [],
   "source": [
    "import pickle\n",
    "import os\n",
    "import json\n",
    "import pandas as pd\n",
    "import numpy as np\n",
    "from matplotlib import pyplot as plt\n",
    "import seaborn as sns\n",
    "from qiskit import  QuantumCircuit, transpile\n",
    "import random\n",
    "import math"
   ]
  },
  {
   "cell_type": "code",
   "execution_count": 2,
   "metadata": {},
   "outputs": [],
   "source": [
    "included_n_qubits = [6, 8]\n",
    "\n",
    "baseline_dirs = [f'/home/luliqiang/4_2/extra/quantum-circuit-synthesis/experiment_results',]\n",
    "quct_dirs = ['6/result', '8/result']\n"
   ]
  },
  {
   "cell_type": "code",
   "execution_count": 74,
   "metadata": {},
   "outputs": [
    {
     "name": "stdout",
     "output_type": "stream",
     "text": [
      "linear-random-6-2.json\n",
      "random-6-7.json\n",
      "random-6-1.json\n",
      "random-6-2.json\n",
      "random-6-5.json\n",
      "random-6-9.json\n",
      "random-8-7.json\n",
      "random-8-2.json\n",
      "random-8-0.json\n",
      "random-8-4.json\n",
      "random-6-3.json\n",
      "random-8-6.json\n",
      "random-6-0.json\n",
      "linear-random-6-5.json\n",
      "linear-random-6-1.json\n",
      "random-8-5.json\n",
      "linear-random-6-9.json\n",
      "random-8-1.json\n",
      "random-8-9.json\n",
      "random-8-8.json\n",
      "linear-random-6-3.json\n",
      "linear-random-6-8.json\n",
      "linear-random-6-6.json\n",
      "linear-random-6-7.json\n",
      "random-6-4.json\n",
      "random-6-6.json\n",
      "random-6-8.json\n",
      "linear-random-6-0.json\n",
      "linear-random-6-4.json\n",
      "random-8-3.json\n"
     ]
    }
   ],
   "source": [
    "baseline_results = []\n",
    "\n",
    "dir_files = []\n",
    "\n",
    "for baseline_dir in baseline_dirs:\n",
    "    for dirpath, dirnames, filenames in os.walk(baseline_dir):\n",
    "        for filename in filenames:\n",
    "            if 'json' not in filename or 'pkl' in filename:\n",
    "                continue\n",
    "\n",
    "            if not any([f'random-{n_qubits}' in filename for n_qubits in included_n_qubits]):\n",
    "                continue\n",
    "\n",
    "            print(filename)\n",
    "            with open(os.path.join(dirpath, filename), mode='r') as f:\n",
    "                result_dict = json.load(f)\n",
    "            baseline_results.append(result_dict)\n",
    "\n",
    "\n",
    "for result_dict in baseline_results:\n",
    "    picked_unitary = json.loads(result_dict['Unitary']).encode('latin-1')\n",
    "    U = pickle.loads(picked_unitary)\n",
    "    result_dict['U'] = U\n",
    "    result_dict['n_qubits'] = int(math.log2(result_dict['U'].shape[0]))"
   ]
  },
  {
   "cell_type": "code",
   "execution_count": 76,
   "metadata": {},
   "outputs": [
    {
     "data": {
      "text/plain": [
       "(dict_keys(['Experiment Name', 'Unitary', 'Num of Qubits', 'Metrics', 'U', 'n_qubits']),\n",
       " dict_keys(['Synthesiser', 'Circuit', 'Execution Time', 'CNOT Count', 'Depth', 'Parallelism', 'CPU time', 'gate_num']))"
      ]
     },
     "execution_count": 76,
     "metadata": {},
     "output_type": "execute_result"
    }
   ],
   "source": [
    "baseline_results[0].keys(), baseline_results[0]['Metrics'][0].keys()"
   ]
  },
  {
   "cell_type": "code",
   "execution_count": 77,
   "metadata": {},
   "outputs": [
    {
     "name": "stdout",
     "output_type": "stream",
     "text": [
      "False_18_1_12.pkl\n",
      "False_18_0_12.pkl\n",
      "False_24_1_16.pkl\n",
      "False_24_0_16.pkl\n"
     ]
    }
   ],
   "source": [
    "synthesized_filenames = []\n",
    "results = []\n",
    "\n",
    "for quct_dir in quct_dirs:\n",
    "    for dirpath, dirnames, filenames in os.walk(quct_dir):\n",
    "        for filename in filenames:\n",
    "            if 'pkl' not in filename:  # 'change_func' not in filename or\n",
    "                continue\n",
    "            \n",
    "            print(filename)\n",
    "            with open(os.path.join(dirpath, filename), mode='rb') as f:\n",
    "                result_dict = pickle.load(f)\n",
    "            \n",
    "            result_dict['baseline_name'] =  filename.split('_')[2]\n",
    "            result_dict['n_qubits'] = int(math.log2(result_dict['U'].shape[0]))\n",
    "            results.append(result_dict)\n",
    "        "
   ]
  },
  {
   "cell_type": "code",
   "execution_count": 78,
   "metadata": {},
   "outputs": [
    {
     "data": {
      "text/plain": [
       "dict_keys(['n_qubits', 'U', 'qiskit circuit', '#gate', '#two-qubit gate', 'depth', 'cpu time', 'use heuristic', 'n_unitary_candidates', 'n_neighbors', 'print', 'heuristic_takeeffect_count', 'heuristic_takeeffect_prob', 'iter_count', 'synthesis_time', 'baseline_name'])"
      ]
     },
     "execution_count": 78,
     "metadata": {},
     "output_type": "execute_result"
    }
   ],
   "source": [
    "results[0].keys()"
   ]
  },
  {
   "cell_type": "code",
   "execution_count": 103,
   "metadata": {},
   "outputs": [
    {
     "name": "stdout",
     "output_type": "stream",
     "text": [
      "857\n",
      "6 857 109\n",
      "8748\n",
      "8 8748 92\n",
      "9202\n",
      "8 9202 96\n"
     ]
    }
   ],
   "source": [
    "merge_results = []\n",
    "for quct_result in results:\n",
    "    # print(quct_result['baseline_name'])\n",
    "    U = quct_result['U']\n",
    "\n",
    "    merge_result = {\n",
    "        'U': U,\n",
    "        'filename': quct_result['baseline_name'],\n",
    "        'cpu_time': {},\n",
    "        'time': {},\n",
    "        '#two-qubit': {},\n",
    "        '#gate': {},\n",
    "        'depth': {},\n",
    "        'n_qubits': quct_result['n_qubits'],\n",
    "    }\n",
    "\n",
    "    # dict_keys(['n_qubits', 'U', 'qiskit circuit', '#gate', '#two-qubit gate', 'depth', 'cpu time', 'use heuristic', 'n_unitary_candidates', 'n_neighbors', 'print', 'heuristic_takeeffect_count', \n",
    "    # 'heuristic_takeeffect_prob', 'iter_count', 'synthesis_time'])\n",
    "\n",
    "    if 1000 < quct_result['#two-qubit gate'] and quct_result['n_qubits'] == 6:\n",
    "        continue\n",
    "\n",
    "    # print(quct_result['#two-qubit gate'])\n",
    "    merge_results.append(merge_result)\n",
    "    merge_result['#two-qubit']['quct'] = quct_result['#two-qubit gate']\n",
    "    merge_result['time']['quct'] = quct_result['synthesis_time']\n",
    "    merge_result['#gate']['quct'] = quct_result['#gate']\n",
    "    merge_result['depth']['quct'] = quct_result['depth']\n",
    "    merge_result['cpu_time']['quct'] = quct_result['cpu time']\n",
    "\n",
    "    \n",
    "    print(quct_result['n_qubits'] ,quct_result['#two-qubit gate'], quct_result['iter_count'])"
   ]
  },
  {
   "cell_type": "code",
   "execution_count": 91,
   "metadata": {},
   "outputs": [],
   "source": [
    "\n",
    "n_qubits_list = []\n",
    "for baseline_result in baseline_results:\n",
    "    # print(quct_result['baseline_name'])\n",
    "    merge_result = {\n",
    "        'U': U,\n",
    "        # 'filename': quct_result['baseline_name'],\n",
    "        'cpu_time': {},\n",
    "        'time': {},\n",
    "        '#two-qubit': {},\n",
    "        '#gate': {},\n",
    "        'depth': {},\n",
    "        'n_qubits': baseline_result['n_qubits'],\n",
    "    }\n",
    "\n",
    "    '''反正也不变一个就够了'''\n",
    "    if baseline_result['n_qubits'] in n_qubits_list:\n",
    "        continue\n",
    "    n_qubits_list.append(baseline_result['n_qubits'])\n",
    "\n",
    "    merge_results.append(merge_result)\n",
    "\n",
    "    # (dict_keys(['Experiment Name', 'Unitary', 'Num of Qubits', 'Metrics', 'U']),\n",
    "    # dict_keys(['Synthesiser', 'Circuit', 'Execution Time', 'CNOT Count', 'Depth', 'Parallelism', 'CPU time', 'gate_num']))\n",
    "        # baseline_name = metric['Synthesiser']\n",
    "    for metric in baseline_result['Metrics']:\n",
    "        baseline_name = metric['Synthesiser'].replace(' Synthesiser', '').replace(' synthesiser', '')\n",
    "        qiskit_circuit = QuantumCircuit.from_qasm_str(metric['Circuit'])\n",
    "\n",
    "        # if 'QFast' in baseline_name:\n",
    "        #     qiskit_circuit = transpile(qiskit_circuit, optimization_level=3, basis_gates=['u', 'cz'])\n",
    "        # else:\n",
    "        # qiskit_circuit = transpile(qiskit_circuit, optimization_level=1, basis_gates=['u', 'cz'], coupling_map=[[start, start+1] for start in range(baseline_result['n_qubits'])])\n",
    "\n",
    "        # print(metric.keys())\n",
    "        merge_result['#two-qubit'][baseline_name] = metric['CNOT Count']\n",
    "        merge_result['time'][baseline_name] = metric['Execution Time']\n",
    "        merge_result['#gate'][baseline_name] = len(qiskit_circuit)#metric['gate_num']\n",
    "        merge_result['depth'][baseline_name] = metric['Depth'] #qiskit_circuit.depth()\n"
   ]
  },
  {
   "cell_type": "code",
   "execution_count": 81,
   "metadata": {},
   "outputs": [],
   "source": [
    "\n",
    "# for quct_result in results:\n",
    "#     # print(quct_result['baseline_name'])\n",
    "#     U = quct_result['U']\n",
    "\n",
    "#     merge_result = {\n",
    "#         'U': U,\n",
    "#         'filename': quct_result['baseline_name'],\n",
    "#         'cpu_time': {},\n",
    "#         'time': {},\n",
    "#         '#two-qubit': {},\n",
    "#         '#gate': {},\n",
    "#         'depth': {},\n",
    "#         'n_qubits': quct_result['n_qubits'],\n",
    "#     }\n",
    "\n",
    "#     # dict_keys(['n_qubits', 'U', 'qiskit circuit', '#gate', '#two-qubit gate', 'depth', 'cpu time', 'use heuristic', 'n_unitary_candidates', 'n_neighbors', 'print', 'heuristic_takeeffect_count', \n",
    "#     # 'heuristic_takeeffect_prob', 'iter_count', 'synthesis_time'])\n",
    "\n",
    "#     merge_results.append(merge_result)\n",
    "#     merge_result['#two-qubit']['quct'] = quct_result['#two-qubit gate']\n",
    "#     merge_result['time']['quct'] = quct_result['synthesis_time']\n",
    "#     merge_result['#gate']['quct'] = quct_result['#gate']\n",
    "#     merge_result['depth']['quct'] = quct_result['depth']\n",
    "#     merge_result['cpu_time']['quct'] = quct_result['cpu time']\n",
    "\n",
    "#     if 6 == quct_result['n_qubits']:\n",
    "#         print(quct_result['#two-qubit gate'])"
   ]
  },
  {
   "cell_type": "code",
   "execution_count": 92,
   "metadata": {},
   "outputs": [],
   "source": [
    "total_merge_results = merge_results"
   ]
  },
  {
   "cell_type": "code",
   "execution_count": 93,
   "metadata": {},
   "outputs": [
    {
     "data": {
      "text/plain": [
       "{'U': array([[ 0.09824995-0.09788316j,  0.15821015-0.11078755j,\n",
       "         -0.04368579-0.0218081j , ...,  0.02475077+0.12246191j,\n",
       "          0.06400863+0.00279972j,  0.04342369+0.10467974j],\n",
       "        [ 0.01063843-0.11616004j, -0.17067978+0.11501164j,\n",
       "         -0.03405666-0.03615683j, ..., -0.03932229+0.191413j  ,\n",
       "          0.10047785-0.04227888j, -0.04208585+0.08046514j],\n",
       "        [ 0.06747683+0.01013313j,  0.02074209-0.02600986j,\n",
       "         -0.03503027-0.00601939j, ...,  0.02273767-0.03644906j,\n",
       "         -0.11936857+0.03728653j, -0.08636503-0.12585095j],\n",
       "        ...,\n",
       "        [ 0.05921913-0.05913618j,  0.03528755-0.10935917j,\n",
       "         -0.15575372-0.08693674j, ..., -0.04001656-0.19015205j,\n",
       "          0.02104077-0.08341824j, -0.11857665-0.01415018j],\n",
       "        [ 0.07676642-0.04912453j,  0.14173838+0.10445647j,\n",
       "         -0.00224445+0.14763516j, ...,  0.01238689+0.04226847j,\n",
       "          0.00271813-0.14736965j,  0.09779322+0.01830431j],\n",
       "        [ 0.02460804-0.03769697j,  0.10022797+0.06204228j,\n",
       "          0.05188241+0.07582518j, ...,  0.10584459+0.07990401j,\n",
       "          0.07127769-0.01249332j, -0.10806487-0.0298029j ]]),\n",
       " 'filename': '0',\n",
       " 'cpu_time': {'quct': 22274.906271148815},\n",
       " 'time': {'quct': 11907.964757442474},\n",
       " '#two-qubit': {'quct': 857},\n",
       " '#gate': {'quct': 2577},\n",
       " 'depth': {'quct': 1439},\n",
       " 'n_qubits': 6}"
      ]
     },
     "execution_count": 93,
     "metadata": {},
     "output_type": "execute_result"
    }
   ],
   "source": [
    "merge_results[0]"
   ]
  },
  {
   "cell_type": "code",
   "execution_count": 94,
   "metadata": {},
   "outputs": [
    {
     "data": {
      "text/plain": [
       "([{'U': array([[ 0.09824995-0.09788316j,  0.15821015-0.11078755j,\n",
       "           -0.04368579-0.0218081j , ...,  0.02475077+0.12246191j,\n",
       "            0.06400863+0.00279972j,  0.04342369+0.10467974j],\n",
       "          [ 0.01063843-0.11616004j, -0.17067978+0.11501164j,\n",
       "           -0.03405666-0.03615683j, ..., -0.03932229+0.191413j  ,\n",
       "            0.10047785-0.04227888j, -0.04208585+0.08046514j],\n",
       "          [ 0.06747683+0.01013313j,  0.02074209-0.02600986j,\n",
       "           -0.03503027-0.00601939j, ...,  0.02273767-0.03644906j,\n",
       "           -0.11936857+0.03728653j, -0.08636503-0.12585095j],\n",
       "          ...,\n",
       "          [ 0.05921913-0.05913618j,  0.03528755-0.10935917j,\n",
       "           -0.15575372-0.08693674j, ..., -0.04001656-0.19015205j,\n",
       "            0.02104077-0.08341824j, -0.11857665-0.01415018j],\n",
       "          [ 0.07676642-0.04912453j,  0.14173838+0.10445647j,\n",
       "           -0.00224445+0.14763516j, ...,  0.01238689+0.04226847j,\n",
       "            0.00271813-0.14736965j,  0.09779322+0.01830431j],\n",
       "          [ 0.02460804-0.03769697j,  0.10022797+0.06204228j,\n",
       "            0.05188241+0.07582518j, ...,  0.10584459+0.07990401j,\n",
       "            0.07127769-0.01249332j, -0.10806487-0.0298029j ]]),\n",
       "   'filename': '0',\n",
       "   'cpu_time': {'quct': 22274.906271148815},\n",
       "   'time': {'quct': 11907.964757442474},\n",
       "   '#two-qubit': {'quct': 857},\n",
       "   '#gate': {'quct': 2577},\n",
       "   'depth': {'quct': 1439},\n",
       "   'n_qubits': 6},\n",
       "  {'U': array([[-2.93022088e-02-0.01304887j, -1.26481156e-02+0.05519424j,\n",
       "            1.08282772e-02+0.04041865j, ..., -6.43083946e-02+0.00537869j,\n",
       "            4.81697091e-02+0.02507345j,  4.18504280e-02+0.00330574j],\n",
       "          [-5.45515852e-02+0.00696711j,  9.19465633e-08-0.01061229j,\n",
       "           -1.87394134e-02+0.00666101j, ...,  1.26886569e-02+0.03328212j,\n",
       "            3.18245702e-02-0.02522679j,  3.69216987e-02+0.0429114j ],\n",
       "          [ 5.87790909e-03+0.04227976j,  3.26070003e-02-0.02368491j,\n",
       "           -5.65888018e-02-0.05491521j, ..., -7.68750617e-02+0.00087369j,\n",
       "            1.18862035e-01-0.0893662j ,  3.28869350e-02-0.04126209j],\n",
       "          ...,\n",
       "          [-2.24584664e-02-0.07552539j,  4.00001455e-02-0.00506728j,\n",
       "            9.83654758e-04+0.04238157j, ..., -4.08559699e-02+0.02960366j,\n",
       "           -2.05218744e-02-0.03812577j,  6.08333951e-03-0.05209508j],\n",
       "          [ 3.81879950e-02-0.04690794j, -2.56688975e-03-0.04838671j,\n",
       "           -1.55235692e-02+0.00048927j, ..., -4.39831350e-02+0.07127617j,\n",
       "            1.31972936e-03-0.00401792j, -2.26916615e-02+0.06673209j],\n",
       "          [-6.50342076e-02+0.00580908j,  6.68266360e-02-0.04881522j,\n",
       "           -1.15667166e-03+0.00443979j, ..., -1.29605102e-02+0.01345491j,\n",
       "            6.01980411e-02-0.01479411j,  1.56433500e-02-0.00479743j]]),\n",
       "   'cpu_time': {},\n",
       "   'time': {'Qiskit': 47.197251319885254,\n",
       "    'CSD': 25.32645344734192,\n",
       "    'QSD': 13.424153804779053},\n",
       "   '#two-qubit': {'Qiskit': 1868, 'CSD': 3968, 'QSD': 2208},\n",
       "   '#gate': {'Qiskit': 4761, 'CSD': 7938, 'QSD': 5696},\n",
       "   'depth': {'Qiskit': 3652, 'CSD': 7325, 'QSD': 4290},\n",
       "   'n_qubits': 6}],\n",
       " [{'U': array([[-0.01921418-0.00862237j, -0.03761049+0.11679105j,\n",
       "            0.0219894 +0.03906213j, ..., -0.01023131-0.06392553j,\n",
       "           -0.06818405+0.03627194j,  0.03370261+0.03762614j],\n",
       "          [-0.01925028-0.02105621j, -0.00616803-0.0238398j ,\n",
       "            0.01611648+0.03671151j, ..., -0.04290118+0.04372197j,\n",
       "           -0.02933827-0.02113412j, -0.00359164-0.03937317j],\n",
       "          [-0.02030951+0.0353043j , -0.03523449-0.01414926j,\n",
       "            0.04244457+0.01938854j, ...,  0.00932964-0.05214724j,\n",
       "           -0.06037944+0.05697711j,  0.07734954-0.00886907j],\n",
       "          ...,\n",
       "          [-0.01830533-0.04636475j, -0.02420424+0.01916364j,\n",
       "           -0.07106789+0.08687997j, ..., -0.02071435-0.03269277j,\n",
       "            0.01250509-0.03110235j, -0.03332546+0.02266524j],\n",
       "          [ 0.07142158-0.07917008j, -0.04955708-0.00478691j,\n",
       "           -0.04024676-0.03841713j, ...,  0.05055443+0.03691786j,\n",
       "           -0.01125631+0.0227013j ,  0.1085334 -0.01456199j],\n",
       "          [-0.08940563+0.02522751j, -0.00768735+0.07383563j,\n",
       "            0.03942577-0.04117915j, ...,  0.00619367-0.00516497j,\n",
       "            0.04296647+0.0926863j , -0.05246394+0.02291369j]]),\n",
       "   'filename': '1',\n",
       "   'cpu_time': {'quct': 529258.1759195321},\n",
       "   'time': {'quct': 15472.695544481277},\n",
       "   '#two-qubit': {'quct': 8748},\n",
       "   '#gate': {'quct': 26252},\n",
       "   'depth': {'quct': 13009},\n",
       "   'n_qubits': 8},\n",
       "  {'U': array([[-2.93022088e-02-0.01304887j, -1.26481156e-02+0.05519424j,\n",
       "            1.08282772e-02+0.04041865j, ..., -6.43083946e-02+0.00537869j,\n",
       "            4.81697091e-02+0.02507345j,  4.18504280e-02+0.00330574j],\n",
       "          [-5.45515852e-02+0.00696711j,  9.19465633e-08-0.01061229j,\n",
       "           -1.87394134e-02+0.00666101j, ...,  1.26886569e-02+0.03328212j,\n",
       "            3.18245702e-02-0.02522679j,  3.69216987e-02+0.0429114j ],\n",
       "          [ 5.87790909e-03+0.04227976j,  3.26070003e-02-0.02368491j,\n",
       "           -5.65888018e-02-0.05491521j, ..., -7.68750617e-02+0.00087369j,\n",
       "            1.18862035e-01-0.0893662j ,  3.28869350e-02-0.04126209j],\n",
       "          ...,\n",
       "          [-2.24584664e-02-0.07552539j,  4.00001455e-02-0.00506728j,\n",
       "            9.83654758e-04+0.04238157j, ..., -4.08559699e-02+0.02960366j,\n",
       "           -2.05218744e-02-0.03812577j,  6.08333951e-03-0.05209508j],\n",
       "          [ 3.81879950e-02-0.04690794j, -2.56688975e-03-0.04838671j,\n",
       "           -1.55235692e-02+0.00048927j, ..., -4.39831350e-02+0.07127617j,\n",
       "            1.31972936e-03-0.00401792j, -2.26916615e-02+0.06673209j],\n",
       "          [-6.50342076e-02+0.00580908j,  6.68266360e-02-0.04881522j,\n",
       "           -1.15667166e-03+0.00443979j, ..., -1.29605102e-02+0.01345491j,\n",
       "            6.01980411e-02-0.01479411j,  1.56433500e-02-0.00479743j]]),\n",
       "   'filename': '0',\n",
       "   'cpu_time': {'quct': 509108.02614524786},\n",
       "   'time': {'quct': 15507.88025689125},\n",
       "   '#two-qubit': {'quct': 9202},\n",
       "   '#gate': {'quct': 27614},\n",
       "   'depth': {'quct': 13525},\n",
       "   'n_qubits': 8},\n",
       "  {'U': array([[-2.93022088e-02-0.01304887j, -1.26481156e-02+0.05519424j,\n",
       "            1.08282772e-02+0.04041865j, ..., -6.43083946e-02+0.00537869j,\n",
       "            4.81697091e-02+0.02507345j,  4.18504280e-02+0.00330574j],\n",
       "          [-5.45515852e-02+0.00696711j,  9.19465633e-08-0.01061229j,\n",
       "           -1.87394134e-02+0.00666101j, ...,  1.26886569e-02+0.03328212j,\n",
       "            3.18245702e-02-0.02522679j,  3.69216987e-02+0.0429114j ],\n",
       "          [ 5.87790909e-03+0.04227976j,  3.26070003e-02-0.02368491j,\n",
       "           -5.65888018e-02-0.05491521j, ..., -7.68750617e-02+0.00087369j,\n",
       "            1.18862035e-01-0.0893662j ,  3.28869350e-02-0.04126209j],\n",
       "          ...,\n",
       "          [-2.24584664e-02-0.07552539j,  4.00001455e-02-0.00506728j,\n",
       "            9.83654758e-04+0.04238157j, ..., -4.08559699e-02+0.02960366j,\n",
       "           -2.05218744e-02-0.03812577j,  6.08333951e-03-0.05209508j],\n",
       "          [ 3.81879950e-02-0.04690794j, -2.56688975e-03-0.04838671j,\n",
       "           -1.55235692e-02+0.00048927j, ..., -4.39831350e-02+0.07127617j,\n",
       "            1.31972936e-03-0.00401792j, -2.26916615e-02+0.06673209j],\n",
       "          [-6.50342076e-02+0.00580908j,  6.68266360e-02-0.04881522j,\n",
       "           -1.15667166e-03+0.00443979j, ..., -1.29605102e-02+0.01345491j,\n",
       "            6.01980411e-02-0.01479411j,  1.56433500e-02-0.00479743j]]),\n",
       "   'cpu_time': {},\n",
       "   'time': {'Qiskit': 111.50537347793579, 'QSD': 33.05147886276245},\n",
       "   '#two-qubit': {'Qiskit': 31020, 'QSD': 36480},\n",
       "   '#gate': {'Qiskit': 78425, 'QSD': 93440},\n",
       "   'depth': {'Qiskit': 60677, 'QSD': 70915},\n",
       "   'n_qubits': 8}])"
      ]
     },
     "execution_count": 94,
     "metadata": {},
     "output_type": "execute_result"
    }
   ],
   "source": [
    "merge_results_6q = [\n",
    "    merge_result\n",
    "    for merge_result in total_merge_results\n",
    "    if merge_result['n_qubits'] == 6\n",
    "]\n",
    "\n",
    "merge_results_8q = [\n",
    "    merge_result\n",
    "    for merge_result in total_merge_results\n",
    "    if merge_result['n_qubits'] == 8\n",
    "]\n",
    "\n",
    "merge_results_6q, merge_results_8q"
   ]
  },
  {
   "cell_type": "code",
   "execution_count": 65,
   "metadata": {},
   "outputs": [
    {
     "data": {
      "text/plain": [
       "2"
      ]
     },
     "execution_count": 65,
     "metadata": {},
     "output_type": "execute_result"
    }
   ],
   "source": [
    "len(merge_results_8q)"
   ]
  },
  {
   "cell_type": "code",
   "execution_count": 95,
   "metadata": {},
   "outputs": [],
   "source": [
    "merge_results = list(merge_results_8q)"
   ]
  },
  {
   "cell_type": "code",
   "execution_count": 96,
   "metadata": {},
   "outputs": [
    {
     "data": {
      "text/html": [
       "<div>\n",
       "<style scoped>\n",
       "    .dataframe tbody tr th:only-of-type {\n",
       "        vertical-align: middle;\n",
       "    }\n",
       "\n",
       "    .dataframe tbody tr th {\n",
       "        vertical-align: top;\n",
       "    }\n",
       "\n",
       "    .dataframe thead th {\n",
       "        text-align: right;\n",
       "    }\n",
       "</style>\n",
       "<table border=\"1\" class=\"dataframe\">\n",
       "  <thead>\n",
       "    <tr style=\"text-align: right;\">\n",
       "      <th></th>\n",
       "      <th>synthesizer</th>\n",
       "      <th>property</th>\n",
       "      <th>value</th>\n",
       "    </tr>\n",
       "  </thead>\n",
       "  <tbody>\n",
       "    <tr>\n",
       "      <th>0</th>\n",
       "      <td>quct</td>\n",
       "      <td>cpu_time</td>\n",
       "      <td>529258.175920</td>\n",
       "    </tr>\n",
       "    <tr>\n",
       "      <th>1</th>\n",
       "      <td>quct</td>\n",
       "      <td>time</td>\n",
       "      <td>15472.695544</td>\n",
       "    </tr>\n",
       "    <tr>\n",
       "      <th>2</th>\n",
       "      <td>quct</td>\n",
       "      <td>#two-qubit</td>\n",
       "      <td>8748.000000</td>\n",
       "    </tr>\n",
       "    <tr>\n",
       "      <th>3</th>\n",
       "      <td>quct</td>\n",
       "      <td>#gate</td>\n",
       "      <td>26252.000000</td>\n",
       "    </tr>\n",
       "    <tr>\n",
       "      <th>4</th>\n",
       "      <td>quct</td>\n",
       "      <td>depth</td>\n",
       "      <td>13009.000000</td>\n",
       "    </tr>\n",
       "    <tr>\n",
       "      <th>5</th>\n",
       "      <td>quct</td>\n",
       "      <td>cpu_time</td>\n",
       "      <td>509108.026145</td>\n",
       "    </tr>\n",
       "    <tr>\n",
       "      <th>6</th>\n",
       "      <td>quct</td>\n",
       "      <td>time</td>\n",
       "      <td>15507.880257</td>\n",
       "    </tr>\n",
       "    <tr>\n",
       "      <th>7</th>\n",
       "      <td>quct</td>\n",
       "      <td>#two-qubit</td>\n",
       "      <td>9202.000000</td>\n",
       "    </tr>\n",
       "    <tr>\n",
       "      <th>8</th>\n",
       "      <td>quct</td>\n",
       "      <td>#gate</td>\n",
       "      <td>27614.000000</td>\n",
       "    </tr>\n",
       "    <tr>\n",
       "      <th>9</th>\n",
       "      <td>quct</td>\n",
       "      <td>depth</td>\n",
       "      <td>13525.000000</td>\n",
       "    </tr>\n",
       "    <tr>\n",
       "      <th>10</th>\n",
       "      <td>Qiskit</td>\n",
       "      <td>time</td>\n",
       "      <td>111.505373</td>\n",
       "    </tr>\n",
       "    <tr>\n",
       "      <th>11</th>\n",
       "      <td>Qiskit</td>\n",
       "      <td>#two-qubit</td>\n",
       "      <td>31020.000000</td>\n",
       "    </tr>\n",
       "    <tr>\n",
       "      <th>12</th>\n",
       "      <td>Qiskit</td>\n",
       "      <td>#gate</td>\n",
       "      <td>78425.000000</td>\n",
       "    </tr>\n",
       "    <tr>\n",
       "      <th>13</th>\n",
       "      <td>Qiskit</td>\n",
       "      <td>depth</td>\n",
       "      <td>60677.000000</td>\n",
       "    </tr>\n",
       "    <tr>\n",
       "      <th>14</th>\n",
       "      <td>QSD</td>\n",
       "      <td>time</td>\n",
       "      <td>33.051479</td>\n",
       "    </tr>\n",
       "    <tr>\n",
       "      <th>15</th>\n",
       "      <td>QSD</td>\n",
       "      <td>#two-qubit</td>\n",
       "      <td>36480.000000</td>\n",
       "    </tr>\n",
       "    <tr>\n",
       "      <th>16</th>\n",
       "      <td>QSD</td>\n",
       "      <td>#gate</td>\n",
       "      <td>93440.000000</td>\n",
       "    </tr>\n",
       "    <tr>\n",
       "      <th>17</th>\n",
       "      <td>QSD</td>\n",
       "      <td>depth</td>\n",
       "      <td>70915.000000</td>\n",
       "    </tr>\n",
       "  </tbody>\n",
       "</table>\n",
       "</div>"
      ],
      "text/plain": [
       "   synthesizer    property          value\n",
       "0         quct    cpu_time  529258.175920\n",
       "1         quct        time   15472.695544\n",
       "2         quct  #two-qubit    8748.000000\n",
       "3         quct       #gate   26252.000000\n",
       "4         quct       depth   13009.000000\n",
       "5         quct    cpu_time  509108.026145\n",
       "6         quct        time   15507.880257\n",
       "7         quct  #two-qubit    9202.000000\n",
       "8         quct       #gate   27614.000000\n",
       "9         quct       depth   13525.000000\n",
       "10      Qiskit        time     111.505373\n",
       "11      Qiskit  #two-qubit   31020.000000\n",
       "12      Qiskit       #gate   78425.000000\n",
       "13      Qiskit       depth   60677.000000\n",
       "14         QSD        time      33.051479\n",
       "15         QSD  #two-qubit   36480.000000\n",
       "16         QSD       #gate   93440.000000\n",
       "17         QSD       depth   70915.000000"
      ]
     },
     "execution_count": 96,
     "metadata": {},
     "output_type": "execute_result"
    }
   ],
   "source": [
    "all_result_df_data = []\n",
    "evaluated_baselines = []\n",
    "\n",
    "syn_index = {\n",
    "    'quct': 0,\n",
    "    # 'QFast': 1,\n",
    "    # 'DNN': 2,\n",
    "    'Qiskit': 3,\n",
    "    'QSD': 4,\n",
    "    # 'CSD': 4,\n",
    "} # 用来让作图的顺序固定的\n",
    "\n",
    "for merge_result in merge_results:\n",
    "    for prop_name in merge_result:\n",
    "        if prop_name in ('U', 'filename', 'n_qubits'):\n",
    "            continue\n",
    "        for synthesizer, prop_value in merge_result[prop_name].items():\n",
    "            if synthesizer not in syn_index:\n",
    "                continue\n",
    "\n",
    "            all_result_df_data.append([synthesizer, prop_name, prop_value])\n",
    "\n",
    "\n",
    "all_result_df_data.sort(key = lambda elm: syn_index[elm[0]])\n",
    "\n",
    "len(all_result_df_data)\n",
    "all_result_df = pd.DataFrame(all_result_df_data, columns=['synthesizer', 'property', 'value'])\n",
    "all_result_df\n"
   ]
  },
  {
   "cell_type": "code",
   "execution_count": null,
   "metadata": {},
   "outputs": [],
   "source": []
  },
  {
   "cell_type": "code",
   "execution_count": 97,
   "metadata": {},
   "outputs": [
    {
     "data": {
      "image/png": "[encoded data removed]",
      "text/plain": [
       "<Figure size 640x480 with 1 Axes>"
      ]
     },
     "metadata": {},
     "output_type": "display_data"
    }
   ],
   "source": [
    "ax = sns.boxplot(x=\"property\", y=\"value\", hue=\"synthesizer\", data=all_result_df)  # RUN PLOT  \n",
    "ax.set_yscale('log')"
   ]
  },
  {
   "cell_type": "code",
   "execution_count": 98,
   "metadata": {},
   "outputs": [
    {
     "name": "stdout",
     "output_type": "stream",
     "text": [
      "#two-qubit 3.456267409470752 0.2893294648613798\n",
      "time 0.0071984054907717875 138.91965398197976\n",
      "#gate 2.9118553447443656 0.3434236531718202\n",
      "depth 4.573528303308962 0.21864957067752197\n",
      "cpu_time nan nan\n"
     ]
    },
    {
     "name": "stderr",
     "output_type": "stream",
     "text": [
      "/tmp/ipykernel_2099417/2877173684.py:8: RuntimeWarning: Mean of empty slice.\n",
      "  print(prop_name, float(ccd_df.mean() / quct.mean()),  float(quct.mean() / ccd_df.mean()))\n",
      "/home/luliqiang/miniconda3/envs/ISCA/lib/python3.9/site-packages/numpy/core/_methods.py:190: RuntimeWarning: invalid value encountered in double_scalars\n",
      "  ret = ret.dtype.type(ret / rcount)\n"
     ]
    },
    {
     "data": {
      "text/plain": [
       "'似乎还会有qfast没有quct有的'"
      ]
     },
     "execution_count": 98,
     "metadata": {},
     "output_type": "execute_result"
    }
   ],
   "source": [
    "for prop_name in ['#two-qubit', 'time', '#gate', 'depth', 'cpu_time']:\n",
    "    prop_df = all_result_df[all_result_df['property'] == prop_name]\n",
    "\n",
    "    ccd_df =  np.array(prop_df[prop_df['synthesizer'] == 'Qiskit']['value'])\n",
    "    quct =  np.array(prop_df[prop_df['synthesizer'] == 'quct']['value'])\n",
    "\n",
    "    # quct = quct[:len(ccd_df)]\n",
    "    print(prop_name, float(ccd_df.mean() / quct.mean()),  float(quct.mean() / ccd_df.mean()))\n",
    "    # print(prop_name, float((qfast_df / quct).mean()),  float( (quct / qfast_df).mean()))\n",
    "\n",
    "'''似乎还会有qfast没有quct有的'''"
   ]
  },
  {
   "cell_type": "code",
   "execution_count": 99,
   "metadata": {},
   "outputs": [
    {
     "name": "stdout",
     "output_type": "stream",
     "text": [
      "quct #two-qubit 8975.0\n",
      "quct time 15490.287900686264\n",
      "quct #gate 26933.0\n",
      "quct depth 13267.0\n",
      "Qiskit #two-qubit 31020.0\n",
      "Qiskit time 111.50537347793579\n",
      "Qiskit #gate 78425.0\n",
      "Qiskit depth 60677.0\n",
      "QSD #two-qubit 36480.0\n",
      "QSD time 33.05147886276245\n",
      "QSD #gate 93440.0\n",
      "QSD depth 70915.0\n"
     ]
    },
    {
     "name": "stderr",
     "output_type": "stream",
     "text": [
      "/tmp/ipykernel_2099417/4277213078.py:7: FutureWarning: The default value of numeric_only in DataFrame.mean is deprecated. In a future version, it will default to False. In addition, specifying 'numeric_only=None' is deprecated. Select only valid columns or specify the value of numeric_only to silence this warning.\n",
      "  print(syn, prop_name, float(prop_df[prop_df['synthesizer'] == syn].mean()))\n"
     ]
    }
   ],
   "source": [
    "for syn in syn_index:\n",
    "    if syn == 'DNN':\n",
    "        continue\n",
    "    for prop_name in ['#two-qubit', 'time', '#gate', 'depth']:  # , 'cpu_time'\n",
    "        prop_df = all_result_df[all_result_df['property'] == prop_name]\n",
    "        # print(syn, prop_name, prop_df[prop_df['synthesizer'] == syn].mean())\n",
    "        print(syn, prop_name, float(prop_df[prop_df['synthesizer'] == syn].mean()))"
   ]
  },
  {
   "cell_type": "code",
   "execution_count": 100,
   "metadata": {},
   "outputs": [
    {
     "data": {
      "text/plain": [
       "(107.0, 2914.7250890871537)"
      ]
     },
     "execution_count": 100,
     "metadata": {},
     "output_type": "execute_result"
    }
   ],
   "source": [
    "iter_counts = []\n",
    "second_per_iters = []\n",
    "for quct_result in results:\n",
    "    iter_counts.append(quct_result['iter_count'])\n",
    "    second_per_iters.append(quct_result['cpu time']/quct_result['iter_count'])\n",
    "sum(iter_counts) / len(iter_counts), sum(second_per_iters) / len(iter_counts)"
   ]
  },
  {
   "cell_type": "code",
   "execution_count": 101,
   "metadata": {},
   "outputs": [
    {
     "data": {
      "image/png": "[encoded data removed]",
      "text/plain": [
       "<Figure size 1000x100 with 1 Axes>"
      ]
     },
     "metadata": {},
     "output_type": "display_data"
    },
    {
     "data": {
      "image/png": "[encoded data removed]",
      "text/plain": [
       "<Figure size 1000x100 with 1 Axes>"
      ]
     },
     "metadata": {},
     "output_type": "display_data"
    },
    {
     "data": {
      "image/png": "[encoded data removed]",
      "text/plain": [
       "<Figure size 1000x100 with 1 Axes>"
      ]
     },
     "metadata": {},
     "output_type": "display_data"
    },
    {
     "data": {
      "image/png": "[encoded data removed]",
      "text/plain": [
       "<Figure size 1000x100 with 1 Axes>"
      ]
     },
     "metadata": {},
     "output_type": "display_data"
    },
    {
     "data": {
      "image/png": "[encoded data removed]",
      "text/plain": [
       "<Figure size 1000x100 with 1 Axes>"
      ]
     },
     "metadata": {},
     "output_type": "display_data"
    }
   ],
   "source": [
    "for prop_name in ['#two-qubit', 'time', '#gate', 'depth', 'cpu_time']:\n",
    "    fig, ax = plt.subplots(figsize =(10, 1))\n",
    "\n",
    "    plot_data = all_result_df[all_result_df['property'] == prop_name]\n",
    "    ax = sns.boxplot(x=\"value\", y=\"synthesizer\", data=plot_data, fliersize=3, width =1, whis=10)  # RUN PLOT\n",
    "    plt.title(prop_name)\n",
    "    ax.set_xscale('log')\n",
    "    fig.show()\n",
    "    # fig.savefig(f'synthesis_evaluation_fig/qubit{n_qubits}_{prop_name}_{\"linear\" if linear else \"\"}.svg')"
   ]
  },
  {
   "cell_type": "code",
   "execution_count": null,
   "metadata": {},
   "outputs": [],
   "source": []
  },
  {
   "cell_type": "code",
   "execution_count": null,
   "metadata": {},
   "outputs": [],
   "source": []
  }
 ],
 "metadata": {
  "kernelspec": {
   "display_name": "Python 3.9.13 ('ISCA')",
   "language": "python",
   "name": "python3"
  },
  "language_info": {
   "codemirror_mode": {
    "name": "ipython",
    "version": 3
   },
   "file_extension": ".py",
   "mimetype": "text/x-python",
   "name": "python",
   "nbconvert_exporter": "python",
   "pygments_lexer": "ipython3",
   "version": "3.9.13"
  },
  "orig_nbformat": 4,
  "vscode": {
   "interpreter": {
    "hash": "a5cb17940ec456bfd6f6b24ecec011f7bb1827da42833da90014f36a02c01967"
   }
  }
 },
 "nbformat": 4,
 "nbformat_minor": 2
}
