{
 "cells": [
  {
   "cell_type": "code",
   "execution_count": 1,
   "metadata": {},
   "outputs": [],
   "source": [
    "import numpy as np"
   ]
  },
  {
   "cell_type": "code",
   "execution_count": 2,
   "metadata": {},
   "outputs": [],
   "source": [
    "import pickle \n",
    "with open('res/4_qubit_res_alg.pkl','rb')as f:\n",
    "    all_res = pickle.load(f)"
   ]
  },
  {
   "cell_type": "code",
   "execution_count": 3,
   "metadata": {},
   "outputs": [],
   "source": [
    "def get_cnot_cnt(qc):\n",
    "    cnt = 0\n",
    "    for ins in qc:\n",
    "        if ins.operation.name in ['cx','cz','cnot']:\n",
    "            cnt += 1\n",
    "    return cnt"
   ]
  },
  {
   "cell_type": "code",
   "execution_count": 4,
   "metadata": {},
   "outputs": [],
   "source": [
    "from qiskit.converters import circuit_to_dag\n",
    "def get_depth(qc):\n",
    "    dag = circuit_to_dag(qc)\n",
    "    return len([l for l in dag.layers()])"
   ]
  },
  {
   "cell_type": "code",
   "execution_count": 5,
   "metadata": {},
   "outputs": [
    {
     "name": "stdout",
     "output_type": "stream",
     "text": [
      "qft_4.json  gete_num: 40  cnot_num: 12  depth: 20  time: 26.72110652923584\n",
      "hamiltonian_simulation_4.json  gete_num: 22  cnot_num: 3  depth: 12  time: 1.8610427379608154\n",
      "ising_4.json  gete_num: 24  cnot_num: 6  depth: 11  time: 14.030058145523071\n",
      "qsvm_4.json  gete_num: 24  cnot_num: 6  depth: 16  time: 7.007863759994507\n",
      "vqc_4.json  gete_num: 298  cnot_num: 97  depth: 159  time: 12391.415885925293\n",
      "qknn_4.json  gete_num: 60  cnot_num: 12  depth: 28  time: 32.00191879272461\n",
      "ghz_4.json  gete_num: 34  cnot_num: 5  depth: 20  time: 9.546345710754395\n",
      "grover_4.json  gete_num: 82  cnot_num: 23  depth: 49  time: 54.914209604263306\n",
      "avg  gete_num: 73.0  cnot_num: 20.5  depth: 39.375  time: 1567.1873039007187\n"
     ]
    }
   ],
   "source": [
    "gate_nums , cnot_nums, depths, times = [],[],[],[]\n",
    "for k, v in all_res.items():\n",
    "    gate_nums.append(v[2])\n",
    "    cnot_nums.append(get_cnot_cnt(v[0]))\n",
    "    depths.append(get_depth(v[0]))\n",
    "    times.append(v[1])\n",
    "    print(k, ' gete_num:', v[2], ' cnot_num:', get_cnot_cnt(v[0]), ' depth:', get_depth(v[0]), ' time:', v[1])\n",
    "gate_nums = np.array(gate_nums)\n",
    "cnot_nums = np.array(cnot_nums)\n",
    "depths = np.array(depths)\n",
    "times = np.array(times)\n",
    "print('avg', ' gete_num:', gate_nums.mean(), ' cnot_num:', cnot_nums.mean(), ' depth:', depths.mean(), ' time:', times.mean())"
   ]
  },
  {
   "cell_type": "code",
   "execution_count": 6,
   "metadata": {},
   "outputs": [
    {
     "name": "stdout",
     "output_type": "stream",
     "text": [
      "2.5347222222222223\n",
      "3.203125\n",
      "2.4920886075949364\n",
      "132.4389228257118\n"
     ]
    }
   ],
   "source": [
    "print(gate_nums.mean()/ gate_nums[np.argsort(gate_nums)[:5]].mean())\n",
    "print(cnot_nums.mean()/ cnot_nums[np.argsort(cnot_nums)[:5]].mean())\n",
    "print(depths.mean()/ depths[np.argsort(depths)[:5]].mean())\n",
    "print(times.mean()/ times[np.argsort(times)[:5]].mean())"
   ]
  }
 ],
 "metadata": {
  "kernelspec": {
   "display_name": "qgd",
   "language": "python",
   "name": "python3"
  },
  "language_info": {
   "codemirror_mode": {
    "name": "ipython",
    "version": 3
   },
   "file_extension": ".py",
   "mimetype": "text/x-python",
   "name": "python",
   "nbconvert_exporter": "python",
   "pygments_lexer": "ipython3",
   "version": "3.9.16"
  },
  "orig_nbformat": 4
 },
 "nbformat": 4,
 "nbformat_minor": 2
}
