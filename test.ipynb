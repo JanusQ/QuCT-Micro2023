{
 "cells": [
  {
   "cell_type": "code",
   "execution_count": 19,
   "metadata": {},
   "outputs": [],
   "source": [
    "import numpy as np"
   ]
  },
  {
   "cell_type": "code",
   "execution_count": 20,
   "metadata": {},
   "outputs": [],
   "source": [
    "import pickle \n",
    "with open('artifact/synthesis/qgd/5_qubit_res_alg.pkl','rb')as f:\n",
    "    all_res = pickle.load(f)"
   ]
  },
  {
   "cell_type": "code",
   "execution_count": 21,
   "metadata": {},
   "outputs": [],
   "source": [
    "def get_cnot_cnt(qc):\n",
    "    cnt = 0\n",
    "    for ins in qc:\n",
    "        if ins.operation.name in ['cx','cz','cnot']:\n",
    "            cnt += 1\n",
    "    return cnt"
   ]
  },
  {
   "cell_type": "code",
   "execution_count": 22,
   "metadata": {},
   "outputs": [],
   "source": [
    "from qiskit.converters import circuit_to_dag\n",
    "def get_depth(qc):\n",
    "    dag = circuit_to_dag(qc)\n",
    "    return len([l for l in dag.layers()])"
   ]
  },
  {
   "cell_type": "code",
   "execution_count": 23,
   "metadata": {},
   "outputs": [
    {
     "name": "stdout",
     "output_type": "stream",
     "text": [
      "qft_5.json  gete_num: 77  cnot_num: 20  depth: 40  time: 372.37316966056824\n",
      "qsvm_5.json  gete_num: 29  cnot_num: 8  depth: 11  time: 155.3179166316986\n",
      "ghz_5.json  gete_num: 35  cnot_num: 5  depth: 16  time: 171.51082468032837\n",
      "ising_5.json  gete_num: 29  cnot_num: 8  depth: 11  time: 37.049744844436646\n",
      "hamiltonian_simulation_5.json  gete_num: 29  cnot_num: 4  depth: 12  time: 20.056336641311646\n",
      "avg  gete_num: 39.8  cnot_num: 9.0  depth: 18.0  time: 151.2615984916687\n"
     ]
    }
   ],
   "source": [
    "gate_nums , cnot_nums, depths, times = [],[],[],[]\n",
    "for k, v in all_res.items():\n",
    "    gate_nums.append(v[2])\n",
    "    cnot_nums.append(get_cnot_cnt(v[0]))\n",
    "    depths.append(get_depth(v[0]))\n",
    "    times.append(v[1])\n",
    "    print(k, ' gete_num:', v[2], ' cnot_num:', get_cnot_cnt(v[0]), ' depth:', get_depth(v[0]), ' time:', v[1])\n",
    "gate_nums = np.array(gate_nums)\n",
    "cnot_nums = np.array(cnot_nums)\n",
    "depths = np.array(depths)\n",
    "times = np.array(times)\n",
    "print('avg', ' gete_num:', gate_nums.mean(), ' cnot_num:', cnot_nums.mean(), ' depth:', depths.mean(), ' time:', times.mean())"
   ]
  },
  {
   "cell_type": "code",
   "execution_count": 24,
   "metadata": {},
   "outputs": [
    {
     "name": "stdout",
     "output_type": "stream",
     "text": [
      "1.0\n",
      "1.0\n",
      "1.0\n",
      "1.0\n"
     ]
    }
   ],
   "source": [
    "print(gate_nums.mean()/ gate_nums[np.argsort(gate_nums)[:5]].mean())\n",
    "print(cnot_nums.mean()/ cnot_nums[np.argsort(cnot_nums)[:5]].mean())\n",
    "print(depths.mean()/ depths[np.argsort(depths)[:5]].mean())\n",
    "print(times.mean()/ times[np.argsort(times)[:5]].mean())"
   ]
  }
 ],
 "metadata": {
  "kernelspec": {
   "display_name": "qgd",
   "language": "python",
   "name": "python3"
  },
  "language_info": {
   "codemirror_mode": {
    "name": "ipython",
    "version": 3
   },
   "file_extension": ".py",
   "mimetype": "text/x-python",
   "name": "python",
   "nbconvert_exporter": "python",
   "pygments_lexer": "ipython3",
   "version": "3.9.13"
  },
  "orig_nbformat": 4
 },
 "nbformat": 4,
 "nbformat_minor": 2
}
