{
 "cells": [
  {
   "cell_type": "code",
   "execution_count": 1,
   "metadata": {},
   "outputs": [],
   "source": [
    "from qiskit import QuantumCircuit\n",
    "from qiskit.quantum_info import Operator\n",
    "from qiskit import transpile\n",
    "from scipy.stats import unitary_group\n",
    "import matplotlib.pyplot as plt\n",
    "import time"
   ]
  },
  {
   "cell_type": "code",
   "execution_count": 2,
   "metadata": {},
   "outputs": [],
   "source": [
    "def cnot_count(qc: QuantumCircuit):\n",
    "    count_ops = qc.count_ops()\n",
    "    if 'cx' in count_ops:\n",
    "        return count_ops['cx']\n",
    "    return 0\n",
    "\n",
    "\n",
    "def cz_count(qc: QuantumCircuit):\n",
    "    count_ops = qc.count_ops()\n",
    "    if 'cz' in count_ops:\n",
    "        return count_ops['cz']\n",
    "    return 0"
   ]
  },
  {
   "cell_type": "code",
   "execution_count": 3,
   "metadata": {},
   "outputs": [
    {
     "name": "stderr",
     "output_type": "stream",
     "text": [
      "/Users/siwei/miniforge3/envs/tf2/lib/python3.8/site-packages/numpy/linalg/linalg.py:2147: RuntimeWarning: divide by zero encountered in det\n",
      "  r = _umath_linalg.det(a, signature=signature)\n",
      "/Users/siwei/miniforge3/envs/tf2/lib/python3.8/site-packages/numpy/linalg/linalg.py:2147: RuntimeWarning: invalid value encountered in det\n",
      "  r = _umath_linalg.det(a, signature=signature)\n"
     ]
    },
    {
     "name": "stdout",
     "output_type": "stream",
     "text": [
      "gate =  1\n",
      "#two-qubit gates =  0\n",
      "depth =  1\n",
      "time 0.02892780303955078\n",
      "finish\n",
      "gate =  11\n",
      "#two-qubit gates =  3\n",
      "depth =  7\n",
      "time 0.008006095886230469\n",
      "finish\n",
      "gate =  58\n",
      "#two-qubit gates =  20\n",
      "depth =  41\n",
      "time 0.054763078689575195\n",
      "finish\n",
      "gate =  270\n",
      "#two-qubit gates =  100\n",
      "depth =  197\n",
      "time 0.24710583686828613\n",
      "finish\n",
      "gate =  1166\n",
      "#two-qubit gates =  444\n",
      "depth =  869\n",
      "time 0.8893778324127197\n",
      "finish\n",
      "gate =  4846\n",
      "#two-qubit gates =  1868\n",
      "depth =  3653\n",
      "time 4.180285930633545\n",
      "finish\n"
     ]
    }
   ],
   "source": [
    "n_gates = []\n",
    "times = []\n",
    "for n_qubits in range(1, 8):\n",
    "    \n",
    "    circuit = QuantumCircuit(n_qubits)\n",
    "    # print(n_qubits)\n",
    "    init_unitary_mat = unitary_group.rvs(2**n_qubits)\n",
    "    circuit.append(Operator(init_unitary_mat), list(range(n_qubits)))\n",
    "    start_time = time.time()\n",
    "    circuit = transpile(circuit, optimization_level=3, basis_gates=['u', 'cz'])\n",
    "    end_time = time.time()\n",
    "    # print(circuit)\n",
    "    print(n_qubits)\n",
    "    print('gate = ', len(circuit))\n",
    "    print('#two-qubit gates = ', cnot_count(circuit) + cz_count(circuit))\n",
    "    print('depth = ', circuit.depth())\n",
    "    print('time', end_time - start_time)\n",
    "    print('finish')\n",
    "    \n",
    "    n_gates.append(len(circuit))\n",
    "    times.append(end_time - start_time)\n",
    "    "
   ]
  },
  {
   "cell_type": "code",
   "execution_count": null,
   "metadata": {},
   "outputs": [
    {
     "data": {
      "image/png": "[encoded data removed]",
      "text/plain": [
       "<Figure size 432x288 with 1 Axes>"
      ]
     },
     "metadata": {
      "needs_background": "light"
     },
     "output_type": "display_data"
    }
   ],
   "source": [
    "plt.plot(list(range(1, len(n_gates)+1)), n_gates)\n",
    "plt.yscale('log')\n",
    "plt.savefig('motivation_#gate_qsd')\n",
    "plt.show()"
   ]
  },
  {
   "cell_type": "code",
   "execution_count": null,
   "metadata": {},
   "outputs": [
    {
     "ename": "NameError",
     "evalue": "name 'times' is not defined",
     "output_type": "error",
     "traceback": [
      "\u001b[0;31m---------------------------------------------------------------------------\u001b[0m",
      "\u001b[0;31mNameError\u001b[0m                                 Traceback (most recent call last)",
      "\u001b[1;32m/Users/siwei/workspace/QuCT-Micro2023/motivation.ipynb 单元格 5\u001b[0m in \u001b[0;36m<cell line: 1>\u001b[0;34m()\u001b[0m\n\u001b[0;32m----> <a href='vscode-notebook-cell:/Users/siwei/workspace/QuCT-Micro2023/motivation.ipynb#W5sZmlsZQ%3D%3D?line=0'>1</a>\u001b[0m plt\u001b[39m.\u001b[39mplot(\u001b[39mlist\u001b[39m(\u001b[39mrange\u001b[39m(\u001b[39m1\u001b[39m, \u001b[39mlen\u001b[39m(n_gates)\u001b[39m+\u001b[39m\u001b[39m1\u001b[39m)), times)\n\u001b[1;32m      <a href='vscode-notebook-cell:/Users/siwei/workspace/QuCT-Micro2023/motivation.ipynb#W5sZmlsZQ%3D%3D?line=1'>2</a>\u001b[0m plt\u001b[39m.\u001b[39myscale(\u001b[39m'\u001b[39m\u001b[39mlog\u001b[39m\u001b[39m'\u001b[39m)\n\u001b[1;32m      <a href='vscode-notebook-cell:/Users/siwei/workspace/QuCT-Micro2023/motivation.ipynb#W5sZmlsZQ%3D%3D?line=2'>3</a>\u001b[0m plt\u001b[39m.\u001b[39msavefig(\u001b[39m'\u001b[39m\u001b[39mmotivation_#gate_qsd\u001b[39m\u001b[39m'\u001b[39m)\n",
      "\u001b[0;31mNameError\u001b[0m: name 'times' is not defined"
     ]
    }
   ],
   "source": [
    "plt.plot(list(range(1, len(n_gates)+1)), times)\n",
    "plt.yscale('log')\n",
    "plt.savefig('motivation_#gate_qsd')\n",
    "plt.show()"
   ]
  },
  {
   "cell_type": "code",
   "execution_count": null,
   "metadata": {},
   "outputs": [],
   "source": []
  }
 ],
 "metadata": {
  "kernelspec": {
   "display_name": "tf2",
   "language": "python",
   "name": "python3"
  },
  "language_info": {
   "codemirror_mode": {
    "name": "ipython",
    "version": 3
   },
   "file_extension": ".py",
   "mimetype": "text/x-python",
   "name": "python",
   "nbconvert_exporter": "python",
   "pygments_lexer": "ipython3",
   "version": "3.8.13"
  },
  "orig_nbformat": 4,
  "vscode": {
   "interpreter": {
    "hash": "40ab7016a719c16865f45333a0e432dfc9f4de1f9c9e434a65327be7166adb9f"
   }
  }
 },
 "nbformat": 4,
 "nbformat_minor": 2
}
