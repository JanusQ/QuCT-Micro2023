{
 "cells": [
  {
   "cell_type": "code",
   "execution_count": 2,
   "metadata": {},
   "outputs": [],
   "source": [
    "import numpy as np\n",
    "single_average_error = 1 - np.array([0.084, 0.040, 0.083, 0.025, 0.037, ]) / 100 # 原先是带%的\n",
    "\n",
    "couple_average_error = 1 - np.array([0.6, 0.459, 0.537, 0.615, ]) / 100  # q1_q2, q2_q3, ..., q9_q10\n",
    "\n",
    "t1s = np.array([94.5, 124.1, 117.1, 124.8, 136.3])  # q1, q2, ..., q5\n",
    "\n",
    "t2s = np.array([5.04, 7.63, 5.67, 6.97, 4.40, ]) # q1, q2, ..., q10\n",
    "\n",
    "measure0_fidelity = np.array([0.97535460, 0.97535460, 0.9645634, 0.9907482, 0.96958333])\n",
    "measure1_fidelity = np.array([0.955646258, 0.97572327, 0.950431034, 0.9629411764, 0.9570833333])"
   ]
  },
  {
   "cell_type": "code",
   "execution_count": 3,
   "metadata": {},
   "outputs": [
    {
     "data": {
      "text/plain": [
       "(array([0.99916, 0.9996 , 0.99917, 0.99975, 0.99963]),\n",
       " array([0.994  , 0.99541, 0.99463, 0.99385]))"
      ]
     },
     "execution_count": 3,
     "metadata": {},
     "output_type": "execute_result"
    }
   ],
   "source": [
    "single_average_error, couple_average_error"
   ]
  },
  {
   "cell_type": "code",
   "execution_count": null,
   "metadata": {},
   "outputs": [],
   "source": [
    "import matplotlib.pyplot as plt\n",
    "fig, axes = plt.subplots(figsize=(10, 10)) \n",
    "axes.bar([i for i in range(len(single_average_error))],single_average_error)\n",
    "axes.set_xticks([i for i in range(len(single_average_error))])\n",
    "axes.set_ylim(0.999,1)"
   ]
  },
  {
   "cell_type": "code",
   "execution_count": null,
   "metadata": {},
   "outputs": [],
   "source": [
    "import matplotlib.pyplot as plt\n",
    "fig, axes = plt.subplots(figsize=(10, 10)) \n",
    "axes.bar([i for i in range(len(single_average_error))],single_average_error)\n",
    "axes.set_xticks([i for i in range(len(single_average_error))])\n",
    "axes.set_ylim(0.999,1)"
   ]
  },
  {
   "cell_type": "code",
   "execution_count": null,
   "metadata": {},
   "outputs": [],
   "source": [
    "import matplotlib.pyplot as plt\n",
    "fig, axes = plt.subplots(figsize=(10, 10)) \n",
    "axes.bar([i for i in range(len(single_average_error))],single_average_error)\n",
    "axes.set_xticks([i for i in range(len(single_average_error))])\n",
    "axes.set_ylim(0.999,1)"
   ]
  },
  {
   "cell_type": "code",
   "execution_count": null,
   "metadata": {},
   "outputs": [],
   "source": [
    "import matplotlib.pyplot as plt\n",
    "fig, axes = plt.subplots(figsize=(10, 10)) \n",
    "axes.bar([i for i in range(len(couple_average_error))],couple_average_error)\n",
    "axes.set_xticks([i for i in range(len(single_average_error))])\n",
    "axes.set_xlabel([(i,i+1) for i in range(len(couple_average_error))])\n",
    "axes.set_ylim(0.99,1)"
   ]
  }
 ],
 "metadata": {
  "kernelspec": {
   "display_name": "ISCA",
   "language": "python",
   "name": "python3"
  },
  "language_info": {
   "codemirror_mode": {
    "name": "ipython",
    "version": 3
   },
   "file_extension": ".py",
   "mimetype": "text/x-python",
   "name": "python",
   "nbconvert_exporter": "python",
   "pygments_lexer": "ipython3",
   "version": "3.9.13"
  },
  "orig_nbformat": 4,
  "vscode": {
   "interpreter": {
    "hash": "a5cb17940ec456bfd6f6b24ecec011f7bb1827da42833da90014f36a02c01967"
   }
  }
 },
 "nbformat": 4,
 "nbformat_minor": 2
}
