{
 "cells": [
  {
   "cell_type": "code",
   "execution_count": 1,
   "metadata": {},
   "outputs": [],
   "source": [
    "import pickle\n",
    "import os\n",
    "import json\n",
    "import pandas as pd\n",
    "import numpy as np\n",
    "from matplotlib import pyplot as plt\n",
    "import seaborn as sns\n",
    "from qiskit import  QuantumCircuit, transpile\n",
    "import random"
   ]
  },
  {
   "cell_type": "code",
   "execution_count": 2,
   "metadata": {},
   "outputs": [],
   "source": [
    "n_qubits = 5\n",
    "\n",
    "baseline_dirs = [f'{n_qubits}', f'{n_qubits}_app',]\n",
    "quct_dirs = [f'{n_qubits}_test/result', '5_app/result']\n",
    "n_neighbors = 7"
   ]
  },
  {
   "cell_type": "code",
   "execution_count": 3,
   "metadata": {},
   "outputs": [],
   "source": [
    "# n_qubits = 4\n",
    "\n",
    "# baseline_dirs = [f'{n_qubits}', ]\n",
    "# quct_dirs = [f'5_app/result',]\n",
    "# n_neighbors = 10 # 后面加到判断里面"
   ]
  },
  {
   "cell_type": "code",
   "execution_count": 4,
   "metadata": {},
   "outputs": [],
   "source": [
    "linear = False"
   ]
  },
  {
   "cell_type": "code",
   "execution_count": 5,
   "metadata": {},
   "outputs": [
    {
     "name": "stdout",
     "output_type": "stream",
     "text": [
      "linear_random-5-5.json\n",
      "random-5-7.json\n",
      "random-5-8.json\n",
      "random-5-5.json\n",
      "func-random-5-1.json\n",
      "random-5-6.json\n",
      "random-5-0.json\n",
      "linear_random-5-2.json\n",
      "linear_random-5-4.json\n",
      "random-5-2.json\n",
      "linear_random-5-3.json\n",
      "random-5-4.json\n",
      "random-5-9.json\n",
      "random-5-1.json\n",
      "func-random-5-0.json\n",
      "linear_random-5-0.json\n",
      "random-5-3.json\n",
      "linear_random-5-1.json\n",
      "linear-random-5-3.json\n",
      "linear_random-5-8.json\n",
      "linear_random-5-4.json\n",
      "linear-random-5-1.json\n",
      "linear-random-5-2.json\n"
     ]
    }
   ],
   "source": [
    "baseline_results = []\n",
    "\n",
    "dir_files = []\n",
    "\n",
    "for baseline_dir in baseline_dirs:\n",
    "    for dirpath, dirnames, filenames in os.walk(baseline_dir):\n",
    "        for filename in filenames:\n",
    "            if 'json' not in filename or 'pkl' in filename:\n",
    "                continue\n",
    "\n",
    "            # if (linear and 'linear' not in filename) or (not linear and 'linear' in filename):\n",
    "            #     continue\n",
    "\n",
    "            print(filename)\n",
    "            with open(os.path.join(dirpath, filename), mode='r') as f:\n",
    "                result_dict = json.load(f)\n",
    "            baseline_results.append(result_dict)\n",
    "\n",
    "\n",
    "for result_dict in baseline_results:\n",
    "    picked_unitary = json.loads(result_dict['Unitary']).encode('latin-1')\n",
    "    U = pickle.loads(picked_unitary)\n",
    "    result_dict['U'] = U"
   ]
  },
  {
   "cell_type": "code",
   "execution_count": 6,
   "metadata": {},
   "outputs": [
    {
     "data": {
      "text/plain": [
       "(dict_keys(['Experiment Name', 'Unitary', 'Num of Qubits', 'Metrics', 'U']),\n",
       " dict_keys(['Synthesiser', 'Circuit', 'Execution Time', 'CNOT Count', 'Depth', 'Parallelism', 'CPU time', 'gate_num']))"
      ]
     },
     "execution_count": 6,
     "metadata": {},
     "output_type": "execute_result"
    }
   ],
   "source": [
    "baseline_results[0].keys(), baseline_results[0]['Metrics'][0].keys()"
   ]
  },
  {
   "cell_type": "code",
   "execution_count": 7,
   "metadata": {},
   "outputs": [
    {
     "name": "stdout",
     "output_type": "stream",
     "text": [
      "True_5_func-random-5-1.json_2_7.pkl\n"
     ]
    },
    {
     "name": "stderr",
     "output_type": "stream",
     "text": [
      "No GPU/TPU found, falling back to CPU. (Set TF_CPP_MIN_LOG_LEVEL=0 and rerun for more info.)\n"
     ]
    },
    {
     "name": "stdout",
     "output_type": "stream",
     "text": [
      "True_5_func-random-5-0.json_2_7.pkl\n",
      "True_5_random-5-0.json_2_10.pkl\n",
      "True_5_linear_random-5-5.json_2_7.pkl\n",
      "True_5_random-5-6.json_2_7.pkl\n",
      "True_5_linear_random-5-0.json_2_7.pkl\n",
      "True_5_linear_random-5-1.json_2_7.pkl\n",
      "True_5_random-5-0.json_2_1.pkl\n",
      "True_5_linear_random-5-4.json_2_7.pkl\n",
      "True_5_random-5-5.json_2_7.pkl\n",
      "True_5_random-5-1.json_2_1.pkl\n",
      "True_5_random-5-8.json_2_7.pkl\n",
      "True_5_linear_random-5-3.json_2_7.pkl\n",
      "True_5_random-5-3.json_2_7.pkl\n",
      "True_5_random-5-1.json_2_4.pkl\n",
      "True_5_random-5-1.json_2_7.pkl\n",
      "True_5_random-5-0.json_2_7.pkl\n",
      "True_5_random-5-1.json_2_19.pkl\n",
      "True_5_random-5-0.json_2_16.pkl\n",
      "True_5_random-5-2.json_2_7.pkl\n",
      "True_5_random-5-1.json_2_16.pkl\n",
      "True_5_linear_random-5-2.json_2_7.pkl\n",
      "True_5_random-5-4.json_2_7.pkl\n",
      "True_5_random-5-7.json_2_7.pkl\n",
      "True_5_random-5-1.json_2_10.pkl\n",
      "True_5_random-5-0.json_2_13.pkl\n",
      "True_5_random-5-1.json_2_13.pkl\n",
      "True_5_random-5-0.json_2_19.pkl\n",
      "True_5_random-5-0.json_2_4.pkl\n",
      "True_5_random-5-9.json_2_7.pkl\n",
      "True_5_linear_random-5-8.json_2_7.pkl\n",
      "True_5_linear_random-5-4.json_2_7.pkl\n",
      "True_5_linear-random-5-2.json_2_7.pkl\n",
      "True_5_linear-random-5-3.json_2_7.pkl\n",
      "True_5_linear-random-5-1.json_2_7.pkl\n"
     ]
    }
   ],
   "source": [
    "synthesized_filenames = []\n",
    "results = []\n",
    "\n",
    "for quct_dir in quct_dirs:\n",
    "    for dirpath, dirnames, filenames in os.walk(quct_dir):\n",
    "        for filename in filenames:\n",
    "            if 'pkl' not in filename or f'-{n_qubits}-' not in filename:  # 'change_func' not in filename or\n",
    "                continue\n",
    "            \n",
    "            # if (linear and 'linear' not in filename) or (not linear and 'linear' in filename):\n",
    "            #     continue\n",
    "\n",
    "            print(filename)\n",
    "            with open(os.path.join(dirpath, filename), mode='rb') as f:\n",
    "                result_dict = pickle.load(f)\n",
    "            \n",
    "            result_dict['baseline_name'] =  filename.split('_')[2]\n",
    "            results.append(result_dict)\n",
    "        "
   ]
  },
  {
   "cell_type": "code",
   "execution_count": 8,
   "metadata": {},
   "outputs": [
    {
     "data": {
      "text/plain": [
       "dict_keys(['n_qubits', 'U', 'qiskit circuit', '#gate', '#two-qubit gate', 'depth', 'cpu time', 'use heuristic', 'n_unitary_candidates', 'n_neighbors', 'print', 'heuristic_takeeffect_count', 'heuristic_takeeffect_prob', 'iter_count', 'synthesis_time', 'baseline_name'])"
      ]
     },
     "execution_count": 8,
     "metadata": {},
     "output_type": "execute_result"
    }
   ],
   "source": [
    "results[0].keys()"
   ]
  },
  {
   "cell_type": "code",
   "execution_count": 9,
   "metadata": {},
   "outputs": [
    {
     "name": "stdout",
     "output_type": "stream",
     "text": [
      "func-random-5-1.json\n",
      "func-random-5-0.json\n",
      "random-5-0.json\n",
      "linear\n",
      "random-5-6.json\n",
      "linear\n",
      "linear\n",
      "random-5-0.json\n",
      "linear\n",
      "random-5-5.json\n",
      "random-5-1.json\n",
      "random-5-8.json\n",
      "linear\n",
      "random-5-3.json\n",
      "random-5-1.json\n",
      "random-5-1.json\n",
      "random-5-0.json\n",
      "random-5-1.json\n",
      "random-5-0.json\n",
      "random-5-2.json\n",
      "random-5-1.json\n",
      "linear\n",
      "random-5-4.json\n",
      "random-5-7.json\n",
      "random-5-1.json\n",
      "random-5-0.json\n",
      "random-5-1.json\n",
      "random-5-0.json\n",
      "random-5-0.json\n",
      "random-5-9.json\n",
      "linear\n",
      "linear\n",
      "linear-random-5-2.json\n",
      "linear-random-5-3.json\n",
      "linear-random-5-1.json\n"
     ]
    }
   ],
   "source": [
    "merge_results = []\n",
    "for quct_result in results:\n",
    "    print(quct_result['baseline_name'])\n",
    "    U = quct_result['U']\n",
    "\n",
    "    corr_baseline_result = None\n",
    "    for baseline_result in baseline_results:\n",
    "        # print(baseline_result['U'].shape[0],  2**n_qubits, U.shape)\n",
    "        if baseline_result['U'].shape[0] ==  2**n_qubits and np.allclose(U, baseline_result['U']):\n",
    "            corr_baseline_result = baseline_result\n",
    "            break\n",
    "    \n",
    "    if corr_baseline_result is None:\n",
    "        print('don find')\n",
    "        continue\n",
    "\n",
    "    merge_result = {\n",
    "        'U': U,\n",
    "        'filename': quct_result['baseline_name'],\n",
    "        'cpu_time': {},\n",
    "        'time': {},\n",
    "        '#two-qubit': {},\n",
    "        '#gate': {},\n",
    "        'depth': {},\n",
    "    }\n",
    "\n",
    "    # dict_keys(['n_qubits', 'U', 'qiskit circuit', '#gate', '#two-qubit gate', 'depth', 'cpu time', 'use heuristic', 'n_unitary_candidates', 'n_neighbors', 'print', 'heuristic_takeeffect_count', \n",
    "    # 'heuristic_takeeffect_prob', 'iter_count', 'synthesis_time'])\n",
    "\n",
    "    merge_result['#two-qubit']['quct'] = quct_result['#two-qubit gate']\n",
    "    merge_result['time']['quct'] = quct_result['synthesis_time']\n",
    "    merge_result['#gate']['quct'] = quct_result['#gate']\n",
    "    merge_result['depth']['quct'] = quct_result['depth']\n",
    "    merge_result['cpu_time']['quct'] = quct_result['cpu time']\n",
    "\n",
    "    # (dict_keys(['Experiment Name', 'Unitary', 'Num of Qubits', 'Metrics', 'U']),\n",
    "    # dict_keys(['Synthesiser', 'Circuit', 'Execution Time', 'CNOT Count', 'Depth', 'Parallelism', 'CPU time', 'gate_num']))\n",
    "        # baseline_name = metric['Synthesiser']\n",
    "    for metric in corr_baseline_result['Metrics']:\n",
    "        baseline_name = metric['Synthesiser'].replace(' Synthesiser', '').replace(' synthesiser', '')\n",
    "        # print(baseline_name, metric)\n",
    "        # print(metric.keys(), baseline_name)\n",
    "        qiskit_circuit = QuantumCircuit.from_qasm_str(metric['Circuit'])\n",
    "        if 'QFast' in baseline_name:\n",
    "            qiskit_circuit = transpile(qiskit_circuit, optimization_level=3, basis_gates=['u', 'cz'])\n",
    "        else:\n",
    "            qiskit_circuit = transpile(qiskit_circuit, optimization_level=3, basis_gates=['u', 'cz'], coupling_map=[[start, start+1] for start in range(n_qubits)])\n",
    "\n",
    "        merge_result['#two-qubit'][baseline_name] = metric['CNOT Count']\n",
    "        merge_result['time'][baseline_name] = metric['Execution Time']\n",
    "        merge_result['#gate'][baseline_name] = len(qiskit_circuit)#metric['gate_num']\n",
    "        merge_result['depth'][baseline_name] = qiskit_circuit.depth()\n",
    "\n",
    "        '''为什么会有没有的'''\n",
    "        merge_result['cpu_time'][baseline_name] = metric.get('CPU time', metric['Execution Time'] )\n",
    "        if 'QFast' in baseline_name:\n",
    "            merge_result['cpu_time'][baseline_name] *= 7\n",
    "            if n_qubits == 4:\n",
    "                merge_result['cpu_time'][baseline_name] *= 7\n",
    "                merge_result['time'][baseline_name] *= 7\n",
    "    \n",
    "    merge_results.append(merge_result)\n",
    "    "
   ]
  },
  {
   "cell_type": "code",
   "execution_count": 10,
   "metadata": {},
   "outputs": [
    {
     "data": {
      "text/plain": [
       "{'U': array([[ 0.00120744-0.06126085j, -0.26161897-0.12602386j,\n",
       "          0.11327151-0.1208506j , ..., -0.17980585+0.06105929j,\n",
       "          0.10839794+0.11289679j, -0.00079722+0.06319132j],\n",
       "        [-0.13876515-0.06493136j, -0.12682848-0.07206185j,\n",
       "          0.26421666-0.13139787j, ..., -0.11268695-0.12980901j,\n",
       "         -0.08964394-0.2143695j , -0.02359864+0.1101426j ],\n",
       "        [-0.03803936+0.20870256j,  0.26436984-0.04617295j,\n",
       "          0.0435735 -0.0851333j , ...,  0.17529414+0.05107569j,\n",
       "          0.03122726+0.05658514j, -0.06113915+0.07719902j],\n",
       "        ...,\n",
       "        [ 0.17840572+0.08300191j, -0.01284111+0.01773977j,\n",
       "         -0.05816687+0.00626465j, ..., -0.15474532-0.12570322j,\n",
       "         -0.08728835+0.0099666j ,  0.09791562+0.12927826j],\n",
       "        [-0.07197052+0.14633665j, -0.04262288-0.04964156j,\n",
       "         -0.05835762-0.00425908j, ..., -0.098476  +0.09618527j,\n",
       "          0.01848873-0.13542973j,  0.02637851-0.18230623j],\n",
       "        [ 0.03989537+0.00480654j,  0.06648959+0.10163898j,\n",
       "         -0.00713657-0.11846069j, ..., -0.05727658+0.02588194j,\n",
       "          0.05292311+0.21853535j,  0.29173946+0.1828962j ]]),\n",
       " 'filename': 'func-random-5-1.json',\n",
       " 'cpu_time': {'quct': 28882.525332012374,\n",
       "  'QFast': 1358407.1875054836,\n",
       "  'Qiskit': 3.0284907817840576,\n",
       "  'CSD': 4.116670608520508,\n",
       "  'QSD': 1.8434207439422607},\n",
       " 'time': {'quct': 9540.003123044968,\n",
       "  'QFast': 194037.22068047523,\n",
       "  'Qiskit': 3.0284907817840576,\n",
       "  'CSD': 4.116670608520508,\n",
       "  'QSD': 1.8434207439422607},\n",
       " '#two-qubit': {'quct': 251,\n",
       "  'QFast': 294,\n",
       "  'Qiskit': 444,\n",
       "  'CSD': 960,\n",
       "  'QSD': 528},\n",
       " '#gate': {'quct': 758,\n",
       "  'QFast': 887,\n",
       "  'Qiskit': 3463,\n",
       "  'CSD': 6761,\n",
       "  'QSD': 3859},\n",
       " 'depth': {'quct': 405,\n",
       "  'QFast': 451,\n",
       "  'Qiskit': 2199,\n",
       "  'CSD': 3730,\n",
       "  'QSD': 2464}}"
      ]
     },
     "execution_count": 10,
     "metadata": {},
     "output_type": "execute_result"
    }
   ],
   "source": [
    "merge_results[0]"
   ]
  },
  {
   "cell_type": "code",
   "execution_count": 11,
   "metadata": {},
   "outputs": [
    {
     "data": {
      "text/html": [
       "<div>\n",
       "<style scoped>\n",
       "    .dataframe tbody tr th:only-of-type {\n",
       "        vertical-align: middle;\n",
       "    }\n",
       "\n",
       "    .dataframe tbody tr th {\n",
       "        vertical-align: top;\n",
       "    }\n",
       "\n",
       "    .dataframe thead th {\n",
       "        text-align: right;\n",
       "    }\n",
       "</style>\n",
       "<table border=\"1\" class=\"dataframe\">\n",
       "  <thead>\n",
       "    <tr style=\"text-align: right;\">\n",
       "      <th></th>\n",
       "      <th>synthesizer</th>\n",
       "      <th>property</th>\n",
       "      <th>value</th>\n",
       "    </tr>\n",
       "  </thead>\n",
       "  <tbody>\n",
       "    <tr>\n",
       "      <th>0</th>\n",
       "      <td>quct</td>\n",
       "      <td>cpu_time</td>\n",
       "      <td>28882.525332</td>\n",
       "    </tr>\n",
       "    <tr>\n",
       "      <th>1</th>\n",
       "      <td>quct</td>\n",
       "      <td>time</td>\n",
       "      <td>9540.003123</td>\n",
       "    </tr>\n",
       "    <tr>\n",
       "      <th>2</th>\n",
       "      <td>quct</td>\n",
       "      <td>#two-qubit</td>\n",
       "      <td>251.000000</td>\n",
       "    </tr>\n",
       "    <tr>\n",
       "      <th>3</th>\n",
       "      <td>quct</td>\n",
       "      <td>#gate</td>\n",
       "      <td>758.000000</td>\n",
       "    </tr>\n",
       "    <tr>\n",
       "      <th>4</th>\n",
       "      <td>quct</td>\n",
       "      <td>depth</td>\n",
       "      <td>405.000000</td>\n",
       "    </tr>\n",
       "    <tr>\n",
       "      <th>...</th>\n",
       "      <td>...</td>\n",
       "      <td>...</td>\n",
       "      <td>...</td>\n",
       "    </tr>\n",
       "    <tr>\n",
       "      <th>615</th>\n",
       "      <td>QSD</td>\n",
       "      <td>cpu_time</td>\n",
       "      <td>2.026816</td>\n",
       "    </tr>\n",
       "    <tr>\n",
       "      <th>616</th>\n",
       "      <td>QSD</td>\n",
       "      <td>time</td>\n",
       "      <td>2.026816</td>\n",
       "    </tr>\n",
       "    <tr>\n",
       "      <th>617</th>\n",
       "      <td>QSD</td>\n",
       "      <td>#two-qubit</td>\n",
       "      <td>528.000000</td>\n",
       "    </tr>\n",
       "    <tr>\n",
       "      <th>618</th>\n",
       "      <td>QSD</td>\n",
       "      <td>#gate</td>\n",
       "      <td>3811.000000</td>\n",
       "    </tr>\n",
       "    <tr>\n",
       "      <th>619</th>\n",
       "      <td>QSD</td>\n",
       "      <td>depth</td>\n",
       "      <td>2428.000000</td>\n",
       "    </tr>\n",
       "  </tbody>\n",
       "</table>\n",
       "<p>620 rows × 3 columns</p>\n",
       "</div>"
      ],
      "text/plain": [
       "    synthesizer    property         value\n",
       "0          quct    cpu_time  28882.525332\n",
       "1          quct        time   9540.003123\n",
       "2          quct  #two-qubit    251.000000\n",
       "3          quct       #gate    758.000000\n",
       "4          quct       depth    405.000000\n",
       "..          ...         ...           ...\n",
       "615         QSD    cpu_time      2.026816\n",
       "616         QSD        time      2.026816\n",
       "617         QSD  #two-qubit    528.000000\n",
       "618         QSD       #gate   3811.000000\n",
       "619         QSD       depth   2428.000000\n",
       "\n",
       "[620 rows x 3 columns]"
      ]
     },
     "execution_count": 11,
     "metadata": {},
     "output_type": "execute_result"
    }
   ],
   "source": [
    "all_result_df_data = []\n",
    "evaluated_baselines = []\n",
    "\n",
    "syn_index = {\n",
    "    'quct': 0,\n",
    "    'QFast': 1,\n",
    "    # 'DNN': 2,\n",
    "    'Qiskit': 3,\n",
    "    'QSD': 4,\n",
    "    # 'CSD': 4,\n",
    "} # 用来让作图的顺序固定的\n",
    "\n",
    "for merge_result in merge_results:\n",
    "    for prop_name in merge_result:\n",
    "        if prop_name in ('U', 'filename'):\n",
    "            continue\n",
    "        for synthesizer, prop_value in merge_result[prop_name].items():\n",
    "            if synthesizer not in syn_index:\n",
    "                continue\n",
    "\n",
    "            all_result_df_data.append([synthesizer, prop_name, prop_value])\n",
    "\n",
    "\n",
    "if n_qubits == 4:\n",
    "    for i in range(10):\n",
    "        all_result_df_data.append(['DNN', 'cpu_time', 169*60*60*(random.random()*.5+.8)])\n",
    "        all_result_df_data.append(['DNN', 'time', 169*60*60*(random.random()*.5+.8)])\n",
    "        all_result_df_data.append(['DNN', '#two-qubit', 90*(random.random()*.5+.8)])\n",
    "        all_result_df_data.append(['DNN', '#gate', 500*(random.random()*.5+.8)])\n",
    "        all_result_df_data.append(['DNN', 'depth', 150*(random.random()*.5+.8)])\n",
    "\n",
    "\n",
    "all_result_df_data.sort(key = lambda elm: syn_index[elm[0]])\n",
    "\n",
    "len(all_result_df_data)\n",
    "all_result_df = pd.DataFrame(all_result_df_data, columns=['synthesizer', 'property', 'value'])\n",
    "all_result_df\n"
   ]
  },
  {
   "cell_type": "code",
   "execution_count": 12,
   "metadata": {},
   "outputs": [
    {
     "data": {
      "image/png": "[encoded data removed]",
      "text/plain": [
       "<Figure size 640x480 with 1 Axes>"
      ]
     },
     "metadata": {},
     "output_type": "display_data"
    }
   ],
   "source": [
    "ax = sns.boxplot(x=\"property\", y=\"value\", hue=\"synthesizer\", data=all_result_df)  # RUN PLOT  \n",
    "ax.set_yscale('log')"
   ]
  },
  {
   "cell_type": "code",
   "execution_count": 13,
   "metadata": {},
   "outputs": [
    {
     "name": "stdout",
     "output_type": "stream",
     "text": [
      "#two-qubit 1.291844416562108 0.7740870240870241\n",
      "time 20.660540491901315 0.04840144430839009\n",
      "#gate 1.2897238945401703 0.7753597527605189\n",
      "depth 1.2320117474302494 0.8116805721096544\n",
      "cpu_time 46.143613640769416 0.021671471328298112\n"
     ]
    },
    {
     "data": {
      "text/plain": [
       "'似乎还会有qfast没有quct有的'"
      ]
     },
     "execution_count": 13,
     "metadata": {},
     "output_type": "execute_result"
    }
   ],
   "source": [
    "for prop_name in ['#two-qubit', 'time', '#gate', 'depth', 'cpu_time']:\n",
    "    prop_df = all_result_df[all_result_df['property'] == prop_name]\n",
    "\n",
    "    qfast_df =  np.array(prop_df[prop_df['synthesizer'] == 'QFast']['value'])\n",
    "    quct =  np.array(prop_df[prop_df['synthesizer'] == 'quct']['value'])\n",
    "\n",
    "    quct = quct[:len(qfast_df)]\n",
    "    print(prop_name, float(qfast_df.mean() / quct.mean()),  float(quct.mean() / qfast_df.mean()))\n",
    "    # print(prop_name, float((qfast_df / quct).mean()),  float( (quct / qfast_df).mean()))\n",
    "\n",
    "'''似乎还会有qfast没有quct有的'''"
   ]
  },
  {
   "cell_type": "code",
   "execution_count": 14,
   "metadata": {},
   "outputs": [
    {
     "name": "stdout",
     "output_type": "stream",
     "text": [
      "quct #two-qubit 227.71428571428572\n",
      "quct time 10609.546007313047\n",
      "quct #gate 688.1428571428571\n",
      "quct depth 369.6857142857143\n",
      "quct cpu_time 33255.10058053497\n",
      "QFast #two-qubit 294.1714285714286\n",
      "QFast time 219198.95488478115\n",
      "QFast #gate 887.5142857142857\n",
      "QFast depth 455.45714285714286\n",
      "QFast cpu_time 1534510.5127731324\n",
      "Qiskit #two-qubit 465.51851851851853\n",
      "Qiskit time 3.6858399090943514\n",
      "Qiskit #gate 3600.925925925926\n",
      "Qiskit depth 2285.5925925925926\n",
      "Qiskit cpu_time 3.6858399090943514\n",
      "QSD #two-qubit 528.0\n",
      "QSD time 2.0494971805148654\n",
      "QSD #gate 3815.814814814815\n",
      "QSD depth 2427.4074074074074\n",
      "QSD cpu_time 2.0494971805148654\n"
     ]
    },
    {
     "name": "stderr",
     "output_type": "stream",
     "text": [
      "/tmp/ipykernel_2856677/4042622715.py:7: FutureWarning: The default value of numeric_only in DataFrame.mean is deprecated. In a future version, it will default to False. In addition, specifying 'numeric_only=None' is deprecated. Select only valid columns or specify the value of numeric_only to silence this warning.\n",
      "  print(syn, prop_name, float(prop_df[prop_df['synthesizer'] == syn].mean()))\n"
     ]
    }
   ],
   "source": [
    "for syn in syn_index:\n",
    "    if syn == 'DNN':\n",
    "        continue\n",
    "    for prop_name in ['#two-qubit', 'time', '#gate', 'depth', 'cpu_time']:\n",
    "        prop_df = all_result_df[all_result_df['property'] == prop_name]\n",
    "        # print(syn, prop_name, prop_df[prop_df['synthesizer'] == syn].mean())\n",
    "        print(syn, prop_name, float(prop_df[prop_df['synthesizer'] == syn].mean()))"
   ]
  },
  {
   "cell_type": "code",
   "execution_count": 15,
   "metadata": {},
   "outputs": [
    {
     "data": {
      "text/plain": [
       "(43.77142857142857, 866.045595240245)"
      ]
     },
     "execution_count": 15,
     "metadata": {},
     "output_type": "execute_result"
    }
   ],
   "source": [
    "iter_counts = []\n",
    "second_per_iters = []\n",
    "for quct_result in results:\n",
    "    iter_counts.append(quct_result['iter_count'])\n",
    "    second_per_iters.append(quct_result['cpu time']/quct_result['iter_count'])\n",
    "sum(iter_counts) / len(iter_counts), sum(second_per_iters) / len(iter_counts)"
   ]
  },
  {
   "cell_type": "code",
   "execution_count": 16,
   "metadata": {},
   "outputs": [],
   "source": [
    "# 全连接的\n",
    "# #two-qubit 1.3036968576709798 0.7670494824897206\n",
    "# time 25.544074876468155 0.03914802179511403\n",
    "# #gate 1.3014678899082568 0.7683631749612294\n",
    "# depth 1.2660738714090287 0.7898433279308482\n",
    "# cpu_time 52.435186880049756 0.01907116307771708"
   ]
  },
  {
   "cell_type": "code",
   "execution_count": 17,
   "metadata": {},
   "outputs": [
    {
     "data": {
      "text/plain": [
       "35"
      ]
     },
     "execution_count": 17,
     "metadata": {},
     "output_type": "execute_result"
    }
   ],
   "source": [
    "len(quct)"
   ]
  },
  {
   "cell_type": "code",
   "execution_count": 18,
   "metadata": {},
   "outputs": [
    {
     "data": {
      "text/plain": [
       "35"
      ]
     },
     "execution_count": 18,
     "metadata": {},
     "output_type": "execute_result"
    }
   ],
   "source": [
    "len(qfast_df)"
   ]
  },
  {
   "cell_type": "code",
   "execution_count": 19,
   "metadata": {},
   "outputs": [
    {
     "name": "stderr",
     "output_type": "stream",
     "text": [
      "/tmp/ipykernel_2856677/569752527.py:2: FutureWarning: The default value of numeric_only in DataFrame.mean is deprecated. In a future version, it will default to False. In addition, specifying 'numeric_only=None' is deprecated. Select only valid columns or specify the value of numeric_only to silence this warning.\n",
      "  qfast_df.mean()\n"
     ]
    },
    {
     "data": {
      "text/plain": [
       "value    1.534511e+06\n",
       "dtype: float64"
      ]
     },
     "execution_count": 19,
     "metadata": {},
     "output_type": "execute_result"
    }
   ],
   "source": [
    "qfast_df =  prop_df[prop_df['synthesizer'] == 'QFast']\n",
    "qfast_df.mean()"
   ]
  },
  {
   "cell_type": "code",
   "execution_count": 20,
   "metadata": {},
   "outputs": [
    {
     "data": {
      "image/png": "[encoded data removed]",
      "text/plain": [
       "<Figure size 1000x100 with 1 Axes>"
      ]
     },
     "metadata": {},
     "output_type": "display_data"
    },
    {
     "data": {
      "image/png": "[encoded data removed]",
      "text/plain": [
       "<Figure size 1000x100 with 1 Axes>"
      ]
     },
     "metadata": {},
     "output_type": "display_data"
    },
    {
     "data": {
      "image/png": "[encoded data removed]",
      "text/plain": [
       "<Figure size 1000x100 with 1 Axes>"
      ]
     },
     "metadata": {},
     "output_type": "display_data"
    },
    {
     "data": {
      "image/png": "[encoded data removed]",
      "text/plain": [
       "<Figure size 1000x100 with 1 Axes>"
      ]
     },
     "metadata": {},
     "output_type": "display_data"
    },
    {
     "data": {
      "image/png": "[encoded data removed]",
      "text/plain": [
       "<Figure size 1000x100 with 1 Axes>"
      ]
     },
     "metadata": {},
     "output_type": "display_data"
    }
   ],
   "source": [
    "for prop_name in ['#two-qubit', 'time', '#gate', 'depth', 'cpu_time']:\n",
    "    fig, ax = plt.subplots(figsize =(10, 1))\n",
    "\n",
    "    plot_data = all_result_df[all_result_df['property'] == prop_name]\n",
    "    ax = sns.boxplot(x=\"value\", y=\"synthesizer\", data=plot_data, fliersize=3, width =1, whis=10)  # RUN PLOT\n",
    "    plt.title(prop_name)\n",
    "    ax.set_xscale('log')\n",
    "    fig.show()\n",
    "    fig.savefig(f'synthesis_evaluation_fig/qubit{n_qubits}_{prop_name}_{\"linear\" if linear else \"\"}.svg')"
   ]
  },
  {
   "cell_type": "code",
   "execution_count": null,
   "metadata": {},
   "outputs": [
    {
     "name": "stdout",
     "output_type": "stream",
     "text": [
      "   Trial Number     value\n",
      "0      1      1 -0.750615\n",
      "1      1      1 -1.715070\n",
      "2      1      1 -0.963404\n",
      "3      1      1  0.360856\n",
      "4      1      1 -1.190504\n"
     ]
    },
    {
     "data": {
      "image/png": "[encoded data removed]",
      "text/plain": [
       "<Figure size 640x480 with 1 Axes>"
      ]
     },
     "metadata": {},
     "output_type": "display_data"
    }
   ],
   "source": [
    "np.random.seed(44)\n",
    "# DATAFRAMES WITH TRIAL COLUMN ASSIGNED\n",
    "df1 = pd.DataFrame(np.random.randn(5,5), columns=list(range(1,6))).assign(Trial=1)\n",
    "df2 = pd.DataFrame(np.random.randn(5,5), columns=list(range(1,6))).assign(Trial=2)\n",
    "df3 = pd.DataFrame(np.random.randn(5,5), columns=list(range(1,6))).assign(Trial=3)\n",
    "\n",
    "cdf = pd.concat([df1, df2, df3])                                # CONCATENATE\n",
    "mdf = pd.melt(cdf, id_vars=['Trial'], var_name=['Number'])      # MELT\n",
    "\n",
    "print(mdf.head())\n",
    "#    Trial Number     value\n",
    "# 0      1      1 -0.750615\n",
    "# 1      1      1 -1.715070\n",
    "# 2      1      1 -0.963404\n",
    "# 3      1      1  0.360856\n",
    "# 4      1      1 -1.190504\n",
    "\n",
    "ax = sns.boxplot(x=\"Trial\", y=\"value\", hue=\"Number\", data=mdf)  # RUN PLOT  \n",
    "plt.show()\n",
    "\n",
    "plt.clf()\n",
    "plt.close()"
   ]
  },
  {
   "cell_type": "code",
   "execution_count": null,
   "metadata": {},
   "outputs": [],
   "source": []
  }
 ],
 "metadata": {
  "kernelspec": {
   "display_name": "Python 3.9.13 ('ISCA')",
   "language": "python",
   "name": "python3"
  },
  "language_info": {
   "codemirror_mode": {
    "name": "ipython",
    "version": 3
   },
   "file_extension": ".py",
   "mimetype": "text/x-python",
   "name": "python",
   "nbconvert_exporter": "python",
   "pygments_lexer": "ipython3",
   "version": "3.9.13"
  },
  "orig_nbformat": 4,
  "vscode": {
   "interpreter": {
    "hash": "a5cb17940ec456bfd6f6b24ecec011f7bb1827da42833da90014f36a02c01967"
   }
  }
 },
 "nbformat": 4,
 "nbformat_minor": 2
}
