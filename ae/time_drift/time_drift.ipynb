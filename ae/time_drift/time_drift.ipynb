{
 "cells": [
  {
   "cell_type": "code",
   "execution_count": 5,
   "metadata": {
    "ExecuteTime": {
     "end_time": "2023-07-31T05:20:41.816524100Z",
     "start_time": "2023-07-31T05:20:40.100730600Z"
    }
   },
   "outputs": [],
   "source": [
    "import numpy as np\n",
    "import pickle\n",
    "import sys \n",
    "sys.path.append('/home/langcongliang/macro')"
   ]
  },
  {
   "cell_type": "code",
   "execution_count": 6,
   "metadata": {
    "ExecuteTime": {
     "end_time": "2023-07-31T05:20:46.284554100Z",
     "start_time": "2023-07-31T05:20:46.260574600Z"
    }
   },
   "outputs": [],
   "source": [
    "with open(f\"quct_model.pkl\",\"rb\")as f:\n",
    "    downstream_model = pickle.load(f)\n",
    "upstream_model = downstream_model.upstream_model"
   ]
  },
  {
   "cell_type": "code",
   "execution_count": 14,
   "metadata": {
    "ExecuteTime": {
     "end_time": "2023-07-31T05:24:38.822278Z",
     "start_time": "2023-07-31T05:24:38.808944100Z"
    }
   },
   "outputs": [],
   "source": [
    "split = pickle.load(open('split_index.pkl','rb'))"
   ]
  },
  {
   "cell_type": "code",
   "execution_count": 4,
   "metadata": {
    "ExecuteTime": {
     "end_time": "2023-07-31T05:20:49.076713800Z",
     "start_time": "2023-07-31T05:20:49.017626700Z"
    }
   },
   "outputs": [],
   "source": [
    "from scipy import io as sio\n",
    "day1_5 = sio.loadmat(\"day1_5.mat\")\n",
    "last_day = sio.loadmat(\"last_day.mat\")"
   ]
  },
  {
   "cell_type": "code",
   "execution_count": 5,
   "metadata": {
    "ExecuteTime": {
     "end_time": "2023-07-31T05:20:49.963972700Z",
     "start_time": "2023-07-31T05:20:49.792360900Z"
    }
   },
   "outputs": [
    {
     "name": "stdout",
     "output_type": "stream",
     "text": [
      "360\n"
     ]
    }
   ],
   "source": [
    "with open('dataset_360.pkl','rb') as f:\n",
    "    dataset_360 = pickle.load(f)\n",
    "    print(len(dataset_360))\n",
    "    for i, cir in enumerate(dataset_360):\n",
    "        assert 'devide_qubits' not in cir or cir['devide_qubits'] is None\n"
   ]
  },
  {
   "cell_type": "code",
   "execution_count": 6,
   "metadata": {
    "ExecuteTime": {
     "end_time": "2023-07-31T05:20:56.009354600Z",
     "start_time": "2023-07-31T05:20:55.989476800Z"
    }
   },
   "outputs": [],
   "source": [
    "single_average_error_rb = {0: 0.9994094148043156, # rb\n",
    " 1: 0.9993508083886652,\n",
    " 2: 0.9993513578387458,\n",
    " 3: 0.9996978330672296,\n",
    " 4: 0.9997258463524775,\n",
    " 5: 0.9993898065578337,\n",
    " 6: 0.9998335484697743,\n",
    " 7: 0.9997460044815009,\n",
    " 8: 0.9997219426985601,\n",
    " 9: 0.9992924485427597,\n",
    " 10: 0.9994018918682177,\n",
    " 11: 0.9998410411794697,\n",
    " 12: 0.9994231683912435,\n",
    " 13: 0.9995938422219371,\n",
    " 14: 0.9947661045069707,\n",
    " 15: 0.9997576786354693,\n",
    " 16: 0.9998387638441334,\n",
    " 17: 0.9996691783504945}\n",
    "couple_average_error_rb = {(5,11): 0.993651602350742, # rb\n",
    " (11,17): 0.9943374306798481,\n",
    " (4,5): 0.9810612795342519,\n",
    " (10,11): 0.9915544427978213,\n",
    " (16,17): 0.9908639448675425,\n",
    " (4,10): 0.9914941121128581,\n",
    " (10,16): 0.9868303060599511,\n",
    " (3,4): 0.9899226069903224,\n",
    " (9,10): 0.9945250360193374,\n",
    " (15,16): 0.9933864398113101,\n",
    " (3,9): 0.991508018299962,\n",
    " (9,15): 0.993773364368622,\n",
    " (2,3): 0.9802169505904027,\n",
    " (8,9): 0.9912794178832776,\n",
    " (14,15): 0.9867247971867894,\n",
    " (2,8): 0.9765590682588615,\n",
    " (8,14): 0.9863913339619792,\n",
    " (1,2): 0.9713229087974011,\n",
    " (7,8): 0.9908463216114999,\n",
    " (13,14): 0.9564265490465305,\n",
    " (1,7): 0.9856880460026779,\n",
    " (7,13): 0.9935440562158602,\n",
    " (0,1): 0.9833453296232256,\n",
    " (6,7): 0.9939901490743566,\n",
    " (12,13): 0.9821366244436676,\n",
    " (0,6): 0.9861987068804432,\n",
    " (6,12): 0.9863008252688662}\n",
    "single_average_error_xeb = {0: 0.9994, #xeb\n",
    " 1: 0.99956,\n",
    " 2: 0.99918,\n",
    " 3: 0.99976,\n",
    " 4: 0.9994,\n",
    " 5: 0.99962,\n",
    " 6: 0.99989,\n",
    " 7: 0.99973,\n",
    " 8: 0.99961,\n",
    " 9: 0.99941,\n",
    " 10: 0.99975,\n",
    " 11: 0.99939,\n",
    " 12: 0.99873,\n",
    " 13: 0.9996,\n",
    " 14: 0.99946,\n",
    " 15: 0.99976,\n",
    " 16: 0.99977,\n",
    " 17: 0.99975}\n",
    "couple_average_error_xeb = {(5, 11): 0.98602, # xeb\n",
    " (11, 17): 0.99561,\n",
    " (4, 5): 0.99482,\n",
    " (10, 11): 0.99529,\n",
    " (16, 17): 0.996,\n",
    " (4, 10): 0.9908,\n",
    " (10, 16): 0.99501,\n",
    " (3, 4): 0.99738,\n",
    " (9, 10): 0.99373,\n",
    " (15, 16): 0.9934499999999999,\n",
    " (3, 9): 0.99659,\n",
    " (9, 15): 0.99357,\n",
    " (2, 3): 0.99353,\n",
    " (8, 9): 0.98778,\n",
    " (14, 15): 0.9956,\n",
    " (2, 8): 0.98862,\n",
    " (8, 14): 0.99711,\n",
    " (1, 2): 0.99445,\n",
    " (7, 8): 0.97725,\n",
    " (13, 14): 0.99527,\n",
    " (1, 7): 0.99098,\n",
    " (7, 13): 0.99424,\n",
    " (0, 1): 0.99394,\n",
    " (6, 7): 0.99452,\n",
    " (12, 13): 0.99141,\n",
    " (0, 6): 0.99474,\n",
    " (6, 12): 0.99312}\n",
    "from upstream.randomwalk_model import extract_device\n",
    "def get_rb_fidelity(circuit_info):\n",
    "    fidelity = 1\n",
    "    for gate in circuit_info['gates']:\n",
    "        device = extract_device(gate)\n",
    "        if isinstance(device,tuple):\n",
    "            if 'map' in circuit_info:\n",
    "                device = (circuit_info['map'][device[0]],circuit_info['map'][device[1]])\n",
    "            fidelity = fidelity * couple_average_error_rb[device]\n",
    "        else:\n",
    "            if 'map' in circuit_info:\n",
    "                device = circuit_info['map'][device]\n",
    "            fidelity = fidelity * single_average_error_rb[device]\n",
    "    return fidelity #* np.product((measure0_fidelity + measure1_fidelity) / 2)\n",
    "from upstream.randomwalk_model import extract_device\n",
    "def get_xeb_fidelity(circuit_info):\n",
    "    fidelity = 1\n",
    "    for gate in circuit_info['gates']:\n",
    "        device = extract_device(gate)\n",
    "        if isinstance(device,tuple):\n",
    "            if 'map' in circuit_info:\n",
    "                device = (circuit_info['map'][device[0]],circuit_info['map'][device[1]])\n",
    "            fidelity = fidelity * couple_average_error_xeb[device]\n",
    "        else:\n",
    "            if 'map' in circuit_info:\n",
    "                device = circuit_info['map'][device]\n",
    "            fidelity = fidelity * single_average_error_xeb[device]\n",
    "    return fidelity #* np.product((measure0_fidelity + measure1_fidelity) / 2)"
   ]
  },
  {
   "cell_type": "code",
   "execution_count": 7,
   "metadata": {
    "ExecuteTime": {
     "end_time": "2023-07-31T05:20:59.127257300Z",
     "start_time": "2023-07-31T05:20:56.680165800Z"
    }
   },
   "outputs": [],
   "source": [
    "predicts,xebs,rbs = [],[],[]\n",
    "for i, cir in enumerate(dataset_360):\n",
    "    new_cir = upstream_model.vectorize(cir)\n",
    "    predict = downstream_model.predict_fidelity(new_cir)\n",
    "    predicts.append(predict)\n",
    "    xebs.append(get_xeb_fidelity(new_cir))\n",
    "    rbs.append(get_rb_fidelity(new_cir))"
   ]
  },
  {
   "cell_type": "code",
   "execution_count": 8,
   "metadata": {
    "ExecuteTime": {
     "end_time": "2023-07-31T05:20:59.191435300Z",
     "start_time": "2023-07-31T05:20:59.127257300Z"
    }
   },
   "outputs": [
    {
     "name": "stdout",
     "output_type": "stream",
     "text": [
      "0\n",
      "0\n",
      "0\n",
      "0\n"
     ]
    }
   ],
   "source": [
    "reals = []\n",
    "for day in range(1,5):\n",
    "    cnt = 0\n",
    "    real = []\n",
    "    for idx, cir in enumerate(dataset_360):\n",
    "        state_count = dict([(s, cnt) for s, cnt in zip(\n",
    "                            np.squeeze(day1_5[f'circuit No.{day}.{idx} state_index']),\n",
    "                            np.squeeze(day1_5[f'circuit No.{day}.{idx} measure_counts']))])\n",
    "        cir['state_count'] = state_count\n",
    "        if 0 not in state_count:\n",
    "            cnt += 1\n",
    "            continue\n",
    "        real.append(state_count[0] / 1000)\n",
    "    reals.append(real)\n",
    "    print(cnt)\n",
    "\n",
    "real = []\n",
    "for idx, cir in enumerate(dataset_360):\n",
    "    state_count = dict([(s, cnt) for s, cnt in zip(\n",
    "                        np.squeeze(last_day[f'circuit No.{4}.{idx} state_index']),\n",
    "                        np.squeeze(last_day[f'circuit No.{4}.{idx} measure_counts']))])\n",
    "    cir['state_count'] = state_count\n",
    "    if 0 not in state_count:\n",
    "        cnt += 1\n",
    "        continue\n",
    "    real.append(state_count[0] / 1000)\n",
    "reals.append(real)        "
   ]
  },
  {
   "cell_type": "code",
   "execution_count": 9,
   "metadata": {
    "ExecuteTime": {
     "end_time": "2023-07-31T05:20:59.191435300Z",
     "start_time": "2023-07-31T05:20:59.191435300Z"
    }
   },
   "outputs": [],
   "source": [
    "with open('quest_predict.pkl','rb')as f:\n",
    "    quest = pickle.load(f)"
   ]
  },
  {
   "cell_type": "code",
   "execution_count": 10,
   "metadata": {
    "ExecuteTime": {
     "end_time": "2023-07-31T05:20:59.223423700Z",
     "start_time": "2023-07-31T05:20:59.191435300Z"
    }
   },
   "outputs": [],
   "source": [
    "import  matplotlib.pyplot as plt\n",
    "deltas_rb = []\n",
    "deltas_xeb = []\n",
    "deltas_quct = []\n",
    "deltas_quest = []\n",
    "\n",
    "predicts = np.array(predicts)[split[-120:]]\n",
    "xebs = np.array(xebs)[split[-120:]]\n",
    "rbs = np.array(rbs)[split[-120:]]\n",
    "quest = np.array(quest)[split[-120:]]\n",
    "\n",
    "for real in reals:\n",
    "    real= np.array(real)[split[-120:]]\n",
    "\n",
    "    deltas_quct.append(np.abs(real - predicts).mean())\n",
    "    deltas_rb.append(np.abs(rbs - real).mean())\n",
    "    deltas_xeb.append(np.abs(xebs - real).mean())\n",
    "    deltas_quest.append(np.abs(quest - real).mean())"
   ]
  },
  {
   "cell_type": "code",
   "execution_count": 11,
   "metadata": {
    "ExecuteTime": {
     "end_time": "2023-07-31T05:21:42.482689400Z",
     "start_time": "2023-07-31T05:21:01.144237Z"
    }
   },
   "outputs": [
    {
     "name": "stdout",
     "output_type": "stream",
     "text": [
      "n_instruction2circuit_infos =  {70: 12, 110: 14, 50: 12, 60: 11, 80: 12, 90: 14, 100: 13, 40: 12}\n",
      "epoch: 0, \t epoch loss = 98.41555786132812, \t test loss = 10.256092071533203\n",
      "epoch: 1, \t epoch loss = 95.92676544189453, \t test loss = 10.031905174255371\n",
      "epoch: 2, \t epoch loss = 93.50691223144531, \t test loss = 9.825554847717285\n",
      "epoch: 3, \t epoch loss = 91.20560455322266, \t test loss = 9.639124870300293\n",
      "epoch: 4, \t epoch loss = 89.08186340332031, \t test loss = 9.457524299621582\n",
      "epoch: 5, \t epoch loss = 87.06876373291016, \t test loss = 9.285247802734375\n",
      "epoch: 6, \t epoch loss = 85.09335327148438, \t test loss = 9.130043983459473\n",
      "epoch: 7, \t epoch loss = 83.28809356689453, \t test loss = 8.98660659790039\n",
      "epoch: 8, \t epoch loss = 81.57179260253906, \t test loss = 8.850563049316406\n",
      "epoch: 9, \t epoch loss = 79.96795654296875, \t test loss = 8.717764854431152\n",
      "epoch: 10, \t epoch loss = 78.39990234375, \t test loss = 8.596715927124023\n",
      "epoch: 11, \t epoch loss = 76.92359924316406, \t test loss = 8.483125686645508\n",
      "epoch: 12, \t epoch loss = 75.5335464477539, \t test loss = 8.376755714416504\n",
      "epoch: 13, \t epoch loss = 74.20358276367188, \t test loss = 8.27922534942627\n",
      "epoch: 14, \t epoch loss = 72.9287109375, \t test loss = 8.189815521240234\n",
      "epoch: 15, \t epoch loss = 71.7881088256836, \t test loss = 8.098579406738281\n",
      "epoch: 16, \t epoch loss = 70.6031494140625, \t test loss = 8.021659851074219\n",
      "epoch: 17, \t epoch loss = 69.53163146972656, \t test loss = 7.94587516784668\n",
      "epoch: 18, \t epoch loss = 68.48823547363281, \t test loss = 7.877135276794434\n",
      "epoch: 19, \t epoch loss = 67.5589370727539, \t test loss = 7.803506374359131\n",
      "epoch: 20, \t epoch loss = 66.52796173095703, \t test loss = 7.747532367706299\n",
      "epoch: 21, \t epoch loss = 65.6633529663086, \t test loss = 7.688508033752441\n",
      "taining error params finishs\n",
      "n_instruction2circuit_infos =  {70: 13, 110: 13, 50: 12, 40: 13, 100: 11, 80: 12, 90: 17, 60: 9}\n",
      "epoch: 0, \t epoch loss = 107.82827758789062, \t test loss = 11.829365730285645\n",
      "epoch: 1, \t epoch loss = 104.83171081542969, \t test loss = 11.591697692871094\n",
      "epoch: 2, \t epoch loss = 101.96104431152344, \t test loss = 11.37132453918457\n",
      "epoch: 3, \t epoch loss = 99.28092193603516, \t test loss = 11.163313865661621\n",
      "epoch: 4, \t epoch loss = 96.80471801757812, \t test loss = 10.957099914550781\n",
      "epoch: 5, \t epoch loss = 94.28336334228516, \t test loss = 10.779670715332031\n",
      "epoch: 6, \t epoch loss = 92.09159088134766, \t test loss = 10.600442886352539\n",
      "epoch: 7, \t epoch loss = 89.84791564941406, \t test loss = 10.444722175598145\n",
      "epoch: 8, \t epoch loss = 87.89420318603516, \t test loss = 10.288057327270508\n",
      "epoch: 9, \t epoch loss = 85.9215087890625, \t test loss = 10.146062850952148\n",
      "epoch: 10, \t epoch loss = 84.06240844726562, \t test loss = 10.018746376037598\n",
      "epoch: 11, \t epoch loss = 82.37872314453125, \t test loss = 9.89452075958252\n",
      "epoch: 12, \t epoch loss = 80.70195770263672, \t test loss = 9.783308982849121\n",
      "epoch: 13, \t epoch loss = 79.140625, \t test loss = 9.68306827545166\n",
      "epoch: 14, \t epoch loss = 77.71495819091797, \t test loss = 9.583264350891113\n",
      "epoch: 15, \t epoch loss = 76.33856964111328, \t test loss = 9.487373352050781\n",
      "epoch: 16, \t epoch loss = 74.99732971191406, \t test loss = 9.396575927734375\n",
      "epoch: 17, \t epoch loss = 73.69842529296875, \t test loss = 9.317913055419922\n",
      "epoch: 18, \t epoch loss = 72.51290893554688, \t test loss = 9.243660926818848\n",
      "epoch: 19, \t epoch loss = 71.38031005859375, \t test loss = 9.170860290527344\n",
      "epoch: 20, \t epoch loss = 70.30457305908203, \t test loss = 9.103424072265625\n",
      "epoch: 21, \t epoch loss = 69.24015808105469, \t test loss = 9.042095184326172\n",
      "epoch: 22, \t epoch loss = 68.26472473144531, \t test loss = 8.983589172363281\n",
      "taining error params finishs\n",
      "n_instruction2circuit_infos =  {90: 13, 80: 12, 70: 10, 40: 13, 110: 14, 100: 15, 60: 10, 50: 13}\n",
      "epoch: 0, \t epoch loss = 152.46356201171875, \t test loss = 10.608489036560059\n",
      "epoch: 1, \t epoch loss = 148.20774841308594, \t test loss = 10.22280216217041\n",
      "epoch: 2, \t epoch loss = 143.9039764404297, \t test loss = 9.871672630310059\n",
      "epoch: 3, \t epoch loss = 139.93373107910156, \t test loss = 9.532489776611328\n",
      "epoch: 4, \t epoch loss = 136.115234375, \t test loss = 9.207953453063965\n",
      "epoch: 5, \t epoch loss = 132.46031188964844, \t test loss = 8.902312278747559\n",
      "epoch: 6, \t epoch loss = 128.98162841796875, \t test loss = 8.610024452209473\n",
      "epoch: 7, \t epoch loss = 125.6274185180664, \t test loss = 8.334431648254395\n",
      "epoch: 8, \t epoch loss = 122.46381378173828, \t test loss = 8.074304580688477\n",
      "epoch: 9, \t epoch loss = 119.3803482055664, \t test loss = 7.834479808807373\n",
      "epoch: 10, \t epoch loss = 116.59051513671875, \t test loss = 7.597034931182861\n",
      "epoch: 11, \t epoch loss = 113.74795532226562, \t test loss = 7.3791184425354\n",
      "epoch: 12, \t epoch loss = 111.10082244873047, \t test loss = 7.177368640899658\n",
      "epoch: 13, \t epoch loss = 108.64202880859375, \t test loss = 6.979917049407959\n",
      "epoch: 14, \t epoch loss = 106.30496215820312, \t test loss = 6.784509658813477\n",
      "epoch: 15, \t epoch loss = 103.90950012207031, \t test loss = 6.610358715057373\n",
      "epoch: 16, \t epoch loss = 101.72789001464844, \t test loss = 6.445505619049072\n",
      "epoch: 17, \t epoch loss = 99.59468841552734, \t test loss = 6.295740127563477\n",
      "epoch: 18, \t epoch loss = 97.72494506835938, \t test loss = 6.138210296630859\n",
      "epoch: 19, \t epoch loss = 95.70458984375, \t test loss = 6.0008111000061035\n",
      "epoch: 20, \t epoch loss = 93.91144561767578, \t test loss = 5.866177082061768\n",
      "epoch: 21, \t epoch loss = 92.10984802246094, \t test loss = 5.744761943817139\n",
      "epoch: 22, \t epoch loss = 90.46995544433594, \t test loss = 5.626354217529297\n",
      "epoch: 23, \t epoch loss = 88.89253997802734, \t test loss = 5.512206554412842\n",
      "epoch: 24, \t epoch loss = 87.2959213256836, \t test loss = 5.410001754760742\n",
      "epoch: 25, \t epoch loss = 85.87449645996094, \t test loss = 5.3080854415893555\n",
      "epoch: 26, \t epoch loss = 84.4441909790039, \t test loss = 5.213851451873779\n",
      "epoch: 27, \t epoch loss = 83.08084869384766, \t test loss = 5.125527381896973\n",
      "epoch: 28, \t epoch loss = 81.81861877441406, \t test loss = 5.037846088409424\n",
      "epoch: 29, \t epoch loss = 80.5194091796875, \t test loss = 4.960707187652588\n",
      "epoch: 30, \t epoch loss = 79.39054107666016, \t test loss = 4.881392955780029\n",
      "epoch: 31, \t epoch loss = 78.14718627929688, \t test loss = 4.815431118011475\n",
      "epoch: 32, \t epoch loss = 77.08268737792969, \t test loss = 4.750689506530762\n",
      "epoch: 33, \t epoch loss = 76.05806732177734, \t test loss = 4.6839680671691895\n",
      "epoch: 34, \t epoch loss = 75.00727844238281, \t test loss = 4.626184940338135\n",
      "taining error params finishs\n",
      "n_instruction2circuit_infos =  {40: 12, 80: 15, 100: 10, 90: 17, 70: 11, 110: 12, 60: 11, 50: 12}\n",
      "epoch: 0, \t epoch loss = 92.41625213623047, \t test loss = 11.461774826049805\n",
      "epoch: 1, \t epoch loss = 90.04460144042969, \t test loss = 11.256413459777832\n",
      "epoch: 2, \t epoch loss = 87.87796783447266, \t test loss = 11.0576753616333\n",
      "epoch: 3, \t epoch loss = 85.8018569946289, \t test loss = 10.868843078613281\n",
      "epoch: 4, \t epoch loss = 83.82994842529297, \t test loss = 10.694409370422363\n",
      "epoch: 5, \t epoch loss = 82.01438903808594, \t test loss = 10.526195526123047\n",
      "epoch: 6, \t epoch loss = 80.23280334472656, \t test loss = 10.37691593170166\n",
      "epoch: 7, \t epoch loss = 78.62579345703125, \t test loss = 10.23360824584961\n",
      "epoch: 8, \t epoch loss = 77.00822448730469, \t test loss = 10.113187789916992\n",
      "epoch: 9, \t epoch loss = 75.69083404541016, \t test loss = 9.97980785369873\n",
      "epoch: 10, \t epoch loss = 74.23773956298828, \t test loss = 9.86617660522461\n",
      "epoch: 11, \t epoch loss = 72.92269134521484, \t test loss = 9.76395320892334\n",
      "epoch: 12, \t epoch loss = 71.72553253173828, \t test loss = 9.666736602783203\n",
      "epoch: 13, \t epoch loss = 70.58484649658203, \t test loss = 9.569973945617676\n",
      "epoch: 14, \t epoch loss = 69.50275421142578, \t test loss = 9.476158142089844\n",
      "epoch: 15, \t epoch loss = 68.431884765625, \t test loss = 9.39128303527832\n",
      "epoch: 16, \t epoch loss = 67.40919494628906, \t test loss = 9.31816577911377\n",
      "epoch: 17, \t epoch loss = 66.53076171875, \t test loss = 9.23914909362793\n",
      "epoch: 18, \t epoch loss = 65.5580825805664, \t test loss = 9.178815841674805\n",
      "epoch: 19, \t epoch loss = 64.76329040527344, \t test loss = 9.110773086547852\n",
      "epoch: 20, \t epoch loss = 63.92195129394531, \t test loss = 9.05203914642334\n",
      "taining error params finishs\n",
      "n_instruction2circuit_infos =  {70: 10, 50: 13, 80: 11, 90: 18, 100: 13, 60: 11, 40: 11, 110: 13}\n",
      "epoch: 0, \t epoch loss = 100.71185302734375, \t test loss = 15.269973754882812\n",
      "epoch: 1, \t epoch loss = 98.19441223144531, \t test loss = 14.952557563781738\n",
      "epoch: 2, \t epoch loss = 95.77117919921875, \t test loss = 14.656455039978027\n",
      "epoch: 3, \t epoch loss = 93.50409698486328, \t test loss = 14.374137878417969\n",
      "epoch: 4, \t epoch loss = 91.32664489746094, \t test loss = 14.110286712646484\n",
      "epoch: 5, \t epoch loss = 89.24349975585938, \t test loss = 13.873516082763672\n",
      "epoch: 6, \t epoch loss = 87.36773681640625, \t test loss = 13.639955520629883\n",
      "epoch: 7, \t epoch loss = 85.63202667236328, \t test loss = 13.400303840637207\n",
      "epoch: 8, \t epoch loss = 83.79180908203125, \t test loss = 13.19652271270752\n",
      "epoch: 9, \t epoch loss = 82.20401000976562, \t test loss = 12.997344017028809\n",
      "epoch: 10, \t epoch loss = 80.68256378173828, \t test loss = 12.798768043518066\n",
      "epoch: 11, \t epoch loss = 79.1485366821289, \t test loss = 12.631319999694824\n",
      "epoch: 12, \t epoch loss = 77.83563995361328, \t test loss = 12.454282760620117\n",
      "epoch: 13, \t epoch loss = 76.493408203125, \t test loss = 12.287123680114746\n",
      "epoch: 14, \t epoch loss = 75.21859741210938, \t test loss = 12.135224342346191\n",
      "epoch: 15, \t epoch loss = 74.08837890625, \t test loss = 11.972960472106934\n",
      "epoch: 16, \t epoch loss = 72.8563461303711, \t test loss = 11.840886116027832\n",
      "epoch: 17, \t epoch loss = 71.82239532470703, \t test loss = 11.702054977416992\n",
      "epoch: 18, \t epoch loss = 70.7513656616211, \t test loss = 11.578202247619629\n",
      "epoch: 19, \t epoch loss = 69.77383422851562, \t test loss = 11.459552764892578\n",
      "epoch: 20, \t epoch loss = 68.85977172851562, \t test loss = 11.337631225585938\n",
      "epoch: 21, \t epoch loss = 67.92596435546875, \t test loss = 11.225733757019043\n",
      "epoch: 22, \t epoch loss = 67.04656219482422, \t test loss = 11.12381649017334\n",
      "epoch: 23, \t epoch loss = 66.1904525756836, \t test loss = 11.031254768371582\n",
      "epoch: 24, \t epoch loss = 65.42139434814453, \t test loss = 10.936745643615723\n",
      "epoch: 25, \t epoch loss = 64.64669799804688, \t test loss = 10.85451602935791\n",
      "epoch: 26, \t epoch loss = 63.930702209472656, \t test loss = 10.765995025634766\n",
      "epoch: 27, \t epoch loss = 63.220340728759766, \t test loss = 10.677127838134766\n",
      "epoch: 28, \t epoch loss = 62.53386306762695, \t test loss = 10.589458465576172\n",
      "epoch: 29, \t epoch loss = 61.82313537597656, \t test loss = 10.51867389678955\n",
      "epoch: 30, \t epoch loss = 61.200111389160156, \t test loss = 10.442499160766602\n",
      "epoch: 31, \t epoch loss = 60.56917953491211, \t test loss = 10.378283500671387\n",
      "taining error params finishs\n"
     ]
    }
   ],
   "source": [
    "error_params = downstream_model.error_params\n",
    "dataset_360 = np.array(dataset_360)\n",
    "reals= np.array(reals)\n",
    "fine1 = []\n",
    "for day in range(5):\n",
    "    for cir, label in zip(dataset_360, reals[day]):\n",
    "        cir['ground_truth_fidelity'] = label\n",
    "    downstream_model.finetune(dataset_360[split[:120]], error_params)\n",
    "    predicts = []\n",
    "    for cir in dataset_360[split[-120:]]:\n",
    "        new_cir = upstream_model.vectorize(cir)\n",
    "        predicts.append(downstream_model.predict_fidelity(new_cir))\n",
    "    fine1.append( np.abs(np.array(predicts) - np.array(reals[day][split[-120:]])).mean() )"
   ]
  },
  {
   "cell_type": "code",
   "execution_count": 12,
   "metadata": {
    "ExecuteTime": {
     "end_time": "2023-07-31T05:22:07.393649300Z",
     "start_time": "2023-07-31T05:21:42.487193200Z"
    }
   },
   "outputs": [
    {
     "name": "stdout",
     "output_type": "stream",
     "text": [
      "n_instruction2circuit_infos =  {90: 29, 70: 26, 100: 28, 110: 27, 50: 24, 80: 31, 40: 27, 60: 28}\n",
      "epoch: 0, \t epoch loss = 146.09034729003906, \t test loss = 14.4386568069458\n",
      "epoch: 1, \t epoch loss = 144.5279541015625, \t test loss = 14.372766494750977\n",
      "epoch: 2, \t epoch loss = 143.03123474121094, \t test loss = 14.317794799804688\n",
      "epoch: 3, \t epoch loss = 141.7122802734375, \t test loss = 14.264981269836426\n",
      "epoch: 4, \t epoch loss = 140.46624755859375, \t test loss = 14.2111177444458\n",
      "epoch: 5, \t epoch loss = 139.22430419921875, \t test loss = 14.160512924194336\n",
      "epoch: 6, \t epoch loss = 138.00360107421875, \t test loss = 14.118180274963379\n",
      "epoch: 7, \t epoch loss = 136.96188354492188, \t test loss = 14.068031311035156\n",
      "epoch: 8, \t epoch loss = 135.79608154296875, \t test loss = 14.028321266174316\n",
      "epoch: 9, \t epoch loss = 134.8506622314453, \t test loss = 13.97774887084961\n",
      "epoch: 10, \t epoch loss = 133.6970672607422, \t test loss = 13.9425687789917\n",
      "taining error params finishs\n",
      "n_instruction2circuit_infos =  {40: 24, 100: 27, 80: 30, 110: 30, 90: 28, 70: 27, 60: 27, 50: 27}\n",
      "epoch: 0, \t epoch loss = 157.3460693359375, \t test loss = 13.133469581604004\n",
      "epoch: 1, \t epoch loss = 155.67605590820312, \t test loss = 12.997056007385254\n",
      "epoch: 2, \t epoch loss = 154.25149536132812, \t test loss = 12.850309371948242\n",
      "epoch: 3, \t epoch loss = 152.68927001953125, \t test loss = 12.733073234558105\n",
      "epoch: 4, \t epoch loss = 151.39805603027344, \t test loss = 12.609234809875488\n",
      "epoch: 5, \t epoch loss = 150.05902099609375, \t test loss = 12.510734558105469\n",
      "epoch: 6, \t epoch loss = 148.8884735107422, \t test loss = 12.402777671813965\n",
      "epoch: 7, \t epoch loss = 147.70790100097656, \t test loss = 12.30640697479248\n",
      "epoch: 8, \t epoch loss = 146.63180541992188, \t test loss = 12.206753730773926\n",
      "epoch: 9, \t epoch loss = 145.55126953125, \t test loss = 12.12087345123291\n",
      "epoch: 10, \t epoch loss = 144.55381774902344, \t test loss = 12.017603874206543\n",
      "epoch: 11, \t epoch loss = 143.50848388671875, \t test loss = 11.927912712097168\n",
      "epoch: 12, \t epoch loss = 142.51004028320312, \t test loss = 11.849560737609863\n",
      "epoch: 13, \t epoch loss = 141.5869903564453, \t test loss = 11.786413192749023\n",
      "epoch: 14, \t epoch loss = 140.7518768310547, \t test loss = 11.711960792541504\n",
      "epoch: 15, \t epoch loss = 139.8929901123047, \t test loss = 11.636635780334473\n",
      "epoch: 16, \t epoch loss = 139.07403564453125, \t test loss = 11.565399169921875\n",
      "epoch: 17, \t epoch loss = 138.2052459716797, \t test loss = 11.512025833129883\n",
      "epoch: 18, \t epoch loss = 137.50057983398438, \t test loss = 11.442639350891113\n",
      "epoch: 19, \t epoch loss = 136.68516540527344, \t test loss = 11.389934539794922\n",
      "taining error params finishs\n",
      "n_instruction2circuit_infos =  {100: 26, 80: 29, 90: 27, 50: 26, 110: 32, 70: 27, 60: 27, 40: 26}\n",
      "epoch: 0, \t epoch loss = 212.146484375, \t test loss = 8.228389739990234\n",
      "epoch: 1, \t epoch loss = 207.4049530029297, \t test loss = 8.053184509277344\n",
      "epoch: 2, \t epoch loss = 203.12464904785156, \t test loss = 7.884378433227539\n",
      "epoch: 3, \t epoch loss = 199.03213500976562, \t test loss = 7.725151538848877\n",
      "epoch: 4, \t epoch loss = 195.2385711669922, \t test loss = 7.572136878967285\n",
      "epoch: 5, \t epoch loss = 191.49610900878906, \t test loss = 7.436741828918457\n",
      "epoch: 6, \t epoch loss = 188.0726318359375, \t test loss = 7.309943199157715\n",
      "epoch: 7, \t epoch loss = 184.81582641601562, \t test loss = 7.196086406707764\n",
      "epoch: 8, \t epoch loss = 181.84963989257812, \t test loss = 7.0882954597473145\n",
      "epoch: 9, \t epoch loss = 179.1060028076172, \t test loss = 6.979986667633057\n",
      "epoch: 10, \t epoch loss = 176.32586669921875, \t test loss = 6.88507604598999\n",
      "epoch: 11, \t epoch loss = 173.82334899902344, \t test loss = 6.794893741607666\n",
      "epoch: 12, \t epoch loss = 171.46726989746094, \t test loss = 6.708691120147705\n",
      "epoch: 13, \t epoch loss = 169.13343811035156, \t test loss = 6.631552696228027\n",
      "epoch: 14, \t epoch loss = 167.0187530517578, \t test loss = 6.557990550994873\n",
      "epoch: 15, \t epoch loss = 164.98194885253906, \t test loss = 6.490194797515869\n",
      "epoch: 16, \t epoch loss = 163.0753936767578, \t test loss = 6.424885272979736\n",
      "epoch: 17, \t epoch loss = 161.21653747558594, \t test loss = 6.3669891357421875\n",
      "epoch: 18, \t epoch loss = 159.5660400390625, \t test loss = 6.305635929107666\n",
      "taining error params finishs\n",
      "n_instruction2circuit_infos =  {80: 29, 60: 27, 100: 27, 70: 25, 50: 26, 110: 30, 90: 30, 40: 26}\n",
      "epoch: 0, \t epoch loss = 153.14955139160156, \t test loss = 5.888552665710449\n",
      "epoch: 1, \t epoch loss = 151.692626953125, \t test loss = 5.83626127243042\n",
      "epoch: 2, \t epoch loss = 150.31033325195312, \t test loss = 5.788870334625244\n",
      "epoch: 3, \t epoch loss = 149.10888671875, \t test loss = 5.74044132232666\n",
      "epoch: 4, \t epoch loss = 147.8123321533203, \t test loss = 5.699549674987793\n",
      "epoch: 5, \t epoch loss = 146.703857421875, \t test loss = 5.658008575439453\n",
      "epoch: 6, \t epoch loss = 145.5098114013672, \t test loss = 5.6251726150512695\n",
      "epoch: 7, \t epoch loss = 144.51113891601562, \t test loss = 5.592309474945068\n",
      "epoch: 8, \t epoch loss = 143.5015106201172, \t test loss = 5.557498455047607\n",
      "epoch: 9, \t epoch loss = 142.49501037597656, \t test loss = 5.524877548217773\n",
      "epoch: 10, \t epoch loss = 141.49005126953125, \t test loss = 5.4965362548828125\n",
      "taining error params finishs\n",
      "n_instruction2circuit_infos =  {90: 31, 40: 25, 100: 27, 70: 26, 60: 28, 110: 31, 50: 23, 80: 29}\n",
      "epoch: 0, \t epoch loss = 168.9562225341797, \t test loss = 6.743483543395996\n",
      "epoch: 1, \t epoch loss = 166.927001953125, \t test loss = 6.674231052398682\n",
      "epoch: 2, \t epoch loss = 165.1201629638672, \t test loss = 6.604232311248779\n",
      "epoch: 3, \t epoch loss = 163.24713134765625, \t test loss = 6.545806407928467\n",
      "epoch: 4, \t epoch loss = 161.64427185058594, \t test loss = 6.485177040100098\n",
      "epoch: 5, \t epoch loss = 160.02235412597656, \t test loss = 6.429455280303955\n",
      "epoch: 6, \t epoch loss = 158.45262145996094, \t test loss = 6.382513999938965\n",
      "epoch: 7, \t epoch loss = 157.11322021484375, \t test loss = 6.33200216293335\n",
      "epoch: 8, \t epoch loss = 155.69578552246094, \t test loss = 6.286991596221924\n",
      "epoch: 9, \t epoch loss = 154.38409423828125, \t test loss = 6.246182441711426\n",
      "epoch: 10, \t epoch loss = 153.1669921875, \t test loss = 6.207618713378906\n",
      "taining error params finishs\n"
     ]
    }
   ],
   "source": [
    "error_params = downstream_model.error_params\n",
    "dataset_360 = np.array(dataset_360)\n",
    "reals= np.array(reals)\n",
    "fine2 = []\n",
    "for day in range(5):\n",
    "    for cir, label in zip(dataset_360, reals[day]):\n",
    "        cir['ground_truth_fidelity'] = label\n",
    "    downstream_model.finetune(dataset_360[split[:240]], error_params)\n",
    "    predicts = []\n",
    "    for cir in dataset_360[split[-120:]]:\n",
    "        new_cir = upstream_model.vectorize(cir)\n",
    "        predicts.append(downstream_model.predict_fidelity(new_cir))\n",
    "    fine2.append( np.abs(np.array(predicts) - np.array(reals[day][split[-120:]])).mean() )"
   ]
  },
  {
   "cell_type": "code",
   "execution_count": 13,
   "metadata": {
    "ExecuteTime": {
     "end_time": "2023-07-31T05:22:07.569668400Z",
     "start_time": "2023-07-31T05:22:07.398593500Z"
    }
   },
   "outputs": [
    {
     "name": "stdout",
     "output_type": "stream",
     "text": [
      "[0.3409772355234587, 0.349335568856792, 0.3766105688567921, 0.34403556885679204, 0.3495105688567921] [0.4081048663777112, 0.41646319971104456, 0.44373819971104456, 0.41116319971104454, 0.41663819971104454] [0.08849956518411635, 0.09091407967408499, 0.11247380585273108, 0.08862263633012771, 0.09137093613147736] [0.16178986370687679, 0.1694982167574266, 0.19692378002280986, 0.16442566893423594, 0.1696732167574266]\n"
     ]
    },
    {
     "data": {
      "image/png": "[encoded data removed]",
      "text/plain": [
       "<Figure size 640x480 with 1 Axes>"
      ]
     },
     "metadata": {},
     "output_type": "display_data"
    }
   ],
   "source": [
    "fig, axes = plt.subplots()\n",
    "x = np.arange(len(deltas_rb))\n",
    "axes.plot(x, deltas_rb , marker = '^',markersize= 12,label = 'rb')\n",
    "axes.plot(x, deltas_xeb, marker = '^',markersize= 12, label = 'xeb')\n",
    "axes.plot(x, deltas_quct, marker = '^',markersize= 12, label = 'quct')\n",
    "axes.plot(x, fine1, marker = '^',markersize= 12, label = 'fine1')\n",
    "axes.plot(x, fine2, marker = '^',markersize= 12, label = 'fine2')\n",
    "axes.plot(x, deltas_quest, marker = '^',markersize= 12, label = 'quest')\n",
    "axes.set_xlabel('day')\n",
    "axes.set_ylabel('delta_fidelity')\n",
    "axes.set_xticks(x)\n",
    "print(deltas_rb,deltas_xeb,deltas_quct,deltas_quest)\n",
    "fig.legend()\n",
    "fig.savefig('time_drift_with_finetune.svg')\n",
    "# [0.3409772355234587, 0.349335568856792, 0.3766105688567921, 0.34403556885679204, 0.3495105688567921] [0.4081048663777112, 0.41646319971104456, 0.44373819971104456, 0.41116319971104454, 0.41663819971104454] [0.08849956518411635, 0.09091407967408499, 0.11247380585273108, 0.08862263633012771, 0.09137093613147736] [0.16178986370687679, 0.1694982167574266, 0.19692378002280986, 0.16442566893423594, 0.1696732167574266]"
   ]
  },
  {
   "cell_type": "code",
   "execution_count": 13,
   "metadata": {
    "ExecuteTime": {
     "end_time": "2023-07-31T05:22:07.630199300Z",
     "start_time": "2023-07-31T05:22:07.569668400Z"
    },
    "collapsed": false
   },
   "outputs": [],
   "source": []
  },
  {
   "cell_type": "code",
   "execution_count": null,
   "metadata": {
    "collapsed": false
   },
   "outputs": [],
   "source": []
  }
 ],
 "metadata": {
  "kernelspec": {
   "display_name": "ISCA",
   "language": "python",
   "name": "python3"
  },
  "language_info": {
   "codemirror_mode": {
    "name": "ipython",
    "version": 3
   },
   "file_extension": ".py",
   "mimetype": "text/x-python",
   "name": "python",
   "nbconvert_exporter": "python",
   "pygments_lexer": "ipython3",
   "version": "3.11.4"
  },
  "orig_nbformat": 4,
  "vscode": {
   "interpreter": {
    "hash": "a5cb17940ec456bfd6f6b24ecec011f7bb1827da42833da90014f36a02c01967"
   }
  }
 },
 "nbformat": 4,
 "nbformat_minor": 2
}
