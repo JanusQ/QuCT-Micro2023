{
 "cells": [
  {
   "cell_type": "code",
   "execution_count": 1,
   "metadata": {},
   "outputs": [],
   "source": [
    "from circuit import gen_random_circuits\n",
    "from circuit.formatter import qiskit_to_my_format_circuit, layered_circuits_to_qiskit, get_layered_instructions\n",
    "from upstream import RandomwalkModel\n",
    "from collections import defaultdict\n",
    "\n",
    "import math\n",
    "from utils.backend import gen_grid_topology, get_grid_neighbor_info, Backend, gen_linear_topology, get_linear_neighbor_info, gen_fulllyconnected_topology\n",
    "\n",
    "from qiskit import QuantumCircuit\n",
    "import pennylane as qml\n",
    "import numpy as np\n",
    "from downstream.synthesis.pennylane_op_jax import layer_circuit_to_pennylane_circuit, layer_circuit_to_pennylane_tape\n",
    "from downstream.synthesis.tensor_network_op_jax import layer_circuit_to_matrix\n",
    "\n",
    "from scipy.stats import unitary_group\n",
    "\n",
    "from downstream.synthesis.synthesis_model_pca_unitary_jax import find_parmas, pkl_dump, pkl_load, matrix_distance_squared, SynthesisModel, synthesize\n",
    "from itertools import combinations\n",
    "import time\n",
    "from qiskit import transpile\n",
    "import random\n",
    "import cloudpickle as pickle\n",
    "from circuit.formatter import layered_circuits_to_qiskit, to_unitary\n",
    "from qiskit.quantum_info import Operator\n",
    "from jax import vmap\n",
    "from utils.unitaries import qft_U, grover_U\n"
   ]
  },
  {
   "cell_type": "code",
   "execution_count": 7,
   "metadata": {},
   "outputs": [
    {
     "name": "stderr",
     "output_type": "stream",
     "text": [
      "\u001b[2m\u001b[36m(_gen_random_circuits_remote pid=3616)\u001b[0m /Users/siwei/miniforge3/envs/tf2/lib/python3.8/site-packages/numpy/linalg/linalg.py:2147: RuntimeWarning: divide by zero encountered in det\n",
      "\u001b[2m\u001b[36m(_gen_random_circuits_remote pid=3616)\u001b[0m   r = _umath_linalg.det(a, signature=signature)\n",
      "\u001b[2m\u001b[36m(_gen_random_circuits_remote pid=3616)\u001b[0m /Users/siwei/miniforge3/envs/tf2/lib/python3.8/site-packages/numpy/linalg/linalg.py:2147: RuntimeWarning: invalid value encountered in det\n",
      "\u001b[2m\u001b[36m(_gen_random_circuits_remote pid=3616)\u001b[0m   r = _umath_linalg.det(a, signature=signature)\n",
      "\u001b[2m\u001b[36m(_gen_random_circuits_remote pid=3622)\u001b[0m /Users/siwei/miniforge3/envs/tf2/lib/python3.8/site-packages/numpy/linalg/linalg.py:2147: RuntimeWarning: divide by zero encountered in det\n",
      "\u001b[2m\u001b[36m(_gen_random_circuits_remote pid=3622)\u001b[0m   r = _umath_linalg.det(a, signature=signature)\n",
      "\u001b[2m\u001b[36m(_gen_random_circuits_remote pid=3622)\u001b[0m /Users/siwei/miniforge3/envs/tf2/lib/python3.8/site-packages/numpy/linalg/linalg.py:2147: RuntimeWarning: invalid value encountered in det\n",
      "\u001b[2m\u001b[36m(_gen_random_circuits_remote pid=3622)\u001b[0m   r = _umath_linalg.det(a, signature=signature)\n",
      "\u001b[2m\u001b[36m(_gen_random_circuits_remote pid=3617)\u001b[0m /Users/siwei/miniforge3/envs/tf2/lib/python3.8/site-packages/numpy/linalg/linalg.py:2147: RuntimeWarning: divide by zero encountered in det\n",
      "\u001b[2m\u001b[36m(_gen_random_circuits_remote pid=3617)\u001b[0m   r = _umath_linalg.det(a, signature=signature)\n",
      "\u001b[2m\u001b[36m(_gen_random_circuits_remote pid=3617)\u001b[0m /Users/siwei/miniforge3/envs/tf2/lib/python3.8/site-packages/numpy/linalg/linalg.py:2147: RuntimeWarning: invalid value encountered in det\n",
      "\u001b[2m\u001b[36m(_gen_random_circuits_remote pid=3617)\u001b[0m   r = _umath_linalg.det(a, signature=signature)\n",
      "\u001b[2m\u001b[36m(_gen_random_circuits_remote pid=3618)\u001b[0m /Users/siwei/miniforge3/envs/tf2/lib/python3.8/site-packages/numpy/linalg/linalg.py:2147: RuntimeWarning: divide by zero encountered in det\n",
      "\u001b[2m\u001b[36m(_gen_random_circuits_remote pid=3618)\u001b[0m   r = _umath_linalg.det(a, signature=signature)\n",
      "\u001b[2m\u001b[36m(_gen_random_circuits_remote pid=3618)\u001b[0m /Users/siwei/miniforge3/envs/tf2/lib/python3.8/site-packages/numpy/linalg/linalg.py:2147: RuntimeWarning: invalid value encountered in det\n",
      "\u001b[2m\u001b[36m(_gen_random_circuits_remote pid=3618)\u001b[0m   r = _umath_linalg.det(a, signature=signature)\n",
      "\u001b[2m\u001b[36m(_gen_random_circuits_remote pid=3619)\u001b[0m /Users/siwei/miniforge3/envs/tf2/lib/python3.8/site-packages/numpy/linalg/linalg.py:2147: RuntimeWarning: divide by zero encountered in det\n",
      "\u001b[2m\u001b[36m(_gen_random_circuits_remote pid=3619)\u001b[0m   r = _umath_linalg.det(a, signature=signature)\n",
      "\u001b[2m\u001b[36m(_gen_random_circuits_remote pid=3619)\u001b[0m /Users/siwei/miniforge3/envs/tf2/lib/python3.8/site-packages/numpy/linalg/linalg.py:2147: RuntimeWarning: invalid value encountered in det\n",
      "\u001b[2m\u001b[36m(_gen_random_circuits_remote pid=3619)\u001b[0m   r = _umath_linalg.det(a, signature=signature)\n",
      "\u001b[2m\u001b[36m(_gen_random_circuits_remote pid=3615)\u001b[0m /Users/siwei/miniforge3/envs/tf2/lib/python3.8/site-packages/numpy/linalg/linalg.py:2147: RuntimeWarning: divide by zero encountered in det\n",
      "\u001b[2m\u001b[36m(_gen_random_circuits_remote pid=3615)\u001b[0m   r = _umath_linalg.det(a, signature=signature)\n",
      "\u001b[2m\u001b[36m(_gen_random_circuits_remote pid=3615)\u001b[0m /Users/siwei/miniforge3/envs/tf2/lib/python3.8/site-packages/numpy/linalg/linalg.py:2147: RuntimeWarning: invalid value encountered in det\n",
      "\u001b[2m\u001b[36m(_gen_random_circuits_remote pid=3615)\u001b[0m   r = _umath_linalg.det(a, signature=signature)\n",
      "\u001b[2m\u001b[36m(_gen_random_circuits_remote pid=3612)\u001b[0m /Users/siwei/miniforge3/envs/tf2/lib/python3.8/site-packages/numpy/linalg/linalg.py:2147: RuntimeWarning: divide by zero encountered in det\n",
      "\u001b[2m\u001b[36m(_gen_random_circuits_remote pid=3612)\u001b[0m   r = _umath_linalg.det(a, signature=signature)\n",
      "\u001b[2m\u001b[36m(_gen_random_circuits_remote pid=3612)\u001b[0m /Users/siwei/miniforge3/envs/tf2/lib/python3.8/site-packages/numpy/linalg/linalg.py:2147: RuntimeWarning: invalid value encountered in det\n",
      "\u001b[2m\u001b[36m(_gen_random_circuits_remote pid=3612)\u001b[0m   r = _umath_linalg.det(a, signature=signature)\n",
      "\u001b[2m\u001b[36m(_gen_random_circuits_remote pid=3621)\u001b[0m /Users/siwei/miniforge3/envs/tf2/lib/python3.8/site-packages/numpy/linalg/linalg.py:2147: RuntimeWarning: divide by zero encountered in det\n",
      "\u001b[2m\u001b[36m(_gen_random_circuits_remote pid=3621)\u001b[0m   r = _umath_linalg.det(a, signature=signature)\n",
      "\u001b[2m\u001b[36m(_gen_random_circuits_remote pid=3621)\u001b[0m /Users/siwei/miniforge3/envs/tf2/lib/python3.8/site-packages/numpy/linalg/linalg.py:2147: RuntimeWarning: invalid value encountered in det\n",
      "\u001b[2m\u001b[36m(_gen_random_circuits_remote pid=3621)\u001b[0m   r = _umath_linalg.det(a, signature=signature)\n",
      "\u001b[2m\u001b[36m(_gen_random_circuits_remote pid=3614)\u001b[0m /Users/siwei/miniforge3/envs/tf2/lib/python3.8/site-packages/numpy/linalg/linalg.py:2147: RuntimeWarning: divide by zero encountered in det\n",
      "\u001b[2m\u001b[36m(_gen_random_circuits_remote pid=3614)\u001b[0m   r = _umath_linalg.det(a, signature=signature)\n",
      "\u001b[2m\u001b[36m(_gen_random_circuits_remote pid=3614)\u001b[0m /Users/siwei/miniforge3/envs/tf2/lib/python3.8/site-packages/numpy/linalg/linalg.py:2147: RuntimeWarning: invalid value encountered in det\n",
      "\u001b[2m\u001b[36m(_gen_random_circuits_remote pid=3614)\u001b[0m   r = _umath_linalg.det(a, signature=signature)\n",
      "\u001b[2m\u001b[36m(_gen_random_circuits_remote pid=3613)\u001b[0m /Users/siwei/miniforge3/envs/tf2/lib/python3.8/site-packages/numpy/linalg/linalg.py:2147: RuntimeWarning: divide by zero encountered in det\n",
      "\u001b[2m\u001b[36m(_gen_random_circuits_remote pid=3613)\u001b[0m   r = _umath_linalg.det(a, signature=signature)\n",
      "\u001b[2m\u001b[36m(_gen_random_circuits_remote pid=3613)\u001b[0m /Users/siwei/miniforge3/envs/tf2/lib/python3.8/site-packages/numpy/linalg/linalg.py:2147: RuntimeWarning: invalid value encountered in det\n",
      "\u001b[2m\u001b[36m(_gen_random_circuits_remote pid=3613)\u001b[0m   r = _umath_linalg.det(a, signature=signature)\n"
     ]
    },
    {
     "name": "stdout",
     "output_type": "stream",
     "text": [
      "finish random circuit generation with 2100 circuits\n",
      "\u001b[2m\u001b[36m(remote_train pid=3622)\u001b[0m train:0/210, 420th offest\n",
      "\u001b[2m\u001b[36m(remote_train pid=3616)\u001b[0m train:0/210, 1050th offest\n",
      "\u001b[2m\u001b[36m(remote_train pid=3615)\u001b[0m train:0/210, 1260th offest\n",
      "\u001b[2m\u001b[36m(remote_train pid=3617)\u001b[0m train:0/210, 630th offest\n",
      "\u001b[2m\u001b[36m(remote_train pid=3621)\u001b[0m train:0/210, 210th offest\n",
      "\u001b[2m\u001b[36m(remote_train pid=3614)\u001b[0m train:0/210, 1470th offest\n",
      "\u001b[2m\u001b[36m(remote_train pid=3612)\u001b[0m train:0/210, 840th offest\n",
      "\u001b[2m\u001b[36m(remote_train pid=3613)\u001b[0m train:0/210, 0th offest\n",
      "\u001b[2m\u001b[36m(remote_train pid=3619)\u001b[0m train:0/210, 1680th offest\n",
      "\u001b[2m\u001b[36m(remote_train pid=3618)\u001b[0m train:0/210, 1890th offest\n",
      "\u001b[2m\u001b[36m(remote_train pid=3613)\u001b[0m train:100/210, 0th offest\n",
      "\u001b[2m\u001b[36m(remote_train pid=3616)\u001b[0m train:100/210, 1050th offest\n",
      "\u001b[2m\u001b[36m(remote_train pid=3617)\u001b[0m train:100/210, 630th offest\n",
      "\u001b[2m\u001b[36m(remote_train pid=3621)\u001b[0m train:100/210, 210th offest\n",
      "\u001b[2m\u001b[36m(remote_train pid=3614)\u001b[0m train:100/210, 1470th offest\n",
      "\u001b[2m\u001b[36m(remote_train pid=3619)\u001b[0m train:100/210, 1680th offest\n",
      "\u001b[2m\u001b[36m(remote_train pid=3612)\u001b[0m train:100/210, 840th offest\n",
      "\u001b[2m\u001b[36m(remote_train pid=3613)\u001b[0m train:200/210, 0th offest\n",
      "\u001b[2m\u001b[36m(remote_train pid=3622)\u001b[0m train:100/210, 420th offest\n",
      "\u001b[2m\u001b[36m(remote_train pid=3617)\u001b[0m train:200/210, 630th offest\n",
      "\u001b[2m\u001b[36m(remote_train pid=3621)\u001b[0m train:200/210, 210th offest\n",
      "\u001b[2m\u001b[36m(remote_train pid=3616)\u001b[0m train:200/210, 1050th offest\n",
      "\u001b[2m\u001b[36m(remote_train pid=3615)\u001b[0m train:100/210, 1260th offest\n",
      "\u001b[2m\u001b[36m(remote_train pid=3618)\u001b[0m train:100/210, 1890th offest\n",
      "\u001b[2m\u001b[36m(remote_train pid=3614)\u001b[0m train:200/210, 1470th offest\n",
      "\u001b[2m\u001b[36m(remote_train pid=3612)\u001b[0m train:200/210, 840th offest\n",
      "\u001b[2m\u001b[36m(remote_train pid=3622)\u001b[0m train:200/210, 420th offest\n",
      "\u001b[2m\u001b[36m(remote_train pid=3615)\u001b[0m train:200/210, 1260th offest\n",
      "\u001b[2m\u001b[36m(remote_train pid=3619)\u001b[0m train:200/210, 1680th offest\n",
      "\u001b[2m\u001b[36m(remote_train pid=3618)\u001b[0m train:200/210, 1890th offest\n",
      "count path\n",
      "random walk finish device size =  6\n",
      "0 path table size =  13\n",
      "1 path table size =  13\n",
      "2 path table size =  13\n",
      "(0, 1) path table size =  11\n",
      "(0, 2) path table size =  11\n",
      "(1, 2) path table size =  11\n",
      "Start senerating Us -> Vs, totoal 2100\n"
     ]
    },
    {
     "name": "stderr",
     "output_type": "stream",
     "text": [
      "100%|██████████| 2100/2100 [02:33<00:00, 13.65it/s]\n",
      "/Users/siwei/workspace/QuCT-Micro2023/downstream/synthesis/synthesis_model_pca_unitary_jax.py:269: ComplexWarning: Casting complex values to real discards the imaginary part\n",
      "  Us = np.array(Us, dtype=np.float64)  # [:100000]\n"
     ]
    },
    {
     "name": "stdout",
     "output_type": "stream",
     "text": [
      "len(Us) =  455930 len(gate_vecs) =  455930\n",
      "Start construct model\n",
      "k = 6\n",
      "reduced_prop = (0.7520537288813981+0j)\n",
      "Finish construct model, costing 15.18346905708313s\n"
     ]
    }
   ],
   "source": [
    "\n",
    "n_qubits = 3\n",
    "topology = gen_fulllyconnected_topology(n_qubits)\n",
    "neigh_info = gen_fulllyconnected_topology(n_qubits)\n",
    "\n",
    "# topology = gen_linear_topology(n_qubits)\n",
    "# neigh_info = get_linear_neighbor_info(n_qubits, 1)\n",
    "synthesis_data_path = f'./temp_data/{n_qubits}_synthesis_data.pkl'\n",
    "regen = True\n",
    "if regen:\n",
    "    backend = Backend(n_qubits=n_qubits, topology=topology, neighbor_info=neigh_info, basis_single_gates=['u'],\n",
    "                    basis_two_gates=['cz'], divide=False, decoupling=False)\n",
    "\n",
    "\n",
    "    min_gate, max_gate = 2 * 4**n_qubits - 200, 2 * 4**n_qubits\n",
    "    dataset = gen_random_circuits(min_gate=100, max_gate=max_gate, gate_num_step=max_gate//50, n_circuits=50,\n",
    "                                    two_qubit_gate_probs=[2, 5], backend=backend, reverse=False, optimize=True, multi_process=True)\n",
    "\n",
    "\n",
    "    upstream_model = RandomwalkModel(1, 20, backend)\n",
    "    upstream_model.train(dataset, multi_process=True, remove_redundancy=False)\n",
    "    synthesis_model = SynthesisModel(upstream_model, f'synthesis_{n_qubits}')\n",
    "    data = synthesis_model.construct_data(dataset, multi_process = True)\n",
    "    synthesis_model.construct_model(data)\n",
    "    synthesis_model.save()\n",
    "    \n",
    "    with open(synthesis_data_path, 'wb') as f:\n",
    "        pickle.dump(data, f)\n",
    "        \n",
    "    Us, Vs = data\n",
    "else:\n",
    "    synthesis_model: SynthesisModel = SynthesisModel.load(f'synthesis_{n_qubits}')\n",
    "    backend: Backend = synthesis_model.backend\n",
    "\n",
    "    with open(synthesis_data_path, 'rb') as f:\n",
    "        Us, Vs = pickle.load(f)"
   ]
  },
  {
   "cell_type": "code",
   "execution_count": 32,
   "metadata": {},
   "outputs": [
    {
     "data": {
      "text/plain": [
       "(Array(281922, dtype=int64), Array(0.66949445, dtype=float64))"
      ]
     },
     "execution_count": 32,
     "metadata": {},
     "output_type": "execute_result"
    }
   ],
   "source": [
    "U = unitary_group.rvs(2**n_qubits)\n",
    "dists = vmap(matrix_distance_squared, in_axes = (None, 0))(U, Us)\n",
    "np.argmin(dists), np.min(dists)\n"
   ]
  },
  {
   "cell_type": "code",
   "execution_count": 23,
   "metadata": {},
   "outputs": [
    {
     "data": {
      "text/plain": [
       "Array(0.87738657, dtype=float64)"
      ]
     },
     "execution_count": 23,
     "metadata": {},
     "output_type": "execute_result"
    }
   ],
   "source": [
    "matrix_distance_squared(unitary_group.rvs(2**n_qubits), unitary_group.rvs(2**n_qubits))"
   ]
  },
  {
   "cell_type": "code",
   "execution_count": 33,
   "metadata": {},
   "outputs": [
    {
     "data": {
      "text/plain": [
       "455930"
      ]
     },
     "execution_count": 33,
     "metadata": {},
     "output_type": "execute_result"
    }
   ],
   "source": [
    "dists.size"
   ]
  },
  {
   "cell_type": "code",
   "execution_count": 55,
   "metadata": {},
   "outputs": [],
   "source": [
    "_n_qubits = 5\n",
    "_Us = np.array([unitary_group.rvs(2**_n_qubits) for i in range(500000)])"
   ]
  },
  {
   "cell_type": "code",
   "execution_count": 56,
   "metadata": {},
   "outputs": [
    {
     "data": {
      "text/plain": [
       "(Array(359020, dtype=int64), Array(0.86629948, dtype=float64))"
      ]
     },
     "execution_count": 56,
     "metadata": {},
     "output_type": "execute_result"
    }
   ],
   "source": [
    "U = unitary_group.rvs(2**_n_qubits)\n",
    "dists = vmap(matrix_distance_squared, in_axes = (None, 0))(U, _Us)\n",
    "np.argmin(dists), np.min(dists)"
   ]
  },
  {
   "cell_type": "code",
   "execution_count": 54,
   "metadata": {},
   "outputs": [
    {
     "data": {
      "text/plain": [
       "((32, 32), (100000, 32, 32))"
      ]
     },
     "execution_count": 54,
     "metadata": {},
     "output_type": "execute_result"
    }
   ],
   "source": [
    "U.shape, _Us.shape"
   ]
  },
  {
   "cell_type": "code",
   "execution_count": null,
   "metadata": {},
   "outputs": [],
   "source": []
  }
 ],
 "metadata": {
  "kernelspec": {
   "display_name": "tf2",
   "language": "python",
   "name": "python3"
  },
  "language_info": {
   "codemirror_mode": {
    "name": "ipython",
    "version": 3
   },
   "file_extension": ".py",
   "mimetype": "text/x-python",
   "name": "python",
   "nbconvert_exporter": "python",
   "pygments_lexer": "ipython3",
   "version": "3.8.13"
  },
  "orig_nbformat": 4
 },
 "nbformat": 4,
 "nbformat_minor": 2
}
