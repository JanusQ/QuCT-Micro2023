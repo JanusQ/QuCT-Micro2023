{
 "cells": [
  {
   "cell_type": "code",
   "execution_count": 1,
   "metadata": {},
   "outputs": [],
   "source": [
    "from circuit import gen_random_circuits\n",
    "from circuit.formatter import qiskit_to_my_format_circuit, layered_circuits_to_qiskit, get_layered_instructions\n",
    "from upstream import RandomwalkModel\n",
    "from collections import defaultdict\n",
    "\n",
    "import math\n",
    "from utils.backend import gen_grid_topology, get_grid_neighbor_info, Backend, gen_linear_topology, get_linear_neighbor_info, gen_fulllyconnected_topology\n",
    "\n",
    "from qiskit import QuantumCircuit\n",
    "import pennylane as qml\n",
    "import numpy as np\n",
    "from downstream.synthesis.pennylane_op_jax import layer_circuit_to_pennylane_circuit, layer_circuit_to_pennylane_tape\n",
    "from downstream.synthesis.tensor_network_op_jax import layer_circuit_to_matrix\n",
    "\n",
    "from scipy.stats import unitary_group\n",
    "\n",
    "from downstream.synthesis.synthesis_model_pca_unitary_jax import find_parmas, pkl_dump, pkl_load, matrix_distance_squared, SynthesisModel, synthesize\n",
    "from itertools import combinations\n",
    "import time\n",
    "from qiskit import transpile\n",
    "import random\n",
    "import cloudpickle as pickle\n",
    "from circuit.formatter import layered_circuits_to_qiskit, to_unitary\n",
    "from qiskit.quantum_info import Operator\n",
    "from jax import vmap\n",
    "from utils.unitaries import qft_U, grover_U\n"
   ]
  },
  {
   "cell_type": "code",
   "execution_count": 9,
   "metadata": {},
   "outputs": [
    {
     "name": "stderr",
     "output_type": "stream",
     "text": [
      "\u001b[2m\u001b[36m(_gen_random_circuits_remote pid=22161)\u001b[0m /Users/siwei/miniforge3/envs/tf2/lib/python3.8/site-packages/numpy/linalg/linalg.py:2147: RuntimeWarning: divide by zero encountered in det\n",
      "\u001b[2m\u001b[36m(_gen_random_circuits_remote pid=22161)\u001b[0m   r = _umath_linalg.det(a, signature=signature)\n",
      "\u001b[2m\u001b[36m(_gen_random_circuits_remote pid=22161)\u001b[0m /Users/siwei/miniforge3/envs/tf2/lib/python3.8/site-packages/numpy/linalg/linalg.py:2147: RuntimeWarning: invalid value encountered in det\n",
      "\u001b[2m\u001b[36m(_gen_random_circuits_remote pid=22161)\u001b[0m   r = _umath_linalg.det(a, signature=signature)\n",
      "\u001b[2m\u001b[36m(_gen_random_circuits_remote pid=22162)\u001b[0m /Users/siwei/miniforge3/envs/tf2/lib/python3.8/site-packages/numpy/linalg/linalg.py:2147: RuntimeWarning: divide by zero encountered in det\n",
      "\u001b[2m\u001b[36m(_gen_random_circuits_remote pid=22162)\u001b[0m   r = _umath_linalg.det(a, signature=signature)\n",
      "\u001b[2m\u001b[36m(_gen_random_circuits_remote pid=22162)\u001b[0m /Users/siwei/miniforge3/envs/tf2/lib/python3.8/site-packages/numpy/linalg/linalg.py:2147: RuntimeWarning: invalid value encountered in det\n",
      "\u001b[2m\u001b[36m(_gen_random_circuits_remote pid=22162)\u001b[0m   r = _umath_linalg.det(a, signature=signature)\n",
      "\u001b[2m\u001b[36m(_gen_random_circuits_remote pid=22159)\u001b[0m /Users/siwei/miniforge3/envs/tf2/lib/python3.8/site-packages/numpy/linalg/linalg.py:2147: RuntimeWarning: divide by zero encountered in det\n",
      "\u001b[2m\u001b[36m(_gen_random_circuits_remote pid=22159)\u001b[0m   r = _umath_linalg.det(a, signature=signature)\n",
      "\u001b[2m\u001b[36m(_gen_random_circuits_remote pid=22159)\u001b[0m /Users/siwei/miniforge3/envs/tf2/lib/python3.8/site-packages/numpy/linalg/linalg.py:2147: RuntimeWarning: invalid value encountered in det\n",
      "\u001b[2m\u001b[36m(_gen_random_circuits_remote pid=22159)\u001b[0m   r = _umath_linalg.det(a, signature=signature)\n",
      "\u001b[2m\u001b[36m(_gen_random_circuits_remote pid=22164)\u001b[0m /Users/siwei/miniforge3/envs/tf2/lib/python3.8/site-packages/numpy/linalg/linalg.py:2147: RuntimeWarning: divide by zero encountered in det\n",
      "\u001b[2m\u001b[36m(_gen_random_circuits_remote pid=22164)\u001b[0m   r = _umath_linalg.det(a, signature=signature)\n",
      "\u001b[2m\u001b[36m(_gen_random_circuits_remote pid=22164)\u001b[0m /Users/siwei/miniforge3/envs/tf2/lib/python3.8/site-packages/numpy/linalg/linalg.py:2147: RuntimeWarning: invalid value encountered in det\n",
      "\u001b[2m\u001b[36m(_gen_random_circuits_remote pid=22164)\u001b[0m   r = _umath_linalg.det(a, signature=signature)\n",
      "\u001b[2m\u001b[36m(_gen_random_circuits_remote pid=22158)\u001b[0m /Users/siwei/miniforge3/envs/tf2/lib/python3.8/site-packages/numpy/linalg/linalg.py:2147: RuntimeWarning: divide by zero encountered in det\n",
      "\u001b[2m\u001b[36m(_gen_random_circuits_remote pid=22158)\u001b[0m   r = _umath_linalg.det(a, signature=signature)\n",
      "\u001b[2m\u001b[36m(_gen_random_circuits_remote pid=22158)\u001b[0m /Users/siwei/miniforge3/envs/tf2/lib/python3.8/site-packages/numpy/linalg/linalg.py:2147: RuntimeWarning: invalid value encountered in det\n",
      "\u001b[2m\u001b[36m(_gen_random_circuits_remote pid=22158)\u001b[0m   r = _umath_linalg.det(a, signature=signature)\n",
      "\u001b[2m\u001b[36m(_gen_random_circuits_remote pid=22160)\u001b[0m /Users/siwei/miniforge3/envs/tf2/lib/python3.8/site-packages/numpy/linalg/linalg.py:2147: RuntimeWarning: divide by zero encountered in det\n",
      "\u001b[2m\u001b[36m(_gen_random_circuits_remote pid=22160)\u001b[0m   r = _umath_linalg.det(a, signature=signature)\n",
      "\u001b[2m\u001b[36m(_gen_random_circuits_remote pid=22160)\u001b[0m /Users/siwei/miniforge3/envs/tf2/lib/python3.8/site-packages/numpy/linalg/linalg.py:2147: RuntimeWarning: invalid value encountered in det\n",
      "\u001b[2m\u001b[36m(_gen_random_circuits_remote pid=22160)\u001b[0m   r = _umath_linalg.det(a, signature=signature)\n",
      "\u001b[2m\u001b[36m(_gen_random_circuits_remote pid=22156)\u001b[0m /Users/siwei/miniforge3/envs/tf2/lib/python3.8/site-packages/numpy/linalg/linalg.py:2147: RuntimeWarning: divide by zero encountered in det\n",
      "\u001b[2m\u001b[36m(_gen_random_circuits_remote pid=22156)\u001b[0m   r = _umath_linalg.det(a, signature=signature)\n",
      "\u001b[2m\u001b[36m(_gen_random_circuits_remote pid=22156)\u001b[0m /Users/siwei/miniforge3/envs/tf2/lib/python3.8/site-packages/numpy/linalg/linalg.py:2147: RuntimeWarning: invalid value encountered in det\n",
      "\u001b[2m\u001b[36m(_gen_random_circuits_remote pid=22156)\u001b[0m   r = _umath_linalg.det(a, signature=signature)\n",
      "\u001b[2m\u001b[36m(_gen_random_circuits_remote pid=22157)\u001b[0m /Users/siwei/miniforge3/envs/tf2/lib/python3.8/site-packages/numpy/linalg/linalg.py:2147: RuntimeWarning: divide by zero encountered in det\n",
      "\u001b[2m\u001b[36m(_gen_random_circuits_remote pid=22157)\u001b[0m   r = _umath_linalg.det(a, signature=signature)\n",
      "\u001b[2m\u001b[36m(_gen_random_circuits_remote pid=22157)\u001b[0m /Users/siwei/miniforge3/envs/tf2/lib/python3.8/site-packages/numpy/linalg/linalg.py:2147: RuntimeWarning: invalid value encountered in det\n",
      "\u001b[2m\u001b[36m(_gen_random_circuits_remote pid=22157)\u001b[0m   r = _umath_linalg.det(a, signature=signature)\n",
      "\u001b[2m\u001b[36m(_gen_random_circuits_remote pid=22165)\u001b[0m /Users/siwei/miniforge3/envs/tf2/lib/python3.8/site-packages/numpy/linalg/linalg.py:2147: RuntimeWarning: divide by zero encountered in det\n",
      "\u001b[2m\u001b[36m(_gen_random_circuits_remote pid=22165)\u001b[0m   r = _umath_linalg.det(a, signature=signature)\n",
      "\u001b[2m\u001b[36m(_gen_random_circuits_remote pid=22165)\u001b[0m /Users/siwei/miniforge3/envs/tf2/lib/python3.8/site-packages/numpy/linalg/linalg.py:2147: RuntimeWarning: invalid value encountered in det\n",
      "\u001b[2m\u001b[36m(_gen_random_circuits_remote pid=22165)\u001b[0m   r = _umath_linalg.det(a, signature=signature)\n",
      "\u001b[2m\u001b[36m(_gen_random_circuits_remote pid=22163)\u001b[0m /Users/siwei/miniforge3/envs/tf2/lib/python3.8/site-packages/numpy/linalg/linalg.py:2147: RuntimeWarning: divide by zero encountered in det\n",
      "\u001b[2m\u001b[36m(_gen_random_circuits_remote pid=22163)\u001b[0m   r = _umath_linalg.det(a, signature=signature)\n",
      "\u001b[2m\u001b[36m(_gen_random_circuits_remote pid=22163)\u001b[0m /Users/siwei/miniforge3/envs/tf2/lib/python3.8/site-packages/numpy/linalg/linalg.py:2147: RuntimeWarning: invalid value encountered in det\n",
      "\u001b[2m\u001b[36m(_gen_random_circuits_remote pid=22163)\u001b[0m   r = _umath_linalg.det(a, signature=signature)\n"
     ]
    },
    {
     "name": "stdout",
     "output_type": "stream",
     "text": [
      "\u001b[2m\u001b[36m(remote_train pid=22164)\u001b[0m train:0/105, 315th offest\n",
      "\u001b[2m\u001b[36m(remote_train pid=22162)\u001b[0m train:0/105, 105th offest\n",
      "\u001b[2m\u001b[36m(remote_train pid=22161)\u001b[0m train:0/105, 210th offest\n",
      "\u001b[2m\u001b[36m(remote_train pid=22157)\u001b[0m train:0/105, 630th offest\n",
      "\u001b[2m\u001b[36m(remote_train pid=22156)\u001b[0m train:0/105, 525th offest\n",
      "\u001b[2m\u001b[36m(remote_train pid=22160)\u001b[0m train:0/105, 420th offest\n",
      "\u001b[2m\u001b[36m(remote_train pid=22163)\u001b[0m train:0/105, 0th offest\n",
      "\u001b[2m\u001b[36m(remote_train pid=22159)\u001b[0m train:0/105, 945th offest\n",
      "\u001b[2m\u001b[36m(remote_train pid=22158)\u001b[0m train:0/105, 735th offest\n",
      "\u001b[2m\u001b[36m(remote_train pid=22165)\u001b[0m train:0/105, 840th offest\n",
      "\u001b[2m\u001b[36m(remote_train pid=22164)\u001b[0m train:100/105, 315th offest\n",
      "\u001b[2m\u001b[36m(remote_train pid=22162)\u001b[0m train:100/105, 105th offest\n",
      "\u001b[2m\u001b[36m(remote_train pid=22161)\u001b[0m train:100/105, 210th offest\n",
      "\u001b[2m\u001b[36m(remote_train pid=22163)\u001b[0m train:100/105, 0th offest\n",
      "\u001b[2m\u001b[36m(remote_train pid=22165)\u001b[0m train:100/105, 840th offest\n",
      "\u001b[2m\u001b[36m(remote_train pid=22158)\u001b[0m train:100/105, 735th offest\n",
      "\u001b[2m\u001b[36m(remote_train pid=22156)\u001b[0m train:100/105, 525th offest\n",
      "\u001b[2m\u001b[36m(remote_train pid=22160)\u001b[0m train:100/105, 420th offest\n",
      "\u001b[2m\u001b[36m(remote_train pid=22157)\u001b[0m train:100/105, 630th offest\n",
      "count path\n",
      "random walk finish device size = \u001b[2m\u001b[36m(remote_train pid=22159)\u001b[0m train:100/105, 945th offest\n",
      " 6\n",
      "0 path table size =  13\n",
      "1 path table size =  13\n",
      "2 path table size =  13\n",
      "(0, 1) path table size =  11\n",
      "(0, 2) path table size =  11\n",
      "(1, 2) path table size =  11\n",
      "Start senerating Us -> Vs, totoal 1050\n"
     ]
    },
    {
     "name": "stderr",
     "output_type": "stream",
     "text": [
      "100%|██████████| 1050/1050 [01:15<00:00, 13.87it/s]\n"
     ]
    },
    {
     "name": "stdout",
     "output_type": "stream",
     "text": [
      "len(Us) =  227390 len(gate_vecs) =  227390\n",
      "True\n",
      "0.0\n",
      "0.0\n"
     ]
    }
   ],
   "source": [
    "\n",
    "n_qubits = 3\n",
    "topology = gen_fulllyconnected_topology(n_qubits)\n",
    "neigh_info = gen_fulllyconnected_topology(n_qubits)\n",
    "\n",
    "# topology = gen_linear_topology(n_qubits)\n",
    "# neigh_info = get_linear_neighbor_info(n_qubits, 1)\n",
    "synthesis_data_path = f'./temp_data/{n_qubits}_synthesis_data.pkl'\n",
    "regen = True\n",
    "if regen:\n",
    "    backend = Backend(n_qubits=n_qubits, topology=topology, neighbor_info=neigh_info, basis_single_gates=['u'],\n",
    "                    basis_two_gates=['cz'], divide=False, decoupling=False)\n",
    "\n",
    "\n",
    "    min_gate, max_gate = 2 * 4**n_qubits - 200, 2 * 4**n_qubits\n",
    "    dataset = gen_random_circuits(min_gate=100, max_gate=max_gate, gate_num_step=max_gate//50, n_circuits=25,\n",
    "                                    two_qubit_gate_probs=[2, 5], backend=backend, reverse=False, optimize=True, multi_process=True)\n",
    "\n",
    "\n",
    "    upstream_model = RandomwalkModel(1, 20, backend)\n",
    "    upstream_model.train(dataset, multi_process=True, remove_redundancy=False)\n",
    "    synthesis_model = SynthesisModel(upstream_model, f'synthesis_{n_qubits}')\n",
    "    data = synthesis_model.construct_data(dataset, multi_process = True)\n",
    "    # synthesis_model.construct_model(data)\n",
    "    synthesis_model.save()\n",
    "    \n",
    "    with open(synthesis_data_path, 'wb') as f:\n",
    "        pickle.dump(data, f)\n",
    "        \n",
    "    Us, Vs = data\n",
    "    \n",
    "    print(np.allclose(Us[0] @ Us[0].T.conj(), np.eye(2**n_qubits)))\n",
    "    print(matrix_distance_squared(Us[0] @ Us[0].T.conj(), np.eye(2**n_qubits)))\n",
    "    print(matrix_distance_squared(Us[0], Us[0]))\n",
    "else:\n",
    "    synthesis_model: SynthesisModel = SynthesisModel.load(f'synthesis_{n_qubits}')\n",
    "    backend: Backend = synthesis_model.backend\n",
    "\n",
    "    with open(synthesis_data_path, 'rb') as f:\n",
    "        Us, Vs = pickle.load(f)"
   ]
  },
  {
   "cell_type": "code",
   "execution_count": 3,
   "metadata": {},
   "outputs": [
    {
     "data": {
      "text/plain": [
       "(Array(8586, dtype=int64), Array(0.63913796, dtype=float64))"
      ]
     },
     "execution_count": 3,
     "metadata": {},
     "output_type": "execute_result"
    }
   ],
   "source": [
    "U = unitary_group.rvs(2**n_qubits)\n",
    "dists = vmap(matrix_distance_squared, in_axes = (None, 0))(U, Us)\n",
    "np.argmin(dists), np.min(dists)\n"
   ]
  },
  {
   "cell_type": "code",
   "execution_count": 4,
   "metadata": {},
   "outputs": [
    {
     "data": {
      "text/plain": [
       "Array(0.96265402, dtype=float64)"
      ]
     },
     "execution_count": 4,
     "metadata": {},
     "output_type": "execute_result"
    }
   ],
   "source": [
    "matrix_distance_squared(unitary_group.rvs(2**n_qubits), unitary_group.rvs(2**n_qubits))"
   ]
  },
  {
   "cell_type": "code",
   "execution_count": 5,
   "metadata": {},
   "outputs": [
    {
     "data": {
      "text/plain": [
       "9450"
      ]
     },
     "execution_count": 5,
     "metadata": {},
     "output_type": "execute_result"
    }
   ],
   "source": [
    "dists.size"
   ]
  },
  {
   "cell_type": "code",
   "execution_count": 6,
   "metadata": {},
   "outputs": [],
   "source": [
    "_n_qubits = 6\n",
    "_Us = np.array([unitary_group.rvs(2**_n_qubits) for i in range(100000)])"
   ]
  },
  {
   "cell_type": "code",
   "execution_count": 7,
   "metadata": {},
   "outputs": [
    {
     "data": {
      "text/plain": [
       "(Array(81145, dtype=int64), Array(0.94706898, dtype=float64))"
      ]
     },
     "execution_count": 7,
     "metadata": {},
     "output_type": "execute_result"
    }
   ],
   "source": [
    "U = unitary_group.rvs(2**_n_qubits)\n",
    "dists = vmap(matrix_distance_squared, in_axes = (None, 0))(U, _Us)\n",
    "np.argmin(dists), np.min(dists)"
   ]
  },
  {
   "cell_type": "code",
   "execution_count": 8,
   "metadata": {},
   "outputs": [
    {
     "data": {
      "text/plain": [
       "((64, 64), (100000, 64, 64))"
      ]
     },
     "execution_count": 8,
     "metadata": {},
     "output_type": "execute_result"
    }
   ],
   "source": [
    "U.shape, _Us.shape"
   ]
  },
  {
   "cell_type": "code",
   "execution_count": null,
   "metadata": {},
   "outputs": [],
   "source": []
  }
 ],
 "metadata": {
  "kernelspec": {
   "display_name": "tf2",
   "language": "python",
   "name": "python3"
  },
  "language_info": {
   "codemirror_mode": {
    "name": "ipython",
    "version": 3
   },
   "file_extension": ".py",
   "mimetype": "text/x-python",
   "name": "python",
   "nbconvert_exporter": "python",
   "pygments_lexer": "ipython3",
   "version": "3.8.13"
  },
  "orig_nbformat": 4
 },
 "nbformat": 4,
 "nbformat_minor": 2
}
