{
 "cells": [
  {
   "cell_type": "code",
   "execution_count": 1,
   "metadata": {},
   "outputs": [],
   "source": [
    "from circuit import gen_random_circuits\n",
    "from circuit.formatter import qiskit_to_my_format_circuit, layered_circuits_to_qiskit, get_layered_instructions\n",
    "from upstream import RandomwalkModel\n",
    "from collections import defaultdict\n",
    "\n",
    "import math\n",
    "from utils.backend import gen_grid_topology, get_grid_neighbor_info, Backend, gen_linear_topology, get_linear_neighbor_info, gen_fulllyconnected_topology\n",
    "\n",
    "from qiskit import QuantumCircuit\n",
    "import pennylane as qml\n",
    "import numpy as np\n",
    "from downstream.synthesis.pennylane_op_jax import layer_circuit_to_pennylane_circuit, layer_circuit_to_pennylane_tape\n",
    "from downstream.synthesis.tensor_network_op_jax import layer_circuit_to_matrix\n",
    "\n",
    "from scipy.stats import unitary_group\n",
    "\n",
    "from downstream.synthesis.synthesis_model_pca_unitary_jax import find_parmas, pkl_dump, pkl_load, matrix_distance_squared, SynthesisModel, synthesize\n",
    "from itertools import combinations\n",
    "import time\n",
    "from qiskit import transpile\n",
    "import random\n",
    "import cloudpickle as pickle\n",
    "from circuit.formatter import layered_circuits_to_qiskit, to_unitary\n",
    "from qiskit.quantum_info import Operator\n",
    "from jax import vmap\n",
    "from utils.unitaries import qft_U, grover_U\n"
   ]
  },
  {
   "cell_type": "code",
   "execution_count": null,
   "metadata": {},
   "outputs": [],
   "source": [
    "\n",
    "n_qubits = 3\n",
    "topology = gen_fulllyconnected_topology(n_qubits)\n",
    "neigh_info = gen_fulllyconnected_topology(n_qubits)\n",
    "\n",
    "# topology = gen_linear_topology(n_qubits)\n",
    "# neigh_info = get_linear_neighbor_info(n_qubits, 1)\n",
    "synthesis_data_path = f'./temp_data/{n_qubits}_synthesis_data.pkl'\n",
    "regen = False\n",
    "if regen:\n",
    "    backend = Backend(n_qubits=n_qubits, topology=topology, neighbor_info=neigh_info, basis_single_gates=['u'],\n",
    "                    basis_two_gates=['cz'], divide=False, decoupling=False)\n",
    "\n",
    "\n",
    "    min_gate, max_gate = 2 * 4**n_qubits - 200, 2 * 4**n_qubits\n",
    "    dataset = gen_random_circuits(min_gate=100, max_gate=max_gate, gate_num_step=max_gate//50, n_circuits=50,\n",
    "                                    two_qubit_gate_probs=[2, 5], backend=backend, reverse=False, optimize=True, multi_process=True)\n",
    "\n",
    "\n",
    "    upstream_model = RandomwalkModel(1, 20, backend)\n",
    "    upstream_model.train(dataset, multi_process=True, remove_redundancy=False)\n",
    "    synthesis_model = SynthesisModel(upstream_model, f'synthesis_{n_qubits}')\n",
    "    data = synthesis_model.construct_data(dataset, multi_process = True)\n",
    "    synthesis_model.construct_model(data)\n",
    "    synthesis_model.save()\n",
    "    \n",
    "    with open(synthesis_data_path, 'wb') as f:\n",
    "        pickle.dump(dataset, f)\n",
    "else:\n",
    "    synthesis_model: SynthesisModel = SynthesisModel.load(f'synthesis_{n_qubits}')\n",
    "    backend: Backend = synthesis_model.backend\n",
    "\n",
    "    with open(synthesis_data_path, 'rb') as f:\n",
    "        Us, Vs = pickle.load(f)"
   ]
  },
  {
   "cell_type": "code",
   "execution_count": null,
   "metadata": {},
   "outputs": [],
   "source": [
    "U = unitary_group.rvs(2**n_qubits)\n",
    "dists = vmap(matrix_distance_squared, in_axis = (None, 0))(U, Us)"
   ]
  }
 ],
 "metadata": {
  "kernelspec": {
   "display_name": "ISCA",
   "language": "python",
   "name": "python3"
  },
  "language_info": {
   "codemirror_mode": {
    "name": "ipython",
    "version": 3
   },
   "file_extension": ".py",
   "mimetype": "text/x-python",
   "name": "python",
   "nbconvert_exporter": "python",
   "pygments_lexer": "ipython3",
   "version": "3.9.13"
  },
  "orig_nbformat": 4
 },
 "nbformat": 4,
 "nbformat_minor": 2
}
