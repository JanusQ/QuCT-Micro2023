{
 "cells": [
  {
   "cell_type": "code",
   "execution_count": 1,
   "metadata": {
    "pycharm": {
     "name": "#%%\n"
    }
   },
   "outputs": [
    {
     "name": "stderr",
     "output_type": "stream",
     "text": [
      "WARNING:tensorcircuit.quantum:tensorflow is not installed, and sparse Hamiltonian generation utilities are disabled\n"
     ]
    }
   ],
   "source": [
    "from circuit import gen_random_circuits\n",
    "from upstream import RandomwalkModel\n",
    "from collections import defaultdict\n",
    "\n",
    "import math\n",
    "from utils.backend import gen_grid_topology, get_grid_neighbor_info, Backend\n",
    "# from utils.backend import default_basis_single_gates, default_basis_two_gates\n",
    "\n",
    "\n",
    "import pennylane as qml\n",
    "import numpy as np\n",
    "from downstream.synthesis.pennylane_op import layer_circuit_to_pennylane_circuit, layer_circuit_to_pennylane_tape\n",
    "from downstream.synthesis.tensor_network_op import layer_circuit_to_matrix\n",
    "from downstream.synthesis import matrix_distance_squared\n",
    "\n",
    "grid_num = 2\n",
    "topology = gen_grid_topology(grid_num) # 3x3 9 qubits\n",
    "neigh_info = get_grid_neighbor_info(grid_num, 1)\n",
    "\n",
    "\n",
    "n_qubits = grid_num ** 2\n",
    "backend = Backend(n_qubits=n_qubits, topology=topology, neighbor_info=neigh_info, basis_single_gates = ['u'], \n",
    "                  basis_two_gates = ['cz'], divide = False, decoupling=False)\n",
    "\n",
    "\n",
    "\n",
    "from downstream.synthesis import SynthesisModel\n",
    "from scipy.stats import unitary_group"
   ]
  },
  {
   "cell_type": "code",
   "execution_count": 2,
   "metadata": {
    "pycharm": {
     "name": "#%%\n"
    }
   },
   "outputs": [],
   "source": [
    "import cloudpickle as pickle\n",
    "from utils.backend import gen_grid_topology, get_grid_neighbor_info, Backend\n",
    "from circuit import gen_random_circuits\n",
    "from upstream import RandomwalkModel\n",
    "from downstream.synthesis.pennylane_op import layer_circuit_to_pennylane_circuit, layer_circuit_to_pennylane_tape\n",
    "from downstream.synthesis.tensor_network_op import layer_circuit_to_matrix\n",
    "from downstream.synthesis.neural_network import NeuralNetworkModel\n",
    "from sklearn.neural_network import MLPRegressor as DNN\n",
    "\n",
    "from jax import numpy as jnp\n",
    "from jax import vmap\n",
    "import jax\n",
    "import optax\n",
    "from jax.config import config\n",
    "import pennylane as qml\n",
    "from pennylane import numpy as pnp\n",
    "import numpy as np\n",
    "from scipy.stats import unitary_group\n",
    "import random\n",
    "import copy\n",
    "import ray\n",
    "from sklearn.model_selection import train_test_split\n"
   ]
  },
  {
   "cell_type": "code",
   "execution_count": 3,
   "metadata": {
    "pycharm": {
     "name": "#%%\n"
    }
   },
   "outputs": [],
   "source": [
    "def transformU(U):\n",
    "    '''转成神经网络里面的格式'''\n",
    "    U = U.reshape(U.size)\n",
    "    U = jnp.concatenate([U.imag, U.real])\n",
    "    U = jnp.array(U, dtype = jnp.float64)\n",
    "    return U"
   ]
  },
  {
   "cell_type": "code",
   "execution_count": 4,
   "metadata": {
    "pycharm": {
     "name": "#%%\n"
    }
   },
   "outputs": [
    {
     "name": "stdout",
     "output_type": "stream",
     "text": [
      "finish random circuit generation with 1800 circuits\n"
     ]
    },
    {
     "name": "stderr",
     "output_type": "stream",
     "text": [
      "2023-02-19 12:26:50,910\tINFO worker.py:1528 -- Started a local Ray instance.\n"
     ]
    },
    {
     "ename": "KeyboardInterrupt",
     "evalue": "",
     "output_type": "error",
     "traceback": [
      "\u001B[1;31m---------------------------------------------------------------------------\u001B[0m",
      "\u001B[1;31mKeyboardInterrupt\u001B[0m                         Traceback (most recent call last)",
      "Cell \u001B[1;32mIn[4], line 7\u001B[0m\n\u001B[0;32m      4\u001B[0m circuits \u001B[38;5;241m=\u001B[39m gen_random_circuits(min_gate \u001B[38;5;241m=\u001B[39m \u001B[38;5;241m100\u001B[39m, max_gate \u001B[38;5;241m=\u001B[39m max_gate, gate_num_step \u001B[38;5;241m=\u001B[39m max_gate\u001B[38;5;241m/\u001B[39m\u001B[38;5;241m/\u001B[39m\u001B[38;5;241m50\u001B[39m, n_circuits \u001B[38;5;241m=\u001B[39m \u001B[38;5;241m10\u001B[39m, two_qubit_gate_probs\u001B[38;5;241m=\u001B[39m[\u001B[38;5;241m4\u001B[39m, \u001B[38;5;241m8\u001B[39m], backend \u001B[38;5;241m=\u001B[39m backend, reverse \u001B[38;5;241m=\u001B[39m \u001B[38;5;28;01mFalse\u001B[39;00m, optimize \u001B[38;5;241m=\u001B[39m \u001B[38;5;28;01mTrue\u001B[39;00m)\n\u001B[0;32m      6\u001B[0m upstream_model \u001B[38;5;241m=\u001B[39m RandomwalkModel(\u001B[38;5;241m1\u001B[39m, \u001B[38;5;241m20\u001B[39m, backend \u001B[38;5;241m=\u001B[39m backend, travel_directions\u001B[38;5;241m=\u001B[39m(\u001B[38;5;124m'\u001B[39m\u001B[38;5;124mparallel\u001B[39m\u001B[38;5;124m'\u001B[39m, \u001B[38;5;124m'\u001B[39m\u001B[38;5;124mnext\u001B[39m\u001B[38;5;124m'\u001B[39m))\n\u001B[1;32m----> 7\u001B[0m \u001B[43mupstream_model\u001B[49m\u001B[38;5;241;43m.\u001B[39;49m\u001B[43mtrain\u001B[49m\u001B[43m(\u001B[49m\u001B[43mcircuits\u001B[49m\u001B[43m,\u001B[49m\u001B[43m \u001B[49m\u001B[43mmulti_process\u001B[49m\u001B[43m \u001B[49m\u001B[38;5;241;43m=\u001B[39;49m\u001B[43m \u001B[49m\u001B[38;5;28;43;01mTrue\u001B[39;49;00m\u001B[43m)\u001B[49m\n\u001B[0;32m      9\u001B[0m \u001B[38;5;28;01mdef\u001B[39;00m \u001B[38;5;21mrandom_params\u001B[39m(layer2gates):\n\u001B[0;32m     10\u001B[0m     layer2gates \u001B[38;5;241m=\u001B[39m copy\u001B[38;5;241m.\u001B[39mdeepcopy(layer2gates)\n",
      "File \u001B[1;32m~\\Desktop\\quct\\upstream\\randomwalk_model.py:243\u001B[0m, in \u001B[0;36mRandomwalkModel.train\u001B[1;34m(self, dataset, multi_process, process_num)\u001B[0m\n\u001B[0;32m    241\u001B[0m sub_dataset \u001B[38;5;241m=\u001B[39m dataset[start: start \u001B[38;5;241m+\u001B[39m batch_size]\n\u001B[0;32m    242\u001B[0m \u001B[38;5;28;01mif\u001B[39;00m multi_process:\n\u001B[1;32m--> 243\u001B[0m     sub_dataset_future \u001B[38;5;241m=\u001B[39m \u001B[43mremote_train\u001B[49m\u001B[38;5;241;43m.\u001B[39;49m\u001B[43mremote\u001B[49m\u001B[43m(\u001B[49m\u001B[43msub_dataset\u001B[49m\u001B[43m,\u001B[49m\u001B[43m \u001B[49m\u001B[43mmax_step\u001B[49m\u001B[43m,\u001B[49m\u001B[43m \u001B[49m\u001B[43mpath_per_node\u001B[49m\u001B[43m,\u001B[49m\u001B[43m \u001B[49m\u001B[43mneighbor_info\u001B[49m\u001B[43m,\u001B[49m\u001B[43m \u001B[49m\u001B[43mstart\u001B[49m\u001B[43m,\u001B[49m\n\u001B[0;32m    244\u001B[0m \u001B[43m                                             \u001B[49m\u001B[38;5;28;43mself\u001B[39;49m\u001B[38;5;241;43m.\u001B[39;49m\u001B[43mtravel_directions\u001B[49m\u001B[43m)\u001B[49m\n\u001B[0;32m    245\u001B[0m \u001B[38;5;28;01melse\u001B[39;00m:\n\u001B[0;32m    246\u001B[0m     sub_dataset_future \u001B[38;5;241m=\u001B[39m train(sub_dataset, max_step, path_per_node, neighbor_info, start,\n\u001B[0;32m    247\u001B[0m                                \u001B[38;5;28mself\u001B[39m\u001B[38;5;241m.\u001B[39mtravel_directions)\n",
      "File \u001B[1;32m~\\anaconda3\\envs\\jax\\lib\\site-packages\\ray\\remote_function.py:122\u001B[0m, in \u001B[0;36mRemoteFunction.__init__.<locals>._remote_proxy\u001B[1;34m(*args, **kwargs)\u001B[0m\n\u001B[0;32m    120\u001B[0m \u001B[38;5;129m@wraps\u001B[39m(function)\n\u001B[0;32m    121\u001B[0m \u001B[38;5;28;01mdef\u001B[39;00m \u001B[38;5;21m_remote_proxy\u001B[39m(\u001B[38;5;241m*\u001B[39margs, \u001B[38;5;241m*\u001B[39m\u001B[38;5;241m*\u001B[39mkwargs):\n\u001B[1;32m--> 122\u001B[0m     \u001B[38;5;28;01mreturn\u001B[39;00m \u001B[38;5;28mself\u001B[39m\u001B[38;5;241m.\u001B[39m_remote(args\u001B[38;5;241m=\u001B[39margs, kwargs\u001B[38;5;241m=\u001B[39mkwargs, \u001B[38;5;241m*\u001B[39m\u001B[38;5;241m*\u001B[39m\u001B[38;5;28mself\u001B[39m\u001B[38;5;241m.\u001B[39m_default_options)\n",
      "File \u001B[1;32m~\\anaconda3\\envs\\jax\\lib\\site-packages\\ray\\util\\tracing\\tracing_helper.py:307\u001B[0m, in \u001B[0;36m_tracing_task_invocation.<locals>._invocation_remote_span\u001B[1;34m(self, args, kwargs, *_args, **_kwargs)\u001B[0m\n\u001B[0;32m    305\u001B[0m     \u001B[38;5;28;01mif\u001B[39;00m kwargs \u001B[38;5;129;01mis\u001B[39;00m \u001B[38;5;129;01mnot\u001B[39;00m \u001B[38;5;28;01mNone\u001B[39;00m:\n\u001B[0;32m    306\u001B[0m         \u001B[38;5;28;01massert\u001B[39;00m \u001B[38;5;124m\"\u001B[39m\u001B[38;5;124m_ray_trace_ctx\u001B[39m\u001B[38;5;124m\"\u001B[39m \u001B[38;5;129;01mnot\u001B[39;00m \u001B[38;5;129;01min\u001B[39;00m kwargs\n\u001B[1;32m--> 307\u001B[0m     \u001B[38;5;28;01mreturn\u001B[39;00m method(\u001B[38;5;28mself\u001B[39m, args, kwargs, \u001B[38;5;241m*\u001B[39m_args, \u001B[38;5;241m*\u001B[39m\u001B[38;5;241m*\u001B[39m_kwargs)\n\u001B[0;32m    309\u001B[0m \u001B[38;5;28;01massert\u001B[39;00m \u001B[38;5;124m\"\u001B[39m\u001B[38;5;124m_ray_trace_ctx\u001B[39m\u001B[38;5;124m\"\u001B[39m \u001B[38;5;129;01mnot\u001B[39;00m \u001B[38;5;129;01min\u001B[39;00m kwargs\n\u001B[0;32m    311\u001B[0m tracer \u001B[38;5;241m=\u001B[39m _opentelemetry\u001B[38;5;241m.\u001B[39mtrace\u001B[38;5;241m.\u001B[39mget_tracer(\u001B[38;5;18m__name__\u001B[39m)\n",
      "File \u001B[1;32m~\\anaconda3\\envs\\jax\\lib\\site-packages\\ray\\remote_function.py:402\u001B[0m, in \u001B[0;36mRemoteFunction._remote\u001B[1;34m(self, args, kwargs, **task_options)\u001B[0m\n\u001B[0;32m    399\u001B[0m \u001B[38;5;28;01mif\u001B[39;00m \u001B[38;5;28mself\u001B[39m\u001B[38;5;241m.\u001B[39m_decorator \u001B[38;5;129;01mis\u001B[39;00m \u001B[38;5;129;01mnot\u001B[39;00m \u001B[38;5;28;01mNone\u001B[39;00m:\n\u001B[0;32m    400\u001B[0m     invocation \u001B[38;5;241m=\u001B[39m \u001B[38;5;28mself\u001B[39m\u001B[38;5;241m.\u001B[39m_decorator(invocation)\n\u001B[1;32m--> 402\u001B[0m \u001B[38;5;28;01mreturn\u001B[39;00m \u001B[43minvocation\u001B[49m\u001B[43m(\u001B[49m\u001B[43margs\u001B[49m\u001B[43m,\u001B[49m\u001B[43m \u001B[49m\u001B[43mkwargs\u001B[49m\u001B[43m)\u001B[49m\n",
      "File \u001B[1;32m~\\anaconda3\\envs\\jax\\lib\\site-packages\\ray\\remote_function.py:377\u001B[0m, in \u001B[0;36mRemoteFunction._remote.<locals>.invocation\u001B[1;34m(args, kwargs)\u001B[0m\n\u001B[0;32m    373\u001B[0m \u001B[38;5;28;01mif\u001B[39;00m worker\u001B[38;5;241m.\u001B[39mmode \u001B[38;5;241m==\u001B[39m ray\u001B[38;5;241m.\u001B[39m_private\u001B[38;5;241m.\u001B[39mworker\u001B[38;5;241m.\u001B[39mLOCAL_MODE:\n\u001B[0;32m    374\u001B[0m     \u001B[38;5;28;01massert\u001B[39;00m (\n\u001B[0;32m    375\u001B[0m         \u001B[38;5;129;01mnot\u001B[39;00m \u001B[38;5;28mself\u001B[39m\u001B[38;5;241m.\u001B[39m_is_cross_language\n\u001B[0;32m    376\u001B[0m     ), \u001B[38;5;124m\"\u001B[39m\u001B[38;5;124mCross language remote function cannot be executed locally.\u001B[39m\u001B[38;5;124m\"\u001B[39m\n\u001B[1;32m--> 377\u001B[0m object_refs \u001B[38;5;241m=\u001B[39m \u001B[43mworker\u001B[49m\u001B[38;5;241;43m.\u001B[39;49m\u001B[43mcore_worker\u001B[49m\u001B[38;5;241;43m.\u001B[39;49m\u001B[43msubmit_task\u001B[49m\u001B[43m(\u001B[49m\n\u001B[0;32m    378\u001B[0m \u001B[43m    \u001B[49m\u001B[38;5;28;43mself\u001B[39;49m\u001B[38;5;241;43m.\u001B[39;49m\u001B[43m_language\u001B[49m\u001B[43m,\u001B[49m\n\u001B[0;32m    379\u001B[0m \u001B[43m    \u001B[49m\u001B[38;5;28;43mself\u001B[39;49m\u001B[38;5;241;43m.\u001B[39;49m\u001B[43m_function_descriptor\u001B[49m\u001B[43m,\u001B[49m\n\u001B[0;32m    380\u001B[0m \u001B[43m    \u001B[49m\u001B[43mlist_args\u001B[49m\u001B[43m,\u001B[49m\n\u001B[0;32m    381\u001B[0m \u001B[43m    \u001B[49m\u001B[43mname\u001B[49m\u001B[43m \u001B[49m\u001B[38;5;28;43;01mif\u001B[39;49;00m\u001B[43m \u001B[49m\u001B[43mname\u001B[49m\u001B[43m \u001B[49m\u001B[38;5;129;43;01mis\u001B[39;49;00m\u001B[43m \u001B[49m\u001B[38;5;129;43;01mnot\u001B[39;49;00m\u001B[43m \u001B[49m\u001B[38;5;28;43;01mNone\u001B[39;49;00m\u001B[43m \u001B[49m\u001B[38;5;28;43;01melse\u001B[39;49;00m\u001B[43m \u001B[49m\u001B[38;5;124;43m\"\u001B[39;49m\u001B[38;5;124;43m\"\u001B[39;49m\u001B[43m,\u001B[49m\n\u001B[0;32m    382\u001B[0m \u001B[43m    \u001B[49m\u001B[43mnum_returns\u001B[49m\u001B[43m,\u001B[49m\n\u001B[0;32m    383\u001B[0m \u001B[43m    \u001B[49m\u001B[43mresources\u001B[49m\u001B[43m,\u001B[49m\n\u001B[0;32m    384\u001B[0m \u001B[43m    \u001B[49m\u001B[43mmax_retries\u001B[49m\u001B[43m,\u001B[49m\n\u001B[0;32m    385\u001B[0m \u001B[43m    \u001B[49m\u001B[43mretry_exceptions\u001B[49m\u001B[43m,\u001B[49m\n\u001B[0;32m    386\u001B[0m \u001B[43m    \u001B[49m\u001B[43mretry_exception_allowlist\u001B[49m\u001B[43m,\u001B[49m\n\u001B[0;32m    387\u001B[0m \u001B[43m    \u001B[49m\u001B[43mscheduling_strategy\u001B[49m\u001B[43m,\u001B[49m\n\u001B[0;32m    388\u001B[0m \u001B[43m    \u001B[49m\u001B[43mworker\u001B[49m\u001B[38;5;241;43m.\u001B[39;49m\u001B[43mdebugger_breakpoint\u001B[49m\u001B[43m,\u001B[49m\n\u001B[0;32m    389\u001B[0m \u001B[43m    \u001B[49m\u001B[43mserialized_runtime_env_info\u001B[49m\u001B[43m \u001B[49m\u001B[38;5;129;43;01mor\u001B[39;49;00m\u001B[43m \u001B[49m\u001B[38;5;124;43m\"\u001B[39;49m\u001B[38;5;132;43;01m{}\u001B[39;49;00m\u001B[38;5;124;43m\"\u001B[39;49m\u001B[43m,\u001B[49m\n\u001B[0;32m    390\u001B[0m \u001B[43m\u001B[49m\u001B[43m)\u001B[49m\n\u001B[0;32m    391\u001B[0m \u001B[38;5;66;03m# Reset worker's debug context from the last \"remote\" command\u001B[39;00m\n\u001B[0;32m    392\u001B[0m \u001B[38;5;66;03m# (which applies only to this .remote call).\u001B[39;00m\n\u001B[0;32m    393\u001B[0m worker\u001B[38;5;241m.\u001B[39mdebugger_breakpoint \u001B[38;5;241m=\u001B[39m \u001B[38;5;124mb\u001B[39m\u001B[38;5;124m\"\u001B[39m\u001B[38;5;124m\"\u001B[39m\n",
      "File \u001B[1;32mpython\\ray\\_raylet.pyx:1787\u001B[0m, in \u001B[0;36mray._raylet.CoreWorker.submit_task\u001B[1;34m()\u001B[0m\n",
      "File \u001B[1;32mpython\\ray\\_raylet.pyx:1791\u001B[0m, in \u001B[0;36mray._raylet.CoreWorker.submit_task\u001B[1;34m()\u001B[0m\n",
      "File \u001B[1;32mpython\\ray\\_raylet.pyx:393\u001B[0m, in \u001B[0;36mray._raylet.prepare_args_and_increment_put_refs\u001B[1;34m()\u001B[0m\n",
      "File \u001B[1;32mpython\\ray\\_raylet.pyx:436\u001B[0m, in \u001B[0;36mray._raylet.prepare_args_internal\u001B[1;34m()\u001B[0m\n",
      "File \u001B[1;32m~\\anaconda3\\envs\\jax\\lib\\site-packages\\ray\\_private\\serialization.py:450\u001B[0m, in \u001B[0;36mSerializationContext.serialize\u001B[1;34m(self, value)\u001B[0m\n\u001B[0;32m    448\u001B[0m     \u001B[38;5;28;01mreturn\u001B[39;00m RawSerializedObject(value)\n\u001B[0;32m    449\u001B[0m \u001B[38;5;28;01melse\u001B[39;00m:\n\u001B[1;32m--> 450\u001B[0m     \u001B[38;5;28;01mreturn\u001B[39;00m \u001B[38;5;28;43mself\u001B[39;49m\u001B[38;5;241;43m.\u001B[39;49m\u001B[43m_serialize_to_msgpack\u001B[49m\u001B[43m(\u001B[49m\u001B[43mvalue\u001B[49m\u001B[43m)\u001B[49m\n",
      "File \u001B[1;32m~\\anaconda3\\envs\\jax\\lib\\site-packages\\ray\\_private\\serialization.py:428\u001B[0m, in \u001B[0;36mSerializationContext._serialize_to_msgpack\u001B[1;34m(self, value)\u001B[0m\n\u001B[0;32m    426\u001B[0m \u001B[38;5;28;01mif\u001B[39;00m python_objects:\n\u001B[0;32m    427\u001B[0m     metadata \u001B[38;5;241m=\u001B[39m ray_constants\u001B[38;5;241m.\u001B[39mOBJECT_METADATA_TYPE_PYTHON\n\u001B[1;32m--> 428\u001B[0m     pickle5_serialized_object \u001B[38;5;241m=\u001B[39m \u001B[38;5;28;43mself\u001B[39;49m\u001B[38;5;241;43m.\u001B[39;49m\u001B[43m_serialize_to_pickle5\u001B[49m\u001B[43m(\u001B[49m\n\u001B[0;32m    429\u001B[0m \u001B[43m        \u001B[49m\u001B[43mmetadata\u001B[49m\u001B[43m,\u001B[49m\u001B[43m \u001B[49m\u001B[43mpython_objects\u001B[49m\n\u001B[0;32m    430\u001B[0m \u001B[43m    \u001B[49m\u001B[43m)\u001B[49m\n\u001B[0;32m    431\u001B[0m \u001B[38;5;28;01melse\u001B[39;00m:\n\u001B[0;32m    432\u001B[0m     pickle5_serialized_object \u001B[38;5;241m=\u001B[39m \u001B[38;5;28;01mNone\u001B[39;00m\n",
      "File \u001B[1;32m~\\anaconda3\\envs\\jax\\lib\\site-packages\\ray\\_private\\serialization.py:385\u001B[0m, in \u001B[0;36mSerializationContext._serialize_to_pickle5\u001B[1;34m(self, metadata, value)\u001B[0m\n\u001B[0;32m    383\u001B[0m \u001B[38;5;28;01mtry\u001B[39;00m:\n\u001B[0;32m    384\u001B[0m     \u001B[38;5;28mself\u001B[39m\u001B[38;5;241m.\u001B[39mset_in_band_serialization()\n\u001B[1;32m--> 385\u001B[0m     inband \u001B[38;5;241m=\u001B[39m \u001B[43mpickle\u001B[49m\u001B[38;5;241;43m.\u001B[39;49m\u001B[43mdumps\u001B[49m\u001B[43m(\u001B[49m\n\u001B[0;32m    386\u001B[0m \u001B[43m        \u001B[49m\u001B[43mvalue\u001B[49m\u001B[43m,\u001B[49m\u001B[43m \u001B[49m\u001B[43mprotocol\u001B[49m\u001B[38;5;241;43m=\u001B[39;49m\u001B[38;5;241;43m5\u001B[39;49m\u001B[43m,\u001B[49m\u001B[43m \u001B[49m\u001B[43mbuffer_callback\u001B[49m\u001B[38;5;241;43m=\u001B[39;49m\u001B[43mwriter\u001B[49m\u001B[38;5;241;43m.\u001B[39;49m\u001B[43mbuffer_callback\u001B[49m\n\u001B[0;32m    387\u001B[0m \u001B[43m    \u001B[49m\u001B[43m)\u001B[49m\n\u001B[0;32m    388\u001B[0m \u001B[38;5;28;01mexcept\u001B[39;00m \u001B[38;5;167;01mException\u001B[39;00m \u001B[38;5;28;01mas\u001B[39;00m e:\n\u001B[0;32m    389\u001B[0m     \u001B[38;5;28mself\u001B[39m\u001B[38;5;241m.\u001B[39mget_and_clear_contained_object_refs()\n",
      "File \u001B[1;32m~\\anaconda3\\envs\\jax\\lib\\site-packages\\ray\\cloudpickle\\cloudpickle_fast.py:73\u001B[0m, in \u001B[0;36mdumps\u001B[1;34m(obj, protocol, buffer_callback)\u001B[0m\n\u001B[0;32m     69\u001B[0m \u001B[38;5;28;01mwith\u001B[39;00m io\u001B[38;5;241m.\u001B[39mBytesIO() \u001B[38;5;28;01mas\u001B[39;00m file:\n\u001B[0;32m     70\u001B[0m     cp \u001B[38;5;241m=\u001B[39m CloudPickler(\n\u001B[0;32m     71\u001B[0m         file, protocol\u001B[38;5;241m=\u001B[39mprotocol, buffer_callback\u001B[38;5;241m=\u001B[39mbuffer_callback\n\u001B[0;32m     72\u001B[0m     )\n\u001B[1;32m---> 73\u001B[0m     \u001B[43mcp\u001B[49m\u001B[38;5;241;43m.\u001B[39;49m\u001B[43mdump\u001B[49m\u001B[43m(\u001B[49m\u001B[43mobj\u001B[49m\u001B[43m)\u001B[49m\n\u001B[0;32m     74\u001B[0m     \u001B[38;5;28;01mreturn\u001B[39;00m file\u001B[38;5;241m.\u001B[39mgetvalue()\n",
      "File \u001B[1;32m~\\anaconda3\\envs\\jax\\lib\\site-packages\\ray\\cloudpickle\\cloudpickle_fast.py:627\u001B[0m, in \u001B[0;36mCloudPickler.dump\u001B[1;34m(self, obj)\u001B[0m\n\u001B[0;32m    625\u001B[0m \u001B[38;5;28;01mdef\u001B[39;00m \u001B[38;5;21mdump\u001B[39m(\u001B[38;5;28mself\u001B[39m, obj):\n\u001B[0;32m    626\u001B[0m     \u001B[38;5;28;01mtry\u001B[39;00m:\n\u001B[1;32m--> 627\u001B[0m         \u001B[38;5;28;01mreturn\u001B[39;00m \u001B[43mPickler\u001B[49m\u001B[38;5;241;43m.\u001B[39;49m\u001B[43mdump\u001B[49m\u001B[43m(\u001B[49m\u001B[38;5;28;43mself\u001B[39;49m\u001B[43m,\u001B[49m\u001B[43m \u001B[49m\u001B[43mobj\u001B[49m\u001B[43m)\u001B[49m\n\u001B[0;32m    628\u001B[0m     \u001B[38;5;28;01mexcept\u001B[39;00m \u001B[38;5;167;01mRuntimeError\u001B[39;00m \u001B[38;5;28;01mas\u001B[39;00m e:\n\u001B[0;32m    629\u001B[0m         \u001B[38;5;28;01mif\u001B[39;00m \u001B[38;5;124m\"\u001B[39m\u001B[38;5;124mrecursion\u001B[39m\u001B[38;5;124m\"\u001B[39m \u001B[38;5;129;01min\u001B[39;00m e\u001B[38;5;241m.\u001B[39margs[\u001B[38;5;241m0\u001B[39m]:\n",
      "File \u001B[1;32m~\\anaconda3\\envs\\jax\\lib\\site-packages\\ray\\cloudpickle\\cloudpickle_fast.py:703\u001B[0m, in \u001B[0;36mCloudPickler.reducer_override\u001B[1;34m(self, obj)\u001B[0m\n\u001B[0;32m    671\u001B[0m \u001B[38;5;28;01mdef\u001B[39;00m \u001B[38;5;21mreducer_override\u001B[39m(\u001B[38;5;28mself\u001B[39m, obj):\n\u001B[0;32m    672\u001B[0m \u001B[38;5;250m    \u001B[39m\u001B[38;5;124;03m\"\"\"Type-agnostic reducing callback for function and classes.\u001B[39;00m\n\u001B[0;32m    673\u001B[0m \n\u001B[0;32m    674\u001B[0m \u001B[38;5;124;03m    For performance reasons, subclasses of the C _pickle.Pickler class\u001B[39;00m\n\u001B[1;32m   (...)\u001B[0m\n\u001B[0;32m    701\u001B[0m \u001B[38;5;124;03m      https://github.com/cloudpipe/cloudpickle/issues/248\u001B[39;00m\n\u001B[0;32m    702\u001B[0m \u001B[38;5;124;03m    \"\"\"\u001B[39;00m\n\u001B[1;32m--> 703\u001B[0m     \u001B[38;5;28;01mif\u001B[39;00m \u001B[43msys\u001B[49m\u001B[38;5;241m.\u001B[39mversion_info[:\u001B[38;5;241m2\u001B[39m] \u001B[38;5;241m<\u001B[39m (\u001B[38;5;241m3\u001B[39m, \u001B[38;5;241m7\u001B[39m) \u001B[38;5;129;01mand\u001B[39;00m _is_parametrized_type_hint(obj):  \u001B[38;5;66;03m# noqa  # pragma: no branch\u001B[39;00m\n\u001B[0;32m    704\u001B[0m         \u001B[38;5;28;01mtry\u001B[39;00m:\n\u001B[0;32m    705\u001B[0m             \u001B[38;5;28;01mreturn\u001B[39;00m (\n\u001B[0;32m    706\u001B[0m                 _create_parametrized_type_hint,\n\u001B[0;32m    707\u001B[0m                 parametrized_type_hint_getinitargs(obj)\n\u001B[0;32m    708\u001B[0m             )\n",
      "\u001B[1;31mKeyboardInterrupt\u001B[0m: "
     ]
    }
   ],
   "source": [
    "max_gate = 1000 #4**n_qubits\n",
    "\n",
    "'''生成用于测试的模板电路'''\n",
    "circuits = gen_random_circuits(min_gate = 100, max_gate = max_gate, gate_num_step = max_gate//50, n_circuits = 10, two_qubit_gate_probs=[4, 8], backend = backend, reverse = False, optimize = True)\n",
    "\n",
    "upstream_model = RandomwalkModel(1, 20, backend = backend, travel_directions=('parallel', 'next'))\n",
    "upstream_model.train(circuits, multi_process = True)\n",
    "\n",
    "def random_params(layer2gates):\n",
    "    layer2gates = copy.deepcopy(layer2gates)\n",
    "    for layer in layer2gates:\n",
    "        for gate in layer:\n",
    "            gate['params'] = [\n",
    "                random.random() * 2 * jnp.pi\n",
    "                for param in gate['params']\n",
    "            ]\n",
    "    return layer2gates\n",
    "\n",
    "@ray.remote\n",
    "def _gen_data(circuit_info, index, n_qubits): \n",
    "    print('finished rate', index)\n",
    "    gate_vecs, Us = [], []\n",
    "    layer2gates = circuit_info['layer2gates']\n",
    "    # print(layer2gates)\n",
    "    for layer_index, layer_gates in enumerate(layer2gates):\n",
    "        layer_gates = [\n",
    "            gate\n",
    "            for gate in layer_gates\n",
    "            if len(gate['qubits']) == 1\n",
    "        ]\n",
    "        if len(layer_gates) == 0:\n",
    "            continue\n",
    "        for _ in range(10):\n",
    "            target_gate_index = random.randint(0, len(layer_gates)-1)\n",
    "            target_gate_index = layer_gates[target_gate_index]['id']\n",
    "            target_gate = circuit_info['gates'][target_gate_index]\n",
    "\n",
    "            gate_vec = circuit_info['vecs'][target_gate_index]\n",
    "        \n",
    "            _layer2gates = random_params(layer2gates[layer_index:])\n",
    "            U = layer_circuit_to_matrix(_layer2gates, n_qubits)  #TODO: vmap\n",
    "            U = transformU(U)\n",
    "            \n",
    "            # 似乎根本没有出现过\n",
    "            # _dists = vmap(matrix_distance_squared, in_axes=(None, 0))(U, jnp.array(U, dtype=jnp.complex128))\n",
    "            # if jnp.any(_dists < 0.1):\n",
    "            #     continue\n",
    "            \n",
    "            Us.append(U)\n",
    "            gate_vecs.append(np.concatenate([jnp.array(target_gate['qubits']), gate_vec], axis=0)  )\n",
    "            \n",
    "    return gate_vecs, Us\n",
    "\n",
    "print('start gen Us -> gate_vectos')\n",
    "futures = []\n",
    "for index, circuit_info in enumerate(circuits):\n",
    "    # upstream_model.vectorize(circuit_info)\n",
    "    future = _gen_data.remote(circuit_info, index/len(circuits), n_qubits)\n",
    "    # future = _gen_data(circuit_info, n_qubits)\n",
    "    futures.append(future)\n",
    "    \n",
    "gate_vecs, Us = [], []\n",
    "for future in futures:\n",
    "    if not isinstance(future, tuple):\n",
    "        future = ray.get(future)\n",
    "    gate_vecs += future[0]\n",
    "    Us += future[1]\n",
    "\n",
    "gate_vecs = jnp.array(gate_vecs, dtype=jnp.float64)\n",
    "Us = jnp.array(Us, dtype=jnp.float64)\n",
    "# Us, Us_test, gate_vecs, gate_vecs_test = train_test_split(Us, gate_vecs, test_size=.1)\n",
    "\n",
    "len(Us), len(gate_vecs), #len(Us_test), len(gate_vecs_test)"
   ]
  },
  {
   "cell_type": "code",
   "execution_count": 20,
   "metadata": {
    "pycharm": {
     "name": "#%%\n"
    }
   },
   "outputs": [
    {
     "name": "stdout",
     "output_type": "stream",
     "text": [
      "Iteration 1, loss = 0.39118028\n",
      "Iteration 2, loss = 0.11691558\n",
      "Iteration 3, loss = 0.08643137\n",
      "Iteration 4, loss = 0.08515224\n",
      "Iteration 5, loss = 0.08440917\n",
      "Iteration 6, loss = 0.08388689\n",
      "Iteration 7, loss = 0.08348472\n",
      "Iteration 8, loss = 0.08308084\n",
      "Iteration 9, loss = 0.08269488\n",
      "Iteration 10, loss = 0.08233844\n",
      "Iteration 11, loss = 0.08198173\n",
      "Iteration 12, loss = 0.08164873\n",
      "Iteration 13, loss = 0.08128136\n",
      "Iteration 14, loss = 0.08091604\n",
      "Iteration 15, loss = 0.08062071\n",
      "Iteration 16, loss = 0.08021890\n",
      "Iteration 17, loss = 0.07988895\n",
      "Iteration 18, loss = 0.07854912\n",
      "Iteration 19, loss = 0.07585225\n",
      "Iteration 20, loss = 0.07434398\n",
      "Iteration 21, loss = 0.07323662\n",
      "Iteration 22, loss = 0.07226610\n",
      "Iteration 23, loss = 0.07142047\n",
      "Iteration 24, loss = 0.07075557\n",
      "Iteration 25, loss = 0.06997065\n",
      "Iteration 26, loss = 0.06946654\n",
      "Iteration 27, loss = 0.06890068\n",
      "Iteration 28, loss = 0.06838322\n",
      "Iteration 29, loss = 0.06789403\n",
      "Iteration 30, loss = 0.06739235\n",
      "Iteration 31, loss = 0.06706601\n",
      "Iteration 32, loss = 0.06652338\n",
      "Iteration 33, loss = 0.06611813\n",
      "Iteration 34, loss = 0.06585572\n",
      "Iteration 35, loss = 0.06539123\n",
      "Iteration 36, loss = 0.06503837\n",
      "Iteration 37, loss = 0.06466489\n",
      "Iteration 38, loss = 0.06431360\n",
      "Iteration 39, loss = 0.06405287\n",
      "Iteration 40, loss = 0.06372444\n",
      "Iteration 41, loss = 0.06342151\n",
      "Iteration 42, loss = 0.06310903\n",
      "Iteration 43, loss = 0.06281295\n",
      "Iteration 44, loss = 0.06252760\n",
      "Iteration 45, loss = 0.06224486\n",
      "Iteration 46, loss = 0.06199921\n",
      "Iteration 47, loss = 0.06166974\n",
      "Iteration 48, loss = 0.06148160\n",
      "Iteration 49, loss = 0.06112823\n",
      "Iteration 50, loss = 0.06097449\n",
      "Iteration 51, loss = 0.06068605\n",
      "Iteration 52, loss = 0.06051795\n",
      "Iteration 53, loss = 0.06032537\n",
      "Iteration 54, loss = 0.05998915\n",
      "Iteration 55, loss = 0.05980082\n",
      "Iteration 56, loss = 0.05968930\n",
      "Iteration 57, loss = 0.05946064\n",
      "Iteration 58, loss = 0.05919583\n",
      "Iteration 59, loss = 0.05890427\n",
      "Iteration 60, loss = 0.05885085\n",
      "Iteration 61, loss = 0.05867133\n",
      "Iteration 62, loss = 0.05864094\n",
      "Iteration 63, loss = 0.05827046\n",
      "Iteration 64, loss = 0.05828961\n",
      "Iteration 65, loss = 0.05805215\n",
      "Iteration 66, loss = 0.05790406\n",
      "Iteration 67, loss = 0.05779593\n",
      "Iteration 68, loss = 0.05778069\n",
      "Iteration 69, loss = 0.05751214\n",
      "Iteration 70, loss = 0.05739417\n",
      "Iteration 71, loss = 0.05738608\n",
      "Iteration 72, loss = 0.05720383\n",
      "Iteration 73, loss = 0.05708536\n",
      "Iteration 74, loss = 0.05694506\n",
      "Iteration 75, loss = 0.05685672\n",
      "Iteration 76, loss = 0.05674919\n",
      "Iteration 77, loss = 0.05675542\n",
      "Iteration 78, loss = 0.05664921\n",
      "Iteration 79, loss = 0.05663410\n",
      "Iteration 80, loss = 0.05660978\n",
      "Iteration 81, loss = 0.05648449\n",
      "Iteration 82, loss = 0.05637141\n",
      "Iteration 83, loss = 0.05622811\n",
      "Iteration 84, loss = 0.05619735\n",
      "Iteration 85, loss = 0.05614300\n",
      "Iteration 86, loss = 0.05600288\n",
      "Iteration 87, loss = 0.05591129\n",
      "Iteration 88, loss = 0.05588459\n",
      "Iteration 89, loss = 0.05586541\n",
      "Iteration 90, loss = 0.05588308\n",
      "Iteration 91, loss = 0.05566391\n",
      "Iteration 92, loss = 0.05568001\n",
      "Iteration 93, loss = 0.05567431\n",
      "Iteration 94, loss = 0.05558381\n",
      "Iteration 95, loss = 0.05551699\n",
      "Iteration 96, loss = 0.05550331\n",
      "Iteration 97, loss = 0.05548200\n",
      "Iteration 98, loss = 0.05542545\n",
      "Iteration 99, loss = 0.05543472\n",
      "Iteration 100, loss = 0.05540616\n",
      "Iteration 101, loss = 0.05523696\n",
      "Iteration 102, loss = 0.05525379\n",
      "Iteration 103, loss = 0.05521858\n",
      "Iteration 104, loss = 0.05517022\n",
      "Iteration 105, loss = 0.05505731\n",
      "Iteration 106, loss = 0.05501619\n",
      "Iteration 107, loss = 0.05510131\n",
      "Iteration 108, loss = 0.05503659\n",
      "Iteration 109, loss = 0.05496509\n",
      "Iteration 110, loss = 0.05491189\n",
      "Iteration 111, loss = 0.05491225\n",
      "Iteration 112, loss = 0.05486234\n",
      "Iteration 113, loss = 0.05488753\n",
      "Iteration 114, loss = 0.05483005\n",
      "Iteration 115, loss = 0.05480137\n",
      "Iteration 116, loss = 0.05476540\n",
      "Training loss did not improve more than tol=0.000100 for 10 consecutive epochs. Stopping.\n"
     ]
    },
    {
     "data": {
      "text/plain": [
       "-0.1130812922039489"
      ]
     },
     "execution_count": 20,
     "metadata": {},
     "output_type": "execute_result"
    }
   ],
   "source": [
    "neural_model = DNN((4**n_qubits, 2**n_qubits, 2**n_qubits, n_qubits), verbose = True, n_iter_no_change=20)\n",
    "neural_model.fit(Us, gate_vecs)\n",
    "# neural_model.score(transform(Us_test), gate_vecs_test)"
   ]
  },
  {
   "cell_type": "code",
   "execution_count": 12,
   "metadata": {
    "pycharm": {
     "name": "#%%\n"
    }
   },
   "outputs": [
    {
     "data": {
      "text/plain": [
       "Array([[-0.2330098 ,  0.10417514, -0.08606198, ..., -0.19171251,\n",
       "         0.029759  ,  0.3081916 ],\n",
       "       [ 0.33108756, -0.08831863,  0.19650535, ..., -0.10447828,\n",
       "         0.33772954, -0.21738027],\n",
       "       [ 0.23013577, -0.28185242,  0.21159315, ..., -0.31406161,\n",
       "         0.18397439,  0.18440095],\n",
       "       ...,\n",
       "       [ 0.0314794 ,  0.04148141,  0.0392296 , ...,  0.04160149,\n",
       "         0.03138558,  0.02243754],\n",
       "       [ 0.74332678, -0.43117344,  0.        , ...,  0.        ,\n",
       "        -0.24508424,  0.34086859],\n",
       "       [ 0.75493485,  0.64480484,  0.        , ...,  0.        ,\n",
       "        -0.05997806,  0.10345414]], dtype=float64)"
      ]
     },
     "execution_count": 12,
     "metadata": {},
     "output_type": "execute_result"
    }
   ],
   "source": [
    "def step_function(x):\n",
    "    return jnp.where(x>0, 1, 0)\n",
    "\n",
    "def final_mapping(mapping, x):\n",
    "    return step_function(mapping['W'] * x + mapping['B'])\n",
    "\n",
    "def final_mapping_cost(mapping, x, y):\n",
    "    predictions = final_mapping(mapping, x)\n",
    "    return optax.l2_loss(predictions, y).sum()\n",
    "\n",
    "mapping  = {\n",
    "    'W': jax.random.normal(shape=(upstream_model.max_table_size,), key=jax.random.PRNGKey((random.randint(0, 10))), dtype=jnp.float64),\n",
    "    'B': jnp.zeros(shape=(6,), dtype=jnp.float64)\n",
    "},\n",
    "opt = optax.adam(learning_rate=1e-2)\n",
    "opt_state = opt.init(mapping)\n",
    "\n",
    "X, X_test, Y, Y_test = train_test_split(X, Y, test_size=0.2)\n",
    "\n",
    "batch_size = 5\n",
    "\n",
    "best_loss = 1e10\n",
    "best_mapping = mapping\n",
    "for epoch in range(100):\n",
    "    total_loss = 0\n",
    "    for start in range(0, len(X), batch_size):\n",
    "        _X, _Y = X[start: start+batch_size], Y[start: start+batch_size]\n",
    "        \n",
    "        loss_value, gradient = jax.value_and_grad(final_mapping_cost)(mapping, _X, _Y)\n",
    "        updates, opt_state = opt.update(gradient, opt_state, mapping)\n",
    "        mapping = optax.apply_updates(mapping, updates) \n",
    "        total_loss += loss_value    \n",
    "        \n",
    "    if epoch%10 ==0:\n",
    "        test_loss = final_mapping_cost(mapping, X_test, Y_test)\n",
    "        print('epoch  %i\\t| train loss = %.5f\\t|  test loss = %.5f' % (epoch, total_loss, test_loss))\n",
    "    \n",
    "    if test_loss < best_loss:\n",
    "        best_loss = test_loss\n",
    "        best_mapping = mapping"
   ]
  },
  {
   "cell_type": "code",
   "execution_count": null,
   "metadata": {
    "pycharm": {
     "name": "#%%\n"
    }
   },
   "outputs": [],
   "source": [
    "# neural_model = NeuralNetworkModel([4**n_qubits, 2**n_qubits, 2**n_qubits, n_qubits, upstream_model.max_table_size + 1])\n",
    "# neural_model.fit(Us, gate_vecs)"
   ]
  }
 ],
 "metadata": {
  "kernelspec": {
   "display_name": "tf2",
   "language": "python",
   "name": "python3"
  },
  "language_info": {
   "codemirror_mode": {
    "name": "ipython",
    "version": 3
   },
   "file_extension": ".py",
   "mimetype": "text/x-python",
   "name": "python",
   "nbconvert_exporter": "python",
   "pygments_lexer": "ipython3",
   "version": "3.8.13"
  },
  "orig_nbformat": 4,
  "vscode": {
   "interpreter": {
    "hash": "40ab7016a719c16865f45333a0e432dfc9f4de1f9c9e434a65327be7166adb9f"
   }
  }
 },
 "nbformat": 4,
 "nbformat_minor": 2
}