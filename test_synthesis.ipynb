{
 "cells": [
  {
   "cell_type": "code",
   "execution_count": 1,
   "metadata": {
    "pycharm": {
     "name": "#%%\n"
    }
   },
   "outputs": [
    {
     "name": "stderr",
     "output_type": "stream",
     "text": [
      "WARNING:tensorcircuit.quantum:tensorflow is not installed, and sparse Hamiltonian generation utilities are disabled\n"
     ]
    }
   ],
   "source": [
    "from circuit import gen_random_circuits\n",
    "from upstream import RandomwalkModel\n",
    "from collections import defaultdict\n",
    "\n",
    "import math\n",
    "from utils.backend import gen_grid_topology, get_grid_neighbor_info, Backend\n",
    "# from utils.backend import default_basis_single_gates, default_basis_two_gates\n",
    "\n",
    "\n",
    "import pennylane as qml\n",
    "import numpy as np\n",
    "from downstream.synthesis.pennylane_op import layer_circuit_to_pennylane_circuit, layer_circuit_to_pennylane_tape\n",
    "from downstream.synthesis.tensor_network_op import layer_circuit_to_matrix\n",
    "from downstream.synthesis import matrix_distance_squared\n",
    "from sklearn.utils import shuffle\n",
    "\n",
    "grid_num = 2\n",
    "topology = gen_grid_topology(grid_num) # 3x3 9 qubits\n",
    "neigh_info = get_grid_neighbor_info(grid_num, 1)\n",
    "\n",
    "\n",
    "n_qubits = grid_num ** 2\n",
    "backend = Backend(n_qubits=n_qubits, topology=topology, neighbor_info=neigh_info, basis_single_gates = ['u'], \n",
    "                  basis_two_gates = ['cz'], divide = False, decoupling=False)\n",
    "\n",
    "\n",
    "\n",
    "from downstream.synthesis import SynthesisModel\n",
    "from scipy.stats import unitary_group"
   ]
  },
  {
   "cell_type": "code",
   "execution_count": 2,
   "metadata": {},
   "outputs": [],
   "source": [
    "import cloudpickle as pickle\n",
    "from utils.backend import gen_grid_topology, get_grid_neighbor_info, Backend\n",
    "from circuit import gen_random_circuits\n",
    "from upstream import RandomwalkModel\n",
    "# from downstream.synthesis.pennylane_op import layer_circuit_to_pennylane_circuit, layer_circuit_to_pennylane_tape\n",
    "from downstream.synthesis.tensor_network_op import layer_circuit_to_matrix\n",
    "# from downstream.synthesis.neural_network import NeuralNetworkModel\n",
    "from sklearn.neural_network import MLPRegressor as DNN\n",
    "\n",
    "from jax import numpy as jnp\n",
    "from jax import vmap\n",
    "import jax\n",
    "import optax\n",
    "from jax.config import config\n",
    "import pennylane as qml\n",
    "from pennylane import numpy as pnp\n",
    "import numpy as np\n",
    "from scipy.stats import unitary_group\n",
    "import random\n",
    "import copy\n",
    "import ray\n",
    "from sklearn.model_selection import train_test_split\n",
    "\n",
    "# ray.init()\n",
    "\n",
    "\n",
    "grid_num = 2\n",
    "topology = gen_grid_topology(grid_num) # 3x3 9 qubits\n",
    "neigh_info = get_grid_neighbor_info(grid_num, 1)\n",
    "\n",
    "\n",
    "n_qubits = grid_num ** 2\n",
    "backend = Backend(n_qubits=n_qubits, topology=topology, neighbor_info=neigh_info, basis_single_gates = ['u'], \n",
    "                  basis_two_gates = ['cz'], divide = False, decoupling=False)\n",
    "\n",
    "\n",
    "\n",
    "from downstream.synthesis import SynthesisModel\n",
    "from scipy.stats import unitary_group\n",
    "# import warnings\n",
    "# warnings.filterwarnings(\"ignore\")"
   ]
  },
  {
   "cell_type": "code",
   "execution_count": 3,
   "metadata": {},
   "outputs": [],
   "source": [
    "def transformU(U):\n",
    "    '''转成神经网络里面的格式'''\n",
    "    U = U.reshape(U.size)\n",
    "    U = jnp.concatenate([U.imag, U.real])\n",
    "    U = jnp.array(U, dtype = jnp.float64)\n",
    "    return U"
   ]
  },
  {
   "cell_type": "code",
   "execution_count": 6,
   "metadata": {},
   "outputs": [
    {
     "ename": "KeyboardInterrupt",
     "evalue": "",
     "output_type": "error",
     "traceback": [
      "\u001b[0;31m---------------------------------------------------------------------------\u001b[0m",
      "\u001b[0;31mKeyboardInterrupt\u001b[0m                         Traceback (most recent call last)",
      "\u001b[1;32m/Users/siwei/workspace/QuCT-Micro2023/test_synthesis.ipynb 单元格 4\u001b[0m in \u001b[0;36m<cell line: 4>\u001b[0;34m()\u001b[0m\n\u001b[1;32m      <a href='vscode-notebook-cell:/Users/siwei/workspace/QuCT-Micro2023/test_synthesis.ipynb#W3sZmlsZQ%3D%3D?line=0'>1</a>\u001b[0m max_gate \u001b[39m=\u001b[39m \u001b[39m200\u001b[39m \u001b[39m#4**n_qubits\u001b[39;00m\n\u001b[1;32m      <a href='vscode-notebook-cell:/Users/siwei/workspace/QuCT-Micro2023/test_synthesis.ipynb#W3sZmlsZQ%3D%3D?line=2'>3</a>\u001b[0m \u001b[39m'''生成用于测试的模板电路'''\u001b[39;00m\n\u001b[0;32m----> <a href='vscode-notebook-cell:/Users/siwei/workspace/QuCT-Micro2023/test_synthesis.ipynb#W3sZmlsZQ%3D%3D?line=3'>4</a>\u001b[0m circuits \u001b[39m=\u001b[39m gen_random_circuits(min_gate \u001b[39m=\u001b[39;49m \u001b[39m100\u001b[39;49m, max_gate \u001b[39m=\u001b[39;49m max_gate, gate_num_step \u001b[39m=\u001b[39;49m max_gate\u001b[39m/\u001b[39;49m\u001b[39m/\u001b[39;49m\u001b[39m50\u001b[39;49m, n_circuits \u001b[39m=\u001b[39;49m \u001b[39m1\u001b[39;49m, two_qubit_gate_probs\u001b[39m=\u001b[39;49m[\u001b[39m4\u001b[39;49m, \u001b[39m8\u001b[39;49m], backend \u001b[39m=\u001b[39;49m backend, reverse \u001b[39m=\u001b[39;49m \u001b[39mFalse\u001b[39;49;00m, optimize \u001b[39m=\u001b[39;49m \u001b[39mTrue\u001b[39;49;00m)\n\u001b[1;32m      <a href='vscode-notebook-cell:/Users/siwei/workspace/QuCT-Micro2023/test_synthesis.ipynb#W3sZmlsZQ%3D%3D?line=5'>6</a>\u001b[0m upstream_model \u001b[39m=\u001b[39m RandomwalkModel(\u001b[39m1\u001b[39m, \u001b[39m20\u001b[39m, backend \u001b[39m=\u001b[39m backend, travel_directions\u001b[39m=\u001b[39m(\u001b[39m'\u001b[39m\u001b[39mparallel\u001b[39m\u001b[39m'\u001b[39m, \u001b[39m'\u001b[39m\u001b[39mnext\u001b[39m\u001b[39m'\u001b[39m))\n\u001b[1;32m      <a href='vscode-notebook-cell:/Users/siwei/workspace/QuCT-Micro2023/test_synthesis.ipynb#W3sZmlsZQ%3D%3D?line=6'>7</a>\u001b[0m upstream_model\u001b[39m.\u001b[39mtrain(circuits, multi_process \u001b[39m=\u001b[39m \u001b[39mTrue\u001b[39;00m)\n",
      "File \u001b[0;32m~/workspace/QuCT-Micro2023/circuit/dataset_loader.py:13\u001b[0m, in \u001b[0;36mgen_random_circuits\u001b[0;34m(min_gate, max_gate, n_circuits, two_qubit_gate_probs, backend, gate_num_step, reverse, optimize)\u001b[0m\n\u001b[1;32m     11\u001b[0m     \u001b[39mfor\u001b[39;00m prob \u001b[39min\u001b[39;00m \u001b[39mrange\u001b[39m(\u001b[39m*\u001b[39mtwo_qubit_gate_probs):\n\u001b[1;32m     12\u001b[0m         prob \u001b[39m*\u001b[39m\u001b[39m=\u001b[39m \u001b[39m.1\u001b[39m\n\u001b[0;32m---> 13\u001b[0m         dataset \u001b[39m+\u001b[39m\u001b[39m=\u001b[39m _gen_random_circuits(n_gates\u001b[39m=\u001b[39;49mn_gates, two_qubit_prob\u001b[39m=\u001b[39;49mprob,\n\u001b[1;32m     14\u001b[0m                                        n_circuits\u001b[39m=\u001b[39;49mn_circuits, backend \u001b[39m=\u001b[39;49m backend, reverse \u001b[39m=\u001b[39;49m reverse, \n\u001b[1;32m     15\u001b[0m                                        optimize \u001b[39m=\u001b[39;49m optimize)\n\u001b[1;32m     17\u001b[0m \u001b[39mprint\u001b[39m(\u001b[39mf\u001b[39m\u001b[39m'\u001b[39m\u001b[39mfinish random circuit generation with \u001b[39m\u001b[39m{\u001b[39;00m\u001b[39mlen\u001b[39m(dataset)\u001b[39m}\u001b[39;00m\u001b[39m circuits\u001b[39m\u001b[39m'\u001b[39m)\n\u001b[1;32m     18\u001b[0m \u001b[39mreturn\u001b[39;00m dataset\n",
      "File \u001b[0;32m~/workspace/QuCT-Micro2023/circuit/dataset_loader.py:29\u001b[0m, in \u001b[0;36m_gen_random_circuits\u001b[0;34m(n_gates, two_qubit_prob, n_circuits, backend, reverse, optimize)\u001b[0m\n\u001b[1;32m     26\u001b[0m circuit \u001b[39m=\u001b[39m random_circuit(n_qubits, n_gates, two_qubit_prob, reverse\u001b[39m=\u001b[39mreverse, coupling_map\u001b[39m=\u001b[39mcoupling_map,\n\u001b[1;32m     27\u001b[0m                                          basis_single_gates\u001b[39m=\u001b[39mbasis_single_gates, basis_two_gates\u001b[39m=\u001b[39mbasis_two_gates)\n\u001b[1;32m     28\u001b[0m \u001b[39mif\u001b[39;00m optimize:\n\u001b[0;32m---> 29\u001b[0m     circuit \u001b[39m=\u001b[39m transpile(circuit, coupling_map\u001b[39m=\u001b[39;49mcoupling_map, optimization_level\u001b[39m=\u001b[39;49m\u001b[39m3\u001b[39;49m, basis_gates\u001b[39m=\u001b[39;49m(basis_single_gates\u001b[39m+\u001b[39;49mbasis_two_gates), initial_layout\u001b[39m=\u001b[39;49m[qubit \u001b[39mfor\u001b[39;49;00m qubit \u001b[39min\u001b[39;49;00m \u001b[39mrange\u001b[39;49m(n_qubits)])\n\u001b[1;32m     31\u001b[0m dataset \u001b[39m=\u001b[39m [\n\u001b[1;32m     32\u001b[0m     ({\n\u001b[1;32m     33\u001b[0m         \u001b[39m'\u001b[39m\u001b[39mid\u001b[39m\u001b[39m'\u001b[39m: \u001b[39mf\u001b[39m\u001b[39m'\u001b[39m\u001b[39mrc_\u001b[39m\u001b[39m{\u001b[39;00mn_qubits\u001b[39m}\u001b[39;00m\u001b[39m_\u001b[39m\u001b[39m{\u001b[39;00mn_gates\u001b[39m}\u001b[39;00m\u001b[39m_\u001b[39m\u001b[39m{\u001b[39;00mtwo_qubit_prob\u001b[39m}\u001b[39;00m\u001b[39m_\u001b[39m\u001b[39m{\u001b[39;00m_\u001b[39m}\u001b[39;00m\u001b[39m'\u001b[39m,\n\u001b[0;32m   (...)\u001b[0m\n\u001b[1;32m     36\u001b[0m     \u001b[39mfor\u001b[39;00m _ \u001b[39min\u001b[39;00m \u001b[39mrange\u001b[39m(n_circuits)\n\u001b[1;32m     37\u001b[0m ]\n\u001b[1;32m     39\u001b[0m new_dataset \u001b[39m=\u001b[39m []\n",
      "File \u001b[0;32m~/miniforge3/envs/tf2/lib/python3.8/site-packages/qiskit/compiler/transpiler.py:381\u001b[0m, in \u001b[0;36mtranspile\u001b[0;34m(circuits, backend, basis_gates, inst_map, coupling_map, backend_properties, initial_layout, layout_method, routing_method, translation_method, scheduling_method, instruction_durations, dt, approximation_degree, timing_constraints, seed_transpiler, optimization_level, callback, output_name, unitary_synthesis_method, unitary_synthesis_plugin_config, target, hls_config, init_method, optimization_method, ignore_backend_supplied_default_methods)\u001b[0m\n\u001b[1;32m    378\u001b[0m     \u001b[39mfor\u001b[39;00m circuit, unique_args \u001b[39min\u001b[39;00m \u001b[39mzip\u001b[39m(circuits, unique_transpile_args):\n\u001b[1;32m    379\u001b[0m         transpile_config, pass_manager \u001b[39m=\u001b[39m _combine_args(shared_args, unique_args)\n\u001b[1;32m    380\u001b[0m         output_circuits\u001b[39m.\u001b[39mappend(\n\u001b[0;32m--> 381\u001b[0m             _serial_transpile_circuit(\n\u001b[1;32m    382\u001b[0m                 circuit,\n\u001b[1;32m    383\u001b[0m                 pass_manager,\n\u001b[1;32m    384\u001b[0m                 transpile_config[\u001b[39m\"\u001b[39;49m\u001b[39mcallback\u001b[39;49m\u001b[39m\"\u001b[39;49m],\n\u001b[1;32m    385\u001b[0m                 transpile_config[\u001b[39m\"\u001b[39;49m\u001b[39moutput_name\u001b[39;49m\u001b[39m\"\u001b[39;49m],\n\u001b[1;32m    386\u001b[0m                 transpile_config[\u001b[39m\"\u001b[39;49m\u001b[39mbackend_num_qubits\u001b[39;49m\u001b[39m\"\u001b[39;49m],\n\u001b[1;32m    387\u001b[0m                 transpile_config[\u001b[39m\"\u001b[39;49m\u001b[39mfaulty_qubits_map\u001b[39;49m\u001b[39m\"\u001b[39;49m],\n\u001b[1;32m    388\u001b[0m                 transpile_config[\u001b[39m\"\u001b[39;49m\u001b[39mpass_manager_config\u001b[39;49m\u001b[39m\"\u001b[39;49m]\u001b[39m.\u001b[39;49mbackend_properties,\n\u001b[1;32m    389\u001b[0m             )\n\u001b[1;32m    390\u001b[0m         )\n\u001b[1;32m    391\u001b[0m     circuits \u001b[39m=\u001b[39m output_circuits\n\u001b[1;32m    392\u001b[0m end_time \u001b[39m=\u001b[39m time()\n",
      "File \u001b[0;32m~/miniforge3/envs/tf2/lib/python3.8/site-packages/qiskit/compiler/transpiler.py:474\u001b[0m, in \u001b[0;36m_serial_transpile_circuit\u001b[0;34m(circuit, pass_manager, callback, output_name, num_qubits, faulty_qubits_map, backend_prop)\u001b[0m\n\u001b[1;32m    465\u001b[0m \u001b[39mdef\u001b[39;00m \u001b[39m_serial_transpile_circuit\u001b[39m(\n\u001b[1;32m    466\u001b[0m     circuit,\n\u001b[1;32m    467\u001b[0m     pass_manager,\n\u001b[0;32m   (...)\u001b[0m\n\u001b[1;32m    472\u001b[0m     backend_prop\u001b[39m=\u001b[39m\u001b[39mNone\u001b[39;00m,\n\u001b[1;32m    473\u001b[0m ):\n\u001b[0;32m--> 474\u001b[0m     result \u001b[39m=\u001b[39m pass_manager\u001b[39m.\u001b[39;49mrun(circuit, callback\u001b[39m=\u001b[39;49mcallback, output_name\u001b[39m=\u001b[39;49moutput_name)\n\u001b[1;32m    475\u001b[0m     \u001b[39mif\u001b[39;00m faulty_qubits_map:\n\u001b[1;32m    476\u001b[0m         \u001b[39mreturn\u001b[39;00m _remap_circuit_faulty_backend(\n\u001b[1;32m    477\u001b[0m             result,\n\u001b[1;32m    478\u001b[0m             num_qubits,\n\u001b[1;32m    479\u001b[0m             backend_prop,\n\u001b[1;32m    480\u001b[0m             faulty_qubits_map,\n\u001b[1;32m    481\u001b[0m         )\n",
      "File \u001b[0;32m~/miniforge3/envs/tf2/lib/python3.8/site-packages/qiskit/transpiler/passmanager.py:528\u001b[0m, in \u001b[0;36mStagedPassManager.run\u001b[0;34m(self, circuits, output_name, callback)\u001b[0m\n\u001b[1;32m    521\u001b[0m \u001b[39mdef\u001b[39;00m \u001b[39mrun\u001b[39m(\n\u001b[1;32m    522\u001b[0m     \u001b[39mself\u001b[39m,\n\u001b[1;32m    523\u001b[0m     circuits: Union[QuantumCircuit, List[QuantumCircuit]],\n\u001b[1;32m    524\u001b[0m     output_name: \u001b[39mstr\u001b[39m \u001b[39m=\u001b[39m \u001b[39mNone\u001b[39;00m,\n\u001b[1;32m    525\u001b[0m     callback: Callable \u001b[39m=\u001b[39m \u001b[39mNone\u001b[39;00m,\n\u001b[1;32m    526\u001b[0m ) \u001b[39m-\u001b[39m\u001b[39m>\u001b[39m Union[QuantumCircuit, List[QuantumCircuit]]:\n\u001b[1;32m    527\u001b[0m     \u001b[39mself\u001b[39m\u001b[39m.\u001b[39m_update_passmanager()\n\u001b[0;32m--> 528\u001b[0m     \u001b[39mreturn\u001b[39;00m \u001b[39msuper\u001b[39;49m()\u001b[39m.\u001b[39;49mrun(circuits, output_name, callback)\n",
      "File \u001b[0;32m~/miniforge3/envs/tf2/lib/python3.8/site-packages/qiskit/transpiler/passmanager.py:228\u001b[0m, in \u001b[0;36mPassManager.run\u001b[0;34m(self, circuits, output_name, callback)\u001b[0m\n\u001b[1;32m    226\u001b[0m     \u001b[39mreturn\u001b[39;00m circuits\n\u001b[1;32m    227\u001b[0m \u001b[39mif\u001b[39;00m \u001b[39misinstance\u001b[39m(circuits, QuantumCircuit):\n\u001b[0;32m--> 228\u001b[0m     \u001b[39mreturn\u001b[39;00m \u001b[39mself\u001b[39;49m\u001b[39m.\u001b[39;49m_run_single_circuit(circuits, output_name, callback)\n\u001b[1;32m    229\u001b[0m \u001b[39mif\u001b[39;00m \u001b[39mlen\u001b[39m(circuits) \u001b[39m==\u001b[39m \u001b[39m1\u001b[39m:\n\u001b[1;32m    230\u001b[0m     \u001b[39mreturn\u001b[39;00m \u001b[39mself\u001b[39m\u001b[39m.\u001b[39m_run_single_circuit(circuits[\u001b[39m0\u001b[39m], output_name, callback)\n",
      "File \u001b[0;32m~/miniforge3/envs/tf2/lib/python3.8/site-packages/qiskit/transpiler/passmanager.py:283\u001b[0m, in \u001b[0;36mPassManager._run_single_circuit\u001b[0;34m(self, circuit, output_name, callback)\u001b[0m\n\u001b[1;32m    271\u001b[0m \u001b[39m\"\"\"Run all the passes on a ``circuit``.\u001b[39;00m\n\u001b[1;32m    272\u001b[0m \n\u001b[1;32m    273\u001b[0m \u001b[39mArgs:\u001b[39;00m\n\u001b[0;32m   (...)\u001b[0m\n\u001b[1;32m    280\u001b[0m \u001b[39m    The transformed circuit.\u001b[39;00m\n\u001b[1;32m    281\u001b[0m \u001b[39m\"\"\"\u001b[39;00m\n\u001b[1;32m    282\u001b[0m running_passmanager \u001b[39m=\u001b[39m \u001b[39mself\u001b[39m\u001b[39m.\u001b[39m_create_running_passmanager()\n\u001b[0;32m--> 283\u001b[0m result \u001b[39m=\u001b[39m running_passmanager\u001b[39m.\u001b[39;49mrun(circuit, output_name\u001b[39m=\u001b[39;49moutput_name, callback\u001b[39m=\u001b[39;49mcallback)\n\u001b[1;32m    284\u001b[0m \u001b[39mself\u001b[39m\u001b[39m.\u001b[39mproperty_set \u001b[39m=\u001b[39m running_passmanager\u001b[39m.\u001b[39mproperty_set\n\u001b[1;32m    285\u001b[0m \u001b[39mreturn\u001b[39;00m result\n",
      "File \u001b[0;32m~/miniforge3/envs/tf2/lib/python3.8/site-packages/qiskit/transpiler/runningpassmanager.py:125\u001b[0m, in \u001b[0;36mRunningPassManager.run\u001b[0;34m(***failed resolving arguments***)\u001b[0m\n\u001b[1;32m    123\u001b[0m \u001b[39mfor\u001b[39;00m passset \u001b[39min\u001b[39;00m \u001b[39mself\u001b[39m\u001b[39m.\u001b[39mworking_list:\n\u001b[1;32m    124\u001b[0m     \u001b[39mfor\u001b[39;00m pass_ \u001b[39min\u001b[39;00m passset:\n\u001b[0;32m--> 125\u001b[0m         dag \u001b[39m=\u001b[39m \u001b[39mself\u001b[39;49m\u001b[39m.\u001b[39;49m_do_pass(pass_, dag, passset\u001b[39m.\u001b[39;49moptions)\n\u001b[1;32m    127\u001b[0m circuit \u001b[39m=\u001b[39m dag_to_circuit(dag)\n\u001b[1;32m    128\u001b[0m \u001b[39mif\u001b[39;00m output_name:\n",
      "File \u001b[0;32m~/miniforge3/envs/tf2/lib/python3.8/site-packages/qiskit/transpiler/runningpassmanager.py:173\u001b[0m, in \u001b[0;36mRunningPassManager._do_pass\u001b[0;34m(self, pass_, dag, options)\u001b[0m\n\u001b[1;32m    171\u001b[0m \u001b[39m# Run the pass itself, if not already run\u001b[39;00m\n\u001b[1;32m    172\u001b[0m \u001b[39mif\u001b[39;00m pass_ \u001b[39mnot\u001b[39;00m \u001b[39min\u001b[39;00m \u001b[39mself\u001b[39m\u001b[39m.\u001b[39mvalid_passes:\n\u001b[0;32m--> 173\u001b[0m     dag \u001b[39m=\u001b[39m \u001b[39mself\u001b[39;49m\u001b[39m.\u001b[39;49m_run_this_pass(pass_, dag)\n\u001b[1;32m    175\u001b[0m     \u001b[39m# update the valid_passes property\u001b[39;00m\n\u001b[1;32m    176\u001b[0m     \u001b[39mself\u001b[39m\u001b[39m.\u001b[39m_update_valid_passes(pass_)\n",
      "File \u001b[0;32m~/miniforge3/envs/tf2/lib/python3.8/site-packages/qiskit/transpiler/runningpassmanager.py:202\u001b[0m, in \u001b[0;36mRunningPassManager._run_this_pass\u001b[0;34m(self, pass_, dag)\u001b[0m\n\u001b[1;32m    199\u001b[0m \u001b[39mif\u001b[39;00m pass_\u001b[39m.\u001b[39mis_transformation_pass:\n\u001b[1;32m    200\u001b[0m     \u001b[39m# Measure time if we have a callback or logging set\u001b[39;00m\n\u001b[1;32m    201\u001b[0m     start_time \u001b[39m=\u001b[39m time()\n\u001b[0;32m--> 202\u001b[0m     new_dag \u001b[39m=\u001b[39m pass_\u001b[39m.\u001b[39;49mrun(dag)\n\u001b[1;32m    203\u001b[0m     end_time \u001b[39m=\u001b[39m time()\n\u001b[1;32m    204\u001b[0m     run_time \u001b[39m=\u001b[39m end_time \u001b[39m-\u001b[39m start_time\n",
      "File \u001b[0;32m~/miniforge3/envs/tf2/lib/python3.8/site-packages/qiskit/transpiler/passes/synthesis/unitary_synthesis.py:308\u001b[0m, in \u001b[0;36mUnitarySynthesis.run\u001b[0;34m(self, dag)\u001b[0m\n\u001b[1;32m    305\u001b[0m \u001b[39mif\u001b[39;00m \u001b[39mself\u001b[39m\u001b[39m.\u001b[39mmethod \u001b[39m==\u001b[39m \u001b[39m\"\u001b[39m\u001b[39mdefault\u001b[39m\u001b[39m\"\u001b[39m:\n\u001b[1;32m    306\u001b[0m     \u001b[39m# pylint: disable=attribute-defined-outside-init\u001b[39;00m\n\u001b[1;32m    307\u001b[0m     plugin_method\u001b[39m.\u001b[39m_approximation_degree \u001b[39m=\u001b[39m \u001b[39mself\u001b[39m\u001b[39m.\u001b[39m_approximation_degree\n\u001b[0;32m--> 308\u001b[0m \u001b[39mreturn\u001b[39;00m \u001b[39mself\u001b[39;49m\u001b[39m.\u001b[39;49m_run_main_loop(\n\u001b[1;32m    309\u001b[0m     dag, plugin_method, plugin_kwargs, default_method, default_kwargs\n\u001b[1;32m    310\u001b[0m )\n",
      "File \u001b[0;32m~/miniforge3/envs/tf2/lib/python3.8/site-packages/qiskit/transpiler/passes/synthesis/unitary_synthesis.py:349\u001b[0m, in \u001b[0;36mUnitarySynthesis._run_main_loop\u001b[0;34m(self, dag, plugin_method, plugin_kwargs, default_method, default_kwargs)\u001b[0m\n\u001b[1;32m    344\u001b[0m \u001b[39mif\u001b[39;00m method\u001b[39m.\u001b[39msupports_coupling_map:\n\u001b[1;32m    345\u001b[0m     kwargs[\u001b[39m\"\u001b[39m\u001b[39mcoupling_map\u001b[39m\u001b[39m\"\u001b[39m] \u001b[39m=\u001b[39m (\n\u001b[1;32m    346\u001b[0m         \u001b[39mself\u001b[39m\u001b[39m.\u001b[39m_coupling_map,\n\u001b[1;32m    347\u001b[0m         [dag_bit_indices[x] \u001b[39mfor\u001b[39;00m x \u001b[39min\u001b[39;00m node\u001b[39m.\u001b[39mqargs],\n\u001b[1;32m    348\u001b[0m     )\n\u001b[0;32m--> 349\u001b[0m synth_dag \u001b[39m=\u001b[39m method\u001b[39m.\u001b[39;49mrun(unitary, \u001b[39m*\u001b[39;49m\u001b[39m*\u001b[39;49mkwargs)\n\u001b[1;32m    350\u001b[0m \u001b[39mif\u001b[39;00m synth_dag \u001b[39mis\u001b[39;00m \u001b[39mnot\u001b[39;00m \u001b[39mNone\u001b[39;00m:\n\u001b[1;32m    351\u001b[0m     \u001b[39mif\u001b[39;00m \u001b[39misinstance\u001b[39m(synth_dag, \u001b[39mtuple\u001b[39m):\n",
      "File \u001b[0;32m~/miniforge3/envs/tf2/lib/python3.8/site-packages/qiskit/transpiler/passes/synthesis/unitary_synthesis.py:558\u001b[0m, in \u001b[0;36mDefaultUnitarySynthesis.run\u001b[0;34m(self, unitary, **options)\u001b[0m\n\u001b[1;32m    556\u001b[0m     \u001b[39mif\u001b[39;00m \u001b[39mnot\u001b[39;00m decomposer2q:\n\u001b[1;32m    557\u001b[0m         \u001b[39mreturn\u001b[39;00m \u001b[39mNone\u001b[39;00m\n\u001b[0;32m--> 558\u001b[0m     synth_dag, wires \u001b[39m=\u001b[39m \u001b[39mself\u001b[39;49m\u001b[39m.\u001b[39;49m_synth_natural_direction(\n\u001b[1;32m    559\u001b[0m         unitary,\n\u001b[1;32m    560\u001b[0m         coupling_map,\n\u001b[1;32m    561\u001b[0m         qubits,\n\u001b[1;32m    562\u001b[0m         decomposer2q,\n\u001b[1;32m    563\u001b[0m         gate_lengths,\n\u001b[1;32m    564\u001b[0m         gate_errors,\n\u001b[1;32m    565\u001b[0m         natural_direction,\n\u001b[1;32m    566\u001b[0m         approximation_degree,\n\u001b[1;32m    567\u001b[0m         pulse_optimize,\n\u001b[1;32m    568\u001b[0m         target,\n\u001b[1;32m    569\u001b[0m         preferred_direction,\n\u001b[1;32m    570\u001b[0m     )\n\u001b[1;32m    571\u001b[0m \u001b[39melse\u001b[39;00m:\n\u001b[1;32m    572\u001b[0m     \u001b[39mfrom\u001b[39;00m \u001b[39mqiskit\u001b[39;00m\u001b[39m.\u001b[39;00m\u001b[39mquantum_info\u001b[39;00m\u001b[39m.\u001b[39;00m\u001b[39msynthesis\u001b[39;00m\u001b[39m.\u001b[39;00m\u001b[39mqsd\u001b[39;00m \u001b[39mimport\u001b[39;00m (  \u001b[39m# pylint: disable=cyclic-import\u001b[39;00m\n\u001b[1;32m    573\u001b[0m         qs_decomposition,\n\u001b[1;32m    574\u001b[0m     )\n",
      "File \u001b[0;32m~/miniforge3/envs/tf2/lib/python3.8/site-packages/qiskit/transpiler/passes/synthesis/unitary_synthesis.py:649\u001b[0m, in \u001b[0;36mDefaultUnitarySynthesis._synth_natural_direction\u001b[0;34m(self, su4_mat, coupling_map, qubits, decomposer2q, gate_lengths, gate_errors, natural_direction, approximation_degree, pulse_optimize, target, preferred_direction)\u001b[0m\n\u001b[1;32m    647\u001b[0m     basis_fidelity \u001b[39m=\u001b[39m physical_gate_fidelity\n\u001b[1;32m    648\u001b[0m \u001b[39mif\u001b[39;00m \u001b[39mnot\u001b[39;00m \u001b[39misinstance\u001b[39m(decomposer2q, XXDecomposer):\n\u001b[0;32m--> 649\u001b[0m     synth_circ \u001b[39m=\u001b[39m decomposer2q(su4_mat, basis_fidelity\u001b[39m=\u001b[39;49mbasis_fidelity)\n\u001b[1;32m    650\u001b[0m \u001b[39melse\u001b[39;00m:\n\u001b[1;32m    651\u001b[0m     synth_circ \u001b[39m=\u001b[39m decomposer2q(su4_mat)\n",
      "File \u001b[0;32m~/miniforge3/envs/tf2/lib/python3.8/site-packages/qiskit/quantum_info/synthesis/two_qubit_decompose.py:1094\u001b[0m, in \u001b[0;36mTwoQubitBasisDecomposer.__call__\u001b[0;34m(self, target, basis_fidelity, _num_basis_uses)\u001b[0m\n\u001b[1;32m   1091\u001b[0m basis_fidelity \u001b[39m=\u001b[39m basis_fidelity \u001b[39mor\u001b[39;00m \u001b[39mself\u001b[39m\u001b[39m.\u001b[39mbasis_fidelity\n\u001b[1;32m   1092\u001b[0m target \u001b[39m=\u001b[39m np\u001b[39m.\u001b[39masarray(target, dtype\u001b[39m=\u001b[39m\u001b[39mcomplex\u001b[39m)\n\u001b[0;32m-> 1094\u001b[0m target_decomposed \u001b[39m=\u001b[39m TwoQubitWeylDecomposition(target)\n\u001b[1;32m   1095\u001b[0m traces \u001b[39m=\u001b[39m \u001b[39mself\u001b[39m\u001b[39m.\u001b[39mtraces(target_decomposed)\n\u001b[1;32m   1096\u001b[0m expected_fidelities \u001b[39m=\u001b[39m [trace_to_fid(traces[i]) \u001b[39m*\u001b[39m basis_fidelity\u001b[39m*\u001b[39m\u001b[39m*\u001b[39mi \u001b[39mfor\u001b[39;00m i \u001b[39min\u001b[39;00m \u001b[39mrange\u001b[39m(\u001b[39m4\u001b[39m)]\n",
      "File \u001b[0;32m~/miniforge3/envs/tf2/lib/python3.8/site-packages/qiskit/quantum_info/synthesis/two_qubit_decompose.py:178\u001b[0m, in \u001b[0;36mTwoQubitWeylDecomposition.__new__\u001b[0;34m(cls, unitary_matrix, fidelity, _unpickling)\u001b[0m\n\u001b[1;32m    176\u001b[0m \u001b[39mfor\u001b[39;00m _ \u001b[39min\u001b[39;00m \u001b[39mrange\u001b[39m(\u001b[39m100\u001b[39m):  \u001b[39m# FIXME: this randomized algorithm is horrendous\u001b[39;00m\n\u001b[1;32m    177\u001b[0m     M2real \u001b[39m=\u001b[39m state\u001b[39m.\u001b[39mnormal() \u001b[39m*\u001b[39m M2\u001b[39m.\u001b[39mreal \u001b[39m+\u001b[39m state\u001b[39m.\u001b[39mnormal() \u001b[39m*\u001b[39m M2\u001b[39m.\u001b[39mimag\n\u001b[0;32m--> 178\u001b[0m     _, P \u001b[39m=\u001b[39m np\u001b[39m.\u001b[39;49mlinalg\u001b[39m.\u001b[39;49meigh(M2real)\n\u001b[1;32m    179\u001b[0m     D \u001b[39m=\u001b[39m P\u001b[39m.\u001b[39mT\u001b[39m.\u001b[39mdot(M2)\u001b[39m.\u001b[39mdot(P)\u001b[39m.\u001b[39mdiagonal()\n\u001b[1;32m    180\u001b[0m     \u001b[39mif\u001b[39;00m np\u001b[39m.\u001b[39mallclose(P\u001b[39m.\u001b[39mdot(np\u001b[39m.\u001b[39mdiag(D))\u001b[39m.\u001b[39mdot(P\u001b[39m.\u001b[39mT), M2, rtol\u001b[39m=\u001b[39m\u001b[39m0\u001b[39m, atol\u001b[39m=\u001b[39m\u001b[39m1.0e-13\u001b[39m):\n",
      "File \u001b[0;32m<__array_function__ internals>:180\u001b[0m, in \u001b[0;36meigh\u001b[0;34m(*args, **kwargs)\u001b[0m\n",
      "File \u001b[0;32m~/miniforge3/envs/tf2/lib/python3.8/site-packages/numpy/linalg/linalg.py:1458\u001b[0m, in \u001b[0;36meigh\u001b[0;34m(a, UPLO)\u001b[0m\n\u001b[1;32m   1455\u001b[0m     gufunc \u001b[39m=\u001b[39m _umath_linalg\u001b[39m.\u001b[39meigh_up\n\u001b[1;32m   1457\u001b[0m signature \u001b[39m=\u001b[39m \u001b[39m'\u001b[39m\u001b[39mD->dD\u001b[39m\u001b[39m'\u001b[39m \u001b[39mif\u001b[39;00m isComplexType(t) \u001b[39melse\u001b[39;00m \u001b[39m'\u001b[39m\u001b[39md->dd\u001b[39m\u001b[39m'\u001b[39m\n\u001b[0;32m-> 1458\u001b[0m w, vt \u001b[39m=\u001b[39m gufunc(a, signature\u001b[39m=\u001b[39;49msignature, extobj\u001b[39m=\u001b[39;49mextobj)\n\u001b[1;32m   1459\u001b[0m w \u001b[39m=\u001b[39m w\u001b[39m.\u001b[39mastype(_realType(result_t), copy\u001b[39m=\u001b[39m\u001b[39mFalse\u001b[39;00m)\n\u001b[1;32m   1460\u001b[0m vt \u001b[39m=\u001b[39m vt\u001b[39m.\u001b[39mastype(result_t, copy\u001b[39m=\u001b[39m\u001b[39mFalse\u001b[39;00m)\n",
      "\u001b[0;31mKeyboardInterrupt\u001b[0m: "
     ]
    },
    {
     "name": "stderr",
     "output_type": "stream",
     "text": [
      "\u001b[2m\u001b[36m(_gen_data pid=2709844)\u001b[0m 2023-02-20 11:08:19.827462: E external/org_tensorflow/tensorflow/compiler/xla/stream_executor/cuda/cuda_driver.cc:266] failed call to cuInit: CUDA_ERROR_NO_DEVICE: no CUDA-capable device is detected\n",
      "\u001b[2m\u001b[36m(_gen_data pid=2709844)\u001b[0m WARNING:jax._src.lib.xla_bridge:No GPU/TPU found, falling back to CPU. (Set TF_CPP_MIN_LOG_LEVEL=0 and rerun for more info.)\n",
      "\u001b[2m\u001b[36m(_gen_data pid=2708176)\u001b[0m 2023-02-20 11:08:19.844974: E external/org_tensorflow/tensorflow/compiler/xla/stream_executor/cuda/cuda_driver.cc:266] failed call to cuInit: CUDA_ERROR_NO_DEVICE: no CUDA-capable device is detected\n",
      "\u001b[2m\u001b[36m(_gen_data pid=2708176)\u001b[0m WARNING:jax._src.lib.xla_bridge:No GPU/TPU found, falling back to CPU. (Set TF_CPP_MIN_LOG_LEVEL=0 and rerun for more info.)\n",
      "\u001b[2m\u001b[36m(_gen_data pid=2709488)\u001b[0m 2023-02-20 11:08:19.864797: E external/org_tensorflow/tensorflow/compiler/xla/stream_executor/cuda/cuda_driver.cc:266] failed call to cuInit: CUDA_ERROR_NO_DEVICE: no CUDA-capable device is detected\n",
      "\u001b[2m\u001b[36m(_gen_data pid=2709488)\u001b[0m WARNING:jax._src.lib.xla_bridge:No GPU/TPU found, falling back to CPU. (Set TF_CPP_MIN_LOG_LEVEL=0 and rerun for more info.)\n",
      "\u001b[2m\u001b[36m(_gen_data pid=2707513)\u001b[0m 2023-02-20 11:08:20.028447: E external/org_tensorflow/tensorflow/compiler/xla/stream_executor/cuda/cuda_driver.cc:266] failed call to cuInit: CUDA_ERROR_NO_DEVICE: no CUDA-capable device is detected\n",
      "\u001b[2m\u001b[36m(_gen_data pid=2707513)\u001b[0m WARNING:jax._src.lib.xla_bridge:No GPU/TPU found, falling back to CPU. (Set TF_CPP_MIN_LOG_LEVEL=0 and rerun for more info.)\n",
      "\u001b[2m\u001b[36m(_gen_data pid=2705422)\u001b[0m 2023-02-20 11:08:20.005807: E external/org_tensorflow/tensorflow/compiler/xla/stream_executor/cuda/cuda_driver.cc:266] failed call to cuInit: CUDA_ERROR_NO_DEVICE: no CUDA-capable device is detected\n",
      "\u001b[2m\u001b[36m(_gen_data pid=2705422)\u001b[0m WARNING:jax._src.lib.xla_bridge:No GPU/TPU found, falling back to CPU. (Set TF_CPP_MIN_LOG_LEVEL=0 and rerun for more info.)\n",
      "\u001b[2m\u001b[36m(_gen_data pid=2710471)\u001b[0m 2023-02-20 11:08:19.989998: E external/org_tensorflow/tensorflow/compiler/xla/stream_executor/cuda/cuda_driver.cc:266] failed call to cuInit: CUDA_ERROR_NO_DEVICE: no CUDA-capable device is detected\n",
      "\u001b[2m\u001b[36m(_gen_data pid=2710471)\u001b[0m WARNING:jax._src.lib.xla_bridge:No GPU/TPU found, falling back to CPU. (Set TF_CPP_MIN_LOG_LEVEL=0 and rerun for more info.)\n",
      "\u001b[2m\u001b[36m(_gen_data pid=2710307)\u001b[0m 2023-02-20 11:08:19.965116: E external/org_tensorflow/tensorflow/compiler/xla/stream_executor/cuda/cuda_driver.cc:266] failed call to cuInit: CUDA_ERROR_NO_DEVICE: no CUDA-capable device is detected\n",
      "\u001b[2m\u001b[36m(_gen_data pid=2710307)\u001b[0m WARNING:jax._src.lib.xla_bridge:No GPU/TPU found, falling back to CPU. (Set TF_CPP_MIN_LOG_LEVEL=0 and rerun for more info.)\n",
      "\u001b[2m\u001b[36m(_gen_data pid=2705426)\u001b[0m 2023-02-20 11:08:20.139253: E external/org_tensorflow/tensorflow/compiler/xla/stream_executor/cuda/cuda_driver.cc:266] failed call to cuInit: CUDA_ERROR_NO_DEVICE: no CUDA-capable device is detected\n",
      "\u001b[2m\u001b[36m(_gen_data pid=2705426)\u001b[0m WARNING:jax._src.lib.xla_bridge:No GPU/TPU found, falling back to CPU. (Set TF_CPP_MIN_LOG_LEVEL=0 and rerun for more info.)\n",
      "\u001b[2m\u001b[36m(_gen_data pid=2709925)\u001b[0m 2023-02-20 11:08:20.049697: E external/org_tensorflow/tensorflow/compiler/xla/stream_executor/cuda/cuda_driver.cc:266] failed call to cuInit: CUDA_ERROR_NO_DEVICE: no CUDA-capable device is detected\n",
      "\u001b[2m\u001b[36m(_gen_data pid=2709925)\u001b[0m WARNING:jax._src.lib.xla_bridge:No GPU/TPU found, falling back to CPU. (Set TF_CPP_MIN_LOG_LEVEL=0 and rerun for more info.)\n",
      "\u001b[2m\u001b[36m(_gen_data pid=2705971)\u001b[0m 2023-02-20 11:08:20.104428: E external/org_tensorflow/tensorflow/compiler/xla/stream_executor/cuda/cuda_driver.cc:266] failed call to cuInit: CUDA_ERROR_NO_DEVICE: no CUDA-capable device is detected\n",
      "\u001b[2m\u001b[36m(_gen_data pid=2705971)\u001b[0m WARNING:jax._src.lib.xla_bridge:No GPU/TPU found, falling back to CPU. (Set TF_CPP_MIN_LOG_LEVEL=0 and rerun for more info.)\n",
      "\u001b[2m\u001b[36m(_gen_data pid=2705446)\u001b[0m 2023-02-20 11:08:20.071134: E external/org_tensorflow/tensorflow/compiler/xla/stream_executor/cuda/cuda_driver.cc:266] failed call to cuInit: CUDA_ERROR_NO_DEVICE: no CUDA-capable device is detected\n",
      "\u001b[2m\u001b[36m(_gen_data pid=2705446)\u001b[0m WARNING:jax._src.lib.xla_bridge:No GPU/TPU found, falling back to CPU. (Set TF_CPP_MIN_LOG_LEVEL=0 and rerun for more info.)\n",
      "\u001b[2m\u001b[36m(_gen_data pid=2705453)\u001b[0m 2023-02-20 11:08:20.262709: E external/org_tensorflow/tensorflow/compiler/xla/stream_executor/cuda/cuda_driver.cc:266] failed call to cuInit: CUDA_ERROR_NO_DEVICE: no CUDA-capable device is detected\n",
      "\u001b[2m\u001b[36m(_gen_data pid=2705453)\u001b[0m WARNING:jax._src.lib.xla_bridge:No GPU/TPU found, falling back to CPU. (Set TF_CPP_MIN_LOG_LEVEL=0 and rerun for more info.)\n",
      "\u001b[2m\u001b[36m(_gen_data pid=2709056)\u001b[0m 2023-02-20 11:08:20.223141: E external/org_tensorflow/tensorflow/compiler/xla/stream_executor/cuda/cuda_driver.cc:266] failed call to cuInit: CUDA_ERROR_NO_DEVICE: no CUDA-capable device is detected\n",
      "\u001b[2m\u001b[36m(_gen_data pid=2709056)\u001b[0m WARNING:jax._src.lib.xla_bridge:No GPU/TPU found, falling back to CPU. (Set TF_CPP_MIN_LOG_LEVEL=0 and rerun for more info.)\n",
      "\u001b[2m\u001b[36m(_gen_data pid=2705434)\u001b[0m 2023-02-20 11:08:20.190572: E external/org_tensorflow/tensorflow/compiler/xla/stream_executor/cuda/cuda_driver.cc:266] failed call to cuInit: CUDA_ERROR_NO_DEVICE: no CUDA-capable device is detected\n",
      "\u001b[2m\u001b[36m(_gen_data pid=2705434)\u001b[0m WARNING:jax._src.lib.xla_bridge:No GPU/TPU found, falling back to CPU. (Set TF_CPP_MIN_LOG_LEVEL=0 and rerun for more info.)\n",
      "\u001b[2m\u001b[36m(_gen_data pid=2705432)\u001b[0m 2023-02-20 11:08:20.187440: E external/org_tensorflow/tensorflow/compiler/xla/stream_executor/cuda/cuda_driver.cc:266] failed call to cuInit: CUDA_ERROR_NO_DEVICE: no CUDA-capable device is detected\n",
      "\u001b[2m\u001b[36m(_gen_data pid=2705432)\u001b[0m WARNING:jax._src.lib.xla_bridge:No GPU/TPU found, falling back to CPU. (Set TF_CPP_MIN_LOG_LEVEL=0 and rerun for more info.)\n",
      "\u001b[2m\u001b[36m(_gen_data pid=2705457)\u001b[0m 2023-02-20 11:08:20.244021: E external/org_tensorflow/tensorflow/compiler/xla/stream_executor/cuda/cuda_driver.cc:266] failed call to cuInit: CUDA_ERROR_NO_DEVICE: no CUDA-capable device is detected\n",
      "\u001b[2m\u001b[36m(_gen_data pid=2705457)\u001b[0m WARNING:jax._src.lib.xla_bridge:No GPU/TPU found, falling back to CPU. (Set TF_CPP_MIN_LOG_LEVEL=0 and rerun for more info.)\n",
      "\u001b[2m\u001b[36m(_gen_data pid=2705443)\u001b[0m 2023-02-20 11:08:20.174167: E external/org_tensorflow/tensorflow/compiler/xla/stream_executor/cuda/cuda_driver.cc:266] failed call to cuInit: CUDA_ERROR_NO_DEVICE: no CUDA-capable device is detected\n",
      "\u001b[2m\u001b[36m(_gen_data pid=2705443)\u001b[0m WARNING:jax._src.lib.xla_bridge:No GPU/TPU found, falling back to CPU. (Set TF_CPP_MIN_LOG_LEVEL=0 and rerun for more info.)\n",
      "\u001b[2m\u001b[36m(_gen_data pid=2705348)\u001b[0m 2023-02-20 11:08:20.316379: E external/org_tensorflow/tensorflow/compiler/xla/stream_executor/cuda/cuda_driver.cc:266] failed call to cuInit: CUDA_ERROR_NO_DEVICE: no CUDA-capable device is detected\n",
      "\u001b[2m\u001b[36m(_gen_data pid=2705348)\u001b[0m WARNING:jax._src.lib.xla_bridge:No GPU/TPU found, falling back to CPU. (Set TF_CPP_MIN_LOG_LEVEL=0 and rerun for more info.)\n",
      "\u001b[2m\u001b[36m(_gen_data pid=2705454)\u001b[0m 2023-02-20 11:08:20.339119: E external/org_tensorflow/tensorflow/compiler/xla/stream_executor/cuda/cuda_driver.cc:266] failed call to cuInit: CUDA_ERROR_NO_DEVICE: no CUDA-capable device is detected\n",
      "\u001b[2m\u001b[36m(_gen_data pid=2705454)\u001b[0m WARNING:jax._src.lib.xla_bridge:No GPU/TPU found, falling back to CPU. (Set TF_CPP_MIN_LOG_LEVEL=0 and rerun for more info.)\n",
      "\u001b[2m\u001b[36m(_gen_data pid=2705699)\u001b[0m 2023-02-20 11:08:20.291098: E external/org_tensorflow/tensorflow/compiler/xla/stream_executor/cuda/cuda_driver.cc:266] failed call to cuInit: CUDA_ERROR_NO_DEVICE: no CUDA-capable device is detected\n",
      "\u001b[2m\u001b[36m(_gen_data pid=2705699)\u001b[0m WARNING:jax._src.lib.xla_bridge:No GPU/TPU found, falling back to CPU. (Set TF_CPP_MIN_LOG_LEVEL=0 and rerun for more info.)\n",
      "\u001b[2m\u001b[36m(_gen_data pid=2710436)\u001b[0m 2023-02-20 11:08:20.369791: E external/org_tensorflow/tensorflow/compiler/xla/stream_executor/cuda/cuda_driver.cc:266] failed call to cuInit: CUDA_ERROR_NO_DEVICE: no CUDA-capable device is detected\n",
      "\u001b[2m\u001b[36m(_gen_data pid=2710436)\u001b[0m WARNING:jax._src.lib.xla_bridge:No GPU/TPU found, falling back to CPU. (Set TF_CPP_MIN_LOG_LEVEL=0 and rerun for more info.)\n",
      "\u001b[2m\u001b[36m(_gen_data pid=2710455)\u001b[0m 2023-02-20 11:08:20.291104: E external/org_tensorflow/tensorflow/compiler/xla/stream_executor/cuda/cuda_driver.cc:266] failed call to cuInit: CUDA_ERROR_NO_DEVICE: no CUDA-capable device is detected\n",
      "\u001b[2m\u001b[36m(_gen_data pid=2710455)\u001b[0m WARNING:jax._src.lib.xla_bridge:No GPU/TPU found, falling back to CPU. (Set TF_CPP_MIN_LOG_LEVEL=0 and rerun for more info.)\n",
      "\u001b[2m\u001b[36m(_gen_data pid=2709450)\u001b[0m 2023-02-20 11:08:20.352989: E external/org_tensorflow/tensorflow/compiler/xla/stream_executor/cuda/cuda_driver.cc:266] failed call to cuInit: CUDA_ERROR_NO_DEVICE: no CUDA-capable device is detected\n",
      "\u001b[2m\u001b[36m(_gen_data pid=2709450)\u001b[0m WARNING:jax._src.lib.xla_bridge:No GPU/TPU found, falling back to CPU. (Set TF_CPP_MIN_LOG_LEVEL=0 and rerun for more info.)\n",
      "\u001b[2m\u001b[36m(_gen_data pid=2707072)\u001b[0m 2023-02-20 11:08:20.405449: E external/org_tensorflow/tensorflow/compiler/xla/stream_executor/cuda/cuda_driver.cc:266] failed call to cuInit: CUDA_ERROR_NO_DEVICE: no CUDA-capable device is detected\n",
      "\u001b[2m\u001b[36m(_gen_data pid=2707072)\u001b[0m WARNING:jax._src.lib.xla_bridge:No GPU/TPU found, falling back to CPU. (Set TF_CPP_MIN_LOG_LEVEL=0 and rerun for more info.)\n",
      "\u001b[2m\u001b[36m(_gen_data pid=2705427)\u001b[0m 2023-02-20 11:08:20.459548: E external/org_tensorflow/tensorflow/compiler/xla/stream_executor/cuda/cuda_driver.cc:266] failed call to cuInit: CUDA_ERROR_NO_DEVICE: no CUDA-capable device is detected\n",
      "\u001b[2m\u001b[36m(_gen_data pid=2705427)\u001b[0m WARNING:jax._src.lib.xla_bridge:No GPU/TPU found, falling back to CPU. (Set TF_CPP_MIN_LOG_LEVEL=0 and rerun for more info.)\n",
      "\u001b[2m\u001b[36m(_gen_data pid=2707367)\u001b[0m 2023-02-20 11:08:20.482707: E external/org_tensorflow/tensorflow/compiler/xla/stream_executor/cuda/cuda_driver.cc:266] failed call to cuInit: CUDA_ERROR_NO_DEVICE: no CUDA-capable device is detected\n",
      "\u001b[2m\u001b[36m(_gen_data pid=2707367)\u001b[0m WARNING:jax._src.lib.xla_bridge:No GPU/TPU found, falling back to CPU. (Set TF_CPP_MIN_LOG_LEVEL=0 and rerun for more info.)\n",
      "\u001b[2m\u001b[36m(_gen_data pid=2705451)\u001b[0m 2023-02-20 11:08:20.405446: E external/org_tensorflow/tensorflow/compiler/xla/stream_executor/cuda/cuda_driver.cc:266] failed call to cuInit: CUDA_ERROR_NO_DEVICE: no CUDA-capable device is detected\n",
      "\u001b[2m\u001b[36m(_gen_data pid=2705451)\u001b[0m WARNING:jax._src.lib.xla_bridge:No GPU/TPU found, falling back to CPU. (Set TF_CPP_MIN_LOG_LEVEL=0 and rerun for more info.)\n",
      "\u001b[2m\u001b[36m(_gen_data pid=2708103)\u001b[0m 2023-02-20 11:08:20.493285: E external/org_tensorflow/tensorflow/compiler/xla/stream_executor/cuda/cuda_driver.cc:266] failed call to cuInit: CUDA_ERROR_NO_DEVICE: no CUDA-capable device is detected\n",
      "\u001b[2m\u001b[36m(_gen_data pid=2708103)\u001b[0m WARNING:jax._src.lib.xla_bridge:No GPU/TPU found, falling back to CPU. (Set TF_CPP_MIN_LOG_LEVEL=0 and rerun for more info.)\n",
      "\u001b[2m\u001b[36m(_gen_data pid=2705568)\u001b[0m 2023-02-20 11:08:20.430976: E external/org_tensorflow/tensorflow/compiler/xla/stream_executor/cuda/cuda_driver.cc:266] failed call to cuInit: CUDA_ERROR_NO_DEVICE: no CUDA-capable device is detected\n",
      "\u001b[2m\u001b[36m(_gen_data pid=2705568)\u001b[0m WARNING:jax._src.lib.xla_bridge:No GPU/TPU found, falling back to CPU. (Set TF_CPP_MIN_LOG_LEVEL=0 and rerun for more info.)\n",
      "\u001b[2m\u001b[36m(_gen_data pid=2705461)\u001b[0m 2023-02-20 11:08:20.475960: E external/org_tensorflow/tensorflow/compiler/xla/stream_executor/cuda/cuda_driver.cc:266] failed call to cuInit: CUDA_ERROR_NO_DEVICE: no CUDA-capable device is detected\n",
      "\u001b[2m\u001b[36m(_gen_data pid=2705461)\u001b[0m WARNING:jax._src.lib.xla_bridge:No GPU/TPU found, falling back to CPU. (Set TF_CPP_MIN_LOG_LEVEL=0 and rerun for more info.)\n",
      "\u001b[2m\u001b[36m(_gen_data pid=2705352)\u001b[0m 2023-02-20 11:08:20.527870: E external/org_tensorflow/tensorflow/compiler/xla/stream_executor/cuda/cuda_driver.cc:266] failed call to cuInit: CUDA_ERROR_NO_DEVICE: no CUDA-capable device is detected\n",
      "\u001b[2m\u001b[36m(_gen_data pid=2705352)\u001b[0m WARNING:jax._src.lib.xla_bridge:No GPU/TPU found, falling back to CPU. (Set TF_CPP_MIN_LOG_LEVEL=0 and rerun for more info.)\n",
      "\u001b[2m\u001b[36m(_gen_data pid=2705351)\u001b[0m 2023-02-20 11:08:20.510942: E external/org_tensorflow/tensorflow/compiler/xla/stream_executor/cuda/cuda_driver.cc:266] failed call to cuInit: CUDA_ERROR_NO_DEVICE: no CUDA-capable device is detected\n",
      "\u001b[2m\u001b[36m(_gen_data pid=2705351)\u001b[0m WARNING:jax._src.lib.xla_bridge:No GPU/TPU found, falling back to CPU. (Set TF_CPP_MIN_LOG_LEVEL=0 and rerun for more info.)\n",
      "\u001b[2m\u001b[36m(_gen_data pid=2709383)\u001b[0m 2023-02-20 11:08:20.505374: E external/org_tensorflow/tensorflow/compiler/xla/stream_executor/cuda/cuda_driver.cc:266] failed call to cuInit: CUDA_ERROR_NO_DEVICE: no CUDA-capable device is detected\n",
      "\u001b[2m\u001b[36m(_gen_data pid=2709383)\u001b[0m WARNING:jax._src.lib.xla_bridge:No GPU/TPU found, falling back to CPU. (Set TF_CPP_MIN_LOG_LEVEL=0 and rerun for more info.)\n",
      "\u001b[2m\u001b[36m(_gen_data pid=2710053)\u001b[0m 2023-02-20 11:08:20.514248: E external/org_tensorflow/tensorflow/compiler/xla/stream_executor/cuda/cuda_driver.cc:266] failed call to cuInit: CUDA_ERROR_NO_DEVICE: no CUDA-capable device is detected\n",
      "\u001b[2m\u001b[36m(_gen_data pid=2710053)\u001b[0m WARNING:jax._src.lib.xla_bridge:No GPU/TPU found, falling back to CPU. (Set TF_CPP_MIN_LOG_LEVEL=0 and rerun for more info.)\n",
      "\u001b[2m\u001b[36m(_gen_data pid=2705459)\u001b[0m 2023-02-20 11:08:20.579161: E external/org_tensorflow/tensorflow/compiler/xla/stream_executor/cuda/cuda_driver.cc:266] failed call to cuInit: CUDA_ERROR_NO_DEVICE: no CUDA-capable device is detected\n",
      "\u001b[2m\u001b[36m(_gen_data pid=2705459)\u001b[0m WARNING:jax._src.lib.xla_bridge:No GPU/TPU found, falling back to CPU. (Set TF_CPP_MIN_LOG_LEVEL=0 and rerun for more info.)\n",
      "\u001b[2m\u001b[36m(_gen_data pid=2705431)\u001b[0m 2023-02-20 11:08:20.586888: E external/org_tensorflow/tensorflow/compiler/xla/stream_executor/cuda/cuda_driver.cc:266] failed call to cuInit: CUDA_ERROR_NO_DEVICE: no CUDA-capable device is detected\n",
      "\u001b[2m\u001b[36m(_gen_data pid=2705431)\u001b[0m WARNING:jax._src.lib.xla_bridge:No GPU/TPU found, falling back to CPU. (Set TF_CPP_MIN_LOG_LEVEL=0 and rerun for more info.)\n",
      "\u001b[2m\u001b[36m(_gen_data pid=2705425)\u001b[0m 2023-02-20 11:08:20.607778: E external/org_tensorflow/tensorflow/compiler/xla/stream_executor/cuda/cuda_driver.cc:266] failed call to cuInit: CUDA_ERROR_NO_DEVICE: no CUDA-capable device is detected\n",
      "\u001b[2m\u001b[36m(_gen_data pid=2705425)\u001b[0m WARNING:jax._src.lib.xla_bridge:No GPU/TPU found, falling back to CPU. (Set TF_CPP_MIN_LOG_LEVEL=0 and rerun for more info.)\n",
      "\u001b[2m\u001b[36m(_gen_data pid=2705447)\u001b[0m 2023-02-20 11:08:20.606515: E external/org_tensorflow/tensorflow/compiler/xla/stream_executor/cuda/cuda_driver.cc:266] failed call to cuInit: CUDA_ERROR_NO_DEVICE: no CUDA-capable device is detected\n",
      "\u001b[2m\u001b[36m(_gen_data pid=2705447)\u001b[0m WARNING:jax._src.lib.xla_bridge:No GPU/TPU found, falling back to CPU. (Set TF_CPP_MIN_LOG_LEVEL=0 and rerun for more info.)\n",
      "\u001b[2m\u001b[36m(_gen_data pid=2710129)\u001b[0m 2023-02-20 11:08:20.600310: E external/org_tensorflow/tensorflow/compiler/xla/stream_executor/cuda/cuda_driver.cc:266] failed call to cuInit: CUDA_ERROR_NO_DEVICE: no CUDA-capable device is detected\n",
      "\u001b[2m\u001b[36m(_gen_data pid=2710129)\u001b[0m WARNING:jax._src.lib.xla_bridge:No GPU/TPU found, falling back to CPU. (Set TF_CPP_MIN_LOG_LEVEL=0 and rerun for more info.)\n",
      "\u001b[2m\u001b[36m(_gen_data pid=2709813)\u001b[0m 2023-02-20 11:08:20.563544: E external/org_tensorflow/tensorflow/compiler/xla/stream_executor/cuda/cuda_driver.cc:266] failed call to cuInit: CUDA_ERROR_NO_DEVICE: no CUDA-capable device is detected\n",
      "\u001b[2m\u001b[36m(_gen_data pid=2709813)\u001b[0m WARNING:jax._src.lib.xla_bridge:No GPU/TPU found, falling back to CPU. (Set TF_CPP_MIN_LOG_LEVEL=0 and rerun for more info.)\n",
      "\u001b[2m\u001b[36m(_gen_data pid=2707754)\u001b[0m 2023-02-20 11:08:20.595872: E external/org_tensorflow/tensorflow/compiler/xla/stream_executor/cuda/cuda_driver.cc:266] failed call to cuInit: CUDA_ERROR_NO_DEVICE: no CUDA-capable device is detected\n",
      "\u001b[2m\u001b[36m(_gen_data pid=2707754)\u001b[0m WARNING:jax._src.lib.xla_bridge:No GPU/TPU found, falling back to CPU. (Set TF_CPP_MIN_LOG_LEVEL=0 and rerun for more info.)\n",
      "\u001b[2m\u001b[36m(_gen_data pid=2705448)\u001b[0m 2023-02-20 11:08:20.618818: E external/org_tensorflow/tensorflow/compiler/xla/stream_executor/cuda/cuda_driver.cc:266] failed call to cuInit: CUDA_ERROR_NO_DEVICE: no CUDA-capable device is detected\n",
      "\u001b[2m\u001b[36m(_gen_data pid=2705448)\u001b[0m WARNING:jax._src.lib.xla_bridge:No GPU/TPU found, falling back to CPU. (Set TF_CPP_MIN_LOG_LEVEL=0 and rerun for more info.)\n",
      "\u001b[2m\u001b[36m(_gen_data pid=2705438)\u001b[0m 2023-02-20 11:08:20.614750: E external/org_tensorflow/tensorflow/compiler/xla/stream_executor/cuda/cuda_driver.cc:266] failed call to cuInit: CUDA_ERROR_NO_DEVICE: no CUDA-capable device is detected\n",
      "\u001b[2m\u001b[36m(_gen_data pid=2705438)\u001b[0m WARNING:jax._src.lib.xla_bridge:No GPU/TPU found, falling back to CPU. (Set TF_CPP_MIN_LOG_LEVEL=0 and rerun for more info.)\n",
      "\u001b[2m\u001b[36m(_gen_data pid=2705458)\u001b[0m 2023-02-20 11:08:20.616482: E external/org_tensorflow/tensorflow/compiler/xla/stream_executor/cuda/cuda_driver.cc:266] failed call to cuInit: CUDA_ERROR_NO_DEVICE: no CUDA-capable device is detected\n",
      "\u001b[2m\u001b[36m(_gen_data pid=2705458)\u001b[0m WARNING:jax._src.lib.xla_bridge:No GPU/TPU found, falling back to CPU. (Set TF_CPP_MIN_LOG_LEVEL=0 and rerun for more info.)\n",
      "\u001b[2m\u001b[36m(_gen_data pid=2709455)\u001b[0m 2023-02-20 11:08:20.619586: E external/org_tensorflow/tensorflow/compiler/xla/stream_executor/cuda/cuda_driver.cc:266] failed call to cuInit: CUDA_ERROR_NO_DEVICE: no CUDA-capable device is detected\n",
      "\u001b[2m\u001b[36m(_gen_data pid=2709455)\u001b[0m WARNING:jax._src.lib.xla_bridge:No GPU/TPU found, falling back to CPU. (Set TF_CPP_MIN_LOG_LEVEL=0 and rerun for more info.)\n",
      "\u001b[2m\u001b[36m(_gen_data pid=2705456)\u001b[0m 2023-02-20 11:08:20.623352: E external/org_tensorflow/tensorflow/compiler/xla/stream_executor/cuda/cuda_driver.cc:266] failed call to cuInit: CUDA_ERROR_NO_DEVICE: no CUDA-capable device is detected\n",
      "\u001b[2m\u001b[36m(_gen_data pid=2707966)\u001b[0m 2023-02-20 11:08:20.626623: E external/org_tensorflow/tensorflow/compiler/xla/stream_executor/cuda/cuda_driver.cc:266] failed call to cuInit: CUDA_ERROR_NO_DEVICE: no CUDA-capable device is detected\n",
      "\u001b[2m\u001b[36m(_gen_data pid=2707966)\u001b[0m WARNING:jax._src.lib.xla_bridge:No GPU/TPU found, falling back to CPU. (Set TF_CPP_MIN_LOG_LEVEL=0 and rerun for more info.)\n",
      "\u001b[2m\u001b[36m(_gen_data pid=2705452)\u001b[0m 2023-02-20 11:08:20.627345: E external/org_tensorflow/tensorflow/compiler/xla/stream_executor/cuda/cuda_driver.cc:266] failed call to cuInit: CUDA_ERROR_NO_DEVICE: no CUDA-capable device is detected\n",
      "\u001b[2m\u001b[36m(_gen_data pid=2705452)\u001b[0m WARNING:jax._src.lib.xla_bridge:No GPU/TPU found, falling back to CPU. (Set TF_CPP_MIN_LOG_LEVEL=0 and rerun for more info.)\n",
      "\u001b[2m\u001b[36m(_gen_data pid=2705456)\u001b[0m WARNING:jax._src.lib.xla_bridge:No GPU/TPU found, falling back to CPU. (Set TF_CPP_MIN_LOG_LEVEL=0 and rerun for more info.)\n",
      "\u001b[2m\u001b[36m(_gen_data pid=2705430)\u001b[0m 2023-02-20 11:08:20.636405: E external/org_tensorflow/tensorflow/compiler/xla/stream_executor/cuda/cuda_driver.cc:266] failed call to cuInit: CUDA_ERROR_NO_DEVICE: no CUDA-capable device is detected\n",
      "\u001b[2m\u001b[36m(_gen_data pid=2705430)\u001b[0m WARNING:jax._src.lib.xla_bridge:No GPU/TPU found, falling back to CPU. (Set TF_CPP_MIN_LOG_LEVEL=0 and rerun for more info.)\n",
      "\u001b[2m\u001b[36m(_gen_data pid=2705439)\u001b[0m 2023-02-20 11:08:20.659411: E external/org_tensorflow/tensorflow/compiler/xla/stream_executor/cuda/cuda_driver.cc:266] failed call to cuInit: CUDA_ERROR_NO_DEVICE: no CUDA-capable device is detected\n",
      "\u001b[2m\u001b[36m(_gen_data pid=2705439)\u001b[0m WARNING:jax._src.lib.xla_bridge:No GPU/TPU found, falling back to CPU. (Set TF_CPP_MIN_LOG_LEVEL=0 and rerun for more info.)\n",
      "\u001b[2m\u001b[36m(_gen_data pid=2705424)\u001b[0m 2023-02-20 11:08:20.661471: E external/org_tensorflow/tensorflow/compiler/xla/stream_executor/cuda/cuda_driver.cc:266] failed call to cuInit: CUDA_ERROR_NO_DEVICE: no CUDA-capable device is detected\n",
      "\u001b[2m\u001b[36m(_gen_data pid=2705424)\u001b[0m WARNING:jax._src.lib.xla_bridge:No GPU/TPU found, falling back to CPU. (Set TF_CPP_MIN_LOG_LEVEL=0 and rerun for more info.)\n"
     ]
    },
    {
     "name": "stdout",
     "output_type": "stream",
     "text": [
      "finished rate = 1000 / 3600\n",
      "finished rate = 2000 / 3600\n",
      "finished rate = 3000 / 3600\n"
     ]
    },
    {
     "data": {
      "text/plain": [
       "(2543000, 2543000)"
      ]
     },
     "execution_count": 4,
     "metadata": {},
     "output_type": "execute_result"
    }
   ],
   "source": [
    "max_gate = 200 #4**n_qubits\n",
    "\n",
    "'''生成用于测试的模板电路'''\n",
    "circuits = gen_random_circuits(min_gate = 100, max_gate = max_gate, gate_num_step = max_gate//50, n_circuits = 1, two_qubit_gate_probs=[4, 8], backend = backend, reverse = False, optimize = True)\n",
    "\n",
    "upstream_model = RandomwalkModel(1, 20, backend = backend, travel_directions=('parallel', 'next'))\n",
    "upstream_model.train(circuits, multi_process = True)\n",
    "\n",
    "def random_params(layer2gates):\n",
    "    layer2gates = copy.deepcopy(layer2gates)\n",
    "    for layer in layer2gates:\n",
    "        for gate in layer:\n",
    "            gate['params'] = [\n",
    "                random.random() * 2 * jnp.pi\n",
    "                for param in gate['params']\n",
    "            ]\n",
    "    return layer2gates\n",
    "\n",
    "@ray.remote\n",
    "def _gen_data(circuit_info, index, n_qubits): \n",
    "    if index % 1000 == 0:\n",
    "        print('finished rate', index)\n",
    "    gate_vecs, Us = [], []\n",
    "    layer2gates = circuit_info['layer2gates']\n",
    "    # print(layer2gates)\n",
    "    for layer_index, layer_gates in enumerate(layer2gates):\n",
    "        layer_gates = [\n",
    "            gate\n",
    "            for gate in layer_gates\n",
    "            if len(gate['qubits']) == 1\n",
    "        ]\n",
    "        if len(layer_gates) == 0:\n",
    "            continue\n",
    "        for _ in range(1):\n",
    "            target_gate_index = random.randint(0, len(layer_gates)-1)\n",
    "            target_gate_index = layer_gates[target_gate_index]['id']\n",
    "            target_gate = circuit_info['gates'][target_gate_index]\n",
    "\n",
    "            gate_vec = circuit_info['vecs'][target_gate_index]\n",
    "        \n",
    "            _layer2gates = random_params(layer2gates[layer_index:])\n",
    "            # TODO: 应该有些可以重复利用才对\n",
    "            U = layer_circuit_to_matrix(_layer2gates, n_qubits)  #TODO: vmap\n",
    "            U = transformU(U)\n",
    "            \n",
    "            # 似乎根本没有出现过\n",
    "            # _dists = vmap(matrix_distance_squared, in_axes=(None, 0))(U, jnp.array(U, dtype=jnp.complex128))\n",
    "            # if jnp.any(_dists < 0.1):\n",
    "            #     continuez\n",
    "            \n",
    "            Us.append(U)\n",
    "            gate_vecs.append(np.concatenate([jnp.array(target_gate['qubits']), gate_vec], axis=0)  )\n",
    "            \n",
    "    return gate_vecs, Us\n",
    "\n",
    "print('start gen Us -> gate_vectos')\n",
    "futures = []\n",
    "for index, circuit_info in enumerate(circuits):\n",
    "    # upstream_model.vectorize(circuit_info)\n",
    "    future = _gen_data.remote(circuit_info, index, n_qubits)\n",
    "    # future = _gen_data(circuit_info, n_qubits)\n",
    "    futures.append(future)\n",
    "    \n",
    "gate_vecs, Us = [], []\n",
    "for index, future in enumerate(futures):\n",
    "    if index % 1000 == 0:\n",
    "        print('finished rate =', index, '/', len(futures))\n",
    "    if not isinstance(future, tuple):\n",
    "        future = ray.get(future)\n",
    "    gate_vecs += future[0]\n",
    "    Us += future[1]\n",
    "\n",
    "gate_vecs = jnp.array(gate_vecs, dtype=jnp.float64)\n",
    "Us = jnp.array(Us, dtype=jnp.float64)\n",
    "# Us, Us_test, gate_vecs, gate_vecs_test = train_test_split(Us, gate_vecs, test_size=.1)\n",
    "\n",
    "len(Us), len(gate_vecs), #len(Us_test), len(gate_vecs_test)"
   ]
  },
  {
   "cell_type": "code",
   "execution_count": null,
   "metadata": {},
   "outputs": [
    {
     "data": {
      "text/plain": [
       "(2543000, 2543000)"
      ]
     },
     "execution_count": 3,
     "metadata": {},
     "output_type": "execute_result"
    }
   ],
   "source": [
    "neural_model = DNN((4**n_qubits, 2**n_qubits, 2**n_qubits, 4*n_qubits, n_qubits), verbose = True, n_iter_no_change=20)\n",
    "neural_model.fit(Us, gate_vecs)\n",
    "# neural_model.score(transform(Us_test), gate_vecs_test)\n",
    "    "
   ]
  },
  {
   "cell_type": "code",
   "execution_count": null,
   "metadata": {},
   "outputs": [
    {
     "data": {
      "text/plain": [
       "9"
      ]
     },
     "execution_count": 19,
     "metadata": {},
     "output_type": "execute_result"
    }
   ],
   "source": [
    "from sklearn.utils import shuffle\n",
    "def step_function(x):\n",
    "    return jnp.where(x>0, 1.0, 0.0)\n",
    "\n",
    "def sigmoid(x):\n",
    "    return 1 / (1 + jnp.exp(-x))\n",
    "\n",
    "def final_mapping(mapping, x):\n",
    "    # print(mapping)\n",
    "    return sigmoid(mapping['W'] * x + mapping['B'])\n",
    "\n",
    "def final_mapping_cost(mapping, x, y):\n",
    "    predictions = final_mapping(mapping, x)\n",
    "    return optax.l2_loss(predictions, y).sum()\n",
    "\n",
    "def final_mapping_cost_batch(mapping, X, Y):\n",
    "    return vmap(final_mapping_cost, in_axes=(None, 0, 0))(mapping, X, Y).sum()"
   ]
  },
  {
   "cell_type": "code",
   "execution_count": 12,
   "metadata": {},
   "outputs": [
    {
     "name": "stdout",
     "output_type": "stream",
     "text": [
      "(20000, 11) (20000, 11)\n",
      "epoch  0\t| train loss = 16374.79868\t|  test loss = 3383.22694\n"
     ]
    }
   ],
   "source": [
    "X = neural_model.predict(Us[:20000])[:,1:upstream_model.max_table_size+1]\n",
    "Y = gate_vecs[:,1:upstream_model.max_table_size+1][:20000]\n",
    "print(X.shape, Y.shape)\n",
    "\n",
    "mapping  = {\n",
    "    'W': jax.random.normal(shape=(upstream_model.max_table_size,), key=jax.random.PRNGKey((random.randint(0, 10))), dtype=jnp.float64),\n",
    "    'B': jnp.zeros(shape=(upstream_model.max_table_size,), dtype=jnp.float64)\n",
    "}\n",
    "opt = optax.adam(learning_rate=1e-2)\n",
    "opt_state = opt.init(mapping)\n",
    "\n",
    "# X, X_test, Y, Y_test = train_test_split(, Y, test_size=0.2)\n",
    "X = neural_model.predict(Us)\n",
    "Y = gate_vecs\n",
    "\n",
    "batch_size = 200\n",
    "\n",
    "best_loss = 1e10\n",
    "best_mapping = mapping\n",
    "for epoch in range(10):\n",
    "    total_loss = 0\n",
    "    X, Y = shuffle(X, Y)\n",
    "    for start in range(0, len(X), batch_size):\n",
    "        # print(start, mapping)\n",
    "        _X, _Y = X[start: start+batch_size], Y[start: start+batch_size]\n",
    "        \n",
    "        loss_value, gradient = jax.value_and_grad(final_mapping_cost_batch)(mapping, _X, _Y)\n",
    "        updates, opt_state = opt.update(gradient, opt_state, mapping)\n",
    "        mapping = optax.apply_updates(mapping, updates) \n",
    "        total_loss += loss_value    \n",
    "        \n",
    "    if epoch%10 ==0:\n",
    "        test_loss = final_mapping_cost(mapping, X_test, Y_test)\n",
    "        print('epoch  %i\\t| train loss = %.5f\\t|  test loss = %.5f' % (epoch, total_loss, test_loss))\n",
    "    \n",
    "        if test_loss < best_loss:\n",
    "            best_loss = test_loss\n",
    "            best_mapping = mapping\n",
    "            \n",
    "            \n",
    "model_path = 'mapping_1.pkl'\n",
    "with open(f'./temp_data/{model_path}', 'wb') as file:\n",
    "    pickle.dump(mapping, file)\n",
    "    \n",
    "with open(f'./temp_data/{model_path}', 'rb') as file:\n",
    "    mapping = pickle.load(file)       \n"
   ]
  },
  {
   "cell_type": "code",
   "execution_count": null,
   "metadata": {
    "pycharm": {
     "name": "#%%\n"
    }
   },
   "outputs": [],
   "source": [
    "# neural_model = NeuralNetworkModel([4**n_qubits, 2**n_qubits, 2**n_qubits, n_qubits, upstream_model.max_table_size + 1])\n",
    "# neural_model.fit(Us, gate_vecs)"
   ]
  },
  {
   "cell_type": "code",
   "execution_count": 26,
   "metadata": {},
   "outputs": [
    {
     "ename": "TypeError",
     "evalue": "'int' object is not subscriptable",
     "output_type": "error",
     "traceback": [
      "\u001b[0;31m---------------------------------------------------------------------------\u001b[0m",
      "\u001b[0;31mTypeError\u001b[0m                                 Traceback (most recent call last)",
      "Cell \u001b[0;32mIn [26], line 18\u001b[0m\n\u001b[1;32m     16\u001b[0m gate_vec \u001b[39m=\u001b[39m jnp\u001b[39m.\u001b[39mwhere(gate_vec\u001b[39m>\u001b[39m(\u001b[39m1\u001b[39m\u001b[39m-\u001b[39m\u001b[39m1e-1\u001b[39m), \u001b[39m1\u001b[39m, \u001b[39m0\u001b[39m)\n\u001b[1;32m     17\u001b[0m \u001b[39m# TODO: \u001b[39;00m\n\u001b[0;32m---> 18\u001b[0m layer2gates \u001b[39m=\u001b[39m upstream_model\u001b[39m.\u001b[39;49mreconstruct(device, gate_vec)\n\u001b[1;32m     19\u001b[0m \u001b[39mprint\u001b[39m(layer2gates)\n\u001b[1;32m     20\u001b[0m params \u001b[39m=\u001b[39m  synthesis\u001b[39m.\u001b[39mSynthesisModel\u001b[39m.\u001b[39mfind_parmas(n_qubits, layer2gates, now_U)\n",
      "File \u001b[0;32m~/QuCT-Micro2023/upstream/randomwalk_model.py:461\u001b[0m, in \u001b[0;36mRandomwalkModel.reconstruct\u001b[0;34m(self, gate, gate_vector)\u001b[0m\n\u001b[1;32m    460\u001b[0m \u001b[39mdef\u001b[39;00m \u001b[39mreconstruct\u001b[39m(\u001b[39mself\u001b[39m, gate, gate_vector: np\u001b[39m.\u001b[39marray) \u001b[39m-\u001b[39m\u001b[39m>\u001b[39m \u001b[39mlist\u001b[39m:\n\u001b[0;32m--> 461\u001b[0m     paths \u001b[39m=\u001b[39m \u001b[39mself\u001b[39;49m\u001b[39m.\u001b[39;49mextract_paths_from_vec(gate, gate_vector)\n\u001b[1;32m    463\u001b[0m     \u001b[39m# TODO: 还要有一个判断是不是已经加进去了\u001b[39;00m\n\u001b[1;32m    464\u001b[0m     \u001b[39mdef\u001b[39;00m \u001b[39mparse_gate_info\u001b[39m(gate_info):\n",
      "File \u001b[0;32m~/QuCT-Micro2023/upstream/randomwalk_model.py:452\u001b[0m, in \u001b[0;36mRandomwalkModel.extract_paths_from_vec\u001b[0;34m(self, gate, gate_vector)\u001b[0m\n\u001b[1;32m    451\u001b[0m \u001b[39mdef\u001b[39;00m \u001b[39mextract_paths_from_vec\u001b[39m(\u001b[39mself\u001b[39m, gate, gate_vector: np\u001b[39m.\u001b[39marray) \u001b[39m-\u001b[39m\u001b[39m>\u001b[39m \u001b[39mlist\u001b[39m:\n\u001b[0;32m--> 452\u001b[0m     device \u001b[39m=\u001b[39m extract_device(gate)\n\u001b[1;32m    453\u001b[0m     inclued_path_indexs \u001b[39m=\u001b[39m np\u001b[39m.\u001b[39margwhere(gate_vector\u001b[39m==\u001b[39m\u001b[39m1\u001b[39m)[:,\u001b[39m0\u001b[39m]\n\u001b[1;32m    454\u001b[0m     paths \u001b[39m=\u001b[39m [\n\u001b[1;32m    455\u001b[0m         \u001b[39mself\u001b[39m\u001b[39m.\u001b[39mdevice2reverse_path_table[device][index]\n\u001b[1;32m    456\u001b[0m         \u001b[39mfor\u001b[39;00m index \u001b[39min\u001b[39;00m inclued_path_indexs\n\u001b[1;32m    457\u001b[0m     ]\n",
      "File \u001b[0;32m~/QuCT-Micro2023/upstream/randomwalk_model.py:174\u001b[0m, in \u001b[0;36mextract_device\u001b[0;34m(gate)\u001b[0m\n\u001b[1;32m    173\u001b[0m \u001b[39mdef\u001b[39;00m \u001b[39mextract_device\u001b[39m(gate):\n\u001b[0;32m--> 174\u001b[0m     \u001b[39mif\u001b[39;00m \u001b[39mlen\u001b[39m(gate[\u001b[39m'\u001b[39;49m\u001b[39mqubits\u001b[39;49m\u001b[39m'\u001b[39;49m]) \u001b[39m==\u001b[39m \u001b[39m2\u001b[39m:\n\u001b[1;32m    175\u001b[0m         \u001b[39mreturn\u001b[39;00m \u001b[39mtuple\u001b[39m(\u001b[39msorted\u001b[39m(gate[\u001b[39m'\u001b[39m\u001b[39mqubits\u001b[39m\u001b[39m'\u001b[39m]))\n\u001b[1;32m    176\u001b[0m     \u001b[39melse\u001b[39;00m:\n",
      "\u001b[0;31mTypeError\u001b[0m: 'int' object is not subscriptable"
     ]
    }
   ],
   "source": [
    "import importlib\n",
    "from downstream import synthesis\n",
    "importlib.reload(synthesis)\n",
    "target_U = unitary_group.rvs(2**n_qubits)\n",
    "\n",
    "now_U = jnp.array(target_U)\n",
    "I = jnp.eye(2**n_qubits)\n",
    "# if nowU is not identity\n",
    "now_dist = 1\n",
    "\n",
    "layer2gates_lists = []\n",
    "while now_dist > 1e-2:\n",
    "    vec = neural_model.predict([transformU(now_U)])[0]\n",
    "    device = round(float(vec[0]))\n",
    "    gate_vec = final_mapping(mapping, vec[1:])\n",
    "    gate_vec = jnp.where(gate_vec>(1-1e-1), 1, 0)\n",
    "    # TODO: \n",
    "    layer2gates = upstream_model.reconstruct(device, gate_vec)\n",
    "    # print(layer2gates)\n",
    "    params =  synthesis.SynthesisModel.find_parmas(n_qubits, layer2gates, now_U)\n",
    "    layer_U: jnp.array = layer_circuit_to_matrix(layer2gates, n_qubits, params)\n",
    "    \n",
    "    now_dist = now_U @ layer_U.T.conj()\n",
    "    \n",
    "    layer2gates_lists.append((params, layer2gates))\n",
    "    now_dist = matrix_distance_squared(now_U, target_U)\n",
    "    \n",
    "    print(now_dist)\n",
    "    "
   ]
  },
  {
   "cell_type": "code",
   "execution_count": 18,
   "metadata": {},
   "outputs": [
    {
     "data": {
      "text/plain": [
       "array([[1.84419578, 0.46818063, 0.39372317, 0.43644778, 0.95936261,\n",
       "        0.14798604, 0.2792584 , 0.04758023, 0.08237355, 0.10970505,\n",
       "        0.01624282, 0.02887252]])"
      ]
     },
     "execution_count": 18,
     "metadata": {},
     "output_type": "execute_result"
    }
   ],
   "source": [
    "vec"
   ]
  },
  {
   "cell_type": "code",
   "execution_count": null,
   "metadata": {},
   "outputs": [],
   "source": []
  }
 ],
 "metadata": {
  "kernelspec": {
   "display_name": "ISCA",
   "language": "python",
   "name": "python3"
  },
  "language_info": {
   "codemirror_mode": {
    "name": "ipython",
    "version": 3
   },
   "file_extension": ".py",
   "mimetype": "text/x-python",
   "name": "python",
   "nbconvert_exporter": "python",
   "pygments_lexer": "ipython3",
   "version": "3.9.13"
  },
  "orig_nbformat": 4,
  "vscode": {
   "interpreter": {
    "hash": "a5cb17940ec456bfd6f6b24ecec011f7bb1827da42833da90014f36a02c01967"
   }
  }
 },
 "nbformat": 4,
 "nbformat_minor": 2
}