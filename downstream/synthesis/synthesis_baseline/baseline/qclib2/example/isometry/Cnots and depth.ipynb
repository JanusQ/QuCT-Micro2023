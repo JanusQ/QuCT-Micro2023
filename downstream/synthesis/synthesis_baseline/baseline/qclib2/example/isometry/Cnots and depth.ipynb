{
 "cells": [
  {
   "cell_type": "markdown",
   "id": "canadian-reporter",
   "metadata": {},
   "source": [
    "# Qiskit config"
   ]
  },
  {
   "cell_type": "code",
   "execution_count": 1,
   "id": "stylish-integer",
   "metadata": {},
   "outputs": [],
   "source": [
    "from qiskit import IBMQ, QuantumCircuit, ClassicalRegister, QuantumRegister, execute, Aer, transpile"
   ]
  },
  {
   "cell_type": "markdown",
   "id": "another-decision",
   "metadata": {},
   "source": [
    "# Experiment"
   ]
  },
  {
   "cell_type": "code",
   "execution_count": 2,
   "id": "painted-clone",
   "metadata": {},
   "outputs": [
    {
     "name": "stdout",
     "output_type": "stream",
     "text": [
      "\n",
      "m = 2\n",
      "\n",
      "n = 3\n",
      "\t knill\t\t CNOTs = 63\t depth = 117\n",
      "\t ccd\t\t CNOTs = 24\t depth = 47\n",
      "\t qiskit\t\t CNOTs = 24\t depth = 47\n",
      "\n",
      "n = 4\n",
      "\t knill\t\t CNOTs = 192\t depth = 289\n",
      "\t ccd\t\t CNOTs = 57\t depth = 111\n",
      "\t qiskit\t\t CNOTs = 57\t depth = 111\n",
      "\n",
      "n = 5\n",
      "\t knill\t\t CNOTs = 685\t depth = 1204\n",
      "\t ccd\t\t CNOTs = 122\t depth = 239\n",
      "\t qiskit\t\t CNOTs = 122\t depth = 239\n",
      "\n",
      "n = 6\n",
      "\t knill\t\t CNOTs = 1170\t depth = 1567\n",
      "\t ccd\t\t CNOTs = 251\t depth = 493\n",
      "\t qiskit\t\t CNOTs = 251\t depth = 493\n",
      "\n",
      "n = 7\n",
      "\t knill\t\t CNOTs = 3380\t depth = 5551\n",
      "\t ccd\t\t CNOTs = 508\t depth = 1001\n",
      "\t qiskit\t\t CNOTs = 508\t depth = 1001\n",
      "\n",
      "n = 8\n",
      "\t knill\t\t CNOTs = 5276\t depth = 6713\n",
      "\t ccd\t\t CNOTs = 1021\t depth = 2019\n",
      "\t qiskit\t\t CNOTs = 1021\t depth = 2019\n"
     ]
    }
   ],
   "source": [
    "import numpy as np\n",
    "import sys\n",
    "from scipy.stats import unitary_group\n",
    "sys.path.append('../../')\n",
    "from qclib.isometry import decompose\n",
    "\n",
    "m = 2\n",
    "print('\\nm =', m)\n",
    "\n",
    "result = {}\n",
    "for n in range(3, 9):\n",
    "    print('\\nn =', n)\n",
    "        \n",
    "    V = unitary_group.rvs(2**n)[:,:2**m]\n",
    "\n",
    "    result[n] = []\n",
    "    \n",
    "    circuit1 = decompose(V, scheme='knill')\n",
    "    circuit2 = decompose(V, scheme='ccd')\n",
    "    \n",
    "    A = QuantumRegister(n)\n",
    "    circuit3 = QuantumCircuit(A)\n",
    "    circuit3.iso(V, q_input=A[0:m], q_ancillas_for_output=A[m:])\n",
    "        \n",
    "    transpiled_circuit1 = transpile(circuit1, basis_gates=['u1','u2','u3', 'cx'], optimization_level=3)\n",
    "    transpiled_circuit2 = transpile(circuit2, basis_gates=['u1','u2','u3', 'cx'], optimization_level=3)\n",
    "    transpiled_circuit3 = transpile(circuit3, basis_gates=['u1','u2','u3', 'cx'], optimization_level=3)\n",
    "    \n",
    "    n_cx1 = transpiled_circuit1.count_ops()['cx']\n",
    "    n_dp1 = transpiled_circuit1.depth()\n",
    "    n_cx2 = transpiled_circuit2.count_ops()['cx']\n",
    "    n_dp2 = transpiled_circuit2.depth()\n",
    "    n_cx3 = transpiled_circuit3.count_ops()['cx']\n",
    "    n_dp3 = transpiled_circuit3.depth()\n",
    "    \n",
    "    result[n].append(['knill', n_cx1, n_dp1])\n",
    "    result[n].append(['ccd', n_cx2, n_dp2])\n",
    "    result[n].append(['qiskit', n_cx3, n_dp3])\n",
    "    \n",
    "    print('\\t {0}\\t\\t CNOTs = {1}\\t depth = {2}'.format('knill', n_cx1, n_dp1))\n",
    "    print('\\t {0}\\t\\t CNOTs = {1}\\t depth = {2}'.format('ccd', n_cx2, n_dp2))\n",
    "    print('\\t {0}\\t\\t CNOTs = {1}\\t depth = {2}'.format('qiskit', n_cx3, n_dp3))\n",
    "        "
   ]
  },
  {
   "cell_type": "code",
   "execution_count": null,
   "id": "separated-pound",
   "metadata": {},
   "outputs": [],
   "source": []
  }
 ],
 "metadata": {
  "kernelspec": {
   "display_name": "Python 3",
   "language": "python",
   "name": "python3"
  },
  "language_info": {
   "codemirror_mode": {
    "name": "ipython",
    "version": 3
   },
   "file_extension": ".py",
   "mimetype": "text/x-python",
   "name": "python",
   "nbconvert_exporter": "python",
   "pygments_lexer": "ipython3",
   "version": "3.7.10"
  }
 },
 "nbformat": 4,
 "nbformat_minor": 5
}