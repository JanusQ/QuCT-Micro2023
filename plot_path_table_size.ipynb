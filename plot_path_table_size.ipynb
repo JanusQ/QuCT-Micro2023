{
 "cells": [
  {
   "cell_type": "code",
   "execution_count": 1,
   "metadata": {},
   "outputs": [],
   "source": [
    "from utils.backend import *\n",
    "from upstream import RandomwalkModel\n",
    "from circuit import gen_random_circuits\n",
    "\n",
    "x , y = [], []\n",
    "\n",
    "for i in range(2,15):\n",
    "\n",
    "    topology = gen_grid_topology(i) # 3x3 9 qubits\n",
    "    neigh_info = get_grid_neighbor_info(i, 1)\n",
    "    coupling_map = topology_to_coupling_map(topology)\n",
    "    n_qubits = i**2\n",
    "\n",
    "    backend = Backend(n_qubits=n_qubits, topology=topology, neighbor_info=neigh_info, basis_single_gates = default_basis_single_gates,\n",
    "                    basis_two_gates = default_basis_two_gates, divide = False, decoupling=False)\n",
    "    upstream_model = RandomwalkModel(1, 20, backend = backend)\n",
    "\n",
    "    dataset = gen_random_circuits(min_gate = 10, max_gate = 100, n_circuits = 5, two_qubit_gate_probs=[4, 8],backend = backend)\n",
    "    print(len(dataset),\"circuit generated\")\n",
    "    upstream_model.train(dataset, multi_process = True)"
   ]
  }
 ],
 "metadata": {
  "kernelspec": {
   "display_name": "tf-py38",
   "language": "python",
   "name": "python3"
  },
  "language_info": {
   "codemirror_mode": {
    "name": "ipython",
    "version": 3
   },
   "file_extension": ".py",
   "mimetype": "text/x-python",
   "name": "python",
   "nbconvert_exporter": "python",
   "pygments_lexer": "ipython3",
   "version": "3.8.16"
  },
  "orig_nbformat": 4,
  "vscode": {
   "interpreter": {
    "hash": "26bca4b862527af97c2f3ae2f7bdc4b77532e07473b26ce846221f42bbc7e295"
   }
  }
 },
 "nbformat": 4,
 "nbformat_minor": 2
}
